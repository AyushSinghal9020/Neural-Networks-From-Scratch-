{
 "cells": [
  {
   "cell_type": "markdown",
   "id": "a34c5c2d",
   "metadata": {
    "papermill": {
     "duration": 0.026897,
     "end_time": "2023-04-29T09:31:36.437915",
     "exception": false,
     "start_time": "2023-04-29T09:31:36.411018",
     "status": "completed"
    },
    "tags": []
   },
   "source": [
    "# Optimizers \n",
    "\n",
    "So what are `Optimizers`\n",
    "\n",
    "**What** - Optimizer is a technique to set the `weights` and `biases` of a particular model such that they produce minimum `Loss` Possible.\n",
    "\n",
    "The bestest way (in my opinion) to get started is to fist understand what the hell is this `Regression`\n",
    "\n",
    "**What** - `Regression` is just like the lost brother of `classification`. In `classification` we have `discrete` or `particular values`, that we want to `classify`, In `regression` we have `continuous values`, that we want to `predict`\n",
    "\n",
    "| Classification |Regression |\n",
    "| --- | --- |\n",
    "|  We have discrete values| We have continuous values |\n",
    "|Usually we know these values in depth | We usually don't know these values in depth|\n",
    "|These are comparatively less in number| These are comparatively more in number |\n",
    "\n",
    "# 1 | What other things we will learn here\n",
    "* Slope of Function\n",
    "* Baisc Diffrentiation\n",
    "* Intercept "
   ]
  },
  {
   "cell_type": "code",
   "execution_count": 1,
   "id": "9982a9ca",
   "metadata": {
    "execution": {
     "iopub.execute_input": "2023-04-29T09:31:36.491419Z",
     "iopub.status.busy": "2023-04-29T09:31:36.490698Z",
     "iopub.status.idle": "2023-04-29T09:31:36.500424Z",
     "shell.execute_reply": "2023-04-29T09:31:36.499351Z"
    },
    "papermill": {
     "duration": 0.038245,
     "end_time": "2023-04-29T09:31:36.502849",
     "exception": false,
     "start_time": "2023-04-29T09:31:36.464604",
     "status": "completed"
    },
    "tags": []
   },
   "outputs": [],
   "source": [
    "import numpy as np"
   ]
  },
  {
   "cell_type": "code",
   "execution_count": 2,
   "id": "f51ade07",
   "metadata": {
    "execution": {
     "iopub.execute_input": "2023-04-29T09:31:36.554030Z",
     "iopub.status.busy": "2023-04-29T09:31:36.553613Z",
     "iopub.status.idle": "2023-04-29T09:31:37.631790Z",
     "shell.execute_reply": "2023-04-29T09:31:37.630073Z"
    },
    "papermill": {
     "duration": 1.107326,
     "end_time": "2023-04-29T09:31:37.634674",
     "exception": false,
     "start_time": "2023-04-29T09:31:36.527348",
     "status": "completed"
    },
    "tags": []
   },
   "outputs": [],
   "source": [
    "import matplotlib.pyplot as plt \n",
    "import seaborn as sns "
   ]
  },
  {
   "cell_type": "code",
   "execution_count": 3,
   "id": "7ff90ca0",
   "metadata": {
    "execution": {
     "iopub.execute_input": "2023-04-29T09:31:37.685584Z",
     "iopub.status.busy": "2023-04-29T09:31:37.684631Z",
     "iopub.status.idle": "2023-04-29T09:31:37.689775Z",
     "shell.execute_reply": "2023-04-29T09:31:37.688663Z"
    },
    "papermill": {
     "duration": 0.033076,
     "end_time": "2023-04-29T09:31:37.692045",
     "exception": false,
     "start_time": "2023-04-29T09:31:37.658969",
     "status": "completed"
    },
    "tags": []
   },
   "outputs": [],
   "source": [
    "from IPython.display import IFrame"
   ]
  },
  {
   "cell_type": "markdown",
   "id": "2c23c6c8",
   "metadata": {
    "papermill": {
     "duration": 0.024238,
     "end_time": "2023-04-29T09:31:37.741040",
     "exception": false,
     "start_time": "2023-04-29T09:31:37.716802",
     "status": "completed"
    },
    "tags": []
   },
   "source": [
    "Lets assume we have data like this"
   ]
  },
  {
   "cell_type": "code",
   "execution_count": 4,
   "id": "0c149700",
   "metadata": {
    "execution": {
     "iopub.execute_input": "2023-04-29T09:31:37.792732Z",
     "iopub.status.busy": "2023-04-29T09:31:37.791492Z",
     "iopub.status.idle": "2023-04-29T09:31:37.801976Z",
     "shell.execute_reply": "2023-04-29T09:31:37.801112Z"
    },
    "papermill": {
     "duration": 0.0388,
     "end_time": "2023-04-29T09:31:37.804262",
     "exception": false,
     "start_time": "2023-04-29T09:31:37.765462",
     "status": "completed"
    },
    "tags": []
   },
   "outputs": [
    {
     "data": {
      "text/plain": [
       "array([  0,   1,   2,   3,   4,   5,   6,   7,   8,   9,  10,  11,  12,\n",
       "        13,  14,  15,  16,  17,  18,  19,  20,  21,  22,  23,  24,  25,\n",
       "        26,  27,  28,  29,  30,  31,  32,  33,  34,  35,  36,  37,  38,\n",
       "        39,  40,  41,  42,  43,  44,  45,  46,  47,  48,  49,  50,  51,\n",
       "        52,  53,  54,  55,  56,  57,  58,  59,  60,  61,  62,  63,  64,\n",
       "        65,  66,  67,  68,  69,  70,  71,  72,  73,  74,  75,  76,  77,\n",
       "        78,  79,  80,  81,  82,  83,  84,  85,  86,  87,  88,  89,  90,\n",
       "        91,  92,  93,  94,  95,  96,  97,  98,  99, 100, 101, 102, 103,\n",
       "       104, 105, 106, 107, 108, 109, 110, 111, 112, 113, 114, 115, 116,\n",
       "       117, 118, 119, 120, 121, 122, 123, 124, 125, 126, 127, 128, 129,\n",
       "       130, 131, 132, 133, 134, 135, 136, 137, 138, 139, 140, 141, 142,\n",
       "       143, 144, 145, 146, 147, 148, 149, 150, 151, 152, 153, 154, 155,\n",
       "       156, 157, 158, 159, 160, 161, 162, 163, 164, 165, 166, 167, 168,\n",
       "       169, 170, 171, 172, 173, 174, 175, 176, 177, 178, 179, 180, 181,\n",
       "       182, 183, 184, 185, 186, 187, 188, 189, 190, 191, 192, 193, 194,\n",
       "       195, 196, 197, 198, 199])"
      ]
     },
     "execution_count": 4,
     "metadata": {},
     "output_type": "execute_result"
    }
   ],
   "source": [
    "features = np.array([x for x in range(0 , 200 , 1)])\n",
    "features"
   ]
  },
  {
   "cell_type": "code",
   "execution_count": 5,
   "id": "bbcf25c2",
   "metadata": {
    "execution": {
     "iopub.execute_input": "2023-04-29T09:31:37.856152Z",
     "iopub.status.busy": "2023-04-29T09:31:37.855701Z",
     "iopub.status.idle": "2023-04-29T09:31:37.863930Z",
     "shell.execute_reply": "2023-04-29T09:31:37.862541Z"
    },
    "papermill": {
     "duration": 0.036929,
     "end_time": "2023-04-29T09:31:37.866538",
     "exception": false,
     "start_time": "2023-04-29T09:31:37.829609",
     "status": "completed"
    },
    "tags": []
   },
   "outputs": [
    {
     "data": {
      "text/plain": [
       "array([  0,   2,   4,   6,   8,  10,  12,  14,  16,  18,  20,  22,  24,\n",
       "        26,  28,  30,  32,  34,  36,  38,  40,  42,  44,  46,  48,  50,\n",
       "        52,  54,  56,  58,  60,  62,  64,  66,  68,  70,  72,  74,  76,\n",
       "        78,  80,  82,  84,  86,  88,  90,  92,  94,  96,  98, 100, 102,\n",
       "       104, 106, 108, 110, 112, 114, 116, 118, 120, 122, 124, 126, 128,\n",
       "       130, 132, 134, 136, 138, 140, 142, 144, 146, 148, 150, 152, 154,\n",
       "       156, 158, 160, 162, 164, 166, 168, 170, 172, 174, 176, 178, 180,\n",
       "       182, 184, 186, 188, 190, 192, 194, 196, 198, 200, 202, 204, 206,\n",
       "       208, 210, 212, 214, 216, 218, 220, 222, 224, 226, 228, 230, 232,\n",
       "       234, 236, 238, 240, 242, 244, 246, 248, 250, 252, 254, 256, 258,\n",
       "       260, 262, 264, 266, 268, 270, 272, 274, 276, 278, 280, 282, 284,\n",
       "       286, 288, 290, 292, 294, 296, 298, 300, 302, 304, 306, 308, 310,\n",
       "       312, 314, 316, 318, 320, 322, 324, 326, 328, 330, 332, 334, 336,\n",
       "       338, 340, 342, 344, 346, 348, 350, 352, 354, 356, 358, 360, 362,\n",
       "       364, 366, 368, 370, 372, 374, 376, 378, 380, 382, 384, 386, 388,\n",
       "       390, 392, 394, 396, 398])"
      ]
     },
     "execution_count": 5,
     "metadata": {},
     "output_type": "execute_result"
    }
   ],
   "source": [
    "target = np.array([x for x in range(0 , 400 , 2)])\n",
    "target"
   ]
  },
  {
   "cell_type": "markdown",
   "id": "893d485f",
   "metadata": {
    "papermill": {
     "duration": 0.025054,
     "end_time": "2023-04-29T09:31:37.917184",
     "exception": false,
     "start_time": "2023-04-29T09:31:37.892130",
     "status": "completed"
    },
    "tags": []
   },
   "source": [
    "Lets assume there is a connection between the `target` , and `features`. By human instacne we know that every element in `target` is just a double of the corresponding element in `features`, or $target  = 2XFeatures$. \n",
    "\n",
    "Lets assume we change the target a little bit..."
   ]
  },
  {
   "cell_type": "code",
   "execution_count": 6,
   "id": "e101db80",
   "metadata": {
    "execution": {
     "iopub.execute_input": "2023-04-29T09:31:37.969275Z",
     "iopub.status.busy": "2023-04-29T09:31:37.968585Z",
     "iopub.status.idle": "2023-04-29T09:31:37.976697Z",
     "shell.execute_reply": "2023-04-29T09:31:37.975746Z"
    },
    "papermill": {
     "duration": 0.036724,
     "end_time": "2023-04-29T09:31:37.978853",
     "exception": false,
     "start_time": "2023-04-29T09:31:37.942129",
     "status": "completed"
    },
    "tags": []
   },
   "outputs": [
    {
     "data": {
      "text/plain": [
       "array([  1,   3,   5,   7,   9,  11,  13,  15,  17,  19,  21,  23,  25,\n",
       "        27,  29,  31,  33,  35,  37,  39,  41,  43,  45,  47,  49,  51,\n",
       "        53,  55,  57,  59,  61,  63,  65,  67,  69,  71,  73,  75,  77,\n",
       "        79,  81,  83,  85,  87,  89,  91,  93,  95,  97,  99, 101, 103,\n",
       "       105, 107, 109, 111, 113, 115, 117, 119, 121, 123, 125, 127, 129,\n",
       "       131, 133, 135, 137, 139, 141, 143, 145, 147, 149, 151, 153, 155,\n",
       "       157, 159, 161, 163, 165, 167, 169, 171, 173, 175, 177, 179, 181,\n",
       "       183, 185, 187, 189, 191, 193, 195, 197, 199, 201, 203, 205, 207,\n",
       "       209, 211, 213, 215, 217, 219, 221, 223, 225, 227, 229, 231, 233,\n",
       "       235, 237, 239, 241, 243, 245, 247, 249, 251, 253, 255, 257, 259,\n",
       "       261, 263, 265, 267, 269, 271, 273, 275, 277, 279, 281, 283, 285,\n",
       "       287, 289, 291, 293, 295, 297, 299, 301, 303, 305, 307, 309, 311,\n",
       "       313, 315, 317, 319, 321, 323, 325, 327, 329, 331, 333, 335, 337,\n",
       "       339, 341, 343, 345, 347, 349, 351, 353, 355, 357, 359, 361, 363,\n",
       "       365, 367, 369, 371, 373, 375, 377, 379, 381, 383, 385, 387, 389,\n",
       "       391, 393, 395, 397, 399])"
      ]
     },
     "execution_count": 6,
     "metadata": {},
     "output_type": "execute_result"
    }
   ],
   "source": [
    "target = np.array([x + 1 for x in range(0 , 400 , 2)])\n",
    "target"
   ]
  },
  {
   "cell_type": "markdown",
   "id": "2e2e4837",
   "metadata": {
    "papermill": {
     "duration": 0.02451,
     "end_time": "2023-04-29T09:31:38.029269",
     "exception": false,
     "start_time": "2023-04-29T09:31:38.004759",
     "status": "completed"
    },
    "tags": []
   },
   "source": [
    "Now what could be the trend here..., We can see the code above and with the help of that we can say. That `target` value is just the `double + 1` of the corresponding element in `features`. or $target = 2Xfeatures + 1$\n",
    "\n",
    "Till now the problem was really easy to solve, and thats why we used the brain only, But these are just examples. As we move closer to the real world. The examples/problems get difficulat and we find it harder to find proper trends in the two `arrays`. Thats we try to teach machine, how to find trend in the data. The formula we had before $target = 2Xfeature + 1$ is subjective to only one problem or a similar problem. But this formula can be generlized by the equation of `straight line`, which is $y = mx + b$\n",
    "\n",
    "So what does this line means ???\n",
    "\n",
    "Lets first try to plot the data we had on a scatter plot "
   ]
  },
  {
   "cell_type": "code",
   "execution_count": 7,
   "id": "21cecf78",
   "metadata": {
    "execution": {
     "iopub.execute_input": "2023-04-29T09:31:38.080878Z",
     "iopub.status.busy": "2023-04-29T09:31:38.080231Z",
     "iopub.status.idle": "2023-04-29T09:31:38.345053Z",
     "shell.execute_reply": "2023-04-29T09:31:38.343867Z"
    },
    "papermill": {
     "duration": 0.293606,
     "end_time": "2023-04-29T09:31:38.347628",
     "exception": false,
     "start_time": "2023-04-29T09:31:38.054022",
     "status": "completed"
    },
    "tags": []
   },
   "outputs": [
    {
     "data": {
      "text/plain": [
       "<matplotlib.collections.PathCollection at 0x71f360062d10>"
      ]
     },
     "execution_count": 7,
     "metadata": {},
     "output_type": "execute_result"
    },
    {
     "data": {
      "image/png": "[encoded data removed]",
      "text/plain": [
       "<Figure size 640x480 with 1 Axes>"
      ]
     },
     "metadata": {},
     "output_type": "display_data"
    }
   ],
   "source": [
    "plt.scatter(features , target)"
   ]
  },
  {
   "cell_type": "markdown",
   "id": "906a063c",
   "metadata": {
    "papermill": {
     "duration": 0.025472,
     "end_time": "2023-04-29T09:31:38.398861",
     "exception": false,
     "start_time": "2023-04-29T09:31:38.373389",
     "status": "completed"
    },
    "tags": []
   },
   "source": [
    "You can see we got a sequence of dots that resembles kind of straight line. \n",
    "\n",
    "Lets assume we have a line that tries to capture most of the points on this, like this"
   ]
  },
  {
   "cell_type": "code",
   "execution_count": 8,
   "id": "ea91abe9",
   "metadata": {
    "execution": {
     "iopub.execute_input": "2023-04-29T09:31:38.451326Z",
     "iopub.status.busy": "2023-04-29T09:31:38.450881Z",
     "iopub.status.idle": "2023-04-29T09:31:38.693235Z",
     "shell.execute_reply": "2023-04-29T09:31:38.691909Z"
    },
    "papermill": {
     "duration": 0.271516,
     "end_time": "2023-04-29T09:31:38.695695",
     "exception": false,
     "start_time": "2023-04-29T09:31:38.424179",
     "status": "completed"
    },
    "tags": []
   },
   "outputs": [
    {
     "data": {
      "text/plain": [
       "[<matplotlib.lines.Line2D at 0x71f35bde41d0>]"
      ]
     },
     "execution_count": 8,
     "metadata": {},
     "output_type": "execute_result"
    },
    {
     "data": {
      "image/png": "[encoded data removed]",
      "text/plain": [
       "<Figure size 640x480 with 1 Axes>"
      ]
     },
     "metadata": {},
     "output_type": "display_data"
    }
   ],
   "source": [
    "plt.scatter(features , target)\n",
    "plt.plot([0 , 200] , [0 , 400] , \"yellow\")"
   ]
  },
  {
   "cell_type": "markdown",
   "id": "a8e3ce2e",
   "metadata": {
    "papermill": {
     "duration": 0.025482,
     "end_time": "2023-04-29T09:31:38.747352",
     "exception": false,
     "start_time": "2023-04-29T09:31:38.721870",
     "status": "completed"
    },
    "tags": []
   },
   "source": [
    "Again by human intution we found the `best fit line`. But what if we want to generalize the things and kind of do not find the best fit line...?\n",
    "\n",
    "First of all lets get a little bit more deep into equation $y = mx + b$\n",
    "\n",
    "So what does these terms resembles in this eqution. \n",
    "* `m` is the slope of the line\n",
    "\n",
    "# 1.1 | Slope of A function\n",
    "\n",
    "Slope of a function shows how steep a function is, or the direction of a function at a given point on the curve.\n",
    "\n",
    "Lets assume we have this curve $y = 4x^2$ the slope of this curve will be $y = 8x$"
   ]
  },
  {
   "cell_type": "code",
   "execution_count": 9,
   "id": "4c3b6503",
   "metadata": {
    "execution": {
     "iopub.execute_input": "2023-04-29T09:31:38.802816Z",
     "iopub.status.busy": "2023-04-29T09:31:38.802369Z",
     "iopub.status.idle": "2023-04-29T09:31:38.810019Z",
     "shell.execute_reply": "2023-04-29T09:31:38.808825Z"
    },
    "papermill": {
     "duration": 0.039092,
     "end_time": "2023-04-29T09:31:38.812388",
     "exception": false,
     "start_time": "2023-04-29T09:31:38.773296",
     "status": "completed"
    },
    "tags": []
   },
   "outputs": [
    {
     "data": {
      "text/html": [
       "\n",
       "        <iframe\n",
       "            width=\"400\"\n",
       "            height=\"400\"\n",
       "            src=\"https://www.desmos.com/calculator/zluqu5vyuh\"\n",
       "            frameborder=\"0\"\n",
       "            allowfullscreen\n",
       "            \n",
       "        ></iframe>\n",
       "        "
      ],
      "text/plain": [
       "<IPython.lib.display.IFrame at 0x71f35bdfb990>"
      ]
     },
     "execution_count": 9,
     "metadata": {},
     "output_type": "execute_result"
    }
   ],
   "source": [
    "IFrame(\"https://www.desmos.com/calculator/zluqu5vyuh\" , 400 , 400)"
   ]
  },
  {
   "cell_type": "markdown",
   "id": "f6a49e7f",
   "metadata": {
    "papermill": {
     "duration": 0.025807,
     "end_time": "2023-04-29T09:31:38.864255",
     "exception": false,
     "start_time": "2023-04-29T09:31:38.838448",
     "status": "completed"
    },
    "tags": []
   },
   "source": [
    "So how do we calculate the `slope` of a line???\n",
    "\n",
    "Lets assume we have a function $y = f(x)$,. To find the slope of a function, we simply diffrenctiate the function, thus, the slope of this line will be $y^` = f^`(x)$\n",
    "\n",
    "# 1.2 | Diffrentiation\n",
    "\n",
    "Diffrentaition can be explained as getting a small value of a function.\n",
    "\n",
    "lets assume we have a function `y = sin(x)`\n",
    "\n",
    "A small strip at that function will demonstrate taking a derivative of that function `sin(x)`\n",
    "\n",
    "Taking about the function we had taken before that is $y = 4x^2$\n",
    "\n",
    "Taking its derivative we will get $$y = 8x$$ ($x{n^`} = nx^{n-1}$)\n",
    "\n",
    "So the slope of $y = 4x^2$ can be represnted as "
   ]
  },
  {
   "cell_type": "code",
   "execution_count": 10,
   "id": "bf8de759",
   "metadata": {
    "execution": {
     "iopub.execute_input": "2023-04-29T09:31:38.918132Z",
     "iopub.status.busy": "2023-04-29T09:31:38.917727Z",
     "iopub.status.idle": "2023-04-29T09:31:38.924165Z",
     "shell.execute_reply": "2023-04-29T09:31:38.923091Z"
    },
    "papermill": {
     "duration": 0.036215,
     "end_time": "2023-04-29T09:31:38.926436",
     "exception": false,
     "start_time": "2023-04-29T09:31:38.890221",
     "status": "completed"
    },
    "tags": []
   },
   "outputs": [
    {
     "data": {
      "text/html": [
       "\n",
       "        <iframe\n",
       "            width=\"400\"\n",
       "            height=\"400\"\n",
       "            src=\"https://www.desmos.com/calculator/hrguwktg9q\"\n",
       "            frameborder=\"0\"\n",
       "            allowfullscreen\n",
       "            \n",
       "        ></iframe>\n",
       "        "
      ],
      "text/plain": [
       "<IPython.lib.display.IFrame at 0x71f35bdaa990>"
      ]
     },
     "execution_count": 10,
     "metadata": {},
     "output_type": "execute_result"
    }
   ],
   "source": [
    "IFrame(\"https://www.desmos.com/calculator/hrguwktg9q\" , 400 , 400)"
   ]
  },
  {
   "cell_type": "markdown",
   "id": "de18f4d3",
   "metadata": {
    "papermill": {
     "duration": 0.025912,
     "end_time": "2023-04-29T09:31:38.979169",
     "exception": false,
     "start_time": "2023-04-29T09:31:38.953257",
     "status": "completed"
    },
    "tags": []
   },
   "source": [
    "**If you want to know more aboud diffrentiation, here is [3Blue1Brown](https://www.youtube.com/@3blue1brown/featured) => [Essence Of Calculas](https://www.youtube.com/playlist?list=PLZHQObOWTQDMsr9K-rj53DwVRMYO3t5Yr)**\n",
    "\n",
    "So now you have a basic idea of `slope`\n",
    "\n",
    "# 1.3 | Intercept\n",
    "\n",
    "Now what `b` represents in the data. Usually it is called the `intercept`. Consider this graph of the equation $y = x$ or $y = 1x + b$ "
   ]
  },
  {
   "cell_type": "code",
   "execution_count": 11,
   "id": "41c1253e",
   "metadata": {
    "execution": {
     "iopub.execute_input": "2023-04-29T09:31:39.034685Z",
     "iopub.status.busy": "2023-04-29T09:31:39.034262Z",
     "iopub.status.idle": "2023-04-29T09:31:39.041611Z",
     "shell.execute_reply": "2023-04-29T09:31:39.040489Z"
    },
    "papermill": {
     "duration": 0.038383,
     "end_time": "2023-04-29T09:31:39.044029",
     "exception": false,
     "start_time": "2023-04-29T09:31:39.005646",
     "status": "completed"
    },
    "tags": []
   },
   "outputs": [
    {
     "data": {
      "text/html": [
       "\n",
       "        <iframe\n",
       "            width=\"400\"\n",
       "            height=\"400\"\n",
       "            src=\"https://www.desmos.com/calculator/gai0veg5fh\"\n",
       "            frameborder=\"0\"\n",
       "            allowfullscreen\n",
       "            \n",
       "        ></iframe>\n",
       "        "
      ],
      "text/plain": [
       "<IPython.lib.display.IFrame at 0x71f35bdb3690>"
      ]
     },
     "execution_count": 11,
     "metadata": {},
     "output_type": "execute_result"
    }
   ],
   "source": [
    "IFrame(\"https://www.desmos.com/calculator/gai0veg5fh\" , 400 , 400)"
   ]
  },
  {
   "cell_type": "markdown",
   "id": "32bc4d4f",
   "metadata": {
    "papermill": {
     "duration": 0.025947,
     "end_time": "2023-04-29T09:31:39.096439",
     "exception": false,
     "start_time": "2023-04-29T09:31:39.070492",
     "status": "completed"
    },
    "tags": []
   },
   "source": [
    "This line passes the axis at $(0 , 0)$. These coordinates are called as the `intercepts` of this line. If we make `b` or `intercept` as $1$. The line will then pass from $(1 , -1)$. Basically the `intercept` moves a line in a plane. With that being said, Lets also undertand how the `slope` changes the line. If we make `m` as $2$. The line will rotate anti-clockwise. So as we increase the value of `m` or `slope`. The line moves anti-clockwise, And so the vice-versa, If we decrease the value of `m`, The slope will move in the clockwise direction. \n",
    "\n",
    "In short tweeking the values of `m` and `b` or `slope` and `intercept`. We can move the line in any direction and in any way we want `as long as it resembles a straight line`. We still cannot bend the line \n",
    "\n",
    "So now we have any data, we just need to difine the values of `slope` and `intercpet`. And we can get the best fit line. But still the question arises how do we generalize the values of these tuning parametes. \n",
    "\n",
    "In simple word we can say, How can we find a relation between the data we have and these tuning parameters. So that we only need to define that relationship and then we can easily predict the values.\n",
    "\n",
    "Lets think that the value assigned to the line is this "
   ]
  },
  {
   "cell_type": "code",
   "execution_count": 12,
   "id": "c916b83f",
   "metadata": {
    "execution": {
     "iopub.execute_input": "2023-04-29T09:31:39.150902Z",
     "iopub.status.busy": "2023-04-29T09:31:39.150477Z",
     "iopub.status.idle": "2023-04-29T09:31:39.377455Z",
     "shell.execute_reply": "2023-04-29T09:31:39.376268Z"
    },
    "papermill": {
     "duration": 0.257235,
     "end_time": "2023-04-29T09:31:39.379878",
     "exception": false,
     "start_time": "2023-04-29T09:31:39.122643",
     "status": "completed"
    },
    "tags": []
   },
   "outputs": [
    {
     "data": {
      "text/plain": [
       "[<matplotlib.lines.Line2D at 0x71f35bd77e90>]"
      ]
     },
     "execution_count": 12,
     "metadata": {},
     "output_type": "execute_result"
    },
    {
     "data": {
      "image/png": "[encoded data removed]",
      "text/plain": [
       "<Figure size 640x480 with 1 Axes>"
      ]
     },
     "metadata": {},
     "output_type": "display_data"
    }
   ],
   "source": [
    "plt.scatter(features , target)\n",
    "plt.plot([0 , 300] , [0 , 400] , \"yellow\")"
   ]
  },
  {
   "cell_type": "markdown",
   "id": "6c7311fe",
   "metadata": {
    "papermill": {
     "duration": 0.027504,
     "end_time": "2023-04-29T09:31:39.434534",
     "exception": false,
     "start_time": "2023-04-29T09:31:39.407030",
     "status": "completed"
    },
    "tags": []
   },
   "source": [
    "If we test this line on the training data only, we will find that this line is not correct. It is predicting points incorrect, We know that the best fit line we drew first, will predict points wiht lowest incorrect ones. For example the line we just defined if asked the corresponding value of $200$, it will say $250$. But rather it was $400$. There was some `error`, some `loss`, or some `cost` with the `actual` and `predicted` values.\n",
    "\n",
    "For measuring this loss, what we can do is find the difference between the `actual value` and the `predicted value`. A best fit line will give the lowest value of this difference.\n",
    "\n",
    "The word difference here is very difficult to say, so we can give this term a new fancy name, which is `The Loss`.\n",
    "\n",
    "One can deifne loss as $$Loss = actual - predicted$$.\n",
    "\n",
    "We only took the example of one value. but there are a large group of values. that can show the same trait, For that we can change the formula to \n",
    "\n",
    "Lets denote $actual$ as $a$ and $predicted$ as $p$\n",
    "\n",
    "$$Loss = (a_1 - p_1) + (a_2 - p_2) + (a_3 - p_3) + ... + (a_n - p_n)$$\n",
    "\n",
    "or $$Loss = \\sum\\limits_{i = 1}^{n}a_i - p_i$$ or $$Loss = \\sum\\limits_{i = 1}^{n}(y_i - \\hat y_i)$$\n",
    "\n",
    "Whenever you see $\\hat y$, think of it as the `predicted value`\n",
    "\n",
    "Now lets assume we have data like this and a random line is drawn like this \n",
    "\n",
    "<img src = \"https://cdn-media-1.freecodecamp.org/images/MNskFmGPKuQfMLdmpkT-X7-8w2cJXulP3683\">\n",
    "\n",
    "If you look closely, a lot of error terms will tend to cancel out each other. We can also get into a state where the line is `not the best fit`, but still gives $0$ error. With the `Loss` we defined before, we are not chossing a `best fit line`. Rather we are chossing a line that is in the `middle` of those points. One way to counter this is to add a `modulus` function like this $$Loss = \\sum\\limits_{i = 1}^{n}|y - \\hat y|$$\n",
    "\n",
    "But what is a modulus function. The function is nothing but converts, any negative numbers to postive. For example \n",
    "$|-1| = 1$"
   ]
  },
  {
   "cell_type": "code",
   "execution_count": 13,
   "id": "d2c0b275",
   "metadata": {
    "execution": {
     "iopub.execute_input": "2023-04-29T09:31:39.490612Z",
     "iopub.status.busy": "2023-04-29T09:31:39.490199Z",
     "iopub.status.idle": "2023-04-29T09:31:39.496531Z",
     "shell.execute_reply": "2023-04-29T09:31:39.495730Z"
    },
    "papermill": {
     "duration": 0.037188,
     "end_time": "2023-04-29T09:31:39.498634",
     "exception": false,
     "start_time": "2023-04-29T09:31:39.461446",
     "status": "completed"
    },
    "tags": []
   },
   "outputs": [
    {
     "data": {
      "text/html": [
       "\n",
       "        <iframe\n",
       "            width=\"400\"\n",
       "            height=\"400\"\n",
       "            src=\"https://www.desmos.com/calculator/kamxotjra2\"\n",
       "            frameborder=\"0\"\n",
       "            allowfullscreen\n",
       "            \n",
       "        ></iframe>\n",
       "        "
      ],
      "text/plain": [
       "<IPython.lib.display.IFrame at 0x71f35bd2d090>"
      ]
     },
     "execution_count": 13,
     "metadata": {},
     "output_type": "execute_result"
    }
   ],
   "source": [
    "IFrame(\"https://www.desmos.com/calculator/kamxotjra2\" , 400 , 400)"
   ]
  },
  {
   "cell_type": "markdown",
   "id": "a008893b",
   "metadata": {
    "papermill": {
     "duration": 0.026319,
     "end_time": "2023-04-29T09:31:39.551862",
     "exception": false,
     "start_time": "2023-04-29T09:31:39.525543",
     "status": "completed"
    },
    "tags": []
   },
   "source": [
    "But there is a problem with this function. A `modulus` is not diffrentiable. You might be thinking that why are we even seeing that part, like we we care for that. Why would you even diffrentiate a loss function. \n",
    "\n",
    "We actually diffrentiate loss function in further steps, thats why we will not use the modulus function. \n",
    "\n",
    "Another way of doing so is to, square the loss function like this $Loss = (y - \\hat y)^2$\n",
    "\n",
    "Its cool, its good and we can even diffrentiate this...\n",
    "\n",
    "Now we have a basic idea that we need to compute `m` and `b` for the lowest loss values. Now we should come to know how we can do this \n",
    "\n",
    "What if we somehow interelate the `losses` and `m and b`. \n",
    "\n",
    "Lets assume we intialize the parameters randomly, like this \n",
    "\n",
    "# 2 | SGD"
   ]
  },
  {
   "cell_type": "code",
   "execution_count": 14,
   "id": "9f28dd6e",
   "metadata": {
    "execution": {
     "iopub.execute_input": "2023-04-29T09:31:39.608125Z",
     "iopub.status.busy": "2023-04-29T09:31:39.606889Z",
     "iopub.status.idle": "2023-04-29T09:31:39.615037Z",
     "shell.execute_reply": "2023-04-29T09:31:39.614135Z"
    },
    "papermill": {
     "duration": 0.038711,
     "end_time": "2023-04-29T09:31:39.617341",
     "exception": false,
     "start_time": "2023-04-29T09:31:39.578630",
     "status": "completed"
    },
    "tags": []
   },
   "outputs": [
    {
     "data": {
      "text/plain": [
       "array([-0.18221059])"
      ]
     },
     "execution_count": 14,
     "metadata": {},
     "output_type": "execute_result"
    }
   ],
   "source": [
    "weights = np.random.randn(1)\n",
    "weights"
   ]
  },
  {
   "cell_type": "code",
   "execution_count": 15,
   "id": "7bb15612",
   "metadata": {
    "execution": {
     "iopub.execute_input": "2023-04-29T09:31:39.673862Z",
     "iopub.status.busy": "2023-04-29T09:31:39.673017Z",
     "iopub.status.idle": "2023-04-29T09:31:39.680503Z",
     "shell.execute_reply": "2023-04-29T09:31:39.679591Z"
    },
    "papermill": {
     "duration": 0.038497,
     "end_time": "2023-04-29T09:31:39.682794",
     "exception": false,
     "start_time": "2023-04-29T09:31:39.644297",
     "status": "completed"
    },
    "tags": []
   },
   "outputs": [
    {
     "data": {
      "text/plain": [
       "array([1.4093475])"
      ]
     },
     "execution_count": 15,
     "metadata": {},
     "output_type": "execute_result"
    }
   ],
   "source": [
    "biases = np.random.randn(1)\n",
    "biases"
   ]
  },
  {
   "cell_type": "markdown",
   "id": "25e07eea",
   "metadata": {
    "papermill": {
     "duration": 0.026886,
     "end_time": "2023-04-29T09:31:39.736754",
     "exception": false,
     "start_time": "2023-04-29T09:31:39.709868",
     "status": "completed"
    },
    "tags": []
   },
   "source": [
    "So the predicitions will be "
   ]
  },
  {
   "cell_type": "code",
   "execution_count": 16,
   "id": "bcb6a098",
   "metadata": {
    "execution": {
     "iopub.execute_input": "2023-04-29T09:31:39.794069Z",
     "iopub.status.busy": "2023-04-29T09:31:39.793404Z",
     "iopub.status.idle": "2023-04-29T09:31:39.799397Z",
     "shell.execute_reply": "2023-04-29T09:31:39.798526Z"
    },
    "papermill": {
     "duration": 0.037138,
     "end_time": "2023-04-29T09:31:39.801463",
     "exception": false,
     "start_time": "2023-04-29T09:31:39.764325",
     "status": "completed"
    },
    "tags": []
   },
   "outputs": [
    {
     "data": {
      "text/plain": [
       "array([-4.05697033])"
      ]
     },
     "execution_count": 16,
     "metadata": {},
     "output_type": "execute_result"
    }
   ],
   "source": [
    "pred = weights * 30 + biases\n",
    "pred"
   ]
  },
  {
   "cell_type": "markdown",
   "id": "6c227ec3",
   "metadata": {
    "papermill": {
     "duration": 0.026903,
     "end_time": "2023-04-29T09:31:39.855779",
     "exception": false,
     "start_time": "2023-04-29T09:31:39.828876",
     "status": "completed"
    },
    "tags": []
   },
   "source": [
    "And its way far than what we had expected. "
   ]
  },
  {
   "cell_type": "code",
   "execution_count": 17,
   "id": "53395925",
   "metadata": {
    "execution": {
     "iopub.execute_input": "2023-04-29T09:31:39.912328Z",
     "iopub.status.busy": "2023-04-29T09:31:39.911680Z",
     "iopub.status.idle": "2023-04-29T09:31:39.917530Z",
     "shell.execute_reply": "2023-04-29T09:31:39.916726Z"
    },
    "papermill": {
     "duration": 0.0366,
     "end_time": "2023-04-29T09:31:39.919592",
     "exception": false,
     "start_time": "2023-04-29T09:31:39.882992",
     "status": "completed"
    },
    "tags": []
   },
   "outputs": [
    {
     "data": {
      "text/plain": [
       "array([-64.05697033])"
      ]
     },
     "execution_count": 17,
     "metadata": {},
     "output_type": "execute_result"
    }
   ],
   "source": [
    "loss = (pred - 60)\n",
    "loss"
   ]
  },
  {
   "cell_type": "markdown",
   "id": "c1dc6cc0",
   "metadata": {
    "papermill": {
     "duration": 0.027083,
     "end_time": "2023-04-29T09:31:39.974178",
     "exception": false,
     "start_time": "2023-04-29T09:31:39.947095",
     "status": "completed"
    },
    "tags": []
   },
   "source": [
    "Our main motive is to reduce this loss as much as possible,. \n",
    "\n",
    "What if we subtract a small subset of the derivative of this loss from the parameters like this. The derivative of the loss will show us the steepness of the curve, and thus doing so might get us to the valeus of minimum loss. So how do we find the derivative of this function $Loss = (y - \\hat y)^2$. What we know is $\\hat y = mx + b$. COmputing this value in we get $$Loss = (y - mx - b)^2$$, Now we can diffrentiate the function\n",
    "\n",
    "## Diffrentiating wrt `b`\n",
    "$$\\frac {dLoss}{db}= \\frac {d}{db}(y - mx - b)^2$$\n",
    "$$= 2(y - mx - b)(-1)$$\n",
    "\n",
    "## Diffrentiating wrt `m`\n",
    "$$\\frac {dLoss}{dm} = \\frac {d}{dm}(y - mx - b)^2$$\n",
    "$$= 2(y - mx - b)(-x)$$"
   ]
  },
  {
   "cell_type": "code",
   "execution_count": 18,
   "id": "13ec525b",
   "metadata": {
    "execution": {
     "iopub.execute_input": "2023-04-29T09:31:40.031509Z",
     "iopub.status.busy": "2023-04-29T09:31:40.030869Z",
     "iopub.status.idle": "2023-04-29T09:31:40.035626Z",
     "shell.execute_reply": "2023-04-29T09:31:40.034764Z"
    },
    "papermill": {
     "duration": 0.035617,
     "end_time": "2023-04-29T09:31:40.037731",
     "exception": false,
     "start_time": "2023-04-29T09:31:40.002114",
     "status": "completed"
    },
    "tags": []
   },
   "outputs": [],
   "source": [
    "weights -= (-2* (60 - weights*30 - biases)) * 0.001\n",
    "biases -= (2 * 30 * (60 - weights * 30 - biases)) * 0.01"
   ]
  },
  {
   "cell_type": "markdown",
   "id": "7c475013",
   "metadata": {
    "papermill": {
     "duration": 0.026895,
     "end_time": "2023-04-29T09:31:40.091804",
     "exception": false,
     "start_time": "2023-04-29T09:31:40.064909",
     "status": "completed"
    },
    "tags": []
   },
   "source": [
    "And if we then try to predict the values "
   ]
  },
  {
   "cell_type": "code",
   "execution_count": 19,
   "id": "b86f4900",
   "metadata": {
    "execution": {
     "iopub.execute_input": "2023-04-29T09:31:40.148245Z",
     "iopub.status.busy": "2023-04-29T09:31:40.147797Z",
     "iopub.status.idle": "2023-04-29T09:31:40.156708Z",
     "shell.execute_reply": "2023-04-29T09:31:40.155530Z"
    },
    "papermill": {
     "duration": 0.040049,
     "end_time": "2023-04-29T09:31:40.158936",
     "exception": false,
     "start_time": "2023-04-29T09:31:40.118887",
     "status": "completed"
    },
    "tags": []
   },
   "outputs": [
    {
     "name": "stdout",
     "output_type": "stream",
     "text": [
      "[-0.05409665]\n",
      "[-34.71878377]\n"
     ]
    },
    {
     "data": {
      "text/plain": [
       "array([96.34168338])"
      ]
     },
     "execution_count": 19,
     "metadata": {},
     "output_type": "execute_result"
    }
   ],
   "source": [
    "print(weights)\n",
    "print(biases)\n",
    "loss = (60 - (weights * 30 + biases))\n",
    "loss"
   ]
  },
  {
   "cell_type": "markdown",
   "id": "21a46bbf",
   "metadata": {
    "papermill": {
     "duration": 0.027376,
     "end_time": "2023-04-29T09:31:40.214691",
     "exception": false,
     "start_time": "2023-04-29T09:31:40.187315",
     "status": "completed"
    },
    "tags": []
   },
   "source": [
    "Our losses have been decreased, so lets do it again "
   ]
  },
  {
   "cell_type": "code",
   "execution_count": 20,
   "id": "b9d1b388",
   "metadata": {
    "execution": {
     "iopub.execute_input": "2023-04-29T09:31:40.271785Z",
     "iopub.status.busy": "2023-04-29T09:31:40.271137Z",
     "iopub.status.idle": "2023-04-29T09:31:40.281034Z",
     "shell.execute_reply": "2023-04-29T09:31:40.279765Z"
    },
    "papermill": {
     "duration": 0.041009,
     "end_time": "2023-04-29T09:31:40.283310",
     "exception": false,
     "start_time": "2023-04-29T09:31:40.242301",
     "status": "completed"
    },
    "tags": []
   },
   "outputs": [
    {
     "name": "stdout",
     "output_type": "stream",
     "text": [
      "[1.87273701]\n",
      "[-32.7919501]\n"
     ]
    },
    {
     "data": {
      "text/plain": [
       "array([36.60983968])"
      ]
     },
     "execution_count": 20,
     "metadata": {},
     "output_type": "execute_result"
    }
   ],
   "source": [
    "weights -= -2 * loss * 0.01\n",
    "biases -= -2 * loss * 0.01\n",
    "print(weights)\n",
    "print(biases)\n",
    "loss = (60 - (weights * 30 + biases))\n",
    "loss"
   ]
  },
  {
   "cell_type": "markdown",
   "id": "16f0fdc9",
   "metadata": {
    "papermill": {
     "duration": 0.027708,
     "end_time": "2023-04-29T09:31:40.339375",
     "exception": false,
     "start_time": "2023-04-29T09:31:40.311667",
     "status": "completed"
    },
    "tags": []
   },
   "source": [
    "So now we know if we do this iteratively, we will minimise the loss, and iteratively we will reach the optimal values of `weights` or `m` and `biases` or `m`\n",
    "\n",
    "Lets say we have runn this again and again for around 100 times "
   ]
  },
  {
   "cell_type": "code",
   "execution_count": 21,
   "id": "7183a203",
   "metadata": {
    "execution": {
     "iopub.execute_input": "2023-04-29T09:31:40.398801Z",
     "iopub.status.busy": "2023-04-29T09:31:40.398392Z",
     "iopub.status.idle": "2023-04-29T09:31:40.405314Z",
     "shell.execute_reply": "2023-04-29T09:31:40.404036Z"
    },
    "papermill": {
     "duration": 0.038799,
     "end_time": "2023-04-29T09:31:40.407637",
     "exception": false,
     "start_time": "2023-04-29T09:31:40.368838",
     "status": "completed"
    },
    "tags": []
   },
   "outputs": [],
   "source": [
    "for _ in range(100):\n",
    "    weights -= -2 * loss * 0.01\n",
    "    biases -= -2 * loss * 0.01\n",
    "    loss = (60 - (weights * 30 + biases))"
   ]
  },
  {
   "cell_type": "markdown",
   "id": "45b37293",
   "metadata": {
    "papermill": {
     "duration": 0.027436,
     "end_time": "2023-04-29T09:31:40.463739",
     "exception": false,
     "start_time": "2023-04-29T09:31:40.436303",
     "status": "completed"
    },
    "tags": []
   },
   "source": [
    "Lets now see the weights and biases "
   ]
  },
  {
   "cell_type": "code",
   "execution_count": 22,
   "id": "233f48eb",
   "metadata": {
    "execution": {
     "iopub.execute_input": "2023-04-29T09:31:40.521690Z",
     "iopub.status.busy": "2023-04-29T09:31:40.520637Z",
     "iopub.status.idle": "2023-04-29T09:31:40.528141Z",
     "shell.execute_reply": "2023-04-29T09:31:40.527142Z"
    },
    "papermill": {
     "duration": 0.038739,
     "end_time": "2023-04-29T09:31:40.530464",
     "exception": false,
     "start_time": "2023-04-29T09:31:40.491725",
     "status": "completed"
    },
    "tags": []
   },
   "outputs": [
    {
     "data": {
      "text/plain": [
       "(array([3.05369958]), array([-31.61098753]))"
      ]
     },
     "execution_count": 22,
     "metadata": {},
     "output_type": "execute_result"
    }
   ],
   "source": [
    "weights , biases"
   ]
  },
  {
   "cell_type": "markdown",
   "id": "79c30c2e",
   "metadata": {
    "papermill": {
     "duration": 0.028386,
     "end_time": "2023-04-29T09:31:40.587701",
     "exception": false,
     "start_time": "2023-04-29T09:31:40.559315",
     "status": "completed"
    },
    "tags": []
   },
   "source": [
    "Though we have biases as high, but we have almost achived value of `weights`\n",
    "\n",
    "Lets do this all again, and now we will also try to plot a graph"
   ]
  },
  {
   "cell_type": "code",
   "execution_count": 23,
   "id": "e9886e13",
   "metadata": {
    "execution": {
     "iopub.execute_input": "2023-04-29T09:31:40.645801Z",
     "iopub.status.busy": "2023-04-29T09:31:40.644655Z",
     "iopub.status.idle": "2023-04-29T09:31:40.651891Z",
     "shell.execute_reply": "2023-04-29T09:31:40.651063Z"
    },
    "papermill": {
     "duration": 0.038621,
     "end_time": "2023-04-29T09:31:40.654268",
     "exception": false,
     "start_time": "2023-04-29T09:31:40.615647",
     "status": "completed"
    },
    "tags": []
   },
   "outputs": [],
   "source": [
    "weights = abs(np.random.randn(1))\n",
    "biases = abs(np.random.randn(1))\n",
    "losses = []\n",
    "for _ in range(100):\n",
    "    weights -= -2 * loss * 0.01\n",
    "    biases -= -2 * loss * 0.01\n",
    "    loss = (60 - (weights * 30 + biases))\n",
    "    losses.append(loss)"
   ]
  },
  {
   "cell_type": "code",
   "execution_count": 24,
   "id": "cc860967",
   "metadata": {
    "execution": {
     "iopub.execute_input": "2023-04-29T09:31:40.712514Z",
     "iopub.status.busy": "2023-04-29T09:31:40.712091Z",
     "iopub.status.idle": "2023-04-29T09:31:40.968670Z",
     "shell.execute_reply": "2023-04-29T09:31:40.967567Z"
    },
    "papermill": {
     "duration": 0.288334,
     "end_time": "2023-04-29T09:31:40.971352",
     "exception": false,
     "start_time": "2023-04-29T09:31:40.683018",
     "status": "completed"
    },
    "tags": []
   },
   "outputs": [
    {
     "data": {
      "text/plain": [
       "<AxesSubplot:>"
      ]
     },
     "execution_count": 24,
     "metadata": {},
     "output_type": "execute_result"
    },
    {
     "data": {
      "image/png": "[encoded data removed]",
      "text/plain": [
       "<Figure size 640x480 with 1 Axes>"
      ]
     },
     "metadata": {},
     "output_type": "display_data"
    }
   ],
   "source": [
    "sns.lineplot(np.array(losses))"
   ]
  },
  {
   "cell_type": "markdown",
   "id": "c16e19da",
   "metadata": {
    "papermill": {
     "duration": 0.028202,
     "end_time": "2023-04-29T09:31:41.028048",
     "exception": false,
     "start_time": "2023-04-29T09:31:40.999846",
     "status": "completed"
    },
    "tags": []
   },
   "source": [
    "As we can see we have greatly decreased our losses "
   ]
  },
  {
   "cell_type": "markdown",
   "id": "66e413d5",
   "metadata": {
    "papermill": {
     "duration": 0.027725,
     "end_time": "2023-04-29T09:31:41.083975",
     "exception": false,
     "start_time": "2023-04-29T09:31:41.056250",
     "status": "completed"
    },
    "tags": []
   },
   "source": [
    "# 2.1 | Functionalities\n",
    "We have made out our **SGD**, now we need to add some functionalities to it. We can get funcitonalites form **[Tensorflow](https://www.tensorflow.org/)=>[Keras](https://keras.io/about/)=>[Optimizers](https://keras.io/api/optimizers/)=>[Experimental](https://www.tensorflow.org/api_docs/python/tf/keras/optimizers/experimental)=>[SGD](https://www.tensorflow.org/api_docs/python/tf/keras/optimizers/experimental/SGD)**. The type of optimization tensorflow uses is a little bit different. It initializes and keeps the computation in the optimizer function and do the `fit` and `predict` on another function that uses this function. This is done so as to make a generalized optimizer for both `Linear` and `Sequential` models. But we will try to use the vanilla gradient descent and combine the initialization and the `fit` methods.\n",
    "\n",
    "* ✅List Of columns\n",
    "* ✅`learning_rate` - A Tensor, floating point value, or a schedule that is a **[tf.keras.optimizers.schedules.LearningRateSchedule](https://www.tensorflow.org/api_docs/python/tf/keras/optimizers/schedules/LearningRateSchedule)**, or a callable that takes no arguments and returns the actual value to use. The learning rate. Defaults to $0.001$.\n",
    "* ✅`momentum` - float hyperparameter >= 0 that accelerates gradient descent in the relevant direction and dampens oscillations. Defaults to 0, $i.e.$, vanilla gradient descent.\n",
    "* ✅`weight_decay : Float, defaults to None` - If set, weight decay is applied.\n",
    "* ✅`nesterov : boolean` - Whether to apply Nesterov momentum. Defaults to False.\n",
    "* ✅`weight_decay : Float, defaults to None` - If set, weight decay is applied.\n",
    "* ✅`clipnorm : Float` - If set, the gradient of each weight is individually clipped so that its norm is no higher than this value.\n",
    "* ✅`clipvalue : Float` - If set, the gradient of each weight is clipped to be no higher than this value.\n",
    "* ✅`use_ema : Boolean, defaults to False` - If True, exponential moving average (EMA) is applied. EMA consists of computing an exponential moving average of the weights of the model (as the weight values change after each training batch), and periodically overwriting the weights with their moving average.\n",
    "* ✅`ema_momentum : Float, defaults to 0.99` - Only used if use_ema=True. This is the momentum to use when computing the EMA of the model's weights: `new_average = ema_momentum * old_average + (1 - ema_momentum) * current_variable_value`.\n",
    "\n",
    "# 2.1.1 | List Of Columns \n",
    "\n",
    "This function will only work if there are only $2$ columns, one `feature` and the other one `target`. What if the user gives out a list of columns. For this we nee dto take two different arguemnts form the user and work on them differently"
   ]
  },
  {
   "cell_type": "code",
   "execution_count": 25,
   "id": "25d5504c",
   "metadata": {
    "execution": {
     "iopub.execute_input": "2023-04-29T09:31:41.142713Z",
     "iopub.status.busy": "2023-04-29T09:31:41.141489Z",
     "iopub.status.idle": "2023-04-29T09:31:41.148712Z",
     "shell.execute_reply": "2023-04-29T09:31:41.147869Z"
    },
    "papermill": {
     "duration": 0.038751,
     "end_time": "2023-04-29T09:31:41.150768",
     "exception": false,
     "start_time": "2023-04-29T09:31:41.112017",
     "status": "completed"
    },
    "tags": []
   },
   "outputs": [],
   "source": [
    "def SGD(X , y):\n",
    "    \n",
    "    weights = abs(np.random.randn(X.shape[1]))\n",
    "    biases = abs(np.random.randn(1))\n",
    "\n",
    "    losses = []\n",
    "\n",
    "    for _ in range(100):\n",
    "\n",
    "        pred = np.sum((weights * X).T) + biases\n",
    "        \n",
    "        loss = np.sum((pred - y) ** 2)\n",
    "        losses.append(loss)\n",
    "        \n",
    "        weights -= -2 * loss * 0.01\n",
    "        biases -= -2 * loss * 0.01\n",
    "\n",
    "    return weights , biases , losses"
   ]
  },
  {
   "cell_type": "markdown",
   "id": "0835f362",
   "metadata": {
    "papermill": {
     "duration": 0.027796,
     "end_time": "2023-04-29T09:31:41.206485",
     "exception": false,
     "start_time": "2023-04-29T09:31:41.178689",
     "status": "completed"
    },
    "tags": []
   },
   "source": [
    "# 2.1.2 | Learning Rate\n",
    "\n",
    "You remeber we were taking a small part of the loss, not the whole loss. The parameter that defines how much loss we are taking is called the **Learning Rate** \n",
    "\n",
    "You might be thinking that it is not that important, but it is really important concept, a higher learning rate has a high chance that you will never converge to the model, a low very low learning rate means that you will take a very long time to converge for the model \n",
    "\n",
    "Here is a very good image that explains the importance of the learning rate \n",
    "\n",
    "<img src = \"https://www.researchgate.net/profile/Hajar-Feizi/publication/341609757/figure/fig2/AS:894745802977280@1590335431623/Changes-in-the-loss-function-vs-the-epoch-by-the-learning-rate-40.png\">\n",
    "\n",
    "It will be really easy for us to apply this functinality, we just need to change some varaibales"
   ]
  },
  {
   "cell_type": "code",
   "execution_count": 26,
   "id": "d87f7458",
   "metadata": {
    "execution": {
     "iopub.execute_input": "2023-04-29T09:31:41.264839Z",
     "iopub.status.busy": "2023-04-29T09:31:41.264048Z",
     "iopub.status.idle": "2023-04-29T09:31:41.270993Z",
     "shell.execute_reply": "2023-04-29T09:31:41.270092Z"
    },
    "papermill": {
     "duration": 0.03857,
     "end_time": "2023-04-29T09:31:41.273125",
     "exception": false,
     "start_time": "2023-04-29T09:31:41.234555",
     "status": "completed"
    },
    "tags": []
   },
   "outputs": [],
   "source": [
    "def SGD(X , y , learning_rate = 0.01):\n",
    "    \n",
    "    weights = abs(np.random.randn(X.shape[1]))\n",
    "    biases = abs(np.random.randn(1))\n",
    "\n",
    "    losses = []\n",
    "\n",
    "    for _ in range(100):\n",
    "\n",
    "        pred = np.sum((weights * X).T) + biases\n",
    "        \n",
    "        loss = np.sum((pred - y) ** 2)\n",
    "        losses.append(loss)\n",
    "        \n",
    "        weights -= -2 * loss * learning_rate\n",
    "        biases -= -2 * loss * learning_rate\n",
    "\n",
    "    return weights , biases , losses"
   ]
  },
  {
   "cell_type": "markdown",
   "id": "c9f5033d",
   "metadata": {
    "papermill": {
     "duration": 0.027754,
     "end_time": "2023-04-29T09:31:41.329005",
     "exception": false,
     "start_time": "2023-04-29T09:31:41.301251",
     "status": "completed"
    },
    "tags": []
   },
   "source": [
    "# 2.1.3 | Momentum \n",
    "\n",
    "The probelem with gradient descent is this \n",
    "\n",
    "<img src = \"https://winder.ai/blog/2017/img/gradient_descent.svg\">\n",
    "\n",
    "Notice that before we were taking larger steps and as we reached the minimum value, are step size shortened. It is kind of a blessing as well as sometimes a curse for us. The problem is while getting very near to the minimum value, the step size gets so small. that it merely becomes $0$. not $0$ (that means we have reahed the minimum value). To cunter this we introduce momentum to the formula \n",
    "\n",
    "Lets assume you are going to a place that you dont know. Like you dont know where it exists. So what you do is you ask people in the way that where is the place, and they show you the directions. Lets assume the directions are only right $(->)$ and left $(<-)$. So you ask $1^{st}$ person and he says to go to the right $(->)$, then you ask the $2^{nd}$ person and he also asks you to go right $(->)$, so you gain a confidence that you are going right. so you increase your speed. you might skip the $3^{rd}$ person and directly ask the $4^{th}$. \n",
    "\n",
    "Lets assume the same situation from start. So you ask the $1^{st}$ person and he says to go to the right $(->)$ and then you ask the $2^{nd}$ person and he says to go left. But your inner instinct says that you are in the correct direction, but due to the influence of the $2^{nd}$ person, you will go slowly.\n",
    "\n",
    "So you increase and decrease you speed on the basis of the previously gained knowledge. This is the same concept `momentum`, tries to implement. \n",
    "\n",
    "One way of doing so is to add the commulative sum of all the gradients we achived previously like this \n",
    "\n",
    "$$w_{n+1} = w_n - \\frac {dLoss}{dw} \\alpha + (\\sum\\limits_{i = 1}^{n}w_i)$$\n",
    "\n",
    "$$b_{n+1} = b_n - \\frac {dLoss}{db} \\alpha + (\\sum\\limits_{i = 1}^{n}b_i)$$\n",
    "\n",
    "But there are majorly $2$ probelems with this formula $:-$\n",
    "* Rather than fastening the gradients a little bit, it will fasten them exponentially.\n",
    "* This formula values every gradient equal, \n",
    "\n",
    "To rectify this probelm we take the weighted average sum of all the gradients. or we actually multiply the sum with some constant. we change the formula a little bit \n",
    "\n",
    "$$w_{n+1} = w_n - (\\beta w_m + \\alpha(1 - \\beta) \\frac {dLoss}{dw})$$\n",
    "\n",
    "$$b_{n+1} = b_n - (\\beta b_m + \\alpha(1 - \\beta) \\frac {dLoss}{db})$$\n"
   ]
  },
  {
   "cell_type": "code",
   "execution_count": 27,
   "id": "b9662f73",
   "metadata": {
    "execution": {
     "iopub.execute_input": "2023-04-29T09:31:41.388875Z",
     "iopub.status.busy": "2023-04-29T09:31:41.388040Z",
     "iopub.status.idle": "2023-04-29T09:31:41.395981Z",
     "shell.execute_reply": "2023-04-29T09:31:41.395132Z"
    },
    "papermill": {
     "duration": 0.040013,
     "end_time": "2023-04-29T09:31:41.398255",
     "exception": false,
     "start_time": "2023-04-29T09:31:41.358242",
     "status": "completed"
    },
    "tags": []
   },
   "outputs": [],
   "source": [
    "def SGD(X , y , learning_rate = 0.01 , momentum = 0):\n",
    "    \n",
    "    weights = abs(np.random.randn(X.shape[1]))\n",
    "    biases = abs(np.random.randn(1))\n",
    "\n",
    "    m_weights = 0\n",
    "    m_biases = 0\n",
    "\n",
    "    losses = []\n",
    "\n",
    "    for _ in range(100):\n",
    "\n",
    "        pred = np.sum((weights * X).T) + biases\n",
    "        \n",
    "        loss = np.sum(pred - y)\n",
    "        losses.append(loss)\n",
    "\n",
    "        m_weights = momentum * m_weights + (1 - momentum) * (-2 * loss)\n",
    "        m_biases = momentum * m_biases + (1 - momentum) * (-2 * loss)\n",
    "        \n",
    "        weights -= m_weights[epochs + 1] * 0.01\n",
    "        biases -= m_biases[epochs + 1] * 0.01\n",
    "\n",
    "    return weights , biases , losses"
   ]
  },
  {
   "cell_type": "markdown",
   "id": "522cfeda",
   "metadata": {
    "papermill": {
     "duration": 0.028177,
     "end_time": "2023-04-29T09:31:41.455407",
     "exception": false,
     "start_time": "2023-04-29T09:31:41.427230",
     "status": "completed"
    },
    "tags": []
   },
   "source": [
    "# 2.1.4 | Nestrov\n",
    "While SGD with momentum can be effective at overcoming oscillations in the cost function, NAG has been shown to converge faster and more reliably in many cases, and thats why we will give the functionality of this function to \n",
    "$$w^n = w^{n-1} - \\beta w_v^{n-1} + (1-\\beta)(w^{n-1} - \\beta w_v^{n-1})$$\n",
    "$$b^n = b^{n-1} - \\beta b_v^{n-1} + (1-\\beta)(b^{n-1} - \\beta b_v^{n-1})$$"
   ]
  },
  {
   "cell_type": "code",
   "execution_count": 28,
   "id": "a35eabdc",
   "metadata": {
    "execution": {
     "iopub.execute_input": "2023-04-29T09:31:41.514939Z",
     "iopub.status.busy": "2023-04-29T09:31:41.514205Z",
     "iopub.status.idle": "2023-04-29T09:31:41.523087Z",
     "shell.execute_reply": "2023-04-29T09:31:41.522200Z"
    },
    "papermill": {
     "duration": 0.041285,
     "end_time": "2023-04-29T09:31:41.525290",
     "exception": false,
     "start_time": "2023-04-29T09:31:41.484005",
     "status": "completed"
    },
    "tags": []
   },
   "outputs": [],
   "source": [
    "def SGD(X , y , learning_rate = 0.01 , momentum = 0 , nestrov = False):\n",
    "    \n",
    "    weights = abs(np.random.randn(X.shape[1]))\n",
    "    biases = abs(np.random.randn(1))\n",
    "    \n",
    "    m_weights = 0\n",
    "    m_biases = 0\n",
    "    \n",
    "    losses = []\n",
    "    \n",
    "    for _ in range(100):\n",
    "    \n",
    "        pred = np.sum((weights * X).T) + biases\n",
    "        \n",
    "        loss = np.sum((pred - y) ** 2)\n",
    "        losses.append(loss)\n",
    "        \n",
    "        if nestrov :\n",
    "\n",
    "            m_weights = (momentum * m_weights + ((1 - momentum) * (weights - momentum * m_weights))) * -2 * loss \n",
    "            m_biases = (momentum * m_biases + ((1 - momentum) * (weights - momentum * m_biases))) * -2 * loss\n",
    "\n",
    "        else :\n",
    "\n",
    "            m_weights = momentum * m_weights + (1 - momentum) * -2 * loss\n",
    "            m_biases = momentum * m_biases + (1 - momentum) * -2 * loss\n",
    "\n",
    "        weights -= m_weights * learning_rate\n",
    "        biases -= m_biases * learning_rate\n",
    "\n",
    "    return weights , biases , losses"
   ]
  },
  {
   "cell_type": "markdown",
   "id": "b48af965",
   "metadata": {
    "papermill": {
     "duration": 0.028164,
     "end_time": "2023-04-29T09:31:41.581713",
     "exception": false,
     "start_time": "2023-04-29T09:31:41.553549",
     "status": "completed"
    },
    "tags": []
   },
   "source": [
    "# 2.1.5 | Weight Decay \n",
    "Weight decay is a powerful regularization technique that can help to prevent overfitting and improve the generalization performance of machine learning models trained with SGD optimization.\n",
    "$$u = u + \\gamma u$$"
   ]
  },
  {
   "cell_type": "code",
   "execution_count": 29,
   "id": "c3a4c9c7",
   "metadata": {
    "execution": {
     "iopub.execute_input": "2023-04-29T09:31:41.640592Z",
     "iopub.status.busy": "2023-04-29T09:31:41.639823Z",
     "iopub.status.idle": "2023-04-29T09:31:41.648888Z",
     "shell.execute_reply": "2023-04-29T09:31:41.648086Z"
    },
    "papermill": {
     "duration": 0.040983,
     "end_time": "2023-04-29T09:31:41.650949",
     "exception": false,
     "start_time": "2023-04-29T09:31:41.609966",
     "status": "completed"
    },
    "tags": []
   },
   "outputs": [],
   "source": [
    "def SGD(X , y , learning_rate = 0.01 , momentum = 0 , nestrov = False , weight_decay = None):\n",
    "    \n",
    "    weights = abs(np.random.randn(X.shape[1]))\n",
    "    biases = abs(np.random.randn(1))\n",
    "    \n",
    "    m_weights = 0\n",
    "    m_biases = 0\n",
    "    \n",
    "    losses = []\n",
    "    \n",
    "    for _ in range(100):\n",
    "    \n",
    "        pred = np.sum((weights * X).T) + biases\n",
    "        \n",
    "        loss = np.sum((pred - y) ** 2)\n",
    "        losses.append(loss)\n",
    "        \n",
    "        if nestrov :\n",
    "\n",
    "            m_weights = (momentum * m_weights + (1 - momentum) * (weights - momentum * m_weights)) * -2 * loss \n",
    "            m_biases = (momentum * m_biases + (1 - momentum) * (weights - momentum * m_biases)) * -2 * loss\n",
    "\n",
    "        else :\n",
    "\n",
    "            m_weights = momentum * m_weights + (1 - momentum) * -2 * loss\n",
    "            m_biases = momentum * m_biases + (1 - momentum) * -2 * loss\n",
    "\n",
    "        weights -= (m_weights + weight_decay * m_weights) * learning_rate\n",
    "        biases -= (m_biases + weight_decay * m_biases) * learning_rate\n",
    "\n",
    "    return weights , biases , losses"
   ]
  },
  {
   "cell_type": "markdown",
   "id": "f472702e",
   "metadata": {
    "papermill": {
     "duration": 0.027872,
     "end_time": "2023-04-29T09:31:41.706984",
     "exception": false,
     "start_time": "2023-04-29T09:31:41.679112",
     "status": "completed"
    },
    "tags": []
   },
   "source": [
    "# 2.1.6 | Clip Norm\n",
    "\n",
    "Sometimes there is a chance that the weights go skyrocketting, which is generally considered a bad idea, parameters in the range of $(-1, 1)$ are considered to be good. Thats why sometimes we use clip-norm , that generates a upper baseline for the parameters. "
   ]
  },
  {
   "cell_type": "code",
   "execution_count": 30,
   "id": "2ba73dd0",
   "metadata": {
    "execution": {
     "iopub.execute_input": "2023-04-29T09:31:41.765016Z",
     "iopub.status.busy": "2023-04-29T09:31:41.764391Z",
     "iopub.status.idle": "2023-04-29T09:31:41.774340Z",
     "shell.execute_reply": "2023-04-29T09:31:41.773476Z"
    },
    "papermill": {
     "duration": 0.041634,
     "end_time": "2023-04-29T09:31:41.776509",
     "exception": false,
     "start_time": "2023-04-29T09:31:41.734875",
     "status": "completed"
    },
    "tags": []
   },
   "outputs": [],
   "source": [
    "def SGD(X , y , learning_rate = 0.01 , momentum = 0 , nestrov = False , weight_decay = None , clip_norm = None):\n",
    "    \n",
    "    weights = abs(np.random.randn(X.shape[1]))\n",
    "    biases = abs(np.random.randn(1))\n",
    "    \n",
    "    m_weights = 0\n",
    "    m_biases = 0\n",
    "    \n",
    "    losses = []\n",
    "    \n",
    "    for _ in range(100):\n",
    "    \n",
    "        pred = np.sum((weights * X).T) + biases\n",
    "        \n",
    "        loss = np.sum((pred - y) ** 2)\n",
    "        losses.append(loss)\n",
    "        \n",
    "        if nestrov :\n",
    "\n",
    "            m_weights = (momentum * m_weights + (1 - momentum) * (weights - momentum * m_weights)) * -2 * loss \n",
    "            m_biases = (momentum * m_biases + (1 - momentum) * (weights - momentum * m_biases)) * -2 * loss\n",
    "\n",
    "        else :\n",
    "\n",
    "            m_weights = momentum * m_weights + (1 - momentum) * -2 * loss\n",
    "            m_biases = momentum * m_biases + (1 - momentum) * -2 * loss\n",
    "\n",
    "        if clip_norm != None:\n",
    "            \n",
    "            weights = np.clip(weights , weights , clip_norm)\n",
    "            biases = np.clip(biases , biases , clip_norm)\n",
    "\n",
    "        weights -= (m_weights + weight_decay * m_weights) * learning_rate\n",
    "        biases -= (m_biases + weight_decay * m_biases) * learning_rate\n",
    "\n",
    "    return weights , biases , losses"
   ]
  },
  {
   "cell_type": "markdown",
   "id": "8a6a53f5",
   "metadata": {
    "papermill": {
     "duration": 0.027682,
     "end_time": "2023-04-29T09:31:41.832299",
     "exception": false,
     "start_time": "2023-04-29T09:31:41.804617",
     "status": "completed"
    },
    "tags": []
   },
   "source": [
    "# 2.1.7 | Clip Values\n",
    "\n",
    "Sometimes the same can go with the `gradients` and thus we also clip them. Higher gradients means that learning rate is very high and need to be lowered. This gives us $2$ tuners to control the gradient "
   ]
  },
  {
   "cell_type": "code",
   "execution_count": 31,
   "id": "bcc864f7",
   "metadata": {
    "execution": {
     "iopub.execute_input": "2023-04-29T09:31:41.890693Z",
     "iopub.status.busy": "2023-04-29T09:31:41.889918Z",
     "iopub.status.idle": "2023-04-29T09:31:41.900581Z",
     "shell.execute_reply": "2023-04-29T09:31:41.899461Z"
    },
    "papermill": {
     "duration": 0.042724,
     "end_time": "2023-04-29T09:31:41.903000",
     "exception": false,
     "start_time": "2023-04-29T09:31:41.860276",
     "status": "completed"
    },
    "tags": []
   },
   "outputs": [],
   "source": [
    "def SGD(X , y , learning_rate = 0.01 , momentum = 0 , nestrov = False , weight_decay = None , clip_norm = None):\n",
    "    \n",
    "    weights = abs(np.random.randn(X.shape[1]))\n",
    "    biases = abs(np.random.randn(1))\n",
    "    \n",
    "    m_weights = 0\n",
    "    m_biases = 0\n",
    "    \n",
    "    losses = []\n",
    "    \n",
    "    for _ in range(100):\n",
    "    \n",
    "        pred = np.sum((weights * X).T) + biases\n",
    "        \n",
    "        loss = np.sum((pred - y) ** 2)\n",
    "        losses.append(loss)\n",
    "        \n",
    "        if nestrov :\n",
    "\n",
    "            m_weights = (momentum * m_weights + (1 - momentum) * (weights - momentum * m_weights)) * -2 * loss \n",
    "            m_biases = (momentum * m_biases + (1 - momentum) * (weights - momentum * m_biases)) * -2 * loss\n",
    "\n",
    "        else :\n",
    "\n",
    "            m_weights = momentum * m_weights + (1 - momentum) * -2 * loss\n",
    "            m_biases = momentum * m_biases + (1 - momentum) * -2 * loss\n",
    "\n",
    "        if clip_norm != None:\n",
    "            \n",
    "            weights = np.clip(weights , weights , clip_norm)\n",
    "            biases = np.clip(biases , biases , clip_norm)\n",
    "\n",
    "        if clip_value != None:\n",
    "            \n",
    "            m_weights = np.clip(m_weights , m_weights , clip_value)\n",
    "            m_biases = np.clip(m_biases , m_biases , clip_value)\n",
    "\n",
    "        weights -= (m_weights + weight_decay * m_weights) * learning_rate\n",
    "        biases -= (m_biases + weight_decay * m_biases) * learning_rate\n",
    "\n",
    "    return weights , biases , losses"
   ]
  },
  {
   "cell_type": "markdown",
   "id": "6cebffc2",
   "metadata": {
    "papermill": {
     "duration": 0.027897,
     "end_time": "2023-04-29T09:31:41.959090",
     "exception": false,
     "start_time": "2023-04-29T09:31:41.931193",
     "status": "completed"
    },
    "tags": []
   },
   "source": [
    "# 2.1.8 | Use EMA\n",
    "\n",
    "Wether to use the estimated momentum average or not. The major use of this function is when `ema_momentum` is given "
   ]
  },
  {
   "cell_type": "code",
   "execution_count": 32,
   "id": "08b8038e",
   "metadata": {
    "execution": {
     "iopub.execute_input": "2023-04-29T09:31:42.018202Z",
     "iopub.status.busy": "2023-04-29T09:31:42.017421Z",
     "iopub.status.idle": "2023-04-29T09:31:42.028048Z",
     "shell.execute_reply": "2023-04-29T09:31:42.027247Z"
    },
    "papermill": {
     "duration": 0.04289,
     "end_time": "2023-04-29T09:31:42.030186",
     "exception": false,
     "start_time": "2023-04-29T09:31:41.987296",
     "status": "completed"
    },
    "tags": []
   },
   "outputs": [],
   "source": [
    "def SGD(X , y , learning_rate = 0.01 , momentum = 0 , nestrov = False , weight_decay = None , clip_norm = None , ema = False):\n",
    "    \n",
    "    weights = abs(np.random.randn(X.shape[1]))\n",
    "    biases = abs(np.random.randn(1))\n",
    "    \n",
    "    m_weights = 0\n",
    "    m_biases = 0\n",
    "    \n",
    "    losses = []\n",
    "    \n",
    "    for _ in range(100):\n",
    "    \n",
    "        pred = np.sum((weights * X).T) + biases\n",
    "        \n",
    "        loss = np.sum((pred - y) ** 2)\n",
    "        losses.append(loss)\n",
    "        \n",
    "        if nestrov :\n",
    "\n",
    "            m_weights = (momentum * m_weights + (1 - momentum) * (weights - momentum * m_weights)) * -2 * loss \n",
    "            m_biases = (momentum * m_biases + (1 - momentum) * (weights - momentum * m_biases)) * -2 * loss\n",
    "\n",
    "        else :\n",
    "\n",
    "            m_weights = momentum * m_weights + (1 - momentum) * -2 * loss\n",
    "            m_biases = momentum * m_biases + (1 - momentum) * -2 * loss\n",
    "\n",
    "        if ema:pass\n",
    "\n",
    "        if clip_norm != None:\n",
    "            \n",
    "            weights = np.clip(weights , weights , clip_norm)\n",
    "            biases = np.clip(biases , biases , clip_norm)\n",
    "\n",
    "        if clip_value != None:\n",
    "            \n",
    "            m_weights = np.clip(m_weights , m_weights , clip_value)\n",
    "            m_biases = np.clip(m_biases , m_biases , clip_value)\n",
    "\n",
    "        weights -= (m_weights + weight_decay * m_weights) * learning_rate\n",
    "        biases -= (m_biases + weight_decay * m_biases) * learning_rate\n",
    "\n",
    "    return weights , biases , losses"
   ]
  },
  {
   "cell_type": "markdown",
   "id": "ee1247b3",
   "metadata": {
    "papermill": {
     "duration": 0.027828,
     "end_time": "2023-04-29T09:31:42.087048",
     "exception": false,
     "start_time": "2023-04-29T09:31:42.059220",
     "status": "completed"
    },
    "tags": []
   },
   "source": [
    "# 2.1.9 | EMA Momentum \n",
    "\n",
    "In RMSprop, the exponential moving average (EMA) of the gradient with momentum is used to improve convergence and prevent oscillations during training. The EMA of the gradient with momentum is updated at each iteration and incorporates information about the previous gradients and the current gradient to produce a more stable and consistent update direction. This helps to smooth out the noise in the gradient estimates and helps the optimizer to move more directly towards the minimum of the loss function."
   ]
  },
  {
   "cell_type": "code",
   "execution_count": 33,
   "id": "4655e9db",
   "metadata": {
    "execution": {
     "iopub.execute_input": "2023-04-29T09:31:42.145272Z",
     "iopub.status.busy": "2023-04-29T09:31:42.144514Z",
     "iopub.status.idle": "2023-04-29T09:31:42.156192Z",
     "shell.execute_reply": "2023-04-29T09:31:42.155110Z"
    },
    "papermill": {
     "duration": 0.043405,
     "end_time": "2023-04-29T09:31:42.158510",
     "exception": false,
     "start_time": "2023-04-29T09:31:42.115105",
     "status": "completed"
    },
    "tags": []
   },
   "outputs": [],
   "source": [
    "def SGD(X , y , learning_rate = 0.01 , momentum = 0 , nestrov = False , weight_decay = None , clip_norm = None , ema = False , ema_momentum = 0.99):\n",
    "    \n",
    "    weights = abs(np.random.randn(X.shape[1]))\n",
    "    biases = abs(np.random.randn(1))\n",
    "    \n",
    "    m_weights = 0\n",
    "    m_biases = 0\n",
    "    \n",
    "    losses = []\n",
    "    \n",
    "    for _ in range(100):\n",
    "    \n",
    "        pred = np.sum((weights * X).T) + biases\n",
    "        \n",
    "        loss = np.sum((pred - y) ** 2)\n",
    "        losses.append(loss)\n",
    "        \n",
    "        if nestrov :\n",
    "\n",
    "            m_weights = (momentum * m_weights + (1 - momentum) * (weights - momentum * m_weights)) * -2 * loss \n",
    "            m_biases = (momentum * m_biases + (1 - momentum) * (weights - momentum * m_biases)) * -2 * loss\n",
    "\n",
    "        else :\n",
    "\n",
    "            m_weights = momentum * m_weights + (1 - momentum) * -2 * loss\n",
    "            m_biases = momentum * m_biases + (1 - momentum) * -2 * loss\n",
    "\n",
    "        if ema:\n",
    "            m_weights = ema_momentum * m_weights + (1 - ema_momentum) * -2 * loss\n",
    "            m_biases = ema_momentum * m_biases + (1 - ema_momentum) * -2 * loss\n",
    "\n",
    "        if clip_norm != None:\n",
    "            \n",
    "            weights = np.clip(weights , weights , clip_norm)\n",
    "            biases = np.clip(biases , biases , clip_norm)\n",
    "\n",
    "        if clip_value != None:\n",
    "            \n",
    "            m_weights = np.clip(m_weights , m_weights , clip_value)\n",
    "            m_biases = np.clip(m_biases , m_biases , clip_value)\n",
    "\n",
    "        weights -= (m_weights + weight_decay * m_weights) * learning_rate\n",
    "        biases -= (m_biases + weight_decay * m_biases) * learning_rate\n",
    "\n",
    "    return weights , biases , losses"
   ]
  },
  {
   "cell_type": "markdown",
   "id": "e3b67bc0",
   "metadata": {
    "papermill": {
     "duration": 0.027686,
     "end_time": "2023-04-29T09:31:42.214262",
     "exception": false,
     "start_time": "2023-04-29T09:31:42.186576",
     "status": "completed"
    },
    "tags": []
   },
   "source": [
    "# 2.2 | Methods\n",
    "\n",
    "Now to add more functionalities, we will add different methods to our alogirthm, You can acces the list of methods we are going to use from the same link before we used for `Functionalities`. \n",
    "* ✅`build` - Initialize optimizer variables. SGD optimizer has one variable momentums, only set if self.momentum is not 0.\n",
    "* * ✅`weights` - Weights of the Optimizer\n",
    "* * ✅`biases` - biases of the Optimizer\n",
    "* ✅`compute_gradients` - Compute gradients of loss on trainable variables.\n",
    "* ✅`minimize` - Minimize loss by updating `var_list`.\n",
    "* ✅`update_step` - Update step given gradient and the associated model variable.\n",
    "\n",
    "**Note** - we will stop the function from being usable at some places\n",
    "\n",
    "# 2.2.1 | Build\n",
    "This method initializes all the values in the `SGD`, you can understand this as a constructor, but not perfectly as the one. \n",
    "\n",
    "We will give the user a functionality, that they can intialize there own variables. At the starting the `weights` and `baises` are `None`. If the user passes their own, the function first checks that they are or correct shape and if True assigns the values, else initialize random values "
   ]
  },
  {
   "cell_type": "code",
   "execution_count": 34,
   "id": "d2ced6da",
   "metadata": {
    "execution": {
     "iopub.execute_input": "2023-04-29T09:31:42.272907Z",
     "iopub.status.busy": "2023-04-29T09:31:42.272138Z",
     "iopub.status.idle": "2023-04-29T09:31:42.291095Z",
     "shell.execute_reply": "2023-04-29T09:31:42.290042Z"
    },
    "papermill": {
     "duration": 0.051052,
     "end_time": "2023-04-29T09:31:42.293465",
     "exception": false,
     "start_time": "2023-04-29T09:31:42.242413",
     "status": "completed"
    },
    "tags": []
   },
   "outputs": [],
   "source": [
    "class SGD:\n",
    "    \n",
    "    def __init__(self , \n",
    "                 X , y , \n",
    "                 learning_rate = 0.01 , momentum = 0 , \n",
    "                 nestrov = False , weight_decay = 0 , \n",
    "                 clip_norm = None , clip_value = None , \n",
    "                 use_ema = False , ema_momentum = 0):\n",
    "        \n",
    "        self.X = X\n",
    "        self.y = y\n",
    "        self.learning_rate = learning_rate\n",
    "        self.momentum = momentum\n",
    "        self.nestrov = nestrov\n",
    "        self.weight_decay = weight_decay\n",
    "        self.clip_norm = clip_norm\n",
    "        self.clip_value = clip_value\n",
    "        self.use_ema = use_ema\n",
    "        self.ema_momentum = ema_momentum\n",
    "    \n",
    "    def build(self , weights = None , biases = None):\n",
    "        \n",
    "        if weights == None:\n",
    "            \n",
    "            self.weights = abs(np.random.randn(self.X.shape[0]))\n",
    "        \n",
    "        else :\n",
    "            \n",
    "            if weights.shape[0] == self.X.shape[1]:\n",
    "                \n",
    "                self.weights = weights\n",
    "            \n",
    "            else :\n",
    "                \n",
    "                self.weights = abs(np.random.randn(self.X.shape[1]))\n",
    "                \n",
    "                raise UserWarning(\"Values do not match with the `X` , intializing random Values\")\n",
    "                \n",
    "        \n",
    "        if biases == None:\n",
    "            \n",
    "            self.biases = abs(np.random.randn(1))\n",
    "        \n",
    "        else :\n",
    "            \n",
    "            if biases.shape[0] == 1:\n",
    "                \n",
    "                self.biases = biases\n",
    "            \n",
    "            else :\n",
    "                \n",
    "                self.biases = abs(np.random.randn(1))\n",
    "                \n",
    "                raise UserWarning(\"Values do not match with the `X` , intializing random Values\")\n",
    "    \n",
    "        self.m_weights = 0\n",
    "        self.m_biases = 0\n",
    "    \n",
    "        self.losses = []\n",
    "    \n",
    "        for _ in range(100):\n",
    "        \n",
    "            pred = np.sum((weights * self.X).T) + biases\n",
    "            \n",
    "            loss = np.sum((pred - self.y) ** 2)\n",
    "            self.losses.append(loss)\n",
    "            \n",
    "            if self.nestrov :\n",
    "\n",
    "                self.m_weights = (self.momentum * self.m_weights + (1 - self.momentum) * (self.weights - self.momentum * self.m_weights)) * -2 * loss \n",
    "                self.m_biases = (self.momentum * self.m_biases + (1 - self.momentum) * (self.biases - self.momentum * self.m_biases)) * -2 * loss\n",
    "\n",
    "            else :\n",
    "\n",
    "                self.m_weights = self.momentum * self.m_weights + (1 - self.momentum) * -2 * loss\n",
    "                self.m_biases = self.momentum * self.m_biases + (1 - self.momentum) * -2 * loss\n",
    "            \n",
    "            if self.use_ema:\n",
    "                \n",
    "                self.m_weights = self.ema_momentum * self.m_weights + (1 - self.ema_momentum) * -2 * loss\n",
    "                self.m_biases = self.ema_momentum * self.m_biases + (1 - self.ema_momentum) * -2 * loss\n",
    "                \n",
    "            if self.clip_norm != None:\n",
    "                \n",
    "                weights = np.clip(weights , weights , self.clip_norm)\n",
    "                biases = np.clip(biases , biases , self.clip_norm)\n",
    "            \n",
    "            if self.clip_value != None:\n",
    "                \n",
    "                self.m_weights = np.clip(self.m_weights , self.m_weights , self.clip_value)\n",
    "                self.m_biases = np.clip(self.m_biases , self.m_biases , self.clip_value)\n",
    "            \n",
    "            weights -= (self.m_weights + self.weight_decay * self.m_weights) * self.learning_rate\n",
    "            biases -= (self.m_biases + self.weight_decay * self.m_biases) * self.learning_rate\n",
    "\n",
    "        return weights , biases , losses"
   ]
  },
  {
   "cell_type": "markdown",
   "id": "11b7c169",
   "metadata": {
    "papermill": {
     "duration": 0.027758,
     "end_time": "2023-04-29T09:31:42.349202",
     "exception": false,
     "start_time": "2023-04-29T09:31:42.321444",
     "status": "completed"
    },
    "tags": []
   },
   "source": [
    "# 2.2.2 | Compute Gradients\n",
    "\n",
    "Compuute the loss function and gradients for the losses "
   ]
  },
  {
   "cell_type": "code",
   "execution_count": 35,
   "id": "60cfa3bc",
   "metadata": {
    "execution": {
     "iopub.execute_input": "2023-04-29T09:31:42.407535Z",
     "iopub.status.busy": "2023-04-29T09:31:42.407151Z",
     "iopub.status.idle": "2023-04-29T09:31:42.421531Z",
     "shell.execute_reply": "2023-04-29T09:31:42.420653Z"
    },
    "papermill": {
     "duration": 0.046471,
     "end_time": "2023-04-29T09:31:42.423959",
     "exception": false,
     "start_time": "2023-04-29T09:31:42.377488",
     "status": "completed"
    },
    "tags": []
   },
   "outputs": [],
   "source": [
    "class SGD:\n",
    "    \n",
    "    def __init__(self , \n",
    "                 X , y , \n",
    "                 learning_rate = 0.01 , momentum = 0 , \n",
    "                 nestrov = False , weight_decay = 0 , \n",
    "                 clip_norm = None , clip_value = None , \n",
    "                 use_ema = False , ema_momentum = 0):\n",
    "        \n",
    "        self.X = X\n",
    "        self.y = y\n",
    "        self.learning_rate = learning_rate\n",
    "        self.momentum = momentum\n",
    "        self.nestrov = nestrov\n",
    "        self.weight_decay = weight_decay\n",
    "        self.clip_norm = clip_norm\n",
    "        self.clip_value = clip_value\n",
    "        self.use_ema = use_ema\n",
    "        self.ema_momentum = ema_momentum\n",
    "    \n",
    "    def build(self , weights = None , biases = None):\n",
    "        \n",
    "        if weights == None:\n",
    "            \n",
    "            self.weights = abs(np.random.randn(self.X.shape[0]))\n",
    "        \n",
    "        else :\n",
    "            \n",
    "            if weights.shape[0] == self.X.shape[1]:\n",
    "                \n",
    "                self.weights = weights\n",
    "            \n",
    "            else :\n",
    "                \n",
    "                self.weights = abs(np.random.randn(self.X.shape[1]))\n",
    "                \n",
    "                raise UserWarning(\"Values do not match with the `X` , intializing random Values\")\n",
    "                \n",
    "        \n",
    "        if biases == None:\n",
    "            \n",
    "            self.biases = abs(np.random.randn(1))\n",
    "        \n",
    "        else :\n",
    "            \n",
    "            if biases.shape[0] == 1:\n",
    "                \n",
    "                self.biases = biases\n",
    "            \n",
    "            else :\n",
    "                \n",
    "                self.biases = abs(np.random.randn(1))\n",
    "                \n",
    "                raise UserWarning(\"Values do not match with the `X` , intializing random Values\")\n",
    "    \n",
    "        self.m_weights = 0\n",
    "        self.m_biases = 0\n",
    "    \n",
    "        self.losses = []\n",
    "\n",
    "    def comput_gradients(self , weights , biases):\n",
    "        \n",
    "            pred = np.sum((weights * self.X).T) + biases\n",
    "            \n",
    "            loss = np.sum((pred - self.y) ** 2)\n",
    "            \n",
    "            yield loss\n",
    "            \n",
    "            self.losses.append(loss)\n",
    "            \n",
    "        #     if self.nestrov :\n",
    "\n",
    "        #         self.m_weights = (self.momentum * self.m_weights + (1 - self.momentum) * (self.weights - self.momentum * self.m_weights)) * -2 * loss \n",
    "        #         self.m_biases = (self.momentum * self.m_biases + (1 - self.momentum) * (self.biases - self.momentum * self.m_biases)) * -2 * loss\n",
    "\n",
    "        #     else :\n",
    "\n",
    "        #         self.m_weights = self.momentum * self.m_weights + (1 - self.momentum) * -2 * loss\n",
    "        #         self.m_biases = self.momentum * self.m_biases + (1 - self.momentum) * -2 * loss\n",
    "            \n",
    "        #     if self.use_ema:\n",
    "                \n",
    "        #         self.m_weights = self.ema_momentum * self.momentum + (1 - self.ema_momentum) * -2 * loss\n",
    "        #         self.m_biases = self.ema_momentum * self.momentum + (1 - self.ema_momentum) * -2 * loss\n",
    "                \n",
    "        #     if self.clip_norm != None:\n",
    "                \n",
    "        #         weights = np.clip(weights , weights , self.clip_norm)\n",
    "        #         biases = np.clip(biases , biases , self.clip_norm)\n",
    "            \n",
    "        #     if self.clip_value != None:\n",
    "                \n",
    "        #         self.m_weights = np.clip(self.m_weights , self.m_weights , self.clip_value)\n",
    "        #         self.m_biases = np.clip(self.m_biases , self.m_biases , self.clip_value)\n",
    "            \n",
    "        #     weights -= (self.m_weights + self.weight_decay * self.m_weights) * self.learning_rate\n",
    "        #     biases -= (self.m_biases + self.weight_decay * self.m_biases) * self.learning_rate\n",
    "\n",
    "        # return weights , biases , losses"
   ]
  },
  {
   "cell_type": "markdown",
   "id": "334a71ff",
   "metadata": {
    "papermill": {
     "duration": 0.027802,
     "end_time": "2023-04-29T09:31:42.480100",
     "exception": false,
     "start_time": "2023-04-29T09:31:42.452298",
     "status": "completed"
    },
    "tags": []
   },
   "source": [
    "# 2.2.3 | Minimize \n",
    "Minimze the loss values"
   ]
  },
  {
   "cell_type": "code",
   "execution_count": 36,
   "id": "60081b07",
   "metadata": {
    "execution": {
     "iopub.execute_input": "2023-04-29T09:31:42.541096Z",
     "iopub.status.busy": "2023-04-29T09:31:42.540628Z",
     "iopub.status.idle": "2023-04-29T09:31:42.556148Z",
     "shell.execute_reply": "2023-04-29T09:31:42.555155Z"
    },
    "papermill": {
     "duration": 0.048027,
     "end_time": "2023-04-29T09:31:42.558599",
     "exception": false,
     "start_time": "2023-04-29T09:31:42.510572",
     "status": "completed"
    },
    "tags": []
   },
   "outputs": [],
   "source": [
    "class SGD:\n",
    "    \n",
    "    def __init__(self , \n",
    "                 X , y , \n",
    "                 learning_rate = 0.01 , momentum = 0 , \n",
    "                 nestrov = False , weight_decay = 0 , \n",
    "                 clip_norm = None , clip_value = None , \n",
    "                 use_ema = False , ema_momentum = 0):\n",
    "        \n",
    "        self.X = X\n",
    "        self.y = y\n",
    "        self.learning_rate = learning_rate\n",
    "        self.momentum = momentum\n",
    "        self.nestrov = nestrov\n",
    "        self.weight_decay = weight_decay\n",
    "        self.clip_norm = clip_norm\n",
    "        self.clip_value = clip_value\n",
    "        self.use_ema = use_ema\n",
    "        self.ema_momentum = ema_momentum\n",
    "    \n",
    "    def build(self , weights = None , biases = None):\n",
    "        \n",
    "        if weights == None:\n",
    "            \n",
    "            self.weights = abs(np.random.randn(self.X.shape[0]))\n",
    "        \n",
    "        else :\n",
    "            \n",
    "            if weights.shape[0] == self.X.shape[1]:\n",
    "                \n",
    "                self.weights = weights\n",
    "            \n",
    "            else :\n",
    "                \n",
    "                self.weights = abs(np.random.randn(self.X.shape[1]))\n",
    "                \n",
    "                raise UserWarning(\"Values do not match with the `X` , intializing random Values\")\n",
    "                \n",
    "        \n",
    "        if biases == None:\n",
    "            \n",
    "            self.biases = abs(np.random.randn(1))\n",
    "        \n",
    "        else :\n",
    "            \n",
    "            if biases.shape[0] == 1:\n",
    "                \n",
    "                self.biases = biases\n",
    "            \n",
    "            else :\n",
    "                \n",
    "                self.biases = abs(np.random.randn(1))\n",
    "                \n",
    "                raise UserWarning(\"Values do not match with the `X` , intializing random Values\")\n",
    "    \n",
    "        self.m_weights = 0\n",
    "        self.m_biases = 0\n",
    "    \n",
    "        self.losses = []\n",
    "\n",
    "    def comput_gradients(self , weights , biases):\n",
    "        \n",
    "            pred = np.sum((weights * self.X).T) + biases\n",
    "            \n",
    "            loss = np.sum((pred - self.y) ** 2)\n",
    "            \n",
    "            yield loss\n",
    "            \n",
    "            self.losses.append(loss)\n",
    "            \n",
    "        #     if self.nestrov :\n",
    "\n",
    "        #         self.m_weights = (self.momentum * self.m_weights + (1 - self.momentum) * (self.weights - self.momentum * self.m_weights)) * -2 * loss \n",
    "        #         self.m_biases = (self.momentum * self.m_biases + (1 - self.momentum) * (self.biases - self.momentum * self.m_biases)) * -2 * loss\n",
    "\n",
    "        #     else :\n",
    "\n",
    "        #         self.m_weights = self.momentum * self.m_weights + (1 - self.momentum) * -2 * loss\n",
    "        #         self.m_biases = self.momentum * self.m_biases + (1 - self.momentum) * -2 * loss\n",
    "            \n",
    "        #     if self.use_ema:\n",
    "                \n",
    "        #         self.m_weights = self.ema_momentum * self.momentum + (1 - self.ema_momentum) * -2 * loss\n",
    "        #         self.m_biases = self.ema_momentum * self.momentum + (1 - self.ema_momentum) * -2 * loss\n",
    "    def minimize(self):                \n",
    "        if self.clip_norm != None:\n",
    "            \n",
    "            weights = np.clip(weights , weights , self.clip_norm)\n",
    "            biases = np.clip(biases , biases , self.clip_norm)\n",
    "        \n",
    "        if self.clip_value != None:\n",
    "            \n",
    "            self.m_weights = np.clip(self.m_weights , self.m_weights , self.clip_value)\n",
    "            self.m_biases = np.clip(self.m_biases , self.m_biases , self.clip_value)\n",
    "        \n",
    "        weights -= (self.m_weights + self.weight_decay * self.m_weights) * self.learning_rate\n",
    "        biases -= (self.m_biases + self.weight_decay * self.m_biases) * self.learning_rate\n",
    "\n",
    "        # return weights , biases , losses"
   ]
  },
  {
   "cell_type": "markdown",
   "id": "fb143b12",
   "metadata": {
    "papermill": {
     "duration": 0.027885,
     "end_time": "2023-04-29T09:31:42.614755",
     "exception": false,
     "start_time": "2023-04-29T09:31:42.586870",
     "status": "completed"
    },
    "tags": []
   },
   "source": [
    "# 2.2.4 | Update_Step"
   ]
  },
  {
   "cell_type": "code",
   "execution_count": 37,
   "id": "c6a74b4d",
   "metadata": {
    "execution": {
     "iopub.execute_input": "2023-04-29T09:31:42.672788Z",
     "iopub.status.busy": "2023-04-29T09:31:42.672379Z",
     "iopub.status.idle": "2023-04-29T09:31:42.691383Z",
     "shell.execute_reply": "2023-04-29T09:31:42.690211Z"
    },
    "papermill": {
     "duration": 0.050907,
     "end_time": "2023-04-29T09:31:42.693758",
     "exception": false,
     "start_time": "2023-04-29T09:31:42.642851",
     "status": "completed"
    },
    "tags": []
   },
   "outputs": [],
   "source": [
    "class SGD:\n",
    "    \n",
    "    def __init__(self , \n",
    "                 X , y , \n",
    "                 learning_rate = 0.01 , momentum = 0 , \n",
    "                 nestrov = False , weight_decay = 0 , \n",
    "                 clip_norm = None , clip_value = None , \n",
    "                 use_ema = False , ema_momentum = 0):\n",
    "        \n",
    "        self.X = X\n",
    "        self.y = y\n",
    "        self.learning_rate = learning_rate\n",
    "        self.momentum = momentum\n",
    "        self.nestrov = nestrov\n",
    "        self.weight_decay = weight_decay\n",
    "        self.clip_norm = clip_norm\n",
    "        self.clip_value = clip_value\n",
    "        self.use_ema = use_ema\n",
    "        self.ema_momentum = ema_momentum\n",
    "    \n",
    "    def build(self , weights = None , biases = None):\n",
    "        \n",
    "        if weights == None:\n",
    "            \n",
    "            self.weights = abs(np.random.randn(self.X.shape[0]))\n",
    "        \n",
    "        else :\n",
    "            \n",
    "            if weights.shape[0] == self.X.shape[1]:\n",
    "                \n",
    "                self.weights = weights\n",
    "            \n",
    "            else :\n",
    "                \n",
    "                self.weights = abs(np.random.randn(self.X.shape[1]))\n",
    "                \n",
    "                raise UserWarning(\"Values do not match with the `X` , intializing random Values\")\n",
    "                \n",
    "        \n",
    "        if biases == None:\n",
    "            \n",
    "            self.biases = abs(np.random.randn(1))\n",
    "        \n",
    "        else :\n",
    "            \n",
    "            if biases.shape[0] == 1:\n",
    "                \n",
    "                self.biases = biases\n",
    "            \n",
    "            else :\n",
    "                \n",
    "                self.biases = abs(np.random.randn(1))\n",
    "                \n",
    "                raise UserWarning(\"Values do not match with the `X` , intializing random Values\")\n",
    "    \n",
    "        self.m_weights = 0\n",
    "        self.m_biases = 0\n",
    "    \n",
    "        self.losses = []\n",
    "\n",
    "    def comput_gradients(self , weights , biases):\n",
    "        \n",
    "            pred = np.sum((weights * self.X).T) + biases\n",
    "            \n",
    "            loss = np.sum((pred - self.y) ** 2)\n",
    "            \n",
    "            yield loss\n",
    "            \n",
    "            self.losses.append(loss)\n",
    "            \n",
    "    def update_step(self , loss):\n",
    "\n",
    "        if self.nestrov :\n",
    "\n",
    "            self.m_weights = (self.momentum * self.m_weights + (1 - self.momentum) * (self.weights - self.momentum * self.m_weights)) * -2 * loss \n",
    "            self.m_biases = (self.momentum * self.m_biases + (1 - self.momentum) * (self.biases - self.momentum * self.m_biases)) * -2 * loss\n",
    "\n",
    "        else :\n",
    "\n",
    "            self.m_weights = self.momentum * self.m_weights + (1 - self.momentum) * -2 * loss\n",
    "            self.m_biases = self.momentum * self.m_biases + (1 - self.momentum) * -2 * loss\n",
    "\n",
    "        if self.use_ema:\n",
    "\n",
    "            self.m_weights = self.ema_momentum * self.m_weights + (1 - self.ema_momentum) * -2 * loss\n",
    "            self.m_biases = self.ema_momentum * self.m_biases + (1 - self.ema_momentum) * -2 * loss\n",
    "    def minimize(self):                \n",
    "        if self.clip_norm != None:\n",
    "            \n",
    "            weights = np.clip(weights , weights , self.clip_norm)\n",
    "            biases = np.clip(biases , biases , self.clip_norm)\n",
    "        \n",
    "        if self.clip_value != None:\n",
    "            \n",
    "            self.m_weights = np.clip(self.m_weights , self.m_weights , self.clip_value)\n",
    "            self.m_biases = np.clip(self.m_biases , self.m_biases , self.clip_value)\n",
    "        \n",
    "        weights -= (self.m_weights + self.weight_decay * self.m_weights) * self.learning_rate\n",
    "        biases -= (self.m_biases + self.weight_decay * self.m_biases) * self.learning_rate\n",
    "\n",
    "        # return weights , biases , losses"
   ]
  },
  {
   "cell_type": "markdown",
   "id": "57fd8b11",
   "metadata": {
    "papermill": {
     "duration": 0.027768,
     "end_time": "2023-04-29T09:31:42.749940",
     "exception": false,
     "start_time": "2023-04-29T09:31:42.722172",
     "status": "completed"
    },
    "tags": []
   },
   "source": [
    "# 2.2 | SGD Final Source Code"
   ]
  },
  {
   "cell_type": "code",
   "execution_count": 38,
   "id": "176ff46d",
   "metadata": {
    "execution": {
     "iopub.execute_input": "2023-04-29T09:31:42.808543Z",
     "iopub.status.busy": "2023-04-29T09:31:42.807914Z",
     "iopub.status.idle": "2023-04-29T09:31:42.826619Z",
     "shell.execute_reply": "2023-04-29T09:31:42.825524Z"
    },
    "papermill": {
     "duration": 0.050868,
     "end_time": "2023-04-29T09:31:42.828944",
     "exception": false,
     "start_time": "2023-04-29T09:31:42.778076",
     "status": "completed"
    },
    "tags": []
   },
   "outputs": [],
   "source": [
    "class SGD:\n",
    "    \n",
    "    def __init__(self , \n",
    "                 X , y , \n",
    "                 learning_rate = 0.01 , momentum = 0 , \n",
    "                 nestrov = False , weight_decay = 0 , \n",
    "                 clip_norm = None , clip_value = None , \n",
    "                 use_ema = False , ema_momentum = 0):\n",
    "        \n",
    "        self.X = X\n",
    "        self.y = y\n",
    "        self.learning_rate = learning_rate\n",
    "        self.momentum = momentum\n",
    "        self.nestrov = nestrov\n",
    "        self.weight_decay = weight_decay\n",
    "        self.clip_norm = clip_norm\n",
    "        self.clip_value = clip_value\n",
    "        self.use_ema = use_ema\n",
    "        self.ema_momentum = ema_momentum\n",
    "    \n",
    "    def build(self , weights = None , biases = None):\n",
    "        \n",
    "        if weights == None:\n",
    "            \n",
    "            self.weights = abs(np.random.randn(self.X.shape[0]))\n",
    "        \n",
    "        else :\n",
    "            \n",
    "            if weights.shape[0] == self.X.shape[1]:\n",
    "                \n",
    "                self.weights = weights\n",
    "            \n",
    "            else :\n",
    "                \n",
    "                self.weights = abs(np.random.randn(self.X.shape[1]))\n",
    "                \n",
    "                raise UserWarning(\"Values do not match with the `X` , intializing random Values\")\n",
    "                \n",
    "        \n",
    "        if biases == None:\n",
    "            \n",
    "            self.biases = abs(np.random.randn(1))\n",
    "        \n",
    "        else :\n",
    "            \n",
    "            if biases.shape[0] == 1:\n",
    "                \n",
    "                self.biases = biases\n",
    "            \n",
    "            else :\n",
    "                \n",
    "                self.biases = abs(np.random.randn(1))\n",
    "                \n",
    "                raise UserWarning(\"Values do not match with the `X` , intializing random Values\")\n",
    "    \n",
    "        self.m_weights = 0\n",
    "        self.m_biases = 0\n",
    "    \n",
    "        self.losses = []\n",
    "\n",
    "    def comput_gradients(self , weights , biases):\n",
    "        \n",
    "            pred = np.sum((weights * self.X).T) + biases\n",
    "            \n",
    "            loss = np.sum((pred - self.y) ** 2)\n",
    "            \n",
    "            yield loss\n",
    "            \n",
    "            self.losses.append(loss)\n",
    "    def update_step(self , loss):    \n",
    "        \n",
    "        if self.nestrov :\n",
    "\n",
    "            self.m_weights = (self.momentum * self.m_weights + (1 - self.momentum) * (self.weights - self.momentum * self.m_weights)) * -2 * loss \n",
    "            self.m_biases = (self.momentum * self.m_biases + (1 - self.momentum) * (self.biases - self.momentum * self.m_biases)) * -2 * loss\n",
    "\n",
    "        else :\n",
    "\n",
    "            self.m_weights = self.momentum * self.m_weights + (1 - self.momentum) * -2 * loss\n",
    "            self.m_biases = self.momentum * self.m_biases + (1 - self.momentum) * -2 * loss\n",
    "        \n",
    "        if self.use_ema:\n",
    "            \n",
    "            self.m_weights = self.ema_momentum * self.m_weights + (1 - self.ema_momentum) * -2 * loss\n",
    "            self.m_biases = self.ema_momentum * self.m_weights + (1 - self.ema_momentum) * -2 * loss\n",
    "    \n",
    "    def minimize(self):                \n",
    "        if self.clip_norm != None:\n",
    "            \n",
    "            weights = np.clip(weights , weights , self.clip_norm)\n",
    "            biases = np.clip(biases , biases , self.clip_norm)\n",
    "        \n",
    "        if self.clip_value != None:\n",
    "            \n",
    "            self.m_weights = np.clip(self.m_weights , self.m_weights , self.clip_value)\n",
    "            self.m_biases = np.clip(self.m_biases , self.m_biases , self.clip_value)\n",
    "        \n",
    "        weights -= (self.m_weights + self.weight_decay * self.m_weights) * self.learning_rate\n",
    "        biases -= (self.m_biases + self.weight_decay * self.m_biases) * self.learning_rate\n",
    "\n",
    "        return weights , biases , losses"
   ]
  },
  {
   "cell_type": "markdown",
   "id": "22f187bd",
   "metadata": {
    "papermill": {
     "duration": 0.027907,
     "end_time": "2023-04-29T09:31:42.885105",
     "exception": false,
     "start_time": "2023-04-29T09:31:42.857198",
     "status": "completed"
    },
    "tags": []
   },
   "source": [
    "# 3 | RMS Prop\n",
    "So what is this `RMSProp` and why the hell do we need this thing \n",
    "\n",
    "So actually there were some problems with `SGD`. I just searched on ChatGPT and found that \n",
    "* SGD was applying a fixed learning rate in every situation, and RMSProp adapts the learning rate for the situation\n",
    "* SGD is not really good with sparse inputs, and RMSProp works good with sparse inputs too\n",
    "We know a little bit about `SGD` before the basic vanilla formula for SGD is \n",
    "$$p_{n} = p_{n-1} - \\frac {dLoss}{dp}\\alpha$$\n",
    "The formula for `RMSProp` is simple as hell\n",
    "****\n",
    "$$v_t = \\beta v_{t-1} + (1 - \\beta)\\frac{dLoss}{dp}$$\n",
    "$$u = \\frac {n}{\\sqrt{v_t + e}}\\frac{dLoss}{dp}$$\n",
    "$$p_n = p_{n-1} - u$$\n",
    "****\n",
    "We know everything in this fomrula except of this one guy $e$, what is this $e$ doing here. Lets assume at some point the weight of one feature has became purely $0$. One way to think about this is as that feature doesnt contribute litrally anything to target values, then as we are dividing by `weight`  which is $0$, we will get error, as division by $0$ is not possible, thats why we add a terms $e$ in the weights. the $e$ is so small that when the weights have some value, it doesnt really make any sense, and if the values are $0$. it prevents from $0$ division\n",
    "Remeber this code...?\n",
    "\n",
    "We can modify this a little bit and we can find the code for `RMSProp`"
   ]
  },
  {
   "cell_type": "code",
   "execution_count": 39,
   "id": "22052dda",
   "metadata": {
    "_kg_hide-input": true,
    "execution": {
     "iopub.execute_input": "2023-04-29T09:31:42.943004Z",
     "iopub.status.busy": "2023-04-29T09:31:42.942609Z",
     "iopub.status.idle": "2023-04-29T09:31:42.951612Z",
     "shell.execute_reply": "2023-04-29T09:31:42.950582Z"
    },
    "papermill": {
     "duration": 0.040347,
     "end_time": "2023-04-29T09:31:42.953731",
     "exception": false,
     "start_time": "2023-04-29T09:31:42.913384",
     "status": "completed"
    },
    "tags": []
   },
   "outputs": [],
   "source": [
    "def SGD(X , y , learning_rate = 0.01 , momentum = 0):\n",
    "    \n",
    "    weights = abs(np.random.randn(X.shape[1]))\n",
    "    biases = abs(np.random.randn(1))\n",
    "\n",
    "    m_weights = [0] * (100 + 1)\n",
    "    m_biases = [0] * (100 + 1)\n",
    "\n",
    "    predic = []\n",
    "    losses = []\n",
    "\n",
    "    for epochs in range(100):\n",
    "\n",
    "        pred = np.sum((weights * X).T) + biases\n",
    "        \n",
    "        loss = np.sum(pred - y)\n",
    "        losses.append(loss)\n",
    "\n",
    "        m_weights[epochs + 1] = momentum * m_weights[epochs] + (1 - momentum) * (-2 * loss)\n",
    "        m_biases[epochs + 1] = momentum * m_biases[epochs] + (1 - momentum) * (-2 * loss)\n",
    "        \n",
    "        weights -= m_weights[epochs + 1] * 0.01\n",
    "        biases -= m_biases[epochs + 1] * 0.01\n",
    "\n",
    "    return weights , biases , losses"
   ]
  },
  {
   "cell_type": "code",
   "execution_count": 40,
   "id": "eacd55a4",
   "metadata": {
    "execution": {
     "iopub.execute_input": "2023-04-29T09:31:43.012470Z",
     "iopub.status.busy": "2023-04-29T09:31:43.011854Z",
     "iopub.status.idle": "2023-04-29T09:31:43.019110Z",
     "shell.execute_reply": "2023-04-29T09:31:43.018281Z"
    },
    "papermill": {
     "duration": 0.039147,
     "end_time": "2023-04-29T09:31:43.021180",
     "exception": false,
     "start_time": "2023-04-29T09:31:42.982033",
     "status": "completed"
    },
    "tags": []
   },
   "outputs": [],
   "source": [
    "def rms_prop(X , y):\n",
    "    \n",
    "    weights = abs(np.random.randn(X.shape[1]))\n",
    "    biases = abs(np.random.randn(1))\n",
    "\n",
    "    m_weights = 0\n",
    "    m_biases = 0\n",
    "\n",
    "    losses = []\n",
    "\n",
    "    for epochs in range(100):\n",
    "\n",
    "        pred = np.sum((weights * X).T) + biases\n",
    "        \n",
    "        loss = np.sum(pred - y)\n",
    "        losses.append(loss)\n",
    "\n",
    "        l_weights = 0 * l_weights + (1 - 0) * (-2 * loss)\n",
    "        l_biases = 0 * l_biases + (1 - 0) * (-2 * loss)\n",
    "        \n",
    "        weights -= 1/np.sqrt(l_weights + 1e-6) * 0.01\n",
    "        biases -= 1/np.sqrt(l_biases + 1e-6) * 0.01\n",
    "\n",
    "    return weights , biases , losses"
   ]
  },
  {
   "cell_type": "markdown",
   "id": "b4eaa29b",
   "metadata": {
    "papermill": {
     "duration": 0.028848,
     "end_time": "2023-04-29T09:31:43.078336",
     "exception": false,
     "start_time": "2023-04-29T09:31:43.049488",
     "status": "completed"
    },
    "tags": []
   },
   "source": [
    "And now we have our code for the `RMSProp` "
   ]
  },
  {
   "cell_type": "markdown",
   "id": "3c8bf3e1",
   "metadata": {
    "papermill": {
     "duration": 0.027804,
     "end_time": "2023-04-29T09:31:43.134272",
     "exception": false,
     "start_time": "2023-04-29T09:31:43.106468",
     "status": "completed"
    },
    "tags": []
   },
   "source": [
    "# 3.1 | Functionalities\n",
    "Now lets add some functionalieties to our code as we did before to make it more usable\n",
    "* ✅`learning_rate` - Initial value for the learning rate: either a floating point value, or a **[tf](https://www.tensorflow.org/)=>[keras](https://keras.io/)=>[optimizers](https://www.tensorflow.org/api_docs/python/tf/keras/optimizers)=>[schedules](https://www.tensorflow.org/api_docs/python/tf/keras/optimizers/schedules)=>[LearningRateSchedule](https://www.tensorflow.org/api_docs/python/tf/keras/optimizers/schedules/LearningRateSchedule)** instance. Defaults to $0.001$.\n",
    "* ✅`rho` - float, defaults to $0.9$. Discounting factor for the old gradients.\n",
    "* ✅`momentum` - float, defaults to $0.0$. If not $0.0$., the optimizer tracks the momentum value, with a decay rate equals to $1$ - momentum.\n",
    "* ✅`weight_decay` - Float, defaults to None. If set, weight decay is applied.\n",
    "* ✅`epsilon` - A small constant for numerical stability. This epsilon is \"epsilon hat\" in the Kingma and Ba paper (in the formula just before Section 2.1), not the epsilon in Algorithm 1 of the paper. Defaults to $1e-7$.\n",
    "* ✅`clipnorm` - Float. If set, the gradient of each weight is individually clipped so that its norm is no higher than this value.\n",
    "* ✅`clipvalue` - Float. If set, the gradient of each weight is clipped to be no higher than this value.\n",
    "* ✅`use_ema` - \tBoolean, defaults to False. If True, exponential moving average (EMA) is applied. EMA consists of computing an exponential moving average of the weights of the model (as the weight values change after each training batch), and periodically overwriting the weights with their moving average.\n",
    "* ✅`ema_overwrite_frequency` - Int or None, defaults to None. Only used if use_ema=True. Every ema_overwrite_frequency steps of iterations, we overwrite the model variable by its moving average. If None, the optimizer does not overwrite model variables in the middle of training, and you need to explicitly overwrite the variables at the end of training by calling optimizer.finalize_variable_values() (which updates the model variables in-place). When using the built-in fit() training loop, this happens automatically after the last epoch, and you don't need to do anything.\n",
    "\n",
    "# 3.1.1 | Learning Rate\n",
    "\n",
    "It is the learning rate with how the model learns, we had a discussion about this when we were creating the `SGD`. Just scroll a little up and you will find that "
   ]
  },
  {
   "cell_type": "code",
   "execution_count": 41,
   "id": "b3b23622",
   "metadata": {
    "execution": {
     "iopub.execute_input": "2023-04-29T09:31:43.192709Z",
     "iopub.status.busy": "2023-04-29T09:31:43.192013Z",
     "iopub.status.idle": "2023-04-29T09:31:43.200424Z",
     "shell.execute_reply": "2023-04-29T09:31:43.199342Z"
    },
    "papermill": {
     "duration": 0.040566,
     "end_time": "2023-04-29T09:31:43.202923",
     "exception": false,
     "start_time": "2023-04-29T09:31:43.162357",
     "status": "completed"
    },
    "tags": []
   },
   "outputs": [],
   "source": [
    "def rms_prop(X , y , learning_rate = 0.01):\n",
    "    \n",
    "    weights = abs(np.random.randn(X.shape[1]))\n",
    "    biases = abs(np.random.randn(1))\n",
    "\n",
    "    m_weights = 0\n",
    "    m_biases = 0\n",
    "    predic = []\n",
    "\n",
    "    for epochs in range(100):\n",
    "\n",
    "        pred = np.sum((weights * X).T) + biases\n",
    "        \n",
    "        loss = np.sum(pred - y)\n",
    "        losses.append(loss)\n",
    "\n",
    "        l_weights = 0 * l_weights + (1 - 0) * (-2 * loss)\n",
    "        l_biases = 0 * l_biases + (1 - 0) * (-2 * loss)\n",
    "        \n",
    "        weights -= 1/np.sqrt(l_weights + 1e-6) * learning_rate\n",
    "        biases -= 1/np.sqrt(l_biases + 1e-6) * learning_rate\n",
    "\n",
    "    return weights , biases , losses"
   ]
  },
  {
   "cell_type": "markdown",
   "id": "5fcdedac",
   "metadata": {
    "papermill": {
     "duration": 0.028411,
     "end_time": "2023-04-29T09:31:43.259735",
     "exception": false,
     "start_time": "2023-04-29T09:31:43.231324",
     "status": "completed"
    },
    "tags": []
   },
   "source": [
    "# 3.1.2 | Rho\n",
    "This is the $\\beta$ we saw in the formula, we had made our algortihtm such that the $\\beta$ was $0$, now we will replace that $0$ with a vraible, that the user can change"
   ]
  },
  {
   "cell_type": "code",
   "execution_count": 42,
   "id": "9bb98363",
   "metadata": {
    "execution": {
     "iopub.execute_input": "2023-04-29T09:31:43.319144Z",
     "iopub.status.busy": "2023-04-29T09:31:43.318689Z",
     "iopub.status.idle": "2023-04-29T09:31:43.326731Z",
     "shell.execute_reply": "2023-04-29T09:31:43.325831Z"
    },
    "papermill": {
     "duration": 0.040557,
     "end_time": "2023-04-29T09:31:43.328880",
     "exception": false,
     "start_time": "2023-04-29T09:31:43.288323",
     "status": "completed"
    },
    "tags": []
   },
   "outputs": [],
   "source": [
    "def rms_prop(X , y , learning_rate = 0.01 , rho = 0.9):\n",
    "    \n",
    "    weights = abs(np.random.randn(X.shape[1]))\n",
    "    biases = abs(np.random.randn(1))\n",
    "\n",
    "    m_weights = 0\n",
    "    m_biases = 0\n",
    "\n",
    "    predic = []\n",
    "\n",
    "    for epochs in range(100):\n",
    "\n",
    "        pred = np.sum((weights * X).T) + biases\n",
    "        \n",
    "        loss = np.sum(pred - y)\n",
    "        losses.append(loss)\n",
    "\n",
    "        l_weights = rho * l_weights + (1 - rho) * (-2 * loss)\n",
    "        l_biases = rho * l_biases + (1 - rho) * (-2 * loss)\n",
    "        \n",
    "        weights -= 1/np.sqrt(l_weights + 1e-6) * learning_rate\n",
    "        biases -= 1/np.sqrt(l_biases + 1e-6) * learning_rate\n",
    "\n",
    "    return weights , biases , losses"
   ]
  },
  {
   "cell_type": "markdown",
   "id": "8b521045",
   "metadata": {
    "papermill": {
     "duration": 0.027828,
     "end_time": "2023-04-29T09:31:43.385048",
     "exception": false,
     "start_time": "2023-04-29T09:31:43.357220",
     "status": "completed"
    },
    "tags": []
   },
   "source": [
    "# 3.1.3 | Momentum\n",
    "\n",
    "Momentum allows the optimizer to build up velocity in directions with consistent gradients, leading to faster convergence. It can also help to reduce oscillations in the optimization process by smoothing out variations in the gradient updates. The combination of RMSprop and momentum can lead to more efficient and effective training of deep neural networks.\n",
    "\n",
    "$$m = \\gamma m + (1 - \\gamma)\\frac {dLoss}{dp}$$"
   ]
  },
  {
   "cell_type": "code",
   "execution_count": 43,
   "id": "cc5cc508",
   "metadata": {
    "execution": {
     "iopub.execute_input": "2023-04-29T09:31:43.443668Z",
     "iopub.status.busy": "2023-04-29T09:31:43.443005Z",
     "iopub.status.idle": "2023-04-29T09:31:43.451822Z",
     "shell.execute_reply": "2023-04-29T09:31:43.450941Z"
    },
    "papermill": {
     "duration": 0.04079,
     "end_time": "2023-04-29T09:31:43.453991",
     "exception": false,
     "start_time": "2023-04-29T09:31:43.413201",
     "status": "completed"
    },
    "tags": []
   },
   "outputs": [],
   "source": [
    "def rms_prop(X , y , learning_rate = 0.01 , rho = 0.9 , momentum = 0):\n",
    "    \n",
    "    weights = abs(np.random.randn(X.shape[1]))\n",
    "    biases = abs(np.random.randn(1))\n",
    "\n",
    "    m_weights = 0\n",
    "    m_biases = 0\n",
    "\n",
    "    u_weights = 0\n",
    "    u_biases = 0\n",
    "\n",
    "    predic = []\n",
    "\n",
    "    for epochs in range(100):\n",
    "\n",
    "        pred = np.sum((weights * X).T) + biases\n",
    "        \n",
    "        loss = np.sum(pred - y)\n",
    "        losses.append(loss)\n",
    "\n",
    "        u_weights = rho * l_weights + (1 - rho) * (-2 * loss)\n",
    "        u_biases = rho * l_biases + (1 - rho) * (-2 * loss)\n",
    "\n",
    "        m_weights = momentum * m_weights + (1 - momentum) * loss\n",
    "        m_biases = momentum * m_biases + (1 - momentum) * loss\n",
    "        \n",
    "        weights -= (1/np.sqrt(u_weights + 1e-6) * 1 / np.sqrt(m_weights + 1e-6)) * learning_rate\n",
    "        biases -= (1/np.sqrt(u_biases + 1e-6) * 1 / np.sqrt(m_boases + 1e-6)) * learning_rate\n",
    "\n",
    "    return weights , biases , losses"
   ]
  },
  {
   "cell_type": "markdown",
   "id": "0c27508f",
   "metadata": {
    "papermill": {
     "duration": 0.028157,
     "end_time": "2023-04-29T09:31:43.510355",
     "exception": false,
     "start_time": "2023-04-29T09:31:43.482198",
     "status": "completed"
    },
    "tags": []
   },
   "source": [
    "# 3.1.4 | Epsilon\n",
    "\n",
    "In RMSprop, epsilon is a small constant used to prevent division by zero and improve numerical stability during the calculation of the adaptive learning rate. It is added to the denominator of the weight update equation to ensure that the divisor is always positive. Epsilon is typically set to a small value, such as 1e-8, and has a minimal impact on the optimization process."
   ]
  },
  {
   "cell_type": "code",
   "execution_count": 44,
   "id": "8b240539",
   "metadata": {
    "execution": {
     "iopub.execute_input": "2023-04-29T09:31:43.568948Z",
     "iopub.status.busy": "2023-04-29T09:31:43.568216Z",
     "iopub.status.idle": "2023-04-29T09:31:43.577658Z",
     "shell.execute_reply": "2023-04-29T09:31:43.576448Z"
    },
    "papermill": {
     "duration": 0.041693,
     "end_time": "2023-04-29T09:31:43.580251",
     "exception": false,
     "start_time": "2023-04-29T09:31:43.538558",
     "status": "completed"
    },
    "tags": []
   },
   "outputs": [],
   "source": [
    "def rms_prop(X , y , learning_rate = 0.01 , rho = 0.9 , momentum = 0 , epsilon = 1e-7):\n",
    "    \n",
    "    weights = abs(np.random.randn(X.shape[1]))\n",
    "    biases = abs(np.random.randn(1))\n",
    "\n",
    "    m_weights = 0\n",
    "    m_biases = 0\n",
    "\n",
    "    u_weights = 0\n",
    "    u_biases = 0\n",
    "\n",
    "    predic = []\n",
    "\n",
    "    for epochs in range(100):\n",
    "\n",
    "        pred = np.sum((weights * X).T) + biases\n",
    "        \n",
    "        loss = np.sum(pred - y)\n",
    "        losses.append(loss)\n",
    "\n",
    "        u_weights = rho * l_weights + (1 - rho) * (-2 * loss)\n",
    "        u_biases = rho * l_biases + (1 - rho) * (-2 * loss)\n",
    "\n",
    "        m_weights = momentum * m_weights + (1 - momentum) * loss\n",
    "        m_biases = momentum * m_biases + (1 - momentum) * loss\n",
    "        \n",
    "        weights -= (1/np.sqrt(u_weights + epsilon) * 1 / np.sqrt(m_weights + epsilon)) * learning_rate\n",
    "        biases -= (1/np.sqrt(u_biases + epsilon) * 1 / np.sqrt(m_boases + epsilon)) * learning_rate\n",
    "\n",
    "    return weights , biases , losses"
   ]
  },
  {
   "cell_type": "markdown",
   "id": "8bc9db19",
   "metadata": {
    "papermill": {
     "duration": 0.02798,
     "end_time": "2023-04-29T09:31:43.636729",
     "exception": false,
     "start_time": "2023-04-29T09:31:43.608749",
     "status": "completed"
    },
    "tags": []
   },
   "source": [
    "# 3.1.5 | Clipnorm\n",
    "The `clipnorm` parameter in `RMSprop` is used to prevent the gradient from becoming too large during training, which can cause instability or divergence. When clipnorm is set, the gradient is clipped to a maximum norm value, effectively scaling the gradient if its norm exceeds the specified value. This helps to ensure that the updates to the weights are not too large and that the optimization process remains stable."
   ]
  },
  {
   "cell_type": "code",
   "execution_count": 45,
   "id": "3eb085a7",
   "metadata": {
    "execution": {
     "iopub.execute_input": "2023-04-29T09:31:43.694978Z",
     "iopub.status.busy": "2023-04-29T09:31:43.694582Z",
     "iopub.status.idle": "2023-04-29T09:31:43.705422Z",
     "shell.execute_reply": "2023-04-29T09:31:43.704544Z"
    },
    "papermill": {
     "duration": 0.042842,
     "end_time": "2023-04-29T09:31:43.707627",
     "exception": false,
     "start_time": "2023-04-29T09:31:43.664785",
     "status": "completed"
    },
    "tags": []
   },
   "outputs": [],
   "source": [
    "def rms_prop(X , y , learning_rate = 0.01 , rho = 0.9 , momentum = 0 , epsilon = 1e-7 , clip_norm = None):\n",
    "    \n",
    "    weights = abs(np.random.randn(X.shape[1]))\n",
    "    biases = abs(np.random.randn(1))\n",
    "\n",
    "    m_weights = 0\n",
    "    m_biases = 0\n",
    "\n",
    "    u_weights = 0\n",
    "    u_biases = 0\n",
    "\n",
    "    predic = []\n",
    "\n",
    "    for epochs in range(100):\n",
    "\n",
    "        pred = np.sum((weights * X).T) + biases\n",
    "        \n",
    "        loss = np.sum(pred - y)\n",
    "        losses.append(loss)\n",
    "\n",
    "        u_weights = rho * l_weights + (1 - rho) * (-2 * loss)\n",
    "        u_biases = rho * l_biases + (1 - rho) * (-2 * loss)\n",
    "\n",
    "        m_weights = momentum * m_weights + (1 - momentum) * loss\n",
    "        m_biases = momentum * m_biases + (1 - momentum) * loss\n",
    "\n",
    "        if clip_norm != None:\n",
    "            \n",
    "            weights = np.clip(weights , weights , clip_norm)\n",
    "            biases = np.clip(biases , biases , clip_norm)\n",
    "            \n",
    "        weights -= (1/np.sqrt(u_weights + epsilon) * 1 / np.sqrt(m_weights + epsilon)) * learning_rate\n",
    "        biases -= (1/np.sqrt(u_biases + epsilon) * 1 / np.sqrt(m_boases + epsilon)) * learning_rate\n",
    "\n",
    "    return weights , biases , losses"
   ]
  },
  {
   "cell_type": "markdown",
   "id": "f2c0ab9a",
   "metadata": {
    "papermill": {
     "duration": 0.028013,
     "end_time": "2023-04-29T09:31:43.763903",
     "exception": false,
     "start_time": "2023-04-29T09:31:43.735890",
     "status": "completed"
    },
    "tags": []
   },
   "source": [
    "# 3.1.6 | Clip Value\n",
    "\n",
    "If the gradient is larger than the clipvalue threshold, it will be clipped to that value. If the gradient is smaller than the negative clipvalue threshold, it will be clipped to that negative value. This ensures that the gradient remains within a certain range, which can prevent numerical instability and improve convergence."
   ]
  },
  {
   "cell_type": "code",
   "execution_count": 46,
   "id": "12ddc810",
   "metadata": {
    "execution": {
     "iopub.execute_input": "2023-04-29T09:31:43.822419Z",
     "iopub.status.busy": "2023-04-29T09:31:43.821991Z",
     "iopub.status.idle": "2023-04-29T09:31:43.832613Z",
     "shell.execute_reply": "2023-04-29T09:31:43.831674Z"
    },
    "papermill": {
     "duration": 0.042662,
     "end_time": "2023-04-29T09:31:43.834947",
     "exception": false,
     "start_time": "2023-04-29T09:31:43.792285",
     "status": "completed"
    },
    "tags": []
   },
   "outputs": [],
   "source": [
    "def rms_prop(X , y , learning_rate = 0.01 , rho = 0.9 , momentum = 0 , epsilon = 1e-7 , clip_norm = None , clip_value = None):\n",
    "    \n",
    "    weights = abs(np.random.randn(X.shape[1]))\n",
    "    biases = abs(np.random.randn(1))\n",
    "\n",
    "    m_weights = 0\n",
    "    m_biases = 0\n",
    "\n",
    "    u_weights = 0\n",
    "    u_biases = 0\n",
    "\n",
    "    predic = []\n",
    "\n",
    "    for epochs in range(100):\n",
    "\n",
    "        pred = np.sum((weights * X).T) + biases\n",
    "        \n",
    "        loss = np.sum(pred - y)\n",
    "        losses.append(loss)\n",
    "\n",
    "        u_weights = rho * l_weights + (1 - rho) * (-2 * loss)\n",
    "        u_biases = rho * l_biases + (1 - rho) * (-2 * loss)\n",
    "\n",
    "        m_weights = momentum * m_weights + (1 - momentum) * loss\n",
    "        m_biases = momentum * m_biases + (1 - momentum) * loss\n",
    "\n",
    "        if clip_norm != None:\n",
    "\n",
    "            weights = np.clip(weights , weights , clip_norm)\n",
    "            biases = np.clip(biases , biases , clip_norm)\n",
    "\n",
    "        if clip_value != None:\n",
    "            \n",
    "            weights = np.clip(m_weigts , m_weights , clip_value)\n",
    "            biases = np.clip(m_biases , m_biases , clip_value)\n",
    "            \n",
    "        weights -= (1/np.sqrt(u_weights + epsilon) * 1 / np.sqrt(m_weights + epsilon)) * learning_rate\n",
    "        biases -= (1/np.sqrt(u_biases + epsilon) * 1 / np.sqrt(m_boases + epsilon)) * learning_rate\n",
    "\n",
    "    return weights , biases , losses"
   ]
  },
  {
   "cell_type": "markdown",
   "id": "2f08180d",
   "metadata": {
    "papermill": {
     "duration": 0.02761,
     "end_time": "2023-04-29T09:31:43.890645",
     "exception": false,
     "start_time": "2023-04-29T09:31:43.863035",
     "status": "completed"
    },
    "tags": []
   },
   "source": [
    "# 3.1.7 EMA\n",
    "\n",
    "Wether to use the estimated momentum average or not. The major use of this function is when `ema_momentum` is given "
   ]
  },
  {
   "cell_type": "code",
   "execution_count": 47,
   "id": "03502e34",
   "metadata": {
    "execution": {
     "iopub.execute_input": "2023-04-29T09:31:43.948500Z",
     "iopub.status.busy": "2023-04-29T09:31:43.948093Z",
     "iopub.status.idle": "2023-04-29T09:31:43.959606Z",
     "shell.execute_reply": "2023-04-29T09:31:43.958752Z"
    },
    "papermill": {
     "duration": 0.043327,
     "end_time": "2023-04-29T09:31:43.961822",
     "exception": false,
     "start_time": "2023-04-29T09:31:43.918495",
     "status": "completed"
    },
    "tags": []
   },
   "outputs": [],
   "source": [
    "def rms_prop(X , y , learning_rate = 0.01 , rho = 0.9 , momentum = 0 , epsilon = 1e-7 , clip_norm = None , clip_value = None , ema = False):\n",
    "    \n",
    "    weights = abs(np.random.randn(X.shape[1]))\n",
    "    biases = abs(np.random.randn(1))\n",
    "\n",
    "    m_weights = 0\n",
    "    m_biases = 0\n",
    "\n",
    "    u_weights = 0\n",
    "    u_biases = 0\n",
    "\n",
    "    predic = []\n",
    "\n",
    "    for epochs in range(100):\n",
    "\n",
    "        pred = np.sum((weights * X).T) + biases\n",
    "        \n",
    "        loss = np.sum(pred - y)\n",
    "        losses.append(loss)\n",
    "\n",
    "        u_weights = rho * l_weights + (1 - rho) * (-2 * loss)\n",
    "        u_biases = rho * l_biases + (1 - rho) * (-2 * loss)\n",
    "\n",
    "        m_weights = momentum * m_weights + (1 - momentum) * loss\n",
    "        m_biases = momentum * m_biases + (1 - momentum) * loss\n",
    "        \n",
    "        if ema:pass\n",
    "\n",
    "        if clip_norm != None:\n",
    "\n",
    "            weights = np.clip(weights , weights , clip_norm)\n",
    "            biases = np.clip(biases , biases , clip_norm)\n",
    "\n",
    "        if clip_value != None:\n",
    "            \n",
    "            weights = np.clip(m_weigts , m_weights , clip_value)\n",
    "            biases = np.clip(m_biases , m_biases , clip_value)\n",
    "            \n",
    "        weights -= (1/np.sqrt(u_weights + epsilon) * 1 / np.sqrt(m_weights + epsilon)) * learning_rate\n",
    "        biases -= (1/np.sqrt(u_biases + epsilon) * 1 / np.sqrt(m_boases + epsilon)) * learning_rate\n",
    "\n",
    "    return weights , biases , losses"
   ]
  },
  {
   "cell_type": "markdown",
   "id": "5a84ca40",
   "metadata": {
    "papermill": {
     "duration": 0.028542,
     "end_time": "2023-04-29T09:31:44.018677",
     "exception": false,
     "start_time": "2023-04-29T09:31:43.990135",
     "status": "completed"
    },
    "tags": []
   },
   "source": [
    "# 3.1.8 | EMA Momentum\n",
    "\n",
    "In RMSprop, the exponential moving average (EMA) of the gradient with momentum is used to improve convergence and prevent oscillations during training. The EMA of the gradient with momentum is updated at each iteration and incorporates information about the previous gradients and the current gradient to produce a more stable and consistent update direction. This helps to smooth out the noise in the gradient estimates and helps the optimizer to move more directly towards the minimum of the loss function."
   ]
  },
  {
   "cell_type": "code",
   "execution_count": 48,
   "id": "68942850",
   "metadata": {
    "execution": {
     "iopub.execute_input": "2023-04-29T09:31:44.077217Z",
     "iopub.status.busy": "2023-04-29T09:31:44.076100Z",
     "iopub.status.idle": "2023-04-29T09:31:44.088764Z",
     "shell.execute_reply": "2023-04-29T09:31:44.087935Z"
    },
    "papermill": {
     "duration": 0.044378,
     "end_time": "2023-04-29T09:31:44.091043",
     "exception": false,
     "start_time": "2023-04-29T09:31:44.046665",
     "status": "completed"
    },
    "tags": []
   },
   "outputs": [],
   "source": [
    "def rms_prop(X , y , learning_rate = 0.01 , rho = 0.9 , momentum = 0 , epsilon = 1e-7 , clip_norm = None , clip_value = None , ema = False , ema_momentum = 0):\n",
    "    \n",
    "    weights = abs(np.random.randn(X.shape[1]))\n",
    "    biases = abs(np.random.randn(1))\n",
    "\n",
    "    m_weights = 0\n",
    "    m_biases = 0\n",
    "\n",
    "    u_weights = 0\n",
    "    u_biases = 0\n",
    "\n",
    "    predic = []\n",
    "\n",
    "    for epochs in range(100):\n",
    "\n",
    "        pred = np.sum((weights * X).T) + biases\n",
    "        \n",
    "        loss = np.sum(pred - y)\n",
    "        losses.append(loss)\n",
    "\n",
    "        u_weights = rho * l_weights + (1 - rho) * (-2 * loss)\n",
    "        u_biases = rho * l_biases + (1 - rho) * (-2 * loss)\n",
    "\n",
    "        m_weights = momentum * m_weights + (1 - momentum) * loss\n",
    "        m_biases = momentum * m_biases + (1 - momentum) * loss\n",
    "        \n",
    "        if ema:\n",
    "            \n",
    "            m_weights = ema_momentum * m_weights + (1 - ema_momentum) * -2 * loss\n",
    "            m_biases = ema_momentum * m_biases + (1 - ema_momentum) * -2 * loss\n",
    "\n",
    "        if clip_norm != None:\n",
    "\n",
    "            weights = np.clip(weights , weights , clip_norm)\n",
    "            biases = np.clip(biases , biases , clip_norm)\n",
    "\n",
    "        if clip_value != None:\n",
    "            \n",
    "            weights = np.clip(m_weigts , m_weights , clip_value)\n",
    "            biases = np.clip(m_biases , m_biases , clip_value)\n",
    "            \n",
    "        weights -= (1/np.sqrt(u_weights + epsilon) * 1 / np.sqrt(m_weights + epsilon)) * learning_rate\n",
    "        biases -= (1/np.sqrt(u_biases + epsilon) * 1 / np.sqrt(m_boases + epsilon)) * learning_rate\n",
    "\n",
    "    return weights , biases , losses"
   ]
  },
  {
   "cell_type": "markdown",
   "id": "94125571",
   "metadata": {
    "papermill": {
     "duration": 0.027853,
     "end_time": "2023-04-29T09:31:44.146969",
     "exception": false,
     "start_time": "2023-04-29T09:31:44.119116",
     "status": "completed"
    },
    "tags": []
   },
   "source": [
    "# 3.2 | Methods\n",
    "\n",
    "Now to add more functionalities, we will add different methods to our alogirthm, You can acces the list of methods we are going to use from the same link before we used for `Functionalities`. \n",
    "* ✅`build` - Initialize optimizer variables. SGD optimizer has one variable momentums, only set if self.momentum is not 0.\n",
    "* * ✅`weights` - Weights of the Optimizer\n",
    "* * ✅`biases` - biases of the Optimizer\n",
    "* ✅`compute_gradients` - Compute gradients of loss on trainable variables.\n",
    "* ✅`minimize` - Minimize loss by updating `var_list`.\n",
    "* ✅`update_step` - Update step given gradient and the associated model variable.\n",
    "\n",
    "**Note** - we will stop the function from being usable at some places\n",
    "\n",
    "# 3.2.1 | Build\n",
    "This method initializes all the values in the `rms_prop`, you can understand this as a constructor, but not perfectly as the one. \n",
    "\n",
    "We will give the user a functionality, that they can intialize there own variables. At the starting the `weights` and `baises` are `None`. If the user passes their own, the function first checks that they are or correct shape and if True assigns the values, else initialize random values "
   ]
  },
  {
   "cell_type": "code",
   "execution_count": 49,
   "id": "2c58ae96",
   "metadata": {
    "execution": {
     "iopub.execute_input": "2023-04-29T09:31:44.206173Z",
     "iopub.status.busy": "2023-04-29T09:31:44.205737Z",
     "iopub.status.idle": "2023-04-29T09:31:44.218605Z",
     "shell.execute_reply": "2023-04-29T09:31:44.217719Z"
    },
    "papermill": {
     "duration": 0.045334,
     "end_time": "2023-04-29T09:31:44.220857",
     "exception": false,
     "start_time": "2023-04-29T09:31:44.175523",
     "status": "completed"
    },
    "tags": []
   },
   "outputs": [],
   "source": [
    "class rms_prop:\n",
    "    def __init__(X , y , \n",
    "                 learning_rate = 0.01 , rho = 0.9 , \n",
    "                 momentum = 0 , epsilon = 1e-7 , \n",
    "                 clip_norm = None , clip_value = None , \n",
    "                 ema = False , ema_momentum = 0):\n",
    "        \n",
    "        self.X = X\n",
    "        self.y = y\n",
    "        self.learning_rate = learning_rate\n",
    "        self.rho = rho\n",
    "        self.momentum = momentum\n",
    "        self.epsilon = epsilon\n",
    "        self.clip_norm = clip-norm\n",
    "        self.ema = ema\n",
    "        self.ema_momentum = ema_momentum\n",
    "\n",
    "    def build(self , weights = None , biases = None):\n",
    "        \n",
    "        if weights == None:\n",
    "            \n",
    "            self.weights = abs(np.random.randn(self.X.shape[1]))\n",
    "        \n",
    "        else :\n",
    "            \n",
    "            if weights.shape[1] == self.X.shape[1]:\n",
    "                \n",
    "                self.weights = weights\n",
    "            \n",
    "            else :\n",
    "                \n",
    "                raise UserWarning(\"Shapes do not match. Using random variables\")\n",
    "                self.weights = abs(np.random.randn(self.X.shape[1]))\n",
    "\n",
    "        if biases == None:\n",
    "            \n",
    "            self.biases = abs(np.random.randn(1))\n",
    "        \n",
    "        else :\n",
    "            \n",
    "            if baises.shape[1] == 1:\n",
    "                \n",
    "                self.weights = weights\n",
    "            \n",
    "            else :\n",
    "                \n",
    "                raise UserWarning(\"Shapes do not match. Using random variables\")\n",
    "                self.weights = abs(np.random.randn(self.X.shape[1]))\n",
    "\n",
    "        self.m_weights = 0\n",
    "        self.m_biases = 0\n",
    "\n",
    "        self.u_weights = 0\n",
    "        self.u_biases = 0\n",
    "\n",
    "        self.predic = []\n",
    "\n",
    "    # for epochs in range(100):\n",
    "\n",
    "    #     pred = np.sum((weights * X).T) + biases\n",
    "        \n",
    "    #     loss = np.sum(pred - y)\n",
    "    #     losses.append(loss)\n",
    "\n",
    "    #     u_weights = rho * l_weights + (1 - rho) * (-2 * loss)\n",
    "    #     u_biases = rho * l_biases + (1 - rho) * (-2 * loss)\n",
    "\n",
    "    #     m_weights = momentum * m_weights + (1 - momentum) * loss\n",
    "    #     m_biases = momentum * m_biases + (1 - momentum) * loss\n",
    "        \n",
    "    #     if ema:\n",
    "            \n",
    "    #         m_weights = ema_momentum * m_weights + (1 - ema_momentum) * -2 * loss\n",
    "    #         m_biases = ema_momentum * m_biases + (1 - ema_momentum) * -2 * loss\n",
    "\n",
    "    #     if clip_norm != None:\n",
    "\n",
    "    #         weights = np.clip(weights , weights , clip_norm)\n",
    "    #         biases = np.clip(biases , biases , clip_norm)\n",
    "\n",
    "    #     if clip_value != None:\n",
    "            \n",
    "    #         weights = np.clip(m_weigts , m_weights , clip_value)\n",
    "    #         biases = np.clip(m_biases , m_biases , clip_value)\n",
    "            \n",
    "    #     weights -= (1/np.sqrt(u_weights + epsilon) * 1 / np.sqrt(m_weights + epsilon)) * learning_rate\n",
    "    #     biases -= (1/np.sqrt(u_biases + epsilon) * 1 / np.sqrt(m_boases + epsilon)) * learning_rate\n",
    "\n",
    "    # return weights , biases , losses"
   ]
  },
  {
   "cell_type": "markdown",
   "id": "8419fe16",
   "metadata": {
    "papermill": {
     "duration": 0.027766,
     "end_time": "2023-04-29T09:31:44.277261",
     "exception": false,
     "start_time": "2023-04-29T09:31:44.249495",
     "status": "completed"
    },
    "tags": []
   },
   "source": [
    "# 3.2.2 | Compute Gradients\n",
    "\n",
    "Compuute the loss function and gradients for the losses "
   ]
  },
  {
   "cell_type": "code",
   "execution_count": 50,
   "id": "dc0e729a",
   "metadata": {
    "execution": {
     "iopub.execute_input": "2023-04-29T09:31:44.336015Z",
     "iopub.status.busy": "2023-04-29T09:31:44.335333Z",
     "iopub.status.idle": "2023-04-29T09:31:44.349473Z",
     "shell.execute_reply": "2023-04-29T09:31:44.348461Z"
    },
    "papermill": {
     "duration": 0.046487,
     "end_time": "2023-04-29T09:31:44.351893",
     "exception": false,
     "start_time": "2023-04-29T09:31:44.305406",
     "status": "completed"
    },
    "tags": []
   },
   "outputs": [],
   "source": [
    "class rms_prop:\n",
    "    def __init__(X , y , \n",
    "                 learning_rate = 0.01 , rho = 0.9 , \n",
    "                 momentum = 0 , epsilon = 1e-7 , \n",
    "                 clip_norm = None , clip_value = None , \n",
    "                 ema = False , ema_momentum = 0):\n",
    "        \n",
    "        self.X = X\n",
    "        self.y = y\n",
    "        self.learning_rate = learning_rate\n",
    "        self.rho = rho\n",
    "        self.momentum = momentum\n",
    "        self.epsilon = epsilon\n",
    "        self.clip_norm = clip-norm\n",
    "        self.ema = ema\n",
    "        self.ema_momentum = ema_momentum\n",
    "\n",
    "    def build(self , weights = None , biases = None):\n",
    "        \n",
    "        if weights == None:\n",
    "            \n",
    "            self.weights = abs(np.random.randn(self.X.shape[1]))\n",
    "        \n",
    "        else :\n",
    "            \n",
    "            if weights.shape[1] == self.X.shape[1]:\n",
    "                \n",
    "                self.weights = weights\n",
    "            \n",
    "            else :\n",
    "                \n",
    "                raise UserWarning(\"Shapes do not match. Using random variables\")\n",
    "                self.weights = abs(np.random.randn(self.X.shape[1]))\n",
    "\n",
    "        if biases == None:\n",
    "            \n",
    "            self.biases = abs(np.random.randn(1))\n",
    "        \n",
    "        else :\n",
    "            \n",
    "            if baises.shape[1] == 1:\n",
    "                \n",
    "                self.weights = weights\n",
    "            \n",
    "            else :\n",
    "                \n",
    "                raise UserWarning(\"Shapes do not match. Using random variables\")\n",
    "                self.weights = abs(np.random.randn(self.X.shape[1]))\n",
    "\n",
    "        self.m_weights = 0\n",
    "        self.m_biases = 0\n",
    "\n",
    "        self.u_weights = 0\n",
    "        self.u_biases = 0\n",
    "\n",
    "        self.predic = []\n",
    "\n",
    "    def compute_gradients(self , weights , biases):\n",
    "\n",
    "        pred = np.sum((weights * X).T) + biases\n",
    "        \n",
    "        loss = np.sum(pred - y)\n",
    "        \n",
    "        yield loss\n",
    "        \n",
    "        losses.append(loss)\n",
    "\n",
    "    #     u_weights = rho * l_weights + (1 - rho) * (-2 * loss)\n",
    "    #     u_biases = rho * l_biases + (1 - rho) * (-2 * loss)\n",
    "\n",
    "    #     m_weights = momentum * m_weights + (1 - momentum) * loss\n",
    "    #     m_biases = momentum * m_biases + (1 - momentum) * loss\n",
    "        \n",
    "    #     if ema:\n",
    "            \n",
    "    #         m_weights = ema_momentum * m_weights + (1 - ema_momentum) * -2 * loss\n",
    "    #         m_biases = ema_momentum * m_biases + (1 - ema_momentum) * -2 * loss\n",
    "\n",
    "    #     if clip_norm != None:\n",
    "\n",
    "    #         weights = np.clip(weights , weights , clip_norm)\n",
    "    #         biases = np.clip(biases , biases , clip_norm)\n",
    "\n",
    "    #     if clip_value != None:\n",
    "            \n",
    "    #         weights = np.clip(m_weigts , m_weights , clip_value)\n",
    "    #         biases = np.clip(m_biases , m_biases , clip_value)\n",
    "            \n",
    "    #     weights -= (1/np.sqrt(u_weights + epsilon) * 1 / np.sqrt(m_weights + epsilon)) * learning_rate\n",
    "    #     biases -= (1/np.sqrt(u_biases + epsilon) * 1 / np.sqrt(m_boases + epsilon)) * learning_rate\n",
    "\n",
    "    # return weights , biases , losses"
   ]
  },
  {
   "cell_type": "markdown",
   "id": "2a8ef1b1",
   "metadata": {
    "papermill": {
     "duration": 0.02834,
     "end_time": "2023-04-29T09:31:44.408635",
     "exception": false,
     "start_time": "2023-04-29T09:31:44.380295",
     "status": "completed"
    },
    "tags": []
   },
   "source": [
    "# 3.2.3 | Minimize\n",
    "Minimze the loss values"
   ]
  },
  {
   "cell_type": "code",
   "execution_count": 51,
   "id": "acff5cf2",
   "metadata": {
    "execution": {
     "iopub.execute_input": "2023-04-29T09:31:44.466892Z",
     "iopub.status.busy": "2023-04-29T09:31:44.466485Z",
     "iopub.status.idle": "2023-04-29T09:31:44.483633Z",
     "shell.execute_reply": "2023-04-29T09:31:44.482600Z"
    },
    "papermill": {
     "duration": 0.049129,
     "end_time": "2023-04-29T09:31:44.485954",
     "exception": false,
     "start_time": "2023-04-29T09:31:44.436825",
     "status": "completed"
    },
    "tags": []
   },
   "outputs": [],
   "source": [
    "class rms_prop:\n",
    "    def __init__(X , y , \n",
    "                 learning_rate = 0.01 , rho = 0.9 , \n",
    "                 momentum = 0 , epsilon = 1e-7 , \n",
    "                 clip_norm = None , clip_value = None , \n",
    "                 ema = False , ema_momentum = 0):\n",
    "        \n",
    "        self.X = X\n",
    "        self.y = y\n",
    "        self.learning_rate = learning_rate\n",
    "        self.rho = rho\n",
    "        self.momentum = momentum\n",
    "        self.epsilon = epsilon\n",
    "        self.clip_norm = clip-norm\n",
    "        self.ema = ema\n",
    "        self.ema_momentum = ema_momentum\n",
    "\n",
    "    def build(self , weights = None , biases = None):\n",
    "        \n",
    "        if weights == None:\n",
    "            \n",
    "            self.weights = abs(np.random.randn(self.X.shape[1]))\n",
    "        \n",
    "        else :\n",
    "            \n",
    "            if weights.shape[1] == self.X.shape[1]:\n",
    "                \n",
    "                self.weights = weights\n",
    "            \n",
    "            else :\n",
    "                \n",
    "                raise UserWarning(\"Shapes do not match. Using random variables\")\n",
    "                self.weights = abs(np.random.randn(self.X.shape[1]))\n",
    "\n",
    "        if biases == None:\n",
    "            \n",
    "            self.biases = abs(np.random.randn(1))\n",
    "        \n",
    "        else :\n",
    "            \n",
    "            if baises.shape[1] == 1:\n",
    "                \n",
    "                self.weights = weights\n",
    "            \n",
    "            else :\n",
    "                \n",
    "                raise UserWarning(\"Shapes do not match. Using random variables\")\n",
    "                self.weights = abs(np.random.randn(self.X.shape[1]))\n",
    "\n",
    "        self.m_weights = 0\n",
    "        self.m_biases = 0\n",
    "\n",
    "        self.u_weights = 0\n",
    "        self.u_biases = 0\n",
    "\n",
    "        self.predic = []\n",
    "\n",
    "    def compute_gradients(self , weights , biases):\n",
    "\n",
    "        pred = np.sum((weights * X).T) + biases\n",
    "        \n",
    "        loss = np.sum(pred - y)\n",
    "        \n",
    "        yield loss\n",
    "        \n",
    "        losses.append(loss)\n",
    "\n",
    "    #     u_weights = rho * l_weights + (1 - rho) * (-2 * loss)\n",
    "    #     u_biases = rho * l_biases + (1 - rho) * (-2 * loss)\n",
    "\n",
    "    #     m_weights = momentum * m_weights + (1 - momentum) * loss\n",
    "    #     m_biases = momentum * m_biases + (1 - momentum) * loss\n",
    "        \n",
    "    #     if ema:\n",
    "            \n",
    "    #         m_weights = ema_momentum * m_weights + (1 - ema_momentum) * -2 * loss\n",
    "    #         m_biases = ema_momentum * m_biases + (1 - ema_momentum) * -2 * loss\n",
    "    def minimize(self):\n",
    "        \n",
    "        if self.clip_norm != None:\n",
    "\n",
    "            self.weights = np.clip(self.weights , self.weights , self.clip_norm)\n",
    "            self.biases = np.clip(self.biases , self.biases , self.clip_norm)\n",
    "\n",
    "        if self.clip_value != None:\n",
    "            \n",
    "            self.weights = np.clip(self.m_weights , self.m_weights , self.clip_value)\n",
    "            self.biases = np.clip(self.m_biases , self.m_biases , self.clip_value)\n",
    "            \n",
    "        self.weights -= (1/np.sqrt(self.u_weights + self.epsilon) * 1 / np.sqrt(self.m_weights + self.epsilon)) * learning_rate\n",
    "        self.biases -= (1/np.sqrt(self.u_biases + self.epsilon) * 1 / np.sqrt(self.m_biases + self.epsilon)) * learning_rate\n",
    "\n",
    "        return self.weights , self.biases , losses"
   ]
  },
  {
   "cell_type": "markdown",
   "id": "e7c8ae8f",
   "metadata": {
    "papermill": {
     "duration": 0.027766,
     "end_time": "2023-04-29T09:31:44.542369",
     "exception": false,
     "start_time": "2023-04-29T09:31:44.514603",
     "status": "completed"
    },
    "tags": []
   },
   "source": [
    "# 3.2.4 | Update_Step\n",
    "Update the values accordingly"
   ]
  },
  {
   "cell_type": "code",
   "execution_count": 52,
   "id": "b0b9e2b7",
   "metadata": {
    "execution": {
     "iopub.execute_input": "2023-04-29T09:31:44.601078Z",
     "iopub.status.busy": "2023-04-29T09:31:44.600656Z",
     "iopub.status.idle": "2023-04-29T09:31:44.620994Z",
     "shell.execute_reply": "2023-04-29T09:31:44.619549Z"
    },
    "papermill": {
     "duration": 0.052634,
     "end_time": "2023-04-29T09:31:44.623468",
     "exception": false,
     "start_time": "2023-04-29T09:31:44.570834",
     "status": "completed"
    },
    "tags": []
   },
   "outputs": [],
   "source": [
    "class rms_prop:\n",
    "    def __init__(X , y , \n",
    "                 learning_rate = 0.01 , rho = 0.9 , \n",
    "                 momentum = 0 , epsilon = 1e-7 , \n",
    "                 clip_norm = None , clip_value = None , \n",
    "                 ema = False , ema_momentum = 0):\n",
    "        \n",
    "        self.X = X\n",
    "        self.y = y\n",
    "        self.learning_rate = learning_rate\n",
    "        self.rho = rho\n",
    "        self.momentum = momentum\n",
    "        self.epsilon = epsilon\n",
    "        self.clip_norm = clip-norm\n",
    "        self.ema = ema\n",
    "        self.ema_momentum = ema_momentum\n",
    "\n",
    "    def build(self , weights = None , biases = None):\n",
    "        \n",
    "        if weights == None:\n",
    "            \n",
    "            self.weights = abs(np.random.randn(self.X.shape[1]))\n",
    "        \n",
    "        else :\n",
    "            \n",
    "            if weights.shape[1] == self.X.shape[1]:\n",
    "                \n",
    "                self.weights = weights\n",
    "            \n",
    "            else :\n",
    "                \n",
    "                raise UserWarning(\"Shapes do not match. Using random variables\")\n",
    "                self.weights = abs(np.random.randn(self.X.shape[1]))\n",
    "\n",
    "        if biases == None:\n",
    "            \n",
    "            self.biases = abs(np.random.randn(1))\n",
    "        \n",
    "        else :\n",
    "            \n",
    "            if baises.shape[1] == 1:\n",
    "                \n",
    "                self.weights = weights\n",
    "            \n",
    "            else :\n",
    "                \n",
    "                raise UserWarning(\"Shapes do not match. Using random variables\")\n",
    "                self.weights = abs(np.random.randn(self.X.shape[1]))\n",
    "\n",
    "        self.m_weights = 0\n",
    "        self.m_biases = 0\n",
    "\n",
    "        self.u_weights = 0\n",
    "        self.u_biases = 0\n",
    "\n",
    "        self.predic = []\n",
    "\n",
    "    def compute_gradients(self , weights , biases):\n",
    "\n",
    "        pred = np.sum((weights * X).T) + biases\n",
    "        \n",
    "        loss = np.sum(pred - y)\n",
    "        \n",
    "        yield loss\n",
    "        \n",
    "        losses.append(loss)\n",
    "    def update_step(self , loss):\n",
    "        \n",
    "        self.u_weights = self.rho * self.u_weights + (1 - self.rho) * (-2 * loss)\n",
    "        self.u_biases = self.rho * self.u_biases + (1 - self.rho) * (-2 * loss)\n",
    "\n",
    "        self.m_weights = self.momentum * self.m_weights + (1 - self.momentum) * loss\n",
    "        self.m_biases = self.momentum * self.m_biases + (1 - self.momentum) * loss\n",
    "        \n",
    "        if self.ema:\n",
    "            \n",
    "            self.m_weights = self.ema_momentum * self.m_weights + (1 - self.ema_momentum) * -2 * loss\n",
    "            self.m_biases = self.ema_momentum * self.m_biases + (1 - self.ema_momentum) * -2 * loss\n",
    "    \n",
    "    def minimize(self):\n",
    "        \n",
    "        if self.clip_norm != None:\n",
    "\n",
    "            self.weights = np.clip(self.weights , self.weights , self.clip_norm)\n",
    "            self.biases = np.clip(self.biases , self.biases , self.clip_norm)\n",
    "\n",
    "        if self.clip_value != None:\n",
    "            \n",
    "            self.weights = np.clip(m_weigts , self.m_weights , self.clip_value)\n",
    "            self.biases = np.clip(self.m_biases , self.m_biases , self.clip_value)\n",
    "            \n",
    "        self.weights -= (1/np.sqrt(self.u_weights + self.epsilon) * 1 / np.sqrt(self.m_weights + self.epsilon)) * self.learning_rate\n",
    "        self.biases -= (1/np.sqrt(self.u_biases + self.epsilon) * 1 / np.sqrt(self.m_biases + self.epsilon)) * self.learning_rate\n",
    "\n",
    "        return self.weights , self.biases , losses"
   ]
  },
  {
   "cell_type": "markdown",
   "id": "7bb99ebe",
   "metadata": {
    "papermill": {
     "duration": 0.027612,
     "end_time": "2023-04-29T09:31:44.680004",
     "exception": false,
     "start_time": "2023-04-29T09:31:44.652392",
     "status": "completed"
    },
    "tags": []
   },
   "source": [
    "# 3.2 | RMSProp Final Source Code"
   ]
  },
  {
   "cell_type": "code",
   "execution_count": 53,
   "id": "ec0e3851",
   "metadata": {
    "execution": {
     "iopub.execute_input": "2023-04-29T09:31:44.738922Z",
     "iopub.status.busy": "2023-04-29T09:31:44.738476Z",
     "iopub.status.idle": "2023-04-29T09:31:44.759132Z",
     "shell.execute_reply": "2023-04-29T09:31:44.757971Z"
    },
    "papermill": {
     "duration": 0.053112,
     "end_time": "2023-04-29T09:31:44.761430",
     "exception": false,
     "start_time": "2023-04-29T09:31:44.708318",
     "status": "completed"
    },
    "tags": []
   },
   "outputs": [],
   "source": [
    "class rms_prop:\n",
    "    def __init__(X , y , \n",
    "                 learning_rate = 0.01 , rho = 0.9 , \n",
    "                 momentum = 0 , epsilon = 1e-7 , \n",
    "                 clip_norm = None , clip_value = None , \n",
    "                 ema = False , ema_momentum = 0):\n",
    "        \n",
    "        self.X = X\n",
    "        self.y = y\n",
    "        self.learning_rate = learning_rate\n",
    "        self.rho = rho\n",
    "        self.momentum = momentum\n",
    "        self.epsilon = epsilon\n",
    "        self.clip_norm = clip-norm\n",
    "        self.ema = ema\n",
    "        self.ema_momentum = ema_momentum\n",
    "\n",
    "    def build(self , weights = None , biases = None):\n",
    "        \n",
    "        if weights == None:\n",
    "            \n",
    "            self.weights = abs(np.random.randn(self.X.shape[1]))\n",
    "        \n",
    "        else :\n",
    "            \n",
    "            if weights.shape[1] == self.X.shape[1]:\n",
    "                \n",
    "                self.weights = weights\n",
    "            \n",
    "            else :\n",
    "                \n",
    "                raise UserWarning(\"Shapes do not match. Using random variables\")\n",
    "                self.weights = abs(np.random.randn(self.X.shape[1]))\n",
    "\n",
    "        if biases == None:\n",
    "            \n",
    "            self.biases = abs(np.random.randn(1))\n",
    "        \n",
    "        else :\n",
    "            \n",
    "            if baises.shape[1] == 1:\n",
    "                \n",
    "                self.weights = weights\n",
    "            \n",
    "            else :\n",
    "                \n",
    "                raise UserWarning(\"Shapes do not match. Using random variables\")\n",
    "                self.weights = abs(np.random.randn(self.X.shape[1]))\n",
    "\n",
    "        self.m_weights = 0\n",
    "        self.m_biases = 0\n",
    "\n",
    "        self.u_weights = 0\n",
    "        self.u_biases = 0\n",
    "\n",
    "        self.predic = []\n",
    "\n",
    "    def compute_gradients(self , weights , biases):\n",
    "\n",
    "        pred = np.sum((weights * X).T) + biases\n",
    "        \n",
    "        loss = np.sum(pred - y)\n",
    "        \n",
    "        yield loss\n",
    "        \n",
    "        losses.append(loss)\n",
    "    def update_step(self , loss):\n",
    "        \n",
    "        self.u_weights = self.rho * self.u_weights + (1 - self.rho) * (-2 * loss)\n",
    "        self.u_biases = self.rho * self.u_biases + (1 - self.rho) * (-2 * loss)\n",
    "\n",
    "        self.m_weights = self.momentum * self.m_weights + (1 - self.momentum) * loss\n",
    "        self.m_biases = self.momentum * self.m_biases + (1 - self.momentum) * loss\n",
    "        \n",
    "        if self.ema:\n",
    "            \n",
    "            self.m_weights = self.ema_momentum * self.m_weights + (1 - self.ema_momentum) * -2 * loss\n",
    "            self.m_biases = self.ema_momentum * self.m_biases + (1 - self.ema_momentum) * -2 * loss\n",
    "    \n",
    "    def minimize(self):\n",
    "        \n",
    "        if self.clip_norm != None:\n",
    "\n",
    "            self.weights = np.clip(self.weights , self.weights , self.clip_norm)\n",
    "            self.biases = np.clip(self.biases , self.biases , self.clip_norm)\n",
    "\n",
    "        if self.clip_value != None:\n",
    "            \n",
    "            self.weights = np.clip(m_weigts , self.m_weights , self.clip_value)\n",
    "            self.biases = np.clip(self.m_biases , self.m_biases , self.clip_value)\n",
    "            \n",
    "        self.weights -= (1/np.sqrt(self.u_weights + self.epsilon) * 1 / np.sqrt(self.m_weights + self.epsilon)) * self.learning_rate\n",
    "        self.biases -= (1/np.sqrt(self.u_biases + self.epsilon) * 1 / np.sqrt(self.m_biases + self.epsilon)) * self.learning_rate\n",
    "\n",
    "        return self.weights , self.biases , losses"
   ]
  },
  {
   "cell_type": "markdown",
   "id": "2cf096ba",
   "metadata": {
    "papermill": {
     "duration": 0.028016,
     "end_time": "2023-04-29T09:31:44.817879",
     "exception": false,
     "start_time": "2023-04-29T09:31:44.789863",
     "status": "completed"
    },
    "tags": []
   },
   "source": [
    "# 4 | AdaGrad\n",
    "\n",
    "So what the hell is this `adagrad` and why do we even use it. Frankly speaking I dont know a good explanation but what is have learnt is `RMS_Prop` uses the average of shorter list of gradients that were previously used, whereas `adagrad` uses all the list of previous gradients. \n",
    "\n",
    "Though it has a similar formula....\n",
    "****\n",
    "$$w = \\frac {\\alpha g_{n-1}}{\\sqrt{g_n + e}}$$\n",
    "****\n",
    "\n",
    "Remember the code we had for the first time we created `SGD`...?\n",
    "\n",
    "We can somewhat tweek that a little bit to make it working for `AdaGrad`"
   ]
  },
  {
   "cell_type": "code",
   "execution_count": 54,
   "id": "2d3536e4",
   "metadata": {
    "execution": {
     "iopub.execute_input": "2023-04-29T09:31:44.875995Z",
     "iopub.status.busy": "2023-04-29T09:31:44.875228Z",
     "iopub.status.idle": "2023-04-29T09:31:44.882732Z",
     "shell.execute_reply": "2023-04-29T09:31:44.881472Z"
    },
    "papermill": {
     "duration": 0.03899,
     "end_time": "2023-04-29T09:31:44.884931",
     "exception": false,
     "start_time": "2023-04-29T09:31:44.845941",
     "status": "completed"
    },
    "tags": []
   },
   "outputs": [],
   "source": [
    "def adagrad(X , y):\n",
    "    \n",
    "    weights = abs(np.random.randn(X.shape[1]))\n",
    "    biases = abs(np.random.randn(1))\n",
    "\n",
    "    losses = []\n",
    "\n",
    "    for _ in range(100):\n",
    "\n",
    "        pred = np.sum((weights * X).T) + biases\n",
    "        \n",
    "        loss = np.sum((pred - y) ** 2)\n",
    "        losses.append(loss)\n",
    "        \n",
    "        weights -= -2 * loss * 0.01\n",
    "        biases -= -2 * loss * 0.01\n",
    "\n",
    "    return weights , biases , losses"
   ]
  },
  {
   "cell_type": "markdown",
   "id": "d6d9cc5f",
   "metadata": {
    "papermill": {
     "duration": 0.027907,
     "end_time": "2023-04-29T09:31:44.940915",
     "exception": false,
     "start_time": "2023-04-29T09:31:44.913008",
     "status": "completed"
    },
    "tags": []
   },
   "source": [
    "Till now we were using the previously used `m_weights` or any other variable to update itself. We can use this approach here too, but there we only needed the updated part not the previous part, but according to the formula, we need both the parts. One was of doing this is to create a list that stores the value of all the `gradients`. But we can make this soluiton more effective. Even in the list we need to look up at the two consecutive values only. not the whole list. Lets assume we need to update the value parameters of the index `n`. for that we need only the gradients at index `n` and `n-1`. we do not need othet indexes like `n+1` or `n-2`. We can assume that we are iterating over a list where the window size is only of $2$ indexes. To make this more simple, what we can do is to make a list of $2$ indexes only. At first both are $0$. When we update the grdient of index $1$, and use the gradients of index $0$ and $1$ in the parameter update process, then we can replace the gradient at $0$ with $1$ and then compute for, say $2$ and then repeat the same process. This looks more simpler when you look at the code"
   ]
  },
  {
   "cell_type": "code",
   "execution_count": 55,
   "id": "1a89bbac",
   "metadata": {
    "execution": {
     "iopub.execute_input": "2023-04-29T09:31:44.999993Z",
     "iopub.status.busy": "2023-04-29T09:31:44.999569Z",
     "iopub.status.idle": "2023-04-29T09:31:45.008299Z",
     "shell.execute_reply": "2023-04-29T09:31:45.007416Z"
    },
    "papermill": {
     "duration": 0.04128,
     "end_time": "2023-04-29T09:31:45.010657",
     "exception": false,
     "start_time": "2023-04-29T09:31:44.969377",
     "status": "completed"
    },
    "tags": []
   },
   "outputs": [],
   "source": [
    "def adagrad(X , y):\n",
    "    \n",
    "    weights = abs(np.random.randn(X.shape[1]))\n",
    "    biases = abs(np.random.randn(1))\n",
    "\n",
    "    losses = []\n",
    "    grad = [0] * 2 # Intialize of only 2 elements\n",
    "\n",
    "    for _ in range(100):\n",
    "\n",
    "        pred = np.sum((weights * X).T) + biases\n",
    "        \n",
    "        loss = np.sum((pred - y) ** 2)\n",
    "        losses.append(loss)\n",
    "        \n",
    "        grad[1] = -2 * loss # calculate the gradient for 1 epoch\n",
    "        \n",
    "        weights -= np.sqrt(-1 / (grad[1] + 1e-7)) * grad[0] * 0.01#|Update the weights using gradient \n",
    "        biases -= np.sqrt(-1 / (grad[1] + 1e-7)) * grad[0] * 0.01#-|\n",
    "\n",
    "        grad[1] = grad[0] # Replace the 1 gradient with 0 and move on \n",
    "\n",
    "    return weights , biases , losses"
   ]
  },
  {
   "cell_type": "markdown",
   "id": "3f1967b6",
   "metadata": {
    "papermill": {
     "duration": 0.030036,
     "end_time": "2023-04-29T09:31:45.069367",
     "exception": false,
     "start_time": "2023-04-29T09:31:45.039331",
     "status": "completed"
    },
    "tags": []
   },
   "source": [
    "# 4.1 | Functionalities\n",
    "Now lets add some functionalieties to our code as we did before to make it more usable\n",
    "* ✅`learning_rate` - Initial value for the learning rate: either a floating point value, or a **[tf](https://www.tensorflow.org/)=>[keras](https://keras.io/)=>[optimizers](https://www.tensorflow.org/api_docs/python/tf/keras/optimizers)=>[schedules](https://www.tensorflow.org/api_docs/python/tf/keras/optimizers/schedules)=>[LearningRateSchedule](https://www.tensorflow.org/api_docs/python/tf/keras/optimizers/schedules/LearningRateSchedule)** instance. Defaults to $0.001$.\n",
    "* ✅`epsilon` - A small constant for numerical stability. This epsilon is \"epsilon hat\" in the Kingma and Ba paper (in the formula just before Section 2.1), not the epsilon in Algorithm 1 of the paper. Defaults to $1e-7$.\n",
    "* ✅`weight_decay` - Float, defaults to None. If set, weight decay is applied.\n",
    "* ✅`clipnorm` - Float. If set, the gradient of each weight is individually clipped so that its norm is no higher than this value.\n",
    "* ✅`clipvalue` - Float. If set, the gradient of each weight is clipped to be no higher than this value.\n",
    "* ✅`use_ema` - \tBoolean, defaults to False. If True, exponential moving average (EMA) is applied. EMA consists of computing an exponential moving average of the weights of the model (as the weight values change after each training batch), and periodically overwriting the weights with their moving average.\n",
    "* ✅`ema_overwrite_frequency` - Int or None, defaults to None. Only used if use_ema=True. Every ema_overwrite_frequency steps of iterations, we overwrite the model variable by its moving average. If None, the optimizer does not overwrite model variables in the middle of training, and you need to explicitly overwrite the variables at the end of training by calling optimizer.finalize_variable_values() (which updates the model variables in-place). When using the built-in fit() training loop, this happens automatically after the last epoch, and you don't need to do anything.\n",
    "\n",
    "# 4.1.1 | Learning Rate\n",
    "\n",
    "It is the learning rate with how the model learns, we had a discussion about this when we were creating the `SGD`. Just scroll a little up and you will find that "
   ]
  },
  {
   "cell_type": "code",
   "execution_count": 56,
   "id": "7360ce12",
   "metadata": {
    "execution": {
     "iopub.execute_input": "2023-04-29T09:31:45.129105Z",
     "iopub.status.busy": "2023-04-29T09:31:45.128703Z",
     "iopub.status.idle": "2023-04-29T09:31:45.137610Z",
     "shell.execute_reply": "2023-04-29T09:31:45.136336Z"
    },
    "papermill": {
     "duration": 0.040788,
     "end_time": "2023-04-29T09:31:45.140029",
     "exception": false,
     "start_time": "2023-04-29T09:31:45.099241",
     "status": "completed"
    },
    "tags": []
   },
   "outputs": [],
   "source": [
    "def adagrad(X , y , learning_rate = 0.01):\n",
    "    \n",
    "    weights = abs(np.random.randn(X.shape[1]))\n",
    "    biases = abs(np.random.randn(1))\n",
    "\n",
    "    losses = []\n",
    "    grad = [0] * 2\n",
    "\n",
    "    for _ in range(100):\n",
    "\n",
    "        pred = np.sum((weights * X).T) + biases\n",
    "        \n",
    "        loss = np.sum((pred - y) ** 2)\n",
    "        losses.append(loss)\n",
    "        \n",
    "        grad[1] = -2 * loss\n",
    "        \n",
    "        weights -= np.sqrt(-1 / (grad[1] + 1e-7)) * grad[0] * learning_rate \n",
    "        biases -= np.sqrt(-1 / (grad[1] + 1e-7)) * grad[0] * learning_rate\n",
    "\n",
    "        grad[1] = grad[0]\n",
    "\n",
    "    return weights , biases , losses"
   ]
  },
  {
   "cell_type": "markdown",
   "id": "6e2c4355",
   "metadata": {
    "papermill": {
     "duration": 0.028394,
     "end_time": "2023-04-29T09:31:45.196768",
     "exception": false,
     "start_time": "2023-04-29T09:31:45.168374",
     "status": "completed"
    },
    "tags": []
   },
   "source": [
    "# 4.1.4 | Epsilon\n",
    "\n",
    "In RMSprop, epsilon is a small constant used to prevent division by zero and improve numerical stability during the calculation of the adaptive learning rate. It is added to the denominator of the weight update equation to ensure that the divisor is always positive. Epsilon is typically set to a small value, such as 1e-8, and has a minimal impact on the optimization process."
   ]
  },
  {
   "cell_type": "code",
   "execution_count": 57,
   "id": "cbebb8b7",
   "metadata": {
    "execution": {
     "iopub.execute_input": "2023-04-29T09:31:45.255577Z",
     "iopub.status.busy": "2023-04-29T09:31:45.254834Z",
     "iopub.status.idle": "2023-04-29T09:31:45.262651Z",
     "shell.execute_reply": "2023-04-29T09:31:45.261839Z"
    },
    "papermill": {
     "duration": 0.039905,
     "end_time": "2023-04-29T09:31:45.264776",
     "exception": false,
     "start_time": "2023-04-29T09:31:45.224871",
     "status": "completed"
    },
    "tags": []
   },
   "outputs": [],
   "source": [
    "def adagrad(X , y , learning_rate = 0.01 , epsilon = 1e-7):\n",
    "    \n",
    "    weights = abs(np.random.randn(X.shape[1]))\n",
    "    biases = abs(np.random.randn(1))\n",
    "\n",
    "    losses = []\n",
    "    grad = [0] * 2\n",
    "\n",
    "    for _ in range(100):\n",
    "\n",
    "        pred = np.sum((weights * X).T) + biases\n",
    "        \n",
    "        loss = np.sum((pred - y) ** 2)\n",
    "        losses.append(loss)\n",
    "        \n",
    "        grad[1] = -2 * loss\n",
    "        \n",
    "        weights -= np.sqrt(-1 / (grad[1] + epsilon)) * grad[0] * learning_rate \n",
    "        biases -= np.sqrt(-1 / (grad[1] + epsilon)) * grad[0] * learning_rate\n",
    "\n",
    "        grad[1] = grad[0]\n",
    "\n",
    "    return weights , biases , losses"
   ]
  },
  {
   "cell_type": "markdown",
   "id": "0555c507",
   "metadata": {
    "papermill": {
     "duration": 0.028106,
     "end_time": "2023-04-29T09:31:45.321143",
     "exception": false,
     "start_time": "2023-04-29T09:31:45.293037",
     "status": "completed"
    },
    "tags": []
   },
   "source": [
    "# 4.1.5 | Clipnorm\n",
    "The `clipnorm` parameter in `RMSprop` is used to prevent the gradient from becoming too large during training, which can cause instability or divergence. When clipnorm is set, the gradient is clipped to a maximum norm value, effectively scaling the gradient if its norm exceeds the specified value. This helps to ensure that the updates to the weights are not too large and that the optimization process remains stable."
   ]
  },
  {
   "cell_type": "code",
   "execution_count": 58,
   "id": "fc293485",
   "metadata": {
    "execution": {
     "iopub.execute_input": "2023-04-29T09:31:45.379840Z",
     "iopub.status.busy": "2023-04-29T09:31:45.379102Z",
     "iopub.status.idle": "2023-04-29T09:31:45.387654Z",
     "shell.execute_reply": "2023-04-29T09:31:45.386851Z"
    },
    "papermill": {
     "duration": 0.040615,
     "end_time": "2023-04-29T09:31:45.389782",
     "exception": false,
     "start_time": "2023-04-29T09:31:45.349167",
     "status": "completed"
    },
    "tags": []
   },
   "outputs": [],
   "source": [
    "def adagrad(X , y , learning_rate = 0.01 , epsilon = 1e-7 , clip_norm = None):\n",
    "    \n",
    "    weights = abs(np.random.randn(X.shape[1]))\n",
    "    biases = abs(np.random.randn(1))\n",
    "\n",
    "    losses = []\n",
    "    grad = [0] * 2\n",
    "\n",
    "    for _ in range(100):\n",
    "\n",
    "        pred = np.sum((weights * X).T) + biases\n",
    "        \n",
    "        loss = np.sum((pred - y) ** 2)\n",
    "        losses.append(loss)\n",
    "        \n",
    "        grad[1] = -2 * loss\n",
    "\n",
    "        if clip_norm != None:\n",
    "            \n",
    "            weights = np.clip(weights , weights , clip_norm)\n",
    "            biases = np.clip(biases , biases , clip_norm)\n",
    "        \n",
    "        weights -= np.sqrt(-1 / (grad[1] + epsilon)) * grad[0] * learning_rate \n",
    "        biases -= np.sqrt(-1 / (grad[1] + epsilon)) * grad[0] * learning_rate\n",
    "\n",
    "        grad[1] = grad[0]\n",
    "\n",
    "    return weights , biases , losses"
   ]
  },
  {
   "cell_type": "markdown",
   "id": "dc73b17e",
   "metadata": {
    "papermill": {
     "duration": 0.027768,
     "end_time": "2023-04-29T09:31:45.445877",
     "exception": false,
     "start_time": "2023-04-29T09:31:45.418109",
     "status": "completed"
    },
    "tags": []
   },
   "source": [
    "# 4.1.6 | Clip Value\n",
    "\n",
    "If the gradient is larger than the clipvalue threshold, it will be clipped to that value. If the gradient is smaller than the negative clipvalue threshold, it will be clipped to that negative value. This ensures that the gradient remains within a certain range, which can prevent numerical instability and improve convergence."
   ]
  },
  {
   "cell_type": "code",
   "execution_count": 59,
   "id": "a6c36ef5",
   "metadata": {
    "execution": {
     "iopub.execute_input": "2023-04-29T09:31:45.503797Z",
     "iopub.status.busy": "2023-04-29T09:31:45.503079Z",
     "iopub.status.idle": "2023-04-29T09:31:45.511941Z",
     "shell.execute_reply": "2023-04-29T09:31:45.511115Z"
    },
    "papermill": {
     "duration": 0.040325,
     "end_time": "2023-04-29T09:31:45.514080",
     "exception": false,
     "start_time": "2023-04-29T09:31:45.473755",
     "status": "completed"
    },
    "tags": []
   },
   "outputs": [],
   "source": [
    "def adagrad(X , y , learning_rate = 0.01 , epsilon = 1e-7 , clip_norm = None , clip_value = None):\n",
    "    \n",
    "    weights = abs(np.random.randn(X.shape[1]))\n",
    "    biases = abs(np.random.randn(1))\n",
    "\n",
    "    losses = []\n",
    "    grad = np.zeros(2)\n",
    "\n",
    "    for _ in range(100):\n",
    "\n",
    "        pred = np.sum((weights * X).T) + biases\n",
    "        \n",
    "        loss = np.sum((pred - y) ** 2)\n",
    "        losses.append(loss)\n",
    "        \n",
    "        grad[1] = -2 * loss\n",
    "\n",
    "        if clip_norm != None:\n",
    "            \n",
    "            weights = np.clip(weights , weights , clip_norm)\n",
    "            biases = np.clip(biases , biases , clip_norm)\n",
    "\n",
    "        if clip_value != None:\n",
    "\n",
    "            grad = np.clip(grad , grad , clip_value)\n",
    "        \n",
    "        weights -= np.sqrt(-1 / (grad[1] + epsilon)) * grad[0] * learning_rate \n",
    "        biases -= np.sqrt(-1 / (grad[1] + epsilon)) * grad[0] * learning_rate\n",
    "\n",
    "        grad[1] = grad[0]\n",
    "\n",
    "    return weights , biases , losses"
   ]
  },
  {
   "cell_type": "markdown",
   "id": "d3ed73c5",
   "metadata": {
    "papermill": {
     "duration": 0.02961,
     "end_time": "2023-04-29T09:31:45.573238",
     "exception": false,
     "start_time": "2023-04-29T09:31:45.543628",
     "status": "completed"
    },
    "tags": []
   },
   "source": [
    "# 4.1.7 EMA\n",
    "\n",
    "Wether to use the estimated momentum average or not. The major use of this function is when `ema_momentum` is given "
   ]
  },
  {
   "cell_type": "code",
   "execution_count": 60,
   "id": "866f832f",
   "metadata": {
    "execution": {
     "iopub.execute_input": "2023-04-29T09:31:45.631385Z",
     "iopub.status.busy": "2023-04-29T09:31:45.630635Z",
     "iopub.status.idle": "2023-04-29T09:31:45.639886Z",
     "shell.execute_reply": "2023-04-29T09:31:45.639085Z"
    },
    "papermill": {
     "duration": 0.041038,
     "end_time": "2023-04-29T09:31:45.642158",
     "exception": false,
     "start_time": "2023-04-29T09:31:45.601120",
     "status": "completed"
    },
    "tags": []
   },
   "outputs": [],
   "source": [
    "def adagrad(X , y , learning_rate = 0.01 , epsilon = 1e-7 , clip_norm = None , clip_value = None , ema = False):\n",
    "    \n",
    "    weights = abs(np.random.randn(X.shape[1]))\n",
    "    biases = abs(np.random.randn(1))\n",
    "\n",
    "    losses = []\n",
    "    grad = np.zeros(2)\n",
    "\n",
    "    for _ in range(100):\n",
    "\n",
    "        pred = np.sum((weights * X).T) + biases\n",
    "        \n",
    "        loss = np.sum((pred - y) ** 2)\n",
    "        losses.append(loss)\n",
    "        \n",
    "        grad[1] = -2 * loss\n",
    "\n",
    "        if ema: pass\n",
    "\n",
    "        if clip_norm != None:\n",
    "            \n",
    "            weights = np.clip(weights , weights , clip_norm)\n",
    "            biases = np.clip(biases , biases , clip_norm)\n",
    "\n",
    "        if clip_value != None:\n",
    "\n",
    "            grad = np.clip(grad , grad , clip_value)\n",
    "        \n",
    "        weights -= np.sqrt(-1 / (grad[1] + epsilon)) * grad[0] * learning_rate \n",
    "        biases -= np.sqrt(-1 / (grad[1] + epsilon)) * grad[0] * learning_rate\n",
    "\n",
    "        grad[1] = grad[0]\n",
    "\n",
    "    return weights , biases , losses"
   ]
  },
  {
   "cell_type": "markdown",
   "id": "bd66f540",
   "metadata": {
    "papermill": {
     "duration": 0.027525,
     "end_time": "2023-04-29T09:31:45.697697",
     "exception": false,
     "start_time": "2023-04-29T09:31:45.670172",
     "status": "completed"
    },
    "tags": []
   },
   "source": [
    "# 4.1.8 | EMA Momentum\n",
    "\n",
    "In RMSprop, the exponential moving average (EMA) of the gradient with momentum is used to improve convergence and prevent oscillations during training. The EMA of the gradient with momentum is updated at each iteration and incorporates information about the previous gradients and the current gradient to produce a more stable and consistent update direction. This helps to smooth out the noise in the gradient estimates and helps the optimizer to move more directly towards the minimum of the loss function."
   ]
  },
  {
   "cell_type": "code",
   "execution_count": 61,
   "id": "94bb1ee9",
   "metadata": {
    "execution": {
     "iopub.execute_input": "2023-04-29T09:31:45.756038Z",
     "iopub.status.busy": "2023-04-29T09:31:45.755278Z",
     "iopub.status.idle": "2023-04-29T09:31:45.764966Z",
     "shell.execute_reply": "2023-04-29T09:31:45.764084Z"
    },
    "papermill": {
     "duration": 0.04136,
     "end_time": "2023-04-29T09:31:45.767245",
     "exception": false,
     "start_time": "2023-04-29T09:31:45.725885",
     "status": "completed"
    },
    "tags": []
   },
   "outputs": [],
   "source": [
    "def adagrad(X , y , learning_rate = 0.01 , epsilon = 1e-7 , clip_norm = None , clip_value = None , ema = False):\n",
    "    \n",
    "    weights = abs(np.random.randn(X.shape[1]))\n",
    "    biases = abs(np.random.randn(1))\n",
    "\n",
    "    losses = []\n",
    "    grad = np.zeros(2)\n",
    "\n",
    "    for _ in range(100):\n",
    "\n",
    "        pred = np.sum((weights * X).T) + biases\n",
    "        \n",
    "        loss = np.sum((pred - y) ** 2)\n",
    "        losses.append(loss)\n",
    "        \n",
    "        grad[1] = -2 * loss\n",
    "\n",
    "        if ema: \n",
    "\n",
    "            grad = ema_momentum * grad + (1 - ema_momentum) * grad\n",
    "\n",
    "        if clip_norm != None:\n",
    "            \n",
    "            weights = np.clip(weights , weights , clip_norm)\n",
    "            biases = np.clip(biases , biases , clip_norm)\n",
    "\n",
    "        if clip_value != None:\n",
    "\n",
    "            grad = np.clip(grad , grad , clip_value)\n",
    "        \n",
    "        weights -= np.sqrt(-1 / (grad[1] + epsilon)) * grad[0] * learning_rate \n",
    "        biases -= np.sqrt(-1 / (grad[1] + epsilon)) * grad[0] * learning_rate\n",
    "\n",
    "        grad[1] = grad[0]\n",
    "\n",
    "    return weights , biases , losses"
   ]
  },
  {
   "cell_type": "markdown",
   "id": "beaf40a3",
   "metadata": {
    "papermill": {
     "duration": 0.028567,
     "end_time": "2023-04-29T09:31:45.885910",
     "exception": false,
     "start_time": "2023-04-29T09:31:45.857343",
     "status": "completed"
    },
    "tags": []
   },
   "source": [
    "# 4.2 | AdaGrad Fina Source Code"
   ]
  },
  {
   "cell_type": "code",
   "execution_count": 62,
   "id": "97b35224",
   "metadata": {
    "execution": {
     "iopub.execute_input": "2023-04-29T09:31:45.945516Z",
     "iopub.status.busy": "2023-04-29T09:31:45.944775Z",
     "iopub.status.idle": "2023-04-29T09:31:45.954287Z",
     "shell.execute_reply": "2023-04-29T09:31:45.953449Z"
    },
    "papermill": {
     "duration": 0.041474,
     "end_time": "2023-04-29T09:31:45.956398",
     "exception": false,
     "start_time": "2023-04-29T09:31:45.914924",
     "status": "completed"
    },
    "tags": []
   },
   "outputs": [],
   "source": [
    "def adagrad(X , y , learning_rate = 0.01 , epsilon = 1e-7 , clip_norm = None , clip_value = None , ema = False):\n",
    "    \n",
    "    weights = abs(np.random.randn(X.shape[1]))\n",
    "    biases = abs(np.random.randn(1))\n",
    "\n",
    "    losses = []\n",
    "    grad = np.zeros(2)\n",
    "\n",
    "    for _ in range(100):\n",
    "\n",
    "        pred = np.sum((weights * X).T) + biases\n",
    "        \n",
    "        loss = np.sum((pred - y) ** 2)\n",
    "        losses.append(loss)\n",
    "        \n",
    "        grad[1] = -2 * loss\n",
    "\n",
    "        if ema: \n",
    "\n",
    "            grad = ema_momentum * grad + (1 - ema_momentum) * grad\n",
    "\n",
    "        if clip_norm != None:\n",
    "            \n",
    "            weights = np.clip(weights , weights , clip_norm)\n",
    "            biases = np.clip(biases , biases , clip_norm)\n",
    "\n",
    "        if clip_value != None:\n",
    "\n",
    "            grad = np.clip(grad , grad , clip_value)\n",
    "        \n",
    "        weights -= np.sqrt(-1 / (grad[1] + epsilon)) * grad[0] * learning_rate \n",
    "        biases -= np.sqrt(-1 / (grad[1] + epsilon)) * grad[0] * learning_rate\n",
    "\n",
    "        grad[1] = grad[0]\n",
    "\n",
    "    return weights , biases , losses"
   ]
  },
  {
   "cell_type": "markdown",
   "id": "4bf0f7fd",
   "metadata": {
    "papermill": {
     "duration": 0.028527,
     "end_time": "2023-04-29T09:31:46.013442",
     "exception": false,
     "start_time": "2023-04-29T09:31:45.984915",
     "status": "completed"
    },
    "tags": []
   },
   "source": [
    "**THIS IS NOT THE FULL IMPLEMENTATION, IT STILL LACKS MANY FUNCTIONALITIES AND IS VULENRABLE TO MANY EDGE CASES, WE WILL IMPROVE THIS IN THE UPCOMING VERSIONS**\n",
    "\n",
    "**PLEASE COMMENT DOWN IF I DID ANY MISTAKES, OR IF CAN MAKE THIS MORE CONNECTED TO THE GROUND, OR SUGGESTIONS. YOUR ASSISTS ARE HIGHLY APPRECIABLE**\n",
    "\n",
    "**THATS IT FOR TODAY GUYS**\n",
    "\n",
    "**HOPE YOU UNDERSTOOD AND LIKED MY WORK**\n",
    "\n",
    "**DONT FORGET TO MAKE AN UPVOTE :)**\n",
    "\n",
    "**PEACE OUT !!!**"
   ]
  }
 ],
 "metadata": {
  "kernelspec": {
   "display_name": "Python 3",
   "language": "python",
   "name": "python3"
  },
  "language_info": {
   "codemirror_mode": {
    "name": "ipython",
    "version": 3
   },
   "file_extension": ".py",
   "mimetype": "text/x-python",
   "name": "python",
   "nbconvert_exporter": "python",
   "pygments_lexer": "ipython3",
   "version": "3.7.12"
  },
  "papermill": {
   "default_parameters": {},
   "duration": 19.848713,
   "end_time": "2023-04-29T09:31:46.662149",
   "environment_variables": {},
   "exception": null,
   "input_path": "__notebook__.ipynb",
   "output_path": "__notebook__.ipynb",
   "parameters": {},
   "start_time": "2023-04-29T09:31:26.813436",
   "version": "2.4.0"
  }
 },
 "nbformat": 4,
 "nbformat_minor": 5
}
