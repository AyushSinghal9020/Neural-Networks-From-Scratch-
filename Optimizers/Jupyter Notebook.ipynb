{
 "cells": [
  {
   "cell_type": "markdown",
   "id": "02d71017",
   "metadata": {
    "papermill": {
     "duration": 0.023197,
     "end_time": "2023-04-29T08:16:03.281409",
     "exception": false,
     "start_time": "2023-04-29T08:16:03.258212",
     "status": "completed"
    },
    "tags": []
   },
   "source": [
    "# Optimizers \n",
    "\n",
    "So what are `Optimizers`\n",
    "\n",
    "**What** - Optimizer is a technique to set the `weights` and `biases` of a particular model such that they produce minimum `Loss` Possible.\n",
    "\n",
    "The bestest way (in my opinion) to get started is to fist understand what the hell is this `Regression`\n",
    "\n",
    "**What** - `Regression` is just like the lost brother of `classification`. In `classification` we have `discrete` or `particular values`, that we want to `classify`, In `regression` we have `continuous values`, that we want to `predict`\n",
    "\n",
    "| Classification |Regression |\n",
    "| --- | --- |\n",
    "|  We have discrete values| We have continuous values |\n",
    "|Usually we know these values in depth | We usually don't know these values in depth|\n",
    "|These are comparatively less in number| These are comparatively more in number |\n",
    "\n",
    "# 1 | What other things we will learn here\n",
    "* Slope of Function\n",
    "* Baisc Diffrentiation\n",
    "* Intercept "
   ]
  },
  {
   "cell_type": "code",
   "execution_count": 1,
   "id": "0e246eb1",
   "metadata": {
    "execution": {
     "iopub.execute_input": "2023-04-29T08:16:03.327582Z",
     "iopub.status.busy": "2023-04-29T08:16:03.326878Z",
     "iopub.status.idle": "2023-04-29T08:16:03.335835Z",
     "shell.execute_reply": "2023-04-29T08:16:03.334946Z"
    },
    "papermill": {
     "duration": 0.035582,
     "end_time": "2023-04-29T08:16:03.338269",
     "exception": false,
     "start_time": "2023-04-29T08:16:03.302687",
     "status": "completed"
    },
    "tags": []
   },
   "outputs": [],
   "source": [
    "import numpy as np"
   ]
  },
  {
   "cell_type": "code",
   "execution_count": 2,
   "id": "17538594",
   "metadata": {
    "execution": {
     "iopub.execute_input": "2023-04-29T08:16:03.382521Z",
     "iopub.status.busy": "2023-04-29T08:16:03.382072Z",
     "iopub.status.idle": "2023-04-29T08:16:04.456587Z",
     "shell.execute_reply": "2023-04-29T08:16:04.455442Z"
    },
    "papermill": {
     "duration": 1.099821,
     "end_time": "2023-04-29T08:16:04.459443",
     "exception": false,
     "start_time": "2023-04-29T08:16:03.359622",
     "status": "completed"
    },
    "tags": []
   },
   "outputs": [],
   "source": [
    "import matplotlib.pyplot as plt \n",
    "import seaborn as sns "
   ]
  },
  {
   "cell_type": "code",
   "execution_count": 3,
   "id": "17483a32",
   "metadata": {
    "execution": {
     "iopub.execute_input": "2023-04-29T08:16:04.504134Z",
     "iopub.status.busy": "2023-04-29T08:16:04.503725Z",
     "iopub.status.idle": "2023-04-29T08:16:04.508609Z",
     "shell.execute_reply": "2023-04-29T08:16:04.507395Z"
    },
    "papermill": {
     "duration": 0.030422,
     "end_time": "2023-04-29T08:16:04.510835",
     "exception": false,
     "start_time": "2023-04-29T08:16:04.480413",
     "status": "completed"
    },
    "tags": []
   },
   "outputs": [],
   "source": [
    "from IPython.display import IFrame"
   ]
  },
  {
   "cell_type": "markdown",
   "id": "87b989f1",
   "metadata": {
    "papermill": {
     "duration": 0.025431,
     "end_time": "2023-04-29T08:16:04.557357",
     "exception": false,
     "start_time": "2023-04-29T08:16:04.531926",
     "status": "completed"
    },
    "tags": []
   },
   "source": [
    "Lets assume we have data like this"
   ]
  },
  {
   "cell_type": "code",
   "execution_count": 4,
   "id": "bcd23dd4",
   "metadata": {
    "execution": {
     "iopub.execute_input": "2023-04-29T08:16:04.609834Z",
     "iopub.status.busy": "2023-04-29T08:16:04.608998Z",
     "iopub.status.idle": "2023-04-29T08:16:04.621521Z",
     "shell.execute_reply": "2023-04-29T08:16:04.620504Z"
    },
    "papermill": {
     "duration": 0.045296,
     "end_time": "2023-04-29T08:16:04.624816",
     "exception": false,
     "start_time": "2023-04-29T08:16:04.579520",
     "status": "completed"
    },
    "tags": []
   },
   "outputs": [
    {
     "data": {
      "text/plain": [
       "array([  0,   1,   2,   3,   4,   5,   6,   7,   8,   9,  10,  11,  12,\n",
       "        13,  14,  15,  16,  17,  18,  19,  20,  21,  22,  23,  24,  25,\n",
       "        26,  27,  28,  29,  30,  31,  32,  33,  34,  35,  36,  37,  38,\n",
       "        39,  40,  41,  42,  43,  44,  45,  46,  47,  48,  49,  50,  51,\n",
       "        52,  53,  54,  55,  56,  57,  58,  59,  60,  61,  62,  63,  64,\n",
       "        65,  66,  67,  68,  69,  70,  71,  72,  73,  74,  75,  76,  77,\n",
       "        78,  79,  80,  81,  82,  83,  84,  85,  86,  87,  88,  89,  90,\n",
       "        91,  92,  93,  94,  95,  96,  97,  98,  99, 100, 101, 102, 103,\n",
       "       104, 105, 106, 107, 108, 109, 110, 111, 112, 113, 114, 115, 116,\n",
       "       117, 118, 119, 120, 121, 122, 123, 124, 125, 126, 127, 128, 129,\n",
       "       130, 131, 132, 133, 134, 135, 136, 137, 138, 139, 140, 141, 142,\n",
       "       143, 144, 145, 146, 147, 148, 149, 150, 151, 152, 153, 154, 155,\n",
       "       156, 157, 158, 159, 160, 161, 162, 163, 164, 165, 166, 167, 168,\n",
       "       169, 170, 171, 172, 173, 174, 175, 176, 177, 178, 179, 180, 181,\n",
       "       182, 183, 184, 185, 186, 187, 188, 189, 190, 191, 192, 193, 194,\n",
       "       195, 196, 197, 198, 199])"
      ]
     },
     "execution_count": 4,
     "metadata": {},
     "output_type": "execute_result"
    }
   ],
   "source": [
    "features = np.array([x for x in range(0 , 200 , 1)])\n",
    "features"
   ]
  },
  {
   "cell_type": "code",
   "execution_count": 5,
   "id": "8dda13d9",
   "metadata": {
    "execution": {
     "iopub.execute_input": "2023-04-29T08:16:04.672917Z",
     "iopub.status.busy": "2023-04-29T08:16:04.672178Z",
     "iopub.status.idle": "2023-04-29T08:16:04.679085Z",
     "shell.execute_reply": "2023-04-29T08:16:04.678298Z"
    },
    "papermill": {
     "duration": 0.031315,
     "end_time": "2023-04-29T08:16:04.681126",
     "exception": false,
     "start_time": "2023-04-29T08:16:04.649811",
     "status": "completed"
    },
    "tags": []
   },
   "outputs": [
    {
     "data": {
      "text/plain": [
       "array([  0,   2,   4,   6,   8,  10,  12,  14,  16,  18,  20,  22,  24,\n",
       "        26,  28,  30,  32,  34,  36,  38,  40,  42,  44,  46,  48,  50,\n",
       "        52,  54,  56,  58,  60,  62,  64,  66,  68,  70,  72,  74,  76,\n",
       "        78,  80,  82,  84,  86,  88,  90,  92,  94,  96,  98, 100, 102,\n",
       "       104, 106, 108, 110, 112, 114, 116, 118, 120, 122, 124, 126, 128,\n",
       "       130, 132, 134, 136, 138, 140, 142, 144, 146, 148, 150, 152, 154,\n",
       "       156, 158, 160, 162, 164, 166, 168, 170, 172, 174, 176, 178, 180,\n",
       "       182, 184, 186, 188, 190, 192, 194, 196, 198, 200, 202, 204, 206,\n",
       "       208, 210, 212, 214, 216, 218, 220, 222, 224, 226, 228, 230, 232,\n",
       "       234, 236, 238, 240, 242, 244, 246, 248, 250, 252, 254, 256, 258,\n",
       "       260, 262, 264, 266, 268, 270, 272, 274, 276, 278, 280, 282, 284,\n",
       "       286, 288, 290, 292, 294, 296, 298, 300, 302, 304, 306, 308, 310,\n",
       "       312, 314, 316, 318, 320, 322, 324, 326, 328, 330, 332, 334, 336,\n",
       "       338, 340, 342, 344, 346, 348, 350, 352, 354, 356, 358, 360, 362,\n",
       "       364, 366, 368, 370, 372, 374, 376, 378, 380, 382, 384, 386, 388,\n",
       "       390, 392, 394, 396, 398])"
      ]
     },
     "execution_count": 5,
     "metadata": {},
     "output_type": "execute_result"
    }
   ],
   "source": [
    "target = np.array([x for x in range(0 , 400 , 2)])\n",
    "target"
   ]
  },
  {
   "cell_type": "markdown",
   "id": "03b8dc67",
   "metadata": {
    "papermill": {
     "duration": 0.020983,
     "end_time": "2023-04-29T08:16:04.723163",
     "exception": false,
     "start_time": "2023-04-29T08:16:04.702180",
     "status": "completed"
    },
    "tags": []
   },
   "source": [
    "Lets assume there is a connection between the `target` , and `features`. By human instacne we know that every element in `target` is just a double of the corresponding element in `features`, or $target  = 2XFeatures$. \n",
    "\n",
    "Lets assume we change the target a little bit..."
   ]
  },
  {
   "cell_type": "code",
   "execution_count": 6,
   "id": "0469f2fb",
   "metadata": {
    "execution": {
     "iopub.execute_input": "2023-04-29T08:16:04.767895Z",
     "iopub.status.busy": "2023-04-29T08:16:04.767180Z",
     "iopub.status.idle": "2023-04-29T08:16:04.774499Z",
     "shell.execute_reply": "2023-04-29T08:16:04.773710Z"
    },
    "papermill": {
     "duration": 0.03228,
     "end_time": "2023-04-29T08:16:04.776721",
     "exception": false,
     "start_time": "2023-04-29T08:16:04.744441",
     "status": "completed"
    },
    "tags": []
   },
   "outputs": [
    {
     "data": {
      "text/plain": [
       "array([  1,   3,   5,   7,   9,  11,  13,  15,  17,  19,  21,  23,  25,\n",
       "        27,  29,  31,  33,  35,  37,  39,  41,  43,  45,  47,  49,  51,\n",
       "        53,  55,  57,  59,  61,  63,  65,  67,  69,  71,  73,  75,  77,\n",
       "        79,  81,  83,  85,  87,  89,  91,  93,  95,  97,  99, 101, 103,\n",
       "       105, 107, 109, 111, 113, 115, 117, 119, 121, 123, 125, 127, 129,\n",
       "       131, 133, 135, 137, 139, 141, 143, 145, 147, 149, 151, 153, 155,\n",
       "       157, 159, 161, 163, 165, 167, 169, 171, 173, 175, 177, 179, 181,\n",
       "       183, 185, 187, 189, 191, 193, 195, 197, 199, 201, 203, 205, 207,\n",
       "       209, 211, 213, 215, 217, 219, 221, 223, 225, 227, 229, 231, 233,\n",
       "       235, 237, 239, 241, 243, 245, 247, 249, 251, 253, 255, 257, 259,\n",
       "       261, 263, 265, 267, 269, 271, 273, 275, 277, 279, 281, 283, 285,\n",
       "       287, 289, 291, 293, 295, 297, 299, 301, 303, 305, 307, 309, 311,\n",
       "       313, 315, 317, 319, 321, 323, 325, 327, 329, 331, 333, 335, 337,\n",
       "       339, 341, 343, 345, 347, 349, 351, 353, 355, 357, 359, 361, 363,\n",
       "       365, 367, 369, 371, 373, 375, 377, 379, 381, 383, 385, 387, 389,\n",
       "       391, 393, 395, 397, 399])"
      ]
     },
     "execution_count": 6,
     "metadata": {},
     "output_type": "execute_result"
    }
   ],
   "source": [
    "target = np.array([x + 1 for x in range(0 , 400 , 2)])\n",
    "target"
   ]
  },
  {
   "cell_type": "markdown",
   "id": "611ab013",
   "metadata": {
    "papermill": {
     "duration": 0.020891,
     "end_time": "2023-04-29T08:16:04.819203",
     "exception": false,
     "start_time": "2023-04-29T08:16:04.798312",
     "status": "completed"
    },
    "tags": []
   },
   "source": [
    "Now what could be the trend here..., We can see the code above and with the help of that we can say. That `target` value is just the `double + 1` of the corresponding element in `features`. or $target = 2Xfeatures + 1$\n",
    "\n",
    "Till now the problem was really easy to solve, and thats why we used the brain only, But these are just examples. As we move closer to the real world. The examples/problems get difficulat and we find it harder to find proper trends in the two `arrays`. Thats we try to teach machine, how to find trend in the data. The formula we had before $target = 2Xfeature + 1$ is subjective to only one problem or a similar problem. But this formula can be generlized by the equation of `straight line`, which is $y = mx + b$\n",
    "\n",
    "So what does this line means ???\n",
    "\n",
    "Lets first try to plot the data we had on a scatter plot "
   ]
  },
  {
   "cell_type": "code",
   "execution_count": 7,
   "id": "f348377e",
   "metadata": {
    "execution": {
     "iopub.execute_input": "2023-04-29T08:16:04.864751Z",
     "iopub.status.busy": "2023-04-29T08:16:04.864045Z",
     "iopub.status.idle": "2023-04-29T08:16:05.153090Z",
     "shell.execute_reply": "2023-04-29T08:16:05.152183Z"
    },
    "papermill": {
     "duration": 0.315213,
     "end_time": "2023-04-29T08:16:05.155551",
     "exception": false,
     "start_time": "2023-04-29T08:16:04.840338",
     "status": "completed"
    },
    "tags": []
   },
   "outputs": [
    {
     "data": {
      "text/plain": [
       "<matplotlib.collections.PathCollection at 0x751598c22ed0>"
      ]
     },
     "execution_count": 7,
     "metadata": {},
     "output_type": "execute_result"
    },
    {
     "data": {
      "image/png": "[encoded data removed]",
      "text/plain": [
       "<Figure size 640x480 with 1 Axes>"
      ]
     },
     "metadata": {},
     "output_type": "display_data"
    }
   ],
   "source": [
    "plt.scatter(features , target)"
   ]
  },
  {
   "cell_type": "markdown",
   "id": "69a5d7fd",
   "metadata": {
    "papermill": {
     "duration": 0.021517,
     "end_time": "2023-04-29T08:16:05.200469",
     "exception": false,
     "start_time": "2023-04-29T08:16:05.178952",
     "status": "completed"
    },
    "tags": []
   },
   "source": [
    "You can see we got a sequence of dots that resembles kind of straight line. \n",
    "\n",
    "Lets assume we have a line that tries to capture most of the points on this, like this"
   ]
  },
  {
   "cell_type": "code",
   "execution_count": 8,
   "id": "f50a7f09",
   "metadata": {
    "execution": {
     "iopub.execute_input": "2023-04-29T08:16:05.246442Z",
     "iopub.status.busy": "2023-04-29T08:16:05.245701Z",
     "iopub.status.idle": "2023-04-29T08:16:05.497046Z",
     "shell.execute_reply": "2023-04-29T08:16:05.496200Z"
    },
    "papermill": {
     "duration": 0.276973,
     "end_time": "2023-04-29T08:16:05.499250",
     "exception": false,
     "start_time": "2023-04-29T08:16:05.222277",
     "status": "completed"
    },
    "tags": []
   },
   "outputs": [
    {
     "data": {
      "text/plain": [
       "[<matplotlib.lines.Line2D at 0x7515989f40d0>]"
      ]
     },
     "execution_count": 8,
     "metadata": {},
     "output_type": "execute_result"
    },
    {
     "data": {
      "image/png": "[encoded data removed]",
      "text/plain": [
       "<Figure size 640x480 with 1 Axes>"
      ]
     },
     "metadata": {},
     "output_type": "display_data"
    }
   ],
   "source": [
    "plt.scatter(features , target)\n",
    "plt.plot([0 , 200] , [0 , 400] , \"yellow\")"
   ]
  },
  {
   "cell_type": "markdown",
   "id": "9485fc8c",
   "metadata": {
    "papermill": {
     "duration": 0.022213,
     "end_time": "2023-04-29T08:16:05.544674",
     "exception": false,
     "start_time": "2023-04-29T08:16:05.522461",
     "status": "completed"
    },
    "tags": []
   },
   "source": [
    "Again by human intution we found the `best fit line`. But what if we want to generalize the things and kind of do not find the best fit line...?\n",
    "\n",
    "First of all lets get a little bit more deep into equation $y = mx + b$\n",
    "\n",
    "So what does these terms resembles in this eqution. \n",
    "* `m` is the slope of the line\n",
    "\n",
    "# 1.1 | Slope of A function\n",
    "\n",
    "Slope of a function shows how steep a function is, or the direction of a function at a given point on the curve.\n",
    "\n",
    "Lets assume we have this curve $y = 4x^2$ the slope of this curve will be $y = 8x$"
   ]
  },
  {
   "cell_type": "code",
   "execution_count": 9,
   "id": "84f7b4b4",
   "metadata": {
    "execution": {
     "iopub.execute_input": "2023-04-29T08:16:05.592762Z",
     "iopub.status.busy": "2023-04-29T08:16:05.591988Z",
     "iopub.status.idle": "2023-04-29T08:16:05.598158Z",
     "shell.execute_reply": "2023-04-29T08:16:05.597168Z"
    },
    "papermill": {
     "duration": 0.032815,
     "end_time": "2023-04-29T08:16:05.600299",
     "exception": false,
     "start_time": "2023-04-29T08:16:05.567484",
     "status": "completed"
    },
    "tags": []
   },
   "outputs": [
    {
     "data": {
      "text/html": [
       "\n",
       "        <iframe\n",
       "            width=\"400\"\n",
       "            height=\"400\"\n",
       "            src=\"https://www.desmos.com/calculator/zluqu5vyuh\"\n",
       "            frameborder=\"0\"\n",
       "            allowfullscreen\n",
       "            \n",
       "        ></iframe>\n",
       "        "
      ],
      "text/plain": [
       "<IPython.lib.display.IFrame at 0x751598bad450>"
      ]
     },
     "execution_count": 9,
     "metadata": {},
     "output_type": "execute_result"
    }
   ],
   "source": [
    "IFrame(\"https://www.desmos.com/calculator/zluqu5vyuh\" , 400 , 400)"
   ]
  },
  {
   "cell_type": "markdown",
   "id": "0f73b2cc",
   "metadata": {
    "papermill": {
     "duration": 0.022425,
     "end_time": "2023-04-29T08:16:05.645395",
     "exception": false,
     "start_time": "2023-04-29T08:16:05.622970",
     "status": "completed"
    },
    "tags": []
   },
   "source": [
    "So how do we calculate the `slope` of a line???\n",
    "\n",
    "Lets assume we have a function $y = f(x)$,. To find the slope of a function, we simply diffrenctiate the function, thus, the slope of this line will be $y^` = f^`(x)$\n",
    "\n",
    "# 1.2 | Diffrentiation\n",
    "\n",
    "Diffrentaition can be explained as getting a small value of a function.\n",
    "\n",
    "lets assume we have a function `y = sin(x)`\n",
    "\n",
    "A small strip at that function will demonstrate taking a derivative of that function `sin(x)`\n",
    "\n",
    "Taking about the function we had taken before that is $y = 4x^2$\n",
    "\n",
    "Taking its derivative we will get $$y = 8x$$ ($x{n^`} = nx^{n-1}$)\n",
    "\n",
    "So the slope of $y = 4x^2$ can be represnted as "
   ]
  },
  {
   "cell_type": "code",
   "execution_count": 10,
   "id": "bf80683e",
   "metadata": {
    "execution": {
     "iopub.execute_input": "2023-04-29T08:16:05.693213Z",
     "iopub.status.busy": "2023-04-29T08:16:05.692332Z",
     "iopub.status.idle": "2023-04-29T08:16:05.698890Z",
     "shell.execute_reply": "2023-04-29T08:16:05.697914Z"
    },
    "papermill": {
     "duration": 0.033421,
     "end_time": "2023-04-29T08:16:05.701353",
     "exception": false,
     "start_time": "2023-04-29T08:16:05.667932",
     "status": "completed"
    },
    "tags": []
   },
   "outputs": [
    {
     "data": {
      "text/html": [
       "\n",
       "        <iframe\n",
       "            width=\"400\"\n",
       "            height=\"400\"\n",
       "            src=\"https://www.desmos.com/calculator/hrguwktg9q\"\n",
       "            frameborder=\"0\"\n",
       "            allowfullscreen\n",
       "            \n",
       "        ></iframe>\n",
       "        "
      ],
      "text/plain": [
       "<IPython.lib.display.IFrame at 0x7515989b9810>"
      ]
     },
     "execution_count": 10,
     "metadata": {},
     "output_type": "execute_result"
    }
   ],
   "source": [
    "IFrame(\"https://www.desmos.com/calculator/hrguwktg9q\" , 400 , 400)"
   ]
  },
  {
   "cell_type": "markdown",
   "id": "f4707c26",
   "metadata": {
    "papermill": {
     "duration": 0.02254,
     "end_time": "2023-04-29T08:16:05.746859",
     "exception": false,
     "start_time": "2023-04-29T08:16:05.724319",
     "status": "completed"
    },
    "tags": []
   },
   "source": [
    "**If you want to know more aboud diffrentiation, here is [3Blue1Brown](https://www.youtube.com/@3blue1brown/featured) => [Essence Of Calculas](https://www.youtube.com/playlist?list=PLZHQObOWTQDMsr9K-rj53DwVRMYO3t5Yr)**\n",
    "\n",
    "So now you have a basic idea of `slope`\n",
    "\n",
    "# 1.3 | Intercept\n",
    "\n",
    "Now what `b` represents in the data. Usually it is called the `intercept`. Consider this graph of the equation $y = x$ or $y = 1x + b$ "
   ]
  },
  {
   "cell_type": "code",
   "execution_count": 11,
   "id": "29e020f8",
   "metadata": {
    "execution": {
     "iopub.execute_input": "2023-04-29T08:16:05.795351Z",
     "iopub.status.busy": "2023-04-29T08:16:05.794271Z",
     "iopub.status.idle": "2023-04-29T08:16:05.802113Z",
     "shell.execute_reply": "2023-04-29T08:16:05.800811Z"
    },
    "papermill": {
     "duration": 0.034558,
     "end_time": "2023-04-29T08:16:05.804617",
     "exception": false,
     "start_time": "2023-04-29T08:16:05.770059",
     "status": "completed"
    },
    "tags": []
   },
   "outputs": [
    {
     "data": {
      "text/html": [
       "\n",
       "        <iframe\n",
       "            width=\"400\"\n",
       "            height=\"400\"\n",
       "            src=\"https://www.desmos.com/calculator/gai0veg5fh\"\n",
       "            frameborder=\"0\"\n",
       "            allowfullscreen\n",
       "            \n",
       "        ></iframe>\n",
       "        "
      ],
      "text/plain": [
       "<IPython.lib.display.IFrame at 0x751598c3b510>"
      ]
     },
     "execution_count": 11,
     "metadata": {},
     "output_type": "execute_result"
    }
   ],
   "source": [
    "IFrame(\"https://www.desmos.com/calculator/gai0veg5fh\" , 400 , 400)"
   ]
  },
  {
   "cell_type": "markdown",
   "id": "a839078e",
   "metadata": {
    "papermill": {
     "duration": 0.02276,
     "end_time": "2023-04-29T08:16:05.850252",
     "exception": false,
     "start_time": "2023-04-29T08:16:05.827492",
     "status": "completed"
    },
    "tags": []
   },
   "source": [
    "This line passes the axis at $(0 , 0)$. These coordinates are called as the `intercepts` of this line. If we make `b` or `intercept` as $1$. The line will then pass from $(1 , -1)$. Basically the `intercept` moves a line in a plane. With that being said, Lets also undertand how the `slope` changes the line. If we make `m` as $2$. The line will rotate anti-clockwise. So as we increase the value of `m` or `slope`. The line moves anti-clockwise, And so the vice-versa, If we decrease the value of `m`, The slope will move in the clockwise direction. \n",
    "\n",
    "In short tweeking the values of `m` and `b` or `slope` and `intercept`. We can move the line in any direction and in any way we want `as long as it resembles a straight line`. We still cannot bend the line \n",
    "\n",
    "So now we have any data, we just need to difine the values of `slope` and `intercpet`. And we can get the best fit line. But still the question arises how do we generalize the values of these tuning parametes. \n",
    "\n",
    "In simple word we can say, How can we find a relation between the data we have and these tuning parameters. So that we only need to define that relationship and then we can easily predict the values.\n",
    "\n",
    "Lets think that the value assigned to the line is this "
   ]
  },
  {
   "cell_type": "code",
   "execution_count": 12,
   "id": "bb1c39eb",
   "metadata": {
    "execution": {
     "iopub.execute_input": "2023-04-29T08:16:05.897958Z",
     "iopub.status.busy": "2023-04-29T08:16:05.897533Z",
     "iopub.status.idle": "2023-04-29T08:16:06.143302Z",
     "shell.execute_reply": "2023-04-29T08:16:06.142049Z"
    },
    "papermill": {
     "duration": 0.27322,
     "end_time": "2023-04-29T08:16:06.146200",
     "exception": false,
     "start_time": "2023-04-29T08:16:05.872980",
     "status": "completed"
    },
    "tags": []
   },
   "outputs": [
    {
     "data": {
      "text/plain": [
       "[<matplotlib.lines.Line2D at 0x751598987f90>]"
      ]
     },
     "execution_count": 12,
     "metadata": {},
     "output_type": "execute_result"
    },
    {
     "data": {
      "image/png": "[encoded data removed]",
      "text/plain": [
       "<Figure size 640x480 with 1 Axes>"
      ]
     },
     "metadata": {},
     "output_type": "display_data"
    }
   ],
   "source": [
    "plt.scatter(features , target)\n",
    "plt.plot([0 , 300] , [0 , 400] , \"yellow\")"
   ]
  },
  {
   "cell_type": "markdown",
   "id": "fb863775",
   "metadata": {
    "papermill": {
     "duration": 0.023707,
     "end_time": "2023-04-29T08:16:06.193778",
     "exception": false,
     "start_time": "2023-04-29T08:16:06.170071",
     "status": "completed"
    },
    "tags": []
   },
   "source": [
    "If we test this line on the training data only, we will find that this line is not correct. It is predicting points incorrect, We know that the best fit line we drew first, will predict points wiht lowest incorrect ones. For example the line we just defined if asked the corresponding value of $200$, it will say $250$. But rather it was $400$. There was some `error`, some `loss`, or some `cost` with the `actual` and `predicted` values.\n",
    "\n",
    "For measuring this loss, what we can do is find the difference between the `actual value` and the `predicted value`. A best fit line will give the lowest value of this difference.\n",
    "\n",
    "The word difference here is very difficult to say, so we can give this term a new fancy name, which is `The Loss`.\n",
    "\n",
    "One can deifne loss as $$Loss = actual - predicted$$.\n",
    "\n",
    "We only took the example of one value. but there are a large group of values. that can show the same trait, For that we can change the formula to \n",
    "\n",
    "Lets denote $actual$ as $a$ and $predicted$ as $p$\n",
    "\n",
    "$$Loss = (a_1 - p_1) + (a_2 - p_2) + (a_3 - p_3) + ... + (a_n - p_n)$$\n",
    "\n",
    "or $$Loss = \\sum\\limits_{i = 1}^{n}a_i - p_i$$ or $$Loss = \\sum\\limits_{i = 1}^{n}(y_i - \\hat y_i)$$\n",
    "\n",
    "Whenever you see $\\hat y$, think of it as the `predicted value`\n",
    "\n",
    "Now lets assume we have data like this and a random line is drawn like this \n",
    "\n",
    "<img src = \"https://cdn-media-1.freecodecamp.org/images/MNskFmGPKuQfMLdmpkT-X7-8w2cJXulP3683\">\n",
    "\n",
    "If you look closely, a lot of error terms will tend to cancel out each other. We can also get into a state where the line is `not the best fit`, but still gives $0$ error. With the `Loss` we defined before, we are not chossing a `best fit line`. Rather we are chossing a line that is in the `middle` of those points. One way to counter this is to add a `modulus` function like this $$Loss = \\sum\\limits_{i = 1}^{n}|y - \\hat y|$$\n",
    "\n",
    "But what is a modulus function. The function is nothing but converts, any negative numbers to postive. For example \n",
    "$|-1| = 1$"
   ]
  },
  {
   "cell_type": "code",
   "execution_count": 13,
   "id": "8ca99933",
   "metadata": {
    "execution": {
     "iopub.execute_input": "2023-04-29T08:16:06.243374Z",
     "iopub.status.busy": "2023-04-29T08:16:06.242960Z",
     "iopub.status.idle": "2023-04-29T08:16:06.249422Z",
     "shell.execute_reply": "2023-04-29T08:16:06.248522Z"
    },
    "papermill": {
     "duration": 0.034209,
     "end_time": "2023-04-29T08:16:06.251624",
     "exception": false,
     "start_time": "2023-04-29T08:16:06.217415",
     "status": "completed"
    },
    "tags": []
   },
   "outputs": [
    {
     "data": {
      "text/html": [
       "\n",
       "        <iframe\n",
       "            width=\"400\"\n",
       "            height=\"400\"\n",
       "            src=\"https://www.desmos.com/calculator/kamxotjra2\"\n",
       "            frameborder=\"0\"\n",
       "            allowfullscreen\n",
       "            \n",
       "        ></iframe>\n",
       "        "
      ],
      "text/plain": [
       "<IPython.lib.display.IFrame at 0x75159894e350>"
      ]
     },
     "execution_count": 13,
     "metadata": {},
     "output_type": "execute_result"
    }
   ],
   "source": [
    "IFrame(\"https://www.desmos.com/calculator/kamxotjra2\" , 400 , 400)"
   ]
  },
  {
   "cell_type": "markdown",
   "id": "aa5bd95b",
   "metadata": {
    "papermill": {
     "duration": 0.023811,
     "end_time": "2023-04-29T08:16:06.299303",
     "exception": false,
     "start_time": "2023-04-29T08:16:06.275492",
     "status": "completed"
    },
    "tags": []
   },
   "source": [
    "But there is a problem with this function. A `modulus` is not diffrentiable. You might be thinking that why are we even seeing that part, like we we care for that. Why would you even diffrentiate a loss function. \n",
    "\n",
    "We actually diffrentiate loss function in further steps, thats why we will not use the modulus function. \n",
    "\n",
    "Another way of doing so is to, square the loss function like this $Loss = (y - \\hat y)^2$\n",
    "\n",
    "Its cool, its good and we can even diffrentiate this...\n",
    "\n",
    "Now we have a basic idea that we need to compute `m` and `b` for the lowest loss values. Now we should come to know how we can do this \n",
    "\n",
    "What if we somehow interelate the `losses` and `m and b`. \n",
    "\n",
    "Lets assume we intialize the parameters randomly, like this \n",
    "\n",
    "# 2 | SGD"
   ]
  },
  {
   "cell_type": "code",
   "execution_count": 14,
   "id": "934745da",
   "metadata": {
    "execution": {
     "iopub.execute_input": "2023-04-29T08:16:06.348016Z",
     "iopub.status.busy": "2023-04-29T08:16:06.347546Z",
     "iopub.status.idle": "2023-04-29T08:16:06.355184Z",
     "shell.execute_reply": "2023-04-29T08:16:06.354033Z"
    },
    "papermill": {
     "duration": 0.034741,
     "end_time": "2023-04-29T08:16:06.357490",
     "exception": false,
     "start_time": "2023-04-29T08:16:06.322749",
     "status": "completed"
    },
    "tags": []
   },
   "outputs": [
    {
     "data": {
      "text/plain": [
       "array([0.46310656])"
      ]
     },
     "execution_count": 14,
     "metadata": {},
     "output_type": "execute_result"
    }
   ],
   "source": [
    "weights = np.random.randn(1)\n",
    "weights"
   ]
  },
  {
   "cell_type": "code",
   "execution_count": 15,
   "id": "fd69a65e",
   "metadata": {
    "execution": {
     "iopub.execute_input": "2023-04-29T08:16:06.406335Z",
     "iopub.status.busy": "2023-04-29T08:16:06.405873Z",
     "iopub.status.idle": "2023-04-29T08:16:06.413555Z",
     "shell.execute_reply": "2023-04-29T08:16:06.412391Z"
    },
    "papermill": {
     "duration": 0.034893,
     "end_time": "2023-04-29T08:16:06.415860",
     "exception": false,
     "start_time": "2023-04-29T08:16:06.380967",
     "status": "completed"
    },
    "tags": []
   },
   "outputs": [
    {
     "data": {
      "text/plain": [
       "array([0.92022388])"
      ]
     },
     "execution_count": 15,
     "metadata": {},
     "output_type": "execute_result"
    }
   ],
   "source": [
    "biases = np.random.randn(1)\n",
    "biases"
   ]
  },
  {
   "cell_type": "markdown",
   "id": "9ec6d4c3",
   "metadata": {
    "papermill": {
     "duration": 0.023521,
     "end_time": "2023-04-29T08:16:06.462975",
     "exception": false,
     "start_time": "2023-04-29T08:16:06.439454",
     "status": "completed"
    },
    "tags": []
   },
   "source": [
    "So the predicitions will be "
   ]
  },
  {
   "cell_type": "code",
   "execution_count": 16,
   "id": "2ecea6ea",
   "metadata": {
    "execution": {
     "iopub.execute_input": "2023-04-29T08:16:06.511387Z",
     "iopub.status.busy": "2023-04-29T08:16:06.511019Z",
     "iopub.status.idle": "2023-04-29T08:16:06.518149Z",
     "shell.execute_reply": "2023-04-29T08:16:06.516996Z"
    },
    "papermill": {
     "duration": 0.034633,
     "end_time": "2023-04-29T08:16:06.520734",
     "exception": false,
     "start_time": "2023-04-29T08:16:06.486101",
     "status": "completed"
    },
    "tags": []
   },
   "outputs": [
    {
     "data": {
      "text/plain": [
       "array([14.81342074])"
      ]
     },
     "execution_count": 16,
     "metadata": {},
     "output_type": "execute_result"
    }
   ],
   "source": [
    "pred = weights * 30 + biases\n",
    "pred"
   ]
  },
  {
   "cell_type": "markdown",
   "id": "f0cef401",
   "metadata": {
    "papermill": {
     "duration": 0.023732,
     "end_time": "2023-04-29T08:16:06.568675",
     "exception": false,
     "start_time": "2023-04-29T08:16:06.544943",
     "status": "completed"
    },
    "tags": []
   },
   "source": [
    "And its way far than what we had expected. "
   ]
  },
  {
   "cell_type": "code",
   "execution_count": 17,
   "id": "fbc2f31e",
   "metadata": {
    "execution": {
     "iopub.execute_input": "2023-04-29T08:16:06.618397Z",
     "iopub.status.busy": "2023-04-29T08:16:06.617617Z",
     "iopub.status.idle": "2023-04-29T08:16:06.625199Z",
     "shell.execute_reply": "2023-04-29T08:16:06.624046Z"
    },
    "papermill": {
     "duration": 0.034985,
     "end_time": "2023-04-29T08:16:06.627439",
     "exception": false,
     "start_time": "2023-04-29T08:16:06.592454",
     "status": "completed"
    },
    "tags": []
   },
   "outputs": [
    {
     "data": {
      "text/plain": [
       "array([-45.18657926])"
      ]
     },
     "execution_count": 17,
     "metadata": {},
     "output_type": "execute_result"
    }
   ],
   "source": [
    "loss = (pred - 60)\n",
    "loss"
   ]
  },
  {
   "cell_type": "markdown",
   "id": "e891fd50",
   "metadata": {
    "papermill": {
     "duration": 0.02357,
     "end_time": "2023-04-29T08:16:06.674596",
     "exception": false,
     "start_time": "2023-04-29T08:16:06.651026",
     "status": "completed"
    },
    "tags": []
   },
   "source": [
    "Our main motive is to reduce this loss as much as possible,. \n",
    "\n",
    "What if we subtract a small subset of the derivative of this loss from the parameters like this. The derivative of the loss will show us the steepness of the curve, and thus doing so might get us to the valeus of minimum loss. So how do we find the derivative of this function $Loss = (y - \\hat y)^2$. What we know is $\\hat y = mx + b$. COmputing this value in we get $$Loss = (y - mx - b)^2$$, Now we can diffrentiate the function\n",
    "\n",
    "## Diffrentiating wrt `b`\n",
    "$$\\frac {dLoss}{db}= \\frac {d}{db}(y - mx - b)^2$$\n",
    "$$= 2(y - mx - b)(-1)$$\n",
    "\n",
    "## Diffrentiating wrt `m`\n",
    "$$\\frac {dLoss}{dm} = \\frac {d}{dm}(y - mx - b)^2$$\n",
    "$$= 2(y - mx - b)(-x)$$"
   ]
  },
  {
   "cell_type": "code",
   "execution_count": 18,
   "id": "92fe9ba7",
   "metadata": {
    "execution": {
     "iopub.execute_input": "2023-04-29T08:16:06.724703Z",
     "iopub.status.busy": "2023-04-29T08:16:06.724256Z",
     "iopub.status.idle": "2023-04-29T08:16:06.729705Z",
     "shell.execute_reply": "2023-04-29T08:16:06.728470Z"
    },
    "papermill": {
     "duration": 0.033297,
     "end_time": "2023-04-29T08:16:06.732115",
     "exception": false,
     "start_time": "2023-04-29T08:16:06.698818",
     "status": "completed"
    },
    "tags": []
   },
   "outputs": [],
   "source": [
    "weights -= (-2* (60 - weights*30 - biases)) * 0.001\n",
    "biases -= (2 * 30 * (60 - weights * 30 - biases)) * 0.01"
   ]
  },
  {
   "cell_type": "markdown",
   "id": "11578041",
   "metadata": {
    "papermill": {
     "duration": 0.023331,
     "end_time": "2023-04-29T08:16:06.779326",
     "exception": false,
     "start_time": "2023-04-29T08:16:06.755995",
     "status": "completed"
    },
    "tags": []
   },
   "source": [
    "And if we then try to predict the values "
   ]
  },
  {
   "cell_type": "code",
   "execution_count": 19,
   "id": "e10b2892",
   "metadata": {
    "execution": {
     "iopub.execute_input": "2023-04-29T08:16:06.830749Z",
     "iopub.status.busy": "2023-04-29T08:16:06.830348Z",
     "iopub.status.idle": "2023-04-29T08:16:06.839934Z",
     "shell.execute_reply": "2023-04-29T08:16:06.838519Z"
    },
    "papermill": {
     "duration": 0.037642,
     "end_time": "2023-04-29T08:16:06.842507",
     "exception": false,
     "start_time": "2023-04-29T08:16:06.804865",
     "status": "completed"
    },
    "tags": []
   },
   "outputs": [
    {
     "name": "stdout",
     "output_type": "stream",
     "text": [
      "[0.55347972]\n",
      "[-24.56500682]\n"
     ]
    },
    {
     "data": {
      "text/plain": [
       "array([67.9606152])"
      ]
     },
     "execution_count": 19,
     "metadata": {},
     "output_type": "execute_result"
    }
   ],
   "source": [
    "print(weights)\n",
    "print(biases)\n",
    "loss = (60 - (weights * 30 + biases))\n",
    "loss"
   ]
  },
  {
   "cell_type": "markdown",
   "id": "fa9c1308",
   "metadata": {
    "papermill": {
     "duration": 0.0239,
     "end_time": "2023-04-29T08:16:06.890180",
     "exception": false,
     "start_time": "2023-04-29T08:16:06.866280",
     "status": "completed"
    },
    "tags": []
   },
   "source": [
    "Our losses have been decreased, so lets do it again "
   ]
  },
  {
   "cell_type": "code",
   "execution_count": 20,
   "id": "32bbf5e1",
   "metadata": {
    "execution": {
     "iopub.execute_input": "2023-04-29T08:16:06.940148Z",
     "iopub.status.busy": "2023-04-29T08:16:06.939410Z",
     "iopub.status.idle": "2023-04-29T08:16:06.949576Z",
     "shell.execute_reply": "2023-04-29T08:16:06.948201Z"
    },
    "papermill": {
     "duration": 0.03806,
     "end_time": "2023-04-29T08:16:06.952122",
     "exception": false,
     "start_time": "2023-04-29T08:16:06.914062",
     "status": "completed"
    },
    "tags": []
   },
   "outputs": [
    {
     "name": "stdout",
     "output_type": "stream",
     "text": [
      "[1.91269202]\n",
      "[-23.20579451]\n"
     ]
    },
    {
     "data": {
      "text/plain": [
       "array([25.82503378])"
      ]
     },
     "execution_count": 20,
     "metadata": {},
     "output_type": "execute_result"
    }
   ],
   "source": [
    "weights -= -2 * loss * 0.01\n",
    "biases -= -2 * loss * 0.01\n",
    "print(weights)\n",
    "print(biases)\n",
    "loss = (60 - (weights * 30 + biases))\n",
    "loss"
   ]
  },
  {
   "cell_type": "markdown",
   "id": "bf7e159a",
   "metadata": {
    "papermill": {
     "duration": 0.024124,
     "end_time": "2023-04-29T08:16:07.000713",
     "exception": false,
     "start_time": "2023-04-29T08:16:06.976589",
     "status": "completed"
    },
    "tags": []
   },
   "source": [
    "So now we know if we do this iteratively, we will minimise the loss, and iteratively we will reach the optimal values of `weights` or `m` and `biases` or `m`\n",
    "\n",
    "Lets say we have runn this again and again for around 100 times "
   ]
  },
  {
   "cell_type": "code",
   "execution_count": 21,
   "id": "152b1189",
   "metadata": {
    "execution": {
     "iopub.execute_input": "2023-04-29T08:16:07.052518Z",
     "iopub.status.busy": "2023-04-29T08:16:07.051972Z",
     "iopub.status.idle": "2023-04-29T08:16:07.058515Z",
     "shell.execute_reply": "2023-04-29T08:16:07.057384Z"
    },
    "papermill": {
     "duration": 0.034356,
     "end_time": "2023-04-29T08:16:07.060577",
     "exception": false,
     "start_time": "2023-04-29T08:16:07.026221",
     "status": "completed"
    },
    "tags": []
   },
   "outputs": [],
   "source": [
    "for _ in range(100):\n",
    "    weights -= -2 * loss * 0.01\n",
    "    biases -= -2 * loss * 0.01\n",
    "    loss = (60 - (weights * 30 + biases))"
   ]
  },
  {
   "cell_type": "markdown",
   "id": "1fe527b2",
   "metadata": {
    "papermill": {
     "duration": 0.024328,
     "end_time": "2023-04-29T08:16:07.109408",
     "exception": false,
     "start_time": "2023-04-29T08:16:07.085080",
     "status": "completed"
    },
    "tags": []
   },
   "source": [
    "Lets now see the weights and biases "
   ]
  },
  {
   "cell_type": "code",
   "execution_count": 22,
   "id": "d66eebd6",
   "metadata": {
    "execution": {
     "iopub.execute_input": "2023-04-29T08:16:07.161057Z",
     "iopub.status.busy": "2023-04-29T08:16:07.160593Z",
     "iopub.status.idle": "2023-04-29T08:16:07.167289Z",
     "shell.execute_reply": "2023-04-29T08:16:07.166482Z"
    },
    "papermill": {
     "duration": 0.035202,
     "end_time": "2023-04-29T08:16:07.169303",
     "exception": false,
     "start_time": "2023-04-29T08:16:07.134101",
     "status": "completed"
    },
    "tags": []
   },
   "outputs": [
    {
     "data": {
      "text/plain": [
       "(array([2.74575763]), array([-22.37272891]))"
      ]
     },
     "execution_count": 22,
     "metadata": {},
     "output_type": "execute_result"
    }
   ],
   "source": [
    "weights , biases"
   ]
  },
  {
   "cell_type": "markdown",
   "id": "cafaa7f7",
   "metadata": {
    "papermill": {
     "duration": 0.024803,
     "end_time": "2023-04-29T08:16:07.218516",
     "exception": false,
     "start_time": "2023-04-29T08:16:07.193713",
     "status": "completed"
    },
    "tags": []
   },
   "source": [
    "Though we have biases as high, but we have almost achived value of `weights`\n",
    "\n",
    "Lets do this all again, and now we will also try to plot a graph"
   ]
  },
  {
   "cell_type": "code",
   "execution_count": 23,
   "id": "cdbe3dd1",
   "metadata": {
    "execution": {
     "iopub.execute_input": "2023-04-29T08:16:07.269140Z",
     "iopub.status.busy": "2023-04-29T08:16:07.268749Z",
     "iopub.status.idle": "2023-04-29T08:16:07.276361Z",
     "shell.execute_reply": "2023-04-29T08:16:07.275105Z"
    },
    "papermill": {
     "duration": 0.036124,
     "end_time": "2023-04-29T08:16:07.278725",
     "exception": false,
     "start_time": "2023-04-29T08:16:07.242601",
     "status": "completed"
    },
    "tags": []
   },
   "outputs": [],
   "source": [
    "weights = abs(np.random.randn(1))\n",
    "biases = abs(np.random.randn(1))\n",
    "losses = []\n",
    "for _ in range(100):\n",
    "    weights -= -2 * loss * 0.01\n",
    "    biases -= -2 * loss * 0.01\n",
    "    loss = (60 - (weights * 30 + biases))\n",
    "    losses.append(loss)"
   ]
  },
  {
   "cell_type": "code",
   "execution_count": 24,
   "id": "d5048493",
   "metadata": {
    "execution": {
     "iopub.execute_input": "2023-04-29T08:16:07.329999Z",
     "iopub.status.busy": "2023-04-29T08:16:07.329589Z",
     "iopub.status.idle": "2023-04-29T08:16:07.564560Z",
     "shell.execute_reply": "2023-04-29T08:16:07.563416Z"
    },
    "papermill": {
     "duration": 0.263835,
     "end_time": "2023-04-29T08:16:07.567283",
     "exception": false,
     "start_time": "2023-04-29T08:16:07.303448",
     "status": "completed"
    },
    "tags": []
   },
   "outputs": [
    {
     "data": {
      "text/plain": [
       "<AxesSubplot:>"
      ]
     },
     "execution_count": 24,
     "metadata": {},
     "output_type": "execute_result"
    },
    {
     "data": {
      "image/png": "[encoded data removed]",
      "text/plain": [
       "<Figure size 640x480 with 1 Axes>"
      ]
     },
     "metadata": {},
     "output_type": "display_data"
    }
   ],
   "source": [
    "sns.lineplot(np.array(losses))"
   ]
  },
  {
   "cell_type": "markdown",
   "id": "158790b8",
   "metadata": {
    "papermill": {
     "duration": 0.024412,
     "end_time": "2023-04-29T08:16:07.616562",
     "exception": false,
     "start_time": "2023-04-29T08:16:07.592150",
     "status": "completed"
    },
    "tags": []
   },
   "source": [
    "As we can see we have greatly decreased our losses "
   ]
  },
  {
   "cell_type": "markdown",
   "id": "c0c79fb4",
   "metadata": {
    "papermill": {
     "duration": 0.024383,
     "end_time": "2023-04-29T08:16:07.665533",
     "exception": false,
     "start_time": "2023-04-29T08:16:07.641150",
     "status": "completed"
    },
    "tags": []
   },
   "source": [
    "# 2.1 | Functionalities\n",
    "We have made out our **SGD**, now we need to add some functionalities to it. We can get funcitonalites form **[Tensorflow](https://www.tensorflow.org/)=>[Keras](https://keras.io/about/)=>[Optimizers](https://keras.io/api/optimizers/)=>[Experimental](https://www.tensorflow.org/api_docs/python/tf/keras/optimizers/experimental)=>[SGD](https://www.tensorflow.org/api_docs/python/tf/keras/optimizers/experimental/SGD)**. The type of optimization tensorflow uses is a little bit different. It initializes and keeps the computation in the optimizer function and do the `fit` and `predict` on another function that uses this function. This is done so as to make a generalized optimizer for both `Linear` and `Sequential` models. But we will try to use the vanilla gradient descent and combine the initialization and the `fit` methods.\n",
    "\n",
    "* ✅List Of columns\n",
    "* ✅`learning_rate` - A Tensor, floating point value, or a schedule that is a **[tf.keras.optimizers.schedules.LearningRateSchedule](https://www.tensorflow.org/api_docs/python/tf/keras/optimizers/schedules/LearningRateSchedule)**, or a callable that takes no arguments and returns the actual value to use. The learning rate. Defaults to $0.001$.\n",
    "* ✅`momentum` - float hyperparameter >= 0 that accelerates gradient descent in the relevant direction and dampens oscillations. Defaults to 0, $i.e.$, vanilla gradient descent.\n",
    "* ✅`weight_decay : Float, defaults to None` - If set, weight decay is applied.\n",
    "* ✅`nesterov : boolean` - Whether to apply Nesterov momentum. Defaults to False.\n",
    "* ✅`weight_decay : Float, defaults to None` - If set, weight decay is applied.\n",
    "* ✅`clipnorm : Float` - If set, the gradient of each weight is individually clipped so that its norm is no higher than this value.\n",
    "* ✅`clipvalue : Float` - If set, the gradient of each weight is clipped to be no higher than this value.\n",
    "* ✅`use_ema : Boolean, defaults to False` - If True, exponential moving average (EMA) is applied. EMA consists of computing an exponential moving average of the weights of the model (as the weight values change after each training batch), and periodically overwriting the weights with their moving average.\n",
    "* ✅`ema_momentum : Float, defaults to 0.99` - Only used if use_ema=True. This is the momentum to use when computing the EMA of the model's weights: `new_average = ema_momentum * old_average + (1 - ema_momentum) * current_variable_value`.\n",
    "\n",
    "# 2.1.1 | List Of Columns \n",
    "\n",
    "This function will only work if there are only $2$ columns, one `feature` and the other one `target`. What if the user gives out a list of columns. For this we nee dto take two different arguemnts form the user and work on them differently"
   ]
  },
  {
   "cell_type": "code",
   "execution_count": 25,
   "id": "a7ed939f",
   "metadata": {
    "execution": {
     "iopub.execute_input": "2023-04-29T08:16:07.716732Z",
     "iopub.status.busy": "2023-04-29T08:16:07.716298Z",
     "iopub.status.idle": "2023-04-29T08:16:07.724282Z",
     "shell.execute_reply": "2023-04-29T08:16:07.722999Z"
    },
    "papermill": {
     "duration": 0.036417,
     "end_time": "2023-04-29T08:16:07.726622",
     "exception": false,
     "start_time": "2023-04-29T08:16:07.690205",
     "status": "completed"
    },
    "tags": []
   },
   "outputs": [],
   "source": [
    "def SGD(X , y):\n",
    "    \n",
    "    weights = abs(np.random.randn(X.shape[1]))\n",
    "    biases = abs(np.random.randn(1))\n",
    "\n",
    "    losses = []\n",
    "\n",
    "    for _ in range(100):\n",
    "\n",
    "        pred = np.sum((weights * X).T) + biases\n",
    "        \n",
    "        loss = np.sum((pred - y) ** 2)\n",
    "        losses.append(loss)\n",
    "        \n",
    "        weights -= -2 * loss * 0.01\n",
    "        biases -= -2 * loss * 0.01\n",
    "\n",
    "    return weights , biases , losses"
   ]
  },
  {
   "cell_type": "markdown",
   "id": "a504e92a",
   "metadata": {
    "papermill": {
     "duration": 0.024079,
     "end_time": "2023-04-29T08:16:07.775400",
     "exception": false,
     "start_time": "2023-04-29T08:16:07.751321",
     "status": "completed"
    },
    "tags": []
   },
   "source": [
    "# 2.1.2 | Learning Rate\n",
    "\n",
    "You remeber we were taking a small part of the loss, not the whole loss. The parameter that defines how much loss we are taking is called the **Learning Rate** \n",
    "\n",
    "You might be thinking that it is not that important, but it is really important concept, a higher learning rate has a high chance that you will never converge to the model, a low very low learning rate means that you will take a very long time to converge for the model \n",
    "\n",
    "Here is a very good image that explains the importance of the learning rate \n",
    "\n",
    "<img src = \"https://www.researchgate.net/profile/Hajar-Feizi/publication/341609757/figure/fig2/AS:894745802977280@1590335431623/Changes-in-the-loss-function-vs-the-epoch-by-the-learning-rate-40.png\">\n",
    "\n",
    "It will be really easy for us to apply this functinality, we just need to change some varaibales"
   ]
  },
  {
   "cell_type": "code",
   "execution_count": 26,
   "id": "3d2ed795",
   "metadata": {
    "execution": {
     "iopub.execute_input": "2023-04-29T08:16:07.827278Z",
     "iopub.status.busy": "2023-04-29T08:16:07.826430Z",
     "iopub.status.idle": "2023-04-29T08:16:07.833545Z",
     "shell.execute_reply": "2023-04-29T08:16:07.832724Z"
    },
    "papermill": {
     "duration": 0.035375,
     "end_time": "2023-04-29T08:16:07.835752",
     "exception": false,
     "start_time": "2023-04-29T08:16:07.800377",
     "status": "completed"
    },
    "tags": []
   },
   "outputs": [],
   "source": [
    "def SGD(X , y , learning_rate = 0.01):\n",
    "    \n",
    "    weights = abs(np.random.randn(X.shape[1]))\n",
    "    biases = abs(np.random.randn(1))\n",
    "\n",
    "    losses = []\n",
    "\n",
    "    for _ in range(100):\n",
    "\n",
    "        pred = np.sum((weights * X).T) + biases\n",
    "        \n",
    "        loss = np.sum((pred - y) ** 2)\n",
    "        losses.append(loss)\n",
    "        \n",
    "        weights -= -2 * loss * learning_rate\n",
    "        biases -= -2 * loss * learning_rate\n",
    "\n",
    "    return weights , biases , losses"
   ]
  },
  {
   "cell_type": "markdown",
   "id": "d2a06963",
   "metadata": {
    "papermill": {
     "duration": 0.024049,
     "end_time": "2023-04-29T08:16:07.884878",
     "exception": false,
     "start_time": "2023-04-29T08:16:07.860829",
     "status": "completed"
    },
    "tags": []
   },
   "source": [
    "# 2.1.3 | Momentum \n",
    "\n",
    "The probelem with gradient descent is this \n",
    "\n",
    "<img src = \"https://winder.ai/blog/2017/img/gradient_descent.svg\">\n",
    "\n",
    "Notice that before we were taking larger steps and as we reached the minimum value, are step size shortened. It is kind of a blessing as well as sometimes a curse for us. The problem is while getting very near to the minimum value, the step size gets so small. that it merely becomes $0$. not $0$ (that means we have reahed the minimum value). To cunter this we introduce momentum to the formula \n",
    "\n",
    "Lets assume you are going to a place that you dont know. Like you dont know where it exists. So what you do is you ask people in the way that where is the place, and they show you the directions. Lets assume the directions are only right $(->)$ and left $(<-)$. So you ask $1^{st}$ person and he says to go to the right $(->)$, then you ask the $2^{nd}$ person and he also asks you to go right $(->)$, so you gain a confidence that you are going right. so you increase your speed. you might skip the $3^{rd}$ person and directly ask the $4^{th}$. \n",
    "\n",
    "Lets assume the same situation from start. So you ask the $1^{st}$ person and he says to go to the right $(->)$ and then you ask the $2^{nd}$ person and he says to go left. But your inner instinct says that you are in the correct direction, but due to the influence of the $2^{nd}$ person, you will go slowly.\n",
    "\n",
    "So you increase and decrease you speed on the basis of the previously gained knowledge. This is the same concept `momentum`, tries to implement. \n",
    "\n",
    "One way of doing so is to add the commulative sum of all the gradients we achived previously like this \n",
    "\n",
    "$$w_{n+1} = w_n - \\frac {dLoss}{dw} \\alpha + (\\sum\\limits_{i = 1}^{n}w_i)$$\n",
    "\n",
    "$$b_{n+1} = b_n - \\frac {dLoss}{db} \\alpha + (\\sum\\limits_{i = 1}^{n}b_i)$$\n",
    "\n",
    "But there are majorly $2$ probelems with this formula $:-$\n",
    "* Rather than fastening the gradients a little bit, it will fasten them exponentially.\n",
    "* This formula values every gradient equal, \n",
    "\n",
    "To rectify this probelm we take the weighted average sum of all the gradients. or we actually multiply the sum with some constant. we change the formula a little bit \n",
    "\n",
    "$$w_{n+1} = w_n - (\\beta w_m + \\alpha(1 - \\beta) \\frac {dLoss}{dw})$$\n",
    "\n",
    "$$b_{n+1} = b_n - (\\beta b_m + \\alpha(1 - \\beta) \\frac {dLoss}{db})$$\n"
   ]
  },
  {
   "cell_type": "code",
   "execution_count": 27,
   "id": "95fb02b9",
   "metadata": {
    "execution": {
     "iopub.execute_input": "2023-04-29T08:16:07.936571Z",
     "iopub.status.busy": "2023-04-29T08:16:07.935398Z",
     "iopub.status.idle": "2023-04-29T08:16:07.943800Z",
     "shell.execute_reply": "2023-04-29T08:16:07.942830Z"
    },
    "papermill": {
     "duration": 0.037171,
     "end_time": "2023-04-29T08:16:07.946447",
     "exception": false,
     "start_time": "2023-04-29T08:16:07.909276",
     "status": "completed"
    },
    "tags": []
   },
   "outputs": [],
   "source": [
    "def SGD(X , y , learning_rate = 0.01 , momentum = 0):\n",
    "    \n",
    "    weights = abs(np.random.randn(X.shape[1]))\n",
    "    biases = abs(np.random.randn(1))\n",
    "\n",
    "    m_weights = 0\n",
    "    m_biases = 0\n",
    "\n",
    "    losses = []\n",
    "\n",
    "    for _ in range(100):\n",
    "\n",
    "        pred = np.sum((weights * X).T) + biases\n",
    "        \n",
    "        loss = np.sum(pred - y)\n",
    "        losses.append(loss)\n",
    "\n",
    "        m_weights = momentum * m_weights + (1 - momentum) * (-2 * loss)\n",
    "        m_biases = momentum * m_biases + (1 - momentum) * (-2 * loss)\n",
    "        \n",
    "        weights -= m_weights[epochs + 1] * 0.01\n",
    "        biases -= m_biases[epochs + 1] * 0.01\n",
    "\n",
    "    return weights , biases , losses"
   ]
  },
  {
   "cell_type": "markdown",
   "id": "bc087c59",
   "metadata": {
    "papermill": {
     "duration": 0.024241,
     "end_time": "2023-04-29T08:16:07.995366",
     "exception": false,
     "start_time": "2023-04-29T08:16:07.971125",
     "status": "completed"
    },
    "tags": []
   },
   "source": [
    "# 2.1.4 | Nestrov\n",
    "While SGD with momentum can be effective at overcoming oscillations in the cost function, NAG has been shown to converge faster and more reliably in many cases, and thats why we will give the functionality of this function to \n",
    "$$w^n = w^{n-1} - \\beta w_v^{n-1} + (1-\\beta)(w^{n-1} - \\beta w_v^{n-1})$$\n",
    "$$b^n = b^{n-1} - \\beta b_v^{n-1} + (1-\\beta)(b^{n-1} - \\beta b_v^{n-1})$$"
   ]
  },
  {
   "cell_type": "code",
   "execution_count": 28,
   "id": "52f82c64",
   "metadata": {
    "execution": {
     "iopub.execute_input": "2023-04-29T08:16:08.047584Z",
     "iopub.status.busy": "2023-04-29T08:16:08.046807Z",
     "iopub.status.idle": "2023-04-29T08:16:08.055786Z",
     "shell.execute_reply": "2023-04-29T08:16:08.054883Z"
    },
    "papermill": {
     "duration": 0.03777,
     "end_time": "2023-04-29T08:16:08.058210",
     "exception": false,
     "start_time": "2023-04-29T08:16:08.020440",
     "status": "completed"
    },
    "tags": []
   },
   "outputs": [],
   "source": [
    "def SGD(X , y , learning_rate = 0.01 , momentum = 0 , nestrov = False):\n",
    "    \n",
    "    weights = abs(np.random.randn(X.shape[1]))\n",
    "    biases = abs(np.random.randn(1))\n",
    "    \n",
    "    m_weights = 0\n",
    "    m_biases = 0\n",
    "    \n",
    "    losses = []\n",
    "    \n",
    "    for _ in range(100):\n",
    "    \n",
    "        pred = np.sum((weights * X).T) + biases\n",
    "        \n",
    "        loss = np.sum((pred - y) ** 2)\n",
    "        losses.append(loss)\n",
    "        \n",
    "        if nestrov :\n",
    "\n",
    "            m_weights = (momentum * m_weights + ((1 - momentum) * (weights - momentum * m_weights))) * -2 * loss \n",
    "            m_biases = (momentum * m_biases + ((1 - momentum) * (weights - momentum * m_biases))) * -2 * loss\n",
    "\n",
    "        else :\n",
    "\n",
    "            m_weights = momentum * m_weights + (1 - momentum) * -2 * loss\n",
    "            m_biases = momentum * m_biases + (1 - momentum) * -2 * loss\n",
    "\n",
    "        weights -= m_weights * learning_rate\n",
    "        biases -= m_biases * learning_rate\n",
    "\n",
    "    return weights , biases , losses"
   ]
  },
  {
   "cell_type": "markdown",
   "id": "3e6fbefd",
   "metadata": {
    "papermill": {
     "duration": 0.024722,
     "end_time": "2023-04-29T08:16:08.107538",
     "exception": false,
     "start_time": "2023-04-29T08:16:08.082816",
     "status": "completed"
    },
    "tags": []
   },
   "source": [
    "# 2.1.5 | Weight Decay \n",
    "Weight decay is a powerful regularization technique that can help to prevent overfitting and improve the generalization performance of machine learning models trained with SGD optimization.\n",
    "$$u = u + \\gamma u$$"
   ]
  },
  {
   "cell_type": "code",
   "execution_count": 29,
   "id": "d6e4304c",
   "metadata": {
    "execution": {
     "iopub.execute_input": "2023-04-29T08:16:08.159392Z",
     "iopub.status.busy": "2023-04-29T08:16:08.158323Z",
     "iopub.status.idle": "2023-04-29T08:16:08.167780Z",
     "shell.execute_reply": "2023-04-29T08:16:08.166864Z"
    },
    "papermill": {
     "duration": 0.037857,
     "end_time": "2023-04-29T08:16:08.170300",
     "exception": false,
     "start_time": "2023-04-29T08:16:08.132443",
     "status": "completed"
    },
    "tags": []
   },
   "outputs": [],
   "source": [
    "def SGD(X , y , learning_rate = 0.01 , momentum = 0 , nestrov = False , weight_decay = None):\n",
    "    \n",
    "    weights = abs(np.random.randn(X.shape[1]))\n",
    "    biases = abs(np.random.randn(1))\n",
    "    \n",
    "    m_weights = 0\n",
    "    m_biases = 0\n",
    "    \n",
    "    losses = []\n",
    "    \n",
    "    for _ in range(100):\n",
    "    \n",
    "        pred = np.sum((weights * X).T) + biases\n",
    "        \n",
    "        loss = np.sum((pred - y) ** 2)\n",
    "        losses.append(loss)\n",
    "        \n",
    "        if nestrov :\n",
    "\n",
    "            m_weights = (momentum * m_weights + (1 - momentum) * (weights - momentum * m_weights)) * -2 * loss \n",
    "            m_biases = (momentum * m_biases + (1 - momentum) * (weights - momentum * m_biases)) * -2 * loss\n",
    "\n",
    "        else :\n",
    "\n",
    "            m_weights = momentum * m_weights + (1 - momentum) * -2 * loss\n",
    "            m_biases = momentum * m_biases + (1 - momentum) * -2 * loss\n",
    "\n",
    "        weights -= (m_weights + weight_decay * m_weights) * learning_rate\n",
    "        biases -= (m_biases + weight_decay * m_biases) * learning_rate\n",
    "\n",
    "    return weights , biases , losses"
   ]
  },
  {
   "cell_type": "markdown",
   "id": "5e2991cf",
   "metadata": {
    "papermill": {
     "duration": 0.024346,
     "end_time": "2023-04-29T08:16:08.219734",
     "exception": false,
     "start_time": "2023-04-29T08:16:08.195388",
     "status": "completed"
    },
    "tags": []
   },
   "source": [
    "# 2.1.6 | Clip Norm\n",
    "\n",
    "Sometimes there is a chance that the weights go skyrocketting, which is generally considered a bad idea, parameters in the range of $(-1, 1)$ are considered to be good. Thats why sometimes we use clip-norm , that generates a upper baseline for the parameters. "
   ]
  },
  {
   "cell_type": "code",
   "execution_count": 30,
   "id": "d27fa695",
   "metadata": {
    "execution": {
     "iopub.execute_input": "2023-04-29T08:16:08.271622Z",
     "iopub.status.busy": "2023-04-29T08:16:08.270458Z",
     "iopub.status.idle": "2023-04-29T08:16:08.281361Z",
     "shell.execute_reply": "2023-04-29T08:16:08.280498Z"
    },
    "papermill": {
     "duration": 0.03924,
     "end_time": "2023-04-29T08:16:08.283695",
     "exception": false,
     "start_time": "2023-04-29T08:16:08.244455",
     "status": "completed"
    },
    "tags": []
   },
   "outputs": [],
   "source": [
    "def SGD(X , y , learning_rate = 0.01 , momentum = 0 , nestrov = False , weight_decay = None , clip_norm = None):\n",
    "    \n",
    "    weights = abs(np.random.randn(X.shape[1]))\n",
    "    biases = abs(np.random.randn(1))\n",
    "    \n",
    "    m_weights = 0\n",
    "    m_biases = 0\n",
    "    \n",
    "    losses = []\n",
    "    \n",
    "    for _ in range(100):\n",
    "    \n",
    "        pred = np.sum((weights * X).T) + biases\n",
    "        \n",
    "        loss = np.sum((pred - y) ** 2)\n",
    "        losses.append(loss)\n",
    "        \n",
    "        if nestrov :\n",
    "\n",
    "            m_weights = (momentum * m_weights + (1 - momentum) * (weights - momentum * m_weights)) * -2 * loss \n",
    "            m_biases = (momentum * m_biases + (1 - momentum) * (weights - momentum * m_biases)) * -2 * loss\n",
    "\n",
    "        else :\n",
    "\n",
    "            m_weights = momentum * m_weights + (1 - momentum) * -2 * loss\n",
    "            m_biases = momentum * m_biases + (1 - momentum) * -2 * loss\n",
    "\n",
    "        if clip_norm != None:\n",
    "            \n",
    "            weights = np.clip(weights , weights , clip_norm)\n",
    "            biases = np.clip(biases , biases , clip_norm)\n",
    "\n",
    "        weights -= (m_weights + weight_decay * m_weights) * learning_rate\n",
    "        biases -= (m_biases + weight_decay * m_biases) * learning_rate\n",
    "\n",
    "    return weights , biases , losses"
   ]
  },
  {
   "cell_type": "markdown",
   "id": "a765c72f",
   "metadata": {
    "papermill": {
     "duration": 0.026373,
     "end_time": "2023-04-29T08:16:08.335054",
     "exception": false,
     "start_time": "2023-04-29T08:16:08.308681",
     "status": "completed"
    },
    "tags": []
   },
   "source": [
    "# 2.1.7 | Clip Values\n",
    "\n",
    "Sometimes the same can go with the `gradients` and thus we also clip them. Higher gradients means that learning rate is very high and need to be lowered. This gives us $2$ tuners to control the gradient "
   ]
  },
  {
   "cell_type": "code",
   "execution_count": 31,
   "id": "6bbf6db6",
   "metadata": {
    "execution": {
     "iopub.execute_input": "2023-04-29T08:16:08.386930Z",
     "iopub.status.busy": "2023-04-29T08:16:08.386516Z",
     "iopub.status.idle": "2023-04-29T08:16:08.397525Z",
     "shell.execute_reply": "2023-04-29T08:16:08.396257Z"
    },
    "papermill": {
     "duration": 0.039812,
     "end_time": "2023-04-29T08:16:08.399903",
     "exception": false,
     "start_time": "2023-04-29T08:16:08.360091",
     "status": "completed"
    },
    "tags": []
   },
   "outputs": [],
   "source": [
    "def SGD(X , y , learning_rate = 0.01 , momentum = 0 , nestrov = False , weight_decay = None , clip_norm = None):\n",
    "    \n",
    "    weights = abs(np.random.randn(X.shape[1]))\n",
    "    biases = abs(np.random.randn(1))\n",
    "    \n",
    "    m_weights = 0\n",
    "    m_biases = 0\n",
    "    \n",
    "    losses = []\n",
    "    \n",
    "    for _ in range(100):\n",
    "    \n",
    "        pred = np.sum((weights * X).T) + biases\n",
    "        \n",
    "        loss = np.sum((pred - y) ** 2)\n",
    "        losses.append(loss)\n",
    "        \n",
    "        if nestrov :\n",
    "\n",
    "            m_weights = (momentum * m_weights + (1 - momentum) * (weights - momentum * m_weights)) * -2 * loss \n",
    "            m_biases = (momentum * m_biases + (1 - momentum) * (weights - momentum * m_biases)) * -2 * loss\n",
    "\n",
    "        else :\n",
    "\n",
    "            m_weights = momentum * m_weights + (1 - momentum) * -2 * loss\n",
    "            m_biases = momentum * m_biases + (1 - momentum) * -2 * loss\n",
    "\n",
    "        if clip_norm != None:\n",
    "            \n",
    "            weights = np.clip(weights , weights , clip_norm)\n",
    "            biases = np.clip(biases , biases , clip_norm)\n",
    "\n",
    "        if clip_value != None:\n",
    "            \n",
    "            m_weights = np.clip(m_weights , m_weights , clip_value)\n",
    "            m_biases = np.clip(m_biases , m_biases , clip_value)\n",
    "\n",
    "        weights -= (m_weights + weight_decay * m_weights) * learning_rate\n",
    "        biases -= (m_biases + weight_decay * m_biases) * learning_rate\n",
    "\n",
    "    return weights , biases , losses"
   ]
  },
  {
   "cell_type": "markdown",
   "id": "9577ba67",
   "metadata": {
    "papermill": {
     "duration": 0.024839,
     "end_time": "2023-04-29T08:16:08.449518",
     "exception": false,
     "start_time": "2023-04-29T08:16:08.424679",
     "status": "completed"
    },
    "tags": []
   },
   "source": [
    "# 2.1.8 | Use EMA\n",
    "\n",
    "Wether to use the estimated momentum average or not. The major use of this function is when `ema_momentum` is given "
   ]
  },
  {
   "cell_type": "code",
   "execution_count": 32,
   "id": "830f7196",
   "metadata": {
    "execution": {
     "iopub.execute_input": "2023-04-29T08:16:08.501488Z",
     "iopub.status.busy": "2023-04-29T08:16:08.500564Z",
     "iopub.status.idle": "2023-04-29T08:16:08.511865Z",
     "shell.execute_reply": "2023-04-29T08:16:08.510909Z"
    },
    "papermill": {
     "duration": 0.040098,
     "end_time": "2023-04-29T08:16:08.514390",
     "exception": false,
     "start_time": "2023-04-29T08:16:08.474292",
     "status": "completed"
    },
    "tags": []
   },
   "outputs": [],
   "source": [
    "def SGD(X , y , learning_rate = 0.01 , momentum = 0 , nestrov = False , weight_decay = None , clip_norm = None , ema = False):\n",
    "    \n",
    "    weights = abs(np.random.randn(X.shape[1]))\n",
    "    biases = abs(np.random.randn(1))\n",
    "    \n",
    "    m_weights = 0\n",
    "    m_biases = 0\n",
    "    \n",
    "    losses = []\n",
    "    \n",
    "    for _ in range(100):\n",
    "    \n",
    "        pred = np.sum((weights * X).T) + biases\n",
    "        \n",
    "        loss = np.sum((pred - y) ** 2)\n",
    "        losses.append(loss)\n",
    "        \n",
    "        if nestrov :\n",
    "\n",
    "            m_weights = (momentum * m_weights + (1 - momentum) * (weights - momentum * m_weights)) * -2 * loss \n",
    "            m_biases = (momentum * m_biases + (1 - momentum) * (weights - momentum * m_biases)) * -2 * loss\n",
    "\n",
    "        else :\n",
    "\n",
    "            m_weights = momentum * m_weights + (1 - momentum) * -2 * loss\n",
    "            m_biases = momentum * m_biases + (1 - momentum) * -2 * loss\n",
    "\n",
    "        if ema:pass\n",
    "\n",
    "        if clip_norm != None:\n",
    "            \n",
    "            weights = np.clip(weights , weights , clip_norm)\n",
    "            biases = np.clip(biases , biases , clip_norm)\n",
    "\n",
    "        if clip_value != None:\n",
    "            \n",
    "            m_weights = np.clip(m_weights , m_weights , clip_value)\n",
    "            m_biases = np.clip(m_biases , m_biases , clip_value)\n",
    "\n",
    "        weights -= (m_weights + weight_decay * m_weights) * learning_rate\n",
    "        biases -= (m_biases + weight_decay * m_biases) * learning_rate\n",
    "\n",
    "    return weights , biases , losses"
   ]
  },
  {
   "cell_type": "markdown",
   "id": "30975a2d",
   "metadata": {
    "papermill": {
     "duration": 0.025021,
     "end_time": "2023-04-29T08:16:08.565239",
     "exception": false,
     "start_time": "2023-04-29T08:16:08.540218",
     "status": "completed"
    },
    "tags": []
   },
   "source": [
    "# 2.1.9 | EMA Momentum \n",
    "\n",
    "In RMSprop, the exponential moving average (EMA) of the gradient with momentum is used to improve convergence and prevent oscillations during training. The EMA of the gradient with momentum is updated at each iteration and incorporates information about the previous gradients and the current gradient to produce a more stable and consistent update direction. This helps to smooth out the noise in the gradient estimates and helps the optimizer to move more directly towards the minimum of the loss function."
   ]
  },
  {
   "cell_type": "code",
   "execution_count": 33,
   "id": "3aa26f84",
   "metadata": {
    "execution": {
     "iopub.execute_input": "2023-04-29T08:16:08.617807Z",
     "iopub.status.busy": "2023-04-29T08:16:08.617044Z",
     "iopub.status.idle": "2023-04-29T08:16:08.629250Z",
     "shell.execute_reply": "2023-04-29T08:16:08.628003Z"
    },
    "papermill": {
     "duration": 0.04082,
     "end_time": "2023-04-29T08:16:08.631634",
     "exception": false,
     "start_time": "2023-04-29T08:16:08.590814",
     "status": "completed"
    },
    "tags": []
   },
   "outputs": [],
   "source": [
    "def SGD(X , y , learning_rate = 0.01 , momentum = 0 , nestrov = False , weight_decay = None , clip_norm = None , ema = False , ema_momentum = 0.99):\n",
    "    \n",
    "    weights = abs(np.random.randn(X.shape[1]))\n",
    "    biases = abs(np.random.randn(1))\n",
    "    \n",
    "    m_weights = 0\n",
    "    m_biases = 0\n",
    "    \n",
    "    losses = []\n",
    "    \n",
    "    for _ in range(100):\n",
    "    \n",
    "        pred = np.sum((weights * X).T) + biases\n",
    "        \n",
    "        loss = np.sum((pred - y) ** 2)\n",
    "        losses.append(loss)\n",
    "        \n",
    "        if nestrov :\n",
    "\n",
    "            m_weights = (momentum * m_weights + (1 - momentum) * (weights - momentum * m_weights)) * -2 * loss \n",
    "            m_biases = (momentum * m_biases + (1 - momentum) * (weights - momentum * m_biases)) * -2 * loss\n",
    "\n",
    "        else :\n",
    "\n",
    "            m_weights = momentum * m_weights + (1 - momentum) * -2 * loss\n",
    "            m_biases = momentum * m_biases + (1 - momentum) * -2 * loss\n",
    "\n",
    "        if ema:\n",
    "            m_weights = ema_momentum * m_weights + (1 - ema_momentum) * -2 * loss\n",
    "            m_biases = ema_momentum * m_biases + (1 - ema_momentum) * -2 * loss\n",
    "\n",
    "        if clip_norm != None:\n",
    "            \n",
    "            weights = np.clip(weights , weights , clip_norm)\n",
    "            biases = np.clip(biases , biases , clip_norm)\n",
    "\n",
    "        if clip_value != None:\n",
    "            \n",
    "            m_weights = np.clip(m_weights , m_weights , clip_value)\n",
    "            m_biases = np.clip(m_biases , m_biases , clip_value)\n",
    "\n",
    "        weights -= (m_weights + weight_decay * m_weights) * learning_rate\n",
    "        biases -= (m_biases + weight_decay * m_biases) * learning_rate\n",
    "\n",
    "    return weights , biases , losses"
   ]
  },
  {
   "cell_type": "markdown",
   "id": "366dd9c1",
   "metadata": {
    "papermill": {
     "duration": 0.024597,
     "end_time": "2023-04-29T08:16:08.681483",
     "exception": false,
     "start_time": "2023-04-29T08:16:08.656886",
     "status": "completed"
    },
    "tags": []
   },
   "source": [
    "# 2.2 | Methods\n",
    "\n",
    "Now to add more functionalities, we will add different methods to our alogirthm, You can acces the list of methods we are going to use from the same link before we used for `Functionalities`. \n",
    "* ✅`build` - Initialize optimizer variables. SGD optimizer has one variable momentums, only set if self.momentum is not 0.\n",
    "* * ✅`weights` - Weights of the Optimizer\n",
    "* * ✅`biases` - biases of the Optimizer\n",
    "* ✅`compute_gradients` - Compute gradients of loss on trainable variables.\n",
    "* ✅`minimize` - Minimize loss by updating `var_list`.\n",
    "* ✅`update_step` - Update step given gradient and the associated model variable.\n",
    "\n",
    "**Note** - we will stop the function from being usable at some places\n",
    "\n",
    "# 2.2.1 | Build\n",
    "This method initializes all the values in the `SGD`, you can understand this as a constructor, but not perfectly as the one. \n",
    "\n",
    "We will give the user a functionality, that they can intialize there own variables. At the starting the `weights` and `baises` are `None`. If the user passes their own, the function first checks that they are or correct shape and if True assigns the values, else initialize random values "
   ]
  },
  {
   "cell_type": "code",
   "execution_count": 34,
   "id": "f7e881c6",
   "metadata": {
    "execution": {
     "iopub.execute_input": "2023-04-29T08:16:08.733776Z",
     "iopub.status.busy": "2023-04-29T08:16:08.732983Z",
     "iopub.status.idle": "2023-04-29T08:16:08.752278Z",
     "shell.execute_reply": "2023-04-29T08:16:08.750915Z"
    },
    "papermill": {
     "duration": 0.048521,
     "end_time": "2023-04-29T08:16:08.755104",
     "exception": false,
     "start_time": "2023-04-29T08:16:08.706583",
     "status": "completed"
    },
    "tags": []
   },
   "outputs": [],
   "source": [
    "class SGD:\n",
    "    \n",
    "    def __init__(self , \n",
    "                 X , y , \n",
    "                 learning_rate = 0.01 , momentum = 0 , \n",
    "                 nestrov = False , weight_decay = 0 , \n",
    "                 clip_norm = None , clip_value = None , \n",
    "                 use_ema = False , ema_momentum = 0):\n",
    "        \n",
    "        self.X = X\n",
    "        self.y = y\n",
    "        self.learning_rate = learning_rate\n",
    "        self.momentum = momentum\n",
    "        self.nestrov = nestrov\n",
    "        self.weight_decay = weight_decay\n",
    "        self.clip_norm = clip_norm\n",
    "        self.clip_value = clip_value\n",
    "        self.use_ema = use_ema\n",
    "        self.ema_momentum = ema_momentum\n",
    "    \n",
    "    def build(self , weights = None , biases = None):\n",
    "        \n",
    "        if weights == None:\n",
    "            \n",
    "            self.weights = abs(np.random.randn(self.X.shape[0]))\n",
    "        \n",
    "        else :\n",
    "            \n",
    "            if weights.shape[0] == self.X.shape[1]:\n",
    "                \n",
    "                self.weights = weights\n",
    "            \n",
    "            else :\n",
    "                \n",
    "                self.weights = abs(np.random.randn(self.X.shape[1]))\n",
    "                \n",
    "                raise UserWarning(\"Values do not match with the `X` , intializing random Values\")\n",
    "                \n",
    "        \n",
    "        if biases == None:\n",
    "            \n",
    "            self.biases = abs(np.random.randn(1))\n",
    "        \n",
    "        else :\n",
    "            \n",
    "            if biases.shape[0] == 1:\n",
    "                \n",
    "                self.biases = biases\n",
    "            \n",
    "            else :\n",
    "                \n",
    "                self.biases = abs(np.random.randn(1))\n",
    "                \n",
    "                raise UserWarning(\"Values do not match with the `X` , intializing random Values\")\n",
    "    \n",
    "        self.m_weights = 0\n",
    "        self.m_biases = 0\n",
    "    \n",
    "        self.losses = []\n",
    "    \n",
    "        for _ in range(100):\n",
    "        \n",
    "            pred = np.sum((weights * self.X).T) + biases\n",
    "            \n",
    "            loss = np.sum((pred - self.y) ** 2)\n",
    "            self.losses.append(loss)\n",
    "            \n",
    "            if self.nestrov :\n",
    "\n",
    "                self.m_weights = (self.momentum * self.m_weights + (1 - self.momentum) * (self.weights - self.momentum * self.m_weights)) * -2 * loss \n",
    "                self.m_biases = (self.momentum * self.m_biases + (1 - self.momentum) * (self.biases - self.momentum * self.m_biases)) * -2 * loss\n",
    "\n",
    "            else :\n",
    "\n",
    "                self.m_weights = self.momentum * self.m_weights + (1 - self.momentum) * -2 * loss\n",
    "                self.m_biases = self.momentum * self.m_biases + (1 - self.momentum) * -2 * loss\n",
    "            \n",
    "            if self.use_ema:\n",
    "                \n",
    "                self.m_weights = self.ema_momentum * self.m_weights + (1 - self.ema_momentum) * -2 * loss\n",
    "                self.m_biases = self.ema_momentum * self.m_biases + (1 - self.ema_momentum) * -2 * loss\n",
    "                \n",
    "            if self.clip_norm != None:\n",
    "                \n",
    "                weights = np.clip(weights , weights , self.clip_norm)\n",
    "                biases = np.clip(biases , biases , self.clip_norm)\n",
    "            \n",
    "            if self.clip_value != None:\n",
    "                \n",
    "                self.m_weights = np.clip(self.m_weights , self.m_weights , self.clip_value)\n",
    "                self.m_biases = np.clip(self.m_biases , self.m_biases , self.clip_value)\n",
    "            \n",
    "            weights -= (self.m_weights + self.weight_decay * self.m_weights) * self.learning_rate\n",
    "            biases -= (self.m_biases + self.weight_decay * self.m_biases) * self.learning_rate\n",
    "\n",
    "        return weights , biases , losses"
   ]
  },
  {
   "cell_type": "markdown",
   "id": "0f772b75",
   "metadata": {
    "papermill": {
     "duration": 0.024394,
     "end_time": "2023-04-29T08:16:08.804940",
     "exception": false,
     "start_time": "2023-04-29T08:16:08.780546",
     "status": "completed"
    },
    "tags": []
   },
   "source": [
    "# 2.2.2 | Compute Gradients\n",
    "\n",
    "Compuute the loss function and gradients for the losses "
   ]
  },
  {
   "cell_type": "code",
   "execution_count": 35,
   "id": "f393a447",
   "metadata": {
    "execution": {
     "iopub.execute_input": "2023-04-29T08:16:08.856560Z",
     "iopub.status.busy": "2023-04-29T08:16:08.855789Z",
     "iopub.status.idle": "2023-04-29T08:16:08.868973Z",
     "shell.execute_reply": "2023-04-29T08:16:08.867954Z"
    },
    "papermill": {
     "duration": 0.04167,
     "end_time": "2023-04-29T08:16:08.871510",
     "exception": false,
     "start_time": "2023-04-29T08:16:08.829840",
     "status": "completed"
    },
    "tags": []
   },
   "outputs": [],
   "source": [
    "class SGD:\n",
    "    \n",
    "    def __init__(self , \n",
    "                 X , y , \n",
    "                 learning_rate = 0.01 , momentum = 0 , \n",
    "                 nestrov = False , weight_decay = 0 , \n",
    "                 clip_norm = None , clip_value = None , \n",
    "                 use_ema = False , ema_momentum = 0):\n",
    "        \n",
    "        self.X = X\n",
    "        self.y = y\n",
    "        self.learning_rate = learning_rate\n",
    "        self.momentum = momentum\n",
    "        self.nestrov = nestrov\n",
    "        self.weight_decay = weight_decay\n",
    "        self.clip_norm = clip_norm\n",
    "        self.clip_value = clip_value\n",
    "        self.use_ema = use_ema\n",
    "        self.ema_momentum = ema_momentum\n",
    "    \n",
    "    def build(self , weights = None , biases = None):\n",
    "        \n",
    "        if weights == None:\n",
    "            \n",
    "            self.weights = abs(np.random.randn(self.X.shape[0]))\n",
    "        \n",
    "        else :\n",
    "            \n",
    "            if weights.shape[0] == self.X.shape[1]:\n",
    "                \n",
    "                self.weights = weights\n",
    "            \n",
    "            else :\n",
    "                \n",
    "                self.weights = abs(np.random.randn(self.X.shape[1]))\n",
    "                \n",
    "                raise UserWarning(\"Values do not match with the `X` , intializing random Values\")\n",
    "                \n",
    "        \n",
    "        if biases == None:\n",
    "            \n",
    "            self.biases = abs(np.random.randn(1))\n",
    "        \n",
    "        else :\n",
    "            \n",
    "            if biases.shape[0] == 1:\n",
    "                \n",
    "                self.biases = biases\n",
    "            \n",
    "            else :\n",
    "                \n",
    "                self.biases = abs(np.random.randn(1))\n",
    "                \n",
    "                raise UserWarning(\"Values do not match with the `X` , intializing random Values\")\n",
    "    \n",
    "        self.m_weights = 0\n",
    "        self.m_biases = 0\n",
    "    \n",
    "        self.losses = []\n",
    "\n",
    "    def comput_gradients(self , weights , biases):\n",
    "        \n",
    "            pred = np.sum((weights * self.X).T) + biases\n",
    "            \n",
    "            loss = np.sum((pred - self.y) ** 2)\n",
    "            \n",
    "            yield loss\n",
    "            \n",
    "            self.losses.append(loss)\n",
    "            \n",
    "        #     if self.nestrov :\n",
    "\n",
    "        #         self.m_weights = (self.momentum * self.m_weights + (1 - self.momentum) * (self.weights - self.momentum * self.m_weights)) * -2 * loss \n",
    "        #         self.m_biases = (self.momentum * self.m_biases + (1 - self.momentum) * (self.biases - self.momentum * self.m_biases)) * -2 * loss\n",
    "\n",
    "        #     else :\n",
    "\n",
    "        #         self.m_weights = self.momentum * self.m_weights + (1 - self.momentum) * -2 * loss\n",
    "        #         self.m_biases = self.momentum * self.m_biases + (1 - self.momentum) * -2 * loss\n",
    "            \n",
    "        #     if self.use_ema:\n",
    "                \n",
    "        #         self.m_weights = self.ema_momentum * self.momentum + (1 - self.ema_momentum) * -2 * loss\n",
    "        #         self.m_biases = self.ema_momentum * self.momentum + (1 - self.ema_momentum) * -2 * loss\n",
    "                \n",
    "        #     if self.clip_norm != None:\n",
    "                \n",
    "        #         weights = np.clip(weights , weights , self.clip_norm)\n",
    "        #         biases = np.clip(biases , biases , self.clip_norm)\n",
    "            \n",
    "        #     if self.clip_value != None:\n",
    "                \n",
    "        #         self.m_weights = np.clip(self.m_weights , self.m_weights , self.clip_value)\n",
    "        #         self.m_biases = np.clip(self.m_biases , self.m_biases , self.clip_value)\n",
    "            \n",
    "        #     weights -= (self.m_weights + self.weight_decay * self.m_weights) * self.learning_rate\n",
    "        #     biases -= (self.m_biases + self.weight_decay * self.m_biases) * self.learning_rate\n",
    "\n",
    "        # return weights , biases , losses"
   ]
  },
  {
   "cell_type": "markdown",
   "id": "359586ad",
   "metadata": {
    "papermill": {
     "duration": 0.024573,
     "end_time": "2023-04-29T08:16:08.920927",
     "exception": false,
     "start_time": "2023-04-29T08:16:08.896354",
     "status": "completed"
    },
    "tags": []
   },
   "source": [
    "# 2.2.3 | Minimize \n",
    "Minimze the loss values"
   ]
  },
  {
   "cell_type": "code",
   "execution_count": 36,
   "id": "a9668b0c",
   "metadata": {
    "execution": {
     "iopub.execute_input": "2023-04-29T08:16:08.973369Z",
     "iopub.status.busy": "2023-04-29T08:16:08.972934Z",
     "iopub.status.idle": "2023-04-29T08:16:08.989036Z",
     "shell.execute_reply": "2023-04-29T08:16:08.988105Z"
    },
    "papermill": {
     "duration": 0.045705,
     "end_time": "2023-04-29T08:16:08.991319",
     "exception": false,
     "start_time": "2023-04-29T08:16:08.945614",
     "status": "completed"
    },
    "tags": []
   },
   "outputs": [],
   "source": [
    "class SGD:\n",
    "    \n",
    "    def __init__(self , \n",
    "                 X , y , \n",
    "                 learning_rate = 0.01 , momentum = 0 , \n",
    "                 nestrov = False , weight_decay = 0 , \n",
    "                 clip_norm = None , clip_value = None , \n",
    "                 use_ema = False , ema_momentum = 0):\n",
    "        \n",
    "        self.X = X\n",
    "        self.y = y\n",
    "        self.learning_rate = learning_rate\n",
    "        self.momentum = momentum\n",
    "        self.nestrov = nestrov\n",
    "        self.weight_decay = weight_decay\n",
    "        self.clip_norm = clip_norm\n",
    "        self.clip_value = clip_value\n",
    "        self.use_ema = use_ema\n",
    "        self.ema_momentum = ema_momentum\n",
    "    \n",
    "    def build(self , weights = None , biases = None):\n",
    "        \n",
    "        if weights == None:\n",
    "            \n",
    "            self.weights = abs(np.random.randn(self.X.shape[0]))\n",
    "        \n",
    "        else :\n",
    "            \n",
    "            if weights.shape[0] == self.X.shape[1]:\n",
    "                \n",
    "                self.weights = weights\n",
    "            \n",
    "            else :\n",
    "                \n",
    "                self.weights = abs(np.random.randn(self.X.shape[1]))\n",
    "                \n",
    "                raise UserWarning(\"Values do not match with the `X` , intializing random Values\")\n",
    "                \n",
    "        \n",
    "        if biases == None:\n",
    "            \n",
    "            self.biases = abs(np.random.randn(1))\n",
    "        \n",
    "        else :\n",
    "            \n",
    "            if biases.shape[0] == 1:\n",
    "                \n",
    "                self.biases = biases\n",
    "            \n",
    "            else :\n",
    "                \n",
    "                self.biases = abs(np.random.randn(1))\n",
    "                \n",
    "                raise UserWarning(\"Values do not match with the `X` , intializing random Values\")\n",
    "    \n",
    "        self.m_weights = 0\n",
    "        self.m_biases = 0\n",
    "    \n",
    "        self.losses = []\n",
    "\n",
    "    def comput_gradients(self , weights , biases):\n",
    "        \n",
    "            pred = np.sum((weights * self.X).T) + biases\n",
    "            \n",
    "            loss = np.sum((pred - self.y) ** 2)\n",
    "            \n",
    "            yield loss\n",
    "            \n",
    "            self.losses.append(loss)\n",
    "            \n",
    "        #     if self.nestrov :\n",
    "\n",
    "        #         self.m_weights = (self.momentum * self.m_weights + (1 - self.momentum) * (self.weights - self.momentum * self.m_weights)) * -2 * loss \n",
    "        #         self.m_biases = (self.momentum * self.m_biases + (1 - self.momentum) * (self.biases - self.momentum * self.m_biases)) * -2 * loss\n",
    "\n",
    "        #     else :\n",
    "\n",
    "        #         self.m_weights = self.momentum * self.m_weights + (1 - self.momentum) * -2 * loss\n",
    "        #         self.m_biases = self.momentum * self.m_biases + (1 - self.momentum) * -2 * loss\n",
    "            \n",
    "        #     if self.use_ema:\n",
    "                \n",
    "        #         self.m_weights = self.ema_momentum * self.momentum + (1 - self.ema_momentum) * -2 * loss\n",
    "        #         self.m_biases = self.ema_momentum * self.momentum + (1 - self.ema_momentum) * -2 * loss\n",
    "    def minimize(self):                \n",
    "        if self.clip_norm != None:\n",
    "            \n",
    "            weights = np.clip(weights , weights , self.clip_norm)\n",
    "            biases = np.clip(biases , biases , self.clip_norm)\n",
    "        \n",
    "        if self.clip_value != None:\n",
    "            \n",
    "            self.m_weights = np.clip(self.m_weights , self.m_weights , self.clip_value)\n",
    "            self.m_biases = np.clip(self.m_biases , self.m_biases , self.clip_value)\n",
    "        \n",
    "        weights -= (self.m_weights + self.weight_decay * self.m_weights) * self.learning_rate\n",
    "        biases -= (self.m_biases + self.weight_decay * self.m_biases) * self.learning_rate\n",
    "\n",
    "        # return weights , biases , losses"
   ]
  },
  {
   "cell_type": "markdown",
   "id": "8dda6fc9",
   "metadata": {
    "papermill": {
     "duration": 0.024848,
     "end_time": "2023-04-29T08:16:09.040960",
     "exception": false,
     "start_time": "2023-04-29T08:16:09.016112",
     "status": "completed"
    },
    "tags": []
   },
   "source": [
    "# 2.2.4 | Update_Step"
   ]
  },
  {
   "cell_type": "code",
   "execution_count": 37,
   "id": "9d05ce8c",
   "metadata": {
    "execution": {
     "iopub.execute_input": "2023-04-29T08:16:09.092889Z",
     "iopub.status.busy": "2023-04-29T08:16:09.092471Z",
     "iopub.status.idle": "2023-04-29T08:16:09.111673Z",
     "shell.execute_reply": "2023-04-29T08:16:09.110731Z"
    },
    "papermill": {
     "duration": 0.048462,
     "end_time": "2023-04-29T08:16:09.114100",
     "exception": false,
     "start_time": "2023-04-29T08:16:09.065638",
     "status": "completed"
    },
    "tags": []
   },
   "outputs": [],
   "source": [
    "class SGD:\n",
    "    \n",
    "    def __init__(self , \n",
    "                 X , y , \n",
    "                 learning_rate = 0.01 , momentum = 0 , \n",
    "                 nestrov = False , weight_decay = 0 , \n",
    "                 clip_norm = None , clip_value = None , \n",
    "                 use_ema = False , ema_momentum = 0):\n",
    "        \n",
    "        self.X = X\n",
    "        self.y = y\n",
    "        self.learning_rate = learning_rate\n",
    "        self.momentum = momentum\n",
    "        self.nestrov = nestrov\n",
    "        self.weight_decay = weight_decay\n",
    "        self.clip_norm = clip_norm\n",
    "        self.clip_value = clip_value\n",
    "        self.use_ema = use_ema\n",
    "        self.ema_momentum = ema_momentum\n",
    "    \n",
    "    def build(self , weights = None , biases = None):\n",
    "        \n",
    "        if weights == None:\n",
    "            \n",
    "            self.weights = abs(np.random.randn(self.X.shape[0]))\n",
    "        \n",
    "        else :\n",
    "            \n",
    "            if weights.shape[0] == self.X.shape[1]:\n",
    "                \n",
    "                self.weights = weights\n",
    "            \n",
    "            else :\n",
    "                \n",
    "                self.weights = abs(np.random.randn(self.X.shape[1]))\n",
    "                \n",
    "                raise UserWarning(\"Values do not match with the `X` , intializing random Values\")\n",
    "                \n",
    "        \n",
    "        if biases == None:\n",
    "            \n",
    "            self.biases = abs(np.random.randn(1))\n",
    "        \n",
    "        else :\n",
    "            \n",
    "            if biases.shape[0] == 1:\n",
    "                \n",
    "                self.biases = biases\n",
    "            \n",
    "            else :\n",
    "                \n",
    "                self.biases = abs(np.random.randn(1))\n",
    "                \n",
    "                raise UserWarning(\"Values do not match with the `X` , intializing random Values\")\n",
    "    \n",
    "        self.m_weights = 0\n",
    "        self.m_biases = 0\n",
    "    \n",
    "        self.losses = []\n",
    "\n",
    "    def comput_gradients(self , weights , biases):\n",
    "        \n",
    "            pred = np.sum((weights * self.X).T) + biases\n",
    "            \n",
    "            loss = np.sum((pred - self.y) ** 2)\n",
    "            \n",
    "            yield loss\n",
    "            \n",
    "            self.losses.append(loss)\n",
    "            \n",
    "    def update_step(self , loss):\n",
    "\n",
    "        if self.nestrov :\n",
    "\n",
    "            self.m_weights = (self.momentum * self.m_weights + (1 - self.momentum) * (self.weights - self.momentum * self.m_weights)) * -2 * loss \n",
    "            self.m_biases = (self.momentum * self.m_biases + (1 - self.momentum) * (self.biases - self.momentum * self.m_biases)) * -2 * loss\n",
    "\n",
    "        else :\n",
    "\n",
    "            self.m_weights = self.momentum * self.m_weights + (1 - self.momentum) * -2 * loss\n",
    "            self.m_biases = self.momentum * self.m_biases + (1 - self.momentum) * -2 * loss\n",
    "\n",
    "        if self.use_ema:\n",
    "\n",
    "            self.m_weights = self.ema_momentum * self.m_weights + (1 - self.ema_momentum) * -2 * loss\n",
    "            self.m_biases = self.ema_momentum * self.m_biases + (1 - self.ema_momentum) * -2 * loss\n",
    "    def minimize(self):                \n",
    "        if self.clip_norm != None:\n",
    "            \n",
    "            weights = np.clip(weights , weights , self.clip_norm)\n",
    "            biases = np.clip(biases , biases , self.clip_norm)\n",
    "        \n",
    "        if self.clip_value != None:\n",
    "            \n",
    "            self.m_weights = np.clip(self.m_weights , self.m_weights , self.clip_value)\n",
    "            self.m_biases = np.clip(self.m_biases , self.m_biases , self.clip_value)\n",
    "        \n",
    "        weights -= (self.m_weights + self.weight_decay * self.m_weights) * self.learning_rate\n",
    "        biases -= (self.m_biases + self.weight_decay * self.m_biases) * self.learning_rate\n",
    "\n",
    "        # return weights , biases , losses"
   ]
  },
  {
   "cell_type": "markdown",
   "id": "f068ffe6",
   "metadata": {
    "papermill": {
     "duration": 0.024616,
     "end_time": "2023-04-29T08:16:09.163448",
     "exception": false,
     "start_time": "2023-04-29T08:16:09.138832",
     "status": "completed"
    },
    "tags": []
   },
   "source": [
    "# 2.2 | SGD Final Source Code"
   ]
  },
  {
   "cell_type": "code",
   "execution_count": 38,
   "id": "8b7dd171",
   "metadata": {
    "execution": {
     "iopub.execute_input": "2023-04-29T08:16:09.215151Z",
     "iopub.status.busy": "2023-04-29T08:16:09.214403Z",
     "iopub.status.idle": "2023-04-29T08:16:09.233873Z",
     "shell.execute_reply": "2023-04-29T08:16:09.232655Z"
    },
    "papermill": {
     "duration": 0.048557,
     "end_time": "2023-04-29T08:16:09.236710",
     "exception": false,
     "start_time": "2023-04-29T08:16:09.188153",
     "status": "completed"
    },
    "tags": []
   },
   "outputs": [],
   "source": [
    "class SGD:\n",
    "    \n",
    "    def __init__(self , \n",
    "                 X , y , \n",
    "                 learning_rate = 0.01 , momentum = 0 , \n",
    "                 nestrov = False , weight_decay = 0 , \n",
    "                 clip_norm = None , clip_value = None , \n",
    "                 use_ema = False , ema_momentum = 0):\n",
    "        \n",
    "        self.X = X\n",
    "        self.y = y\n",
    "        self.learning_rate = learning_rate\n",
    "        self.momentum = momentum\n",
    "        self.nestrov = nestrov\n",
    "        self.weight_decay = weight_decay\n",
    "        self.clip_norm = clip_norm\n",
    "        self.clip_value = clip_value\n",
    "        self.use_ema = use_ema\n",
    "        self.ema_momentum = ema_momentum\n",
    "    \n",
    "    def build(self , weights = None , biases = None):\n",
    "        \n",
    "        if weights == None:\n",
    "            \n",
    "            self.weights = abs(np.random.randn(self.X.shape[0]))\n",
    "        \n",
    "        else :\n",
    "            \n",
    "            if weights.shape[0] == self.X.shape[1]:\n",
    "                \n",
    "                self.weights = weights\n",
    "            \n",
    "            else :\n",
    "                \n",
    "                self.weights = abs(np.random.randn(self.X.shape[1]))\n",
    "                \n",
    "                raise UserWarning(\"Values do not match with the `X` , intializing random Values\")\n",
    "                \n",
    "        \n",
    "        if biases == None:\n",
    "            \n",
    "            self.biases = abs(np.random.randn(1))\n",
    "        \n",
    "        else :\n",
    "            \n",
    "            if biases.shape[0] == 1:\n",
    "                \n",
    "                self.biases = biases\n",
    "            \n",
    "            else :\n",
    "                \n",
    "                self.biases = abs(np.random.randn(1))\n",
    "                \n",
    "                raise UserWarning(\"Values do not match with the `X` , intializing random Values\")\n",
    "    \n",
    "        self.m_weights = 0\n",
    "        self.m_biases = 0\n",
    "    \n",
    "        self.losses = []\n",
    "\n",
    "    def comput_gradients(self , weights , biases):\n",
    "        \n",
    "            pred = np.sum((weights * self.X).T) + biases\n",
    "            \n",
    "            loss = np.sum((pred - self.y) ** 2)\n",
    "            \n",
    "            yield loss\n",
    "            \n",
    "            self.losses.append(loss)\n",
    "    def update_step(self , loss):    \n",
    "        \n",
    "        if self.nestrov :\n",
    "\n",
    "            self.m_weights = (self.momentum * self.m_weights + (1 - self.momentum) * (self.weights - self.momentum * self.m_weights)) * -2 * loss \n",
    "            self.m_biases = (self.momentum * self.m_biases + (1 - self.momentum) * (self.biases - self.momentum * self.m_biases)) * -2 * loss\n",
    "\n",
    "        else :\n",
    "\n",
    "            self.m_weights = self.momentum * self.m_weights + (1 - self.momentum) * -2 * loss\n",
    "            self.m_biases = self.momentum * self.m_biases + (1 - self.momentum) * -2 * loss\n",
    "        \n",
    "        if self.use_ema:\n",
    "            \n",
    "            self.m_weights = self.ema_momentum * self.m_weights + (1 - self.ema_momentum) * -2 * loss\n",
    "            self.m_biases = self.ema_momentum * self.m_weights + (1 - self.ema_momentum) * -2 * loss\n",
    "    \n",
    "    def minimize(self):                \n",
    "        if self.clip_norm != None:\n",
    "            \n",
    "            weights = np.clip(weights , weights , self.clip_norm)\n",
    "            biases = np.clip(biases , biases , self.clip_norm)\n",
    "        \n",
    "        if self.clip_value != None:\n",
    "            \n",
    "            self.m_weights = np.clip(self.m_weights , self.m_weights , self.clip_value)\n",
    "            self.m_biases = np.clip(self.m_biases , self.m_biases , self.clip_value)\n",
    "        \n",
    "        weights -= (self.m_weights + self.weight_decay * self.m_weights) * self.learning_rate\n",
    "        biases -= (self.m_biases + self.weight_decay * self.m_biases) * self.learning_rate\n",
    "\n",
    "        return weights , biases , losses"
   ]
  },
  {
   "cell_type": "markdown",
   "id": "ef932062",
   "metadata": {
    "papermill": {
     "duration": 0.024338,
     "end_time": "2023-04-29T08:16:09.285837",
     "exception": false,
     "start_time": "2023-04-29T08:16:09.261499",
     "status": "completed"
    },
    "tags": []
   },
   "source": [
    "# 3 | RMS Prop\n",
    "So what is this `RMSProp` and why the hell do we need this thing \n",
    "\n",
    "So actually there were some problems with `SGD`. I just searched on ChatGPT and found that \n",
    "* SGD was applying a fixed learning rate in every situation, and RMSProp adapts the learning rate for the situation\n",
    "* SGD is not really good with sparse inputs, and RMSProp works good with sparse inputs too\n",
    "We know a little bit about `SGD` before the basic vanilla formula for SGD is \n",
    "$$p_{n} = p_{n-1} - \\frac {dLoss}{dp}\\alpha$$\n",
    "The formula for `RMSProp` is simple as hell\n",
    "****\n",
    "$$v_t = \\beta v_{t-1} + (1 - \\beta)\\frac{dLoss}{dp}$$\n",
    "$$u = \\frac {n}{\\sqrt{v_t + e}}\\frac{dLoss}{dp}$$\n",
    "$$p_n = p_{n-1} - u$$\n",
    "****\n",
    "We know everything in this fomrula except of this one guy $e$, what is this $e$ doing here. Lets assume at some point the weight of one feature has became purely $0$. One way to think about this is as that feature doesnt contribute litrally anything to target values, then as we are dividing by `weight`  which is $0$, we will get error, as division by $0$ is not possible, thats why we add a terms $e$ in the weights. the $e$ is so small that when the weights have some value, it doesnt really make any sense, and if the values are $0$. it prevents from $0$ division\n",
    "Remeber this code...?\n",
    "\n",
    "We can modify this a little bit and we can find the code for `RMSProp`"
   ]
  },
  {
   "cell_type": "code",
   "execution_count": 39,
   "id": "67fdf69e",
   "metadata": {
    "_kg_hide-input": true,
    "execution": {
     "iopub.execute_input": "2023-04-29T08:16:09.337317Z",
     "iopub.status.busy": "2023-04-29T08:16:09.336886Z",
     "iopub.status.idle": "2023-04-29T08:16:09.346084Z",
     "shell.execute_reply": "2023-04-29T08:16:09.345058Z"
    },
    "papermill": {
     "duration": 0.037647,
     "end_time": "2023-04-29T08:16:09.348214",
     "exception": false,
     "start_time": "2023-04-29T08:16:09.310567",
     "status": "completed"
    },
    "tags": []
   },
   "outputs": [],
   "source": [
    "def SGD(X , y , learning_rate = 0.01 , momentum = 0):\n",
    "    \n",
    "    weights = abs(np.random.randn(X.shape[1]))\n",
    "    biases = abs(np.random.randn(1))\n",
    "\n",
    "    m_weights = [0] * (100 + 1)\n",
    "    m_biases = [0] * (100 + 1)\n",
    "\n",
    "    predic = []\n",
    "    losses = []\n",
    "\n",
    "    for epochs in range(100):\n",
    "\n",
    "        pred = np.sum((weights * X).T) + biases\n",
    "        \n",
    "        loss = np.sum(pred - y)\n",
    "        losses.append(loss)\n",
    "\n",
    "        m_weights[epochs + 1] = momentum * m_weights[epochs] + (1 - momentum) * (-2 * loss)\n",
    "        m_biases[epochs + 1] = momentum * m_biases[epochs] + (1 - momentum) * (-2 * loss)\n",
    "        \n",
    "        weights -= m_weights[epochs + 1] * 0.01\n",
    "        biases -= m_biases[epochs + 1] * 0.01\n",
    "\n",
    "    return weights , biases , losses"
   ]
  },
  {
   "cell_type": "code",
   "execution_count": 40,
   "id": "74756c9e",
   "metadata": {
    "execution": {
     "iopub.execute_input": "2023-04-29T08:16:09.399737Z",
     "iopub.status.busy": "2023-04-29T08:16:09.399301Z",
     "iopub.status.idle": "2023-04-29T08:16:09.407808Z",
     "shell.execute_reply": "2023-04-29T08:16:09.406658Z"
    },
    "papermill": {
     "duration": 0.036751,
     "end_time": "2023-04-29T08:16:09.409934",
     "exception": false,
     "start_time": "2023-04-29T08:16:09.373183",
     "status": "completed"
    },
    "tags": []
   },
   "outputs": [],
   "source": [
    "def rms_prop(X , y):\n",
    "    \n",
    "    weights = abs(np.random.randn(X.shape[1]))\n",
    "    biases = abs(np.random.randn(1))\n",
    "\n",
    "    m_weights = 0\n",
    "    m_biases = 0\n",
    "\n",
    "    losses = []\n",
    "\n",
    "    for epochs in range(100):\n",
    "\n",
    "        pred = np.sum((weights * X).T) + biases\n",
    "        \n",
    "        loss = np.sum(pred - y)\n",
    "        losses.append(loss)\n",
    "\n",
    "        l_weights = 0 * l_weights + (1 - 0) * (-2 * loss)\n",
    "        l_biases = 0 * l_biases + (1 - 0) * (-2 * loss)\n",
    "        \n",
    "        weights -= 1/np.sqrt(l_weights + 1e-6) * 0.01\n",
    "        biases -= 1/np.sqrt(l_biases + 1e-6) * 0.01\n",
    "\n",
    "    return weights , biases , losses"
   ]
  },
  {
   "cell_type": "markdown",
   "id": "8e2ea7d8",
   "metadata": {
    "papermill": {
     "duration": 0.024114,
     "end_time": "2023-04-29T08:16:09.459127",
     "exception": false,
     "start_time": "2023-04-29T08:16:09.435013",
     "status": "completed"
    },
    "tags": []
   },
   "source": [
    "And now we have our code for the `RMSProp` "
   ]
  },
  {
   "cell_type": "markdown",
   "id": "fc60b57c",
   "metadata": {
    "papermill": {
     "duration": 0.02379,
     "end_time": "2023-04-29T08:16:09.507152",
     "exception": false,
     "start_time": "2023-04-29T08:16:09.483362",
     "status": "completed"
    },
    "tags": []
   },
   "source": [
    "# 3.1 | Functionalities\n",
    "Now lets add some functionalieties to our code as we did before to make it more usable\n",
    "* ✅`learning_rate` - Initial value for the learning rate: either a floating point value, or a **[tf](https://www.tensorflow.org/)=>[keras](https://keras.io/)=>[optimizers](https://www.tensorflow.org/api_docs/python/tf/keras/optimizers)=>[schedules](https://www.tensorflow.org/api_docs/python/tf/keras/optimizers/schedules)=>[LearningRateSchedule](https://www.tensorflow.org/api_docs/python/tf/keras/optimizers/schedules/LearningRateSchedule)** instance. Defaults to $0.001$.\n",
    "* ✅`rho` - float, defaults to $0.9$. Discounting factor for the old gradients.\n",
    "* ✅`momentum` - float, defaults to $0.0$. If not $0.0$., the optimizer tracks the momentum value, with a decay rate equals to $1$ - momentum.\n",
    "* ✅`epsilon` - A small constant for numerical stability. This epsilon is \"epsilon hat\" in the Kingma and Ba paper (in the formula just before Section 2.1), not the epsilon in Algorithm 1 of the paper. Defaults to $1e-7$.\n",
    "* ✅`clipnorm` - Float. If set, the gradient of each weight is individually clipped so that its norm is no higher than this value.\n",
    "* ✅`clipvalue` - Float. If set, the gradient of each weight is clipped to be no higher than this value.\n",
    "# 3.1.1 | Learning Rate\n",
    "\n",
    "It is the learning rate with how the model learns, we had a discussion about this when we were creating the `SGD`. Just scroll a little up and you will find that "
   ]
  },
  {
   "cell_type": "code",
   "execution_count": 41,
   "id": "ce8bf365",
   "metadata": {
    "execution": {
     "iopub.execute_input": "2023-04-29T08:16:09.557441Z",
     "iopub.status.busy": "2023-04-29T08:16:09.556991Z",
     "iopub.status.idle": "2023-04-29T08:16:09.564973Z",
     "shell.execute_reply": "2023-04-29T08:16:09.564091Z"
    },
    "papermill": {
     "duration": 0.035679,
     "end_time": "2023-04-29T08:16:09.566993",
     "exception": false,
     "start_time": "2023-04-29T08:16:09.531314",
     "status": "completed"
    },
    "tags": []
   },
   "outputs": [],
   "source": [
    "def rms_prop(X , y , learning_rate = 0.01):\n",
    "    \n",
    "    weights = abs(np.random.randn(X.shape[1]))\n",
    "    biases = abs(np.random.randn(1))\n",
    "\n",
    "    m_weights = 0\n",
    "    m_biases = 0\n",
    "    predic = []\n",
    "\n",
    "    for epochs in range(100):\n",
    "\n",
    "        pred = np.sum((weights * X).T) + biases\n",
    "        \n",
    "        loss = np.sum(pred - y)\n",
    "        losses.append(loss)\n",
    "\n",
    "        l_weights = 0 * l_weights + (1 - 0) * (-2 * loss)\n",
    "        l_biases = 0 * l_biases + (1 - 0) * (-2 * loss)\n",
    "        \n",
    "        weights -= 1/np.sqrt(l_weights + 1e-6) * learning_rate\n",
    "        biases -= 1/np.sqrt(l_biases + 1e-6) * learning_rate\n",
    "\n",
    "    return weights , biases , losses"
   ]
  },
  {
   "cell_type": "markdown",
   "id": "a2f88623",
   "metadata": {
    "papermill": {
     "duration": 0.02419,
     "end_time": "2023-04-29T08:16:09.616025",
     "exception": false,
     "start_time": "2023-04-29T08:16:09.591835",
     "status": "completed"
    },
    "tags": []
   },
   "source": [
    "# 3.1.2 | Rho\n",
    "This is the $\\beta$ we saw in the formula, we had made our algortihtm such that the $\\beta$ was $0$, now we will replace that $0$ with a vraible, that the user can change"
   ]
  },
  {
   "cell_type": "code",
   "execution_count": 42,
   "id": "27ae1cff",
   "metadata": {
    "execution": {
     "iopub.execute_input": "2023-04-29T08:16:09.666177Z",
     "iopub.status.busy": "2023-04-29T08:16:09.665744Z",
     "iopub.status.idle": "2023-04-29T08:16:09.673638Z",
     "shell.execute_reply": "2023-04-29T08:16:09.672787Z"
    },
    "papermill": {
     "duration": 0.035682,
     "end_time": "2023-04-29T08:16:09.675757",
     "exception": false,
     "start_time": "2023-04-29T08:16:09.640075",
     "status": "completed"
    },
    "tags": []
   },
   "outputs": [],
   "source": [
    "def rms_prop(X , y , learning_rate = 0.01 , rho = 0.9):\n",
    "    \n",
    "    weights = abs(np.random.randn(X.shape[1]))\n",
    "    biases = abs(np.random.randn(1))\n",
    "\n",
    "    m_weights = 0\n",
    "    m_biases = 0\n",
    "\n",
    "    predic = []\n",
    "\n",
    "    for epochs in range(100):\n",
    "\n",
    "        pred = np.sum((weights * X).T) + biases\n",
    "        \n",
    "        loss = np.sum(pred - y)\n",
    "        losses.append(loss)\n",
    "\n",
    "        l_weights = rho * l_weights + (1 - rho) * (-2 * loss)\n",
    "        l_biases = rho * l_biases + (1 - rho) * (-2 * loss)\n",
    "        \n",
    "        weights -= 1/np.sqrt(l_weights + 1e-6) * learning_rate\n",
    "        biases -= 1/np.sqrt(l_biases + 1e-6) * learning_rate\n",
    "\n",
    "    return weights , biases , losses"
   ]
  },
  {
   "cell_type": "markdown",
   "id": "3171c6f6",
   "metadata": {
    "papermill": {
     "duration": 0.024127,
     "end_time": "2023-04-29T08:16:09.724615",
     "exception": false,
     "start_time": "2023-04-29T08:16:09.700488",
     "status": "completed"
    },
    "tags": []
   },
   "source": [
    "# 3.1.3 | Momentum\n",
    "\n",
    "Momentum allows the optimizer to build up velocity in directions with consistent gradients, leading to faster convergence. It can also help to reduce oscillations in the optimization process by smoothing out variations in the gradient updates. The combination of RMSprop and momentum can lead to more efficient and effective training of deep neural networks.\n",
    "\n",
    "$$m = \\gamma m + (1 - \\gamma)\\frac {dLoss}{dp}$$"
   ]
  },
  {
   "cell_type": "code",
   "execution_count": 43,
   "id": "a9c8bd6f",
   "metadata": {
    "execution": {
     "iopub.execute_input": "2023-04-29T08:16:09.777176Z",
     "iopub.status.busy": "2023-04-29T08:16:09.776717Z",
     "iopub.status.idle": "2023-04-29T08:16:09.786779Z",
     "shell.execute_reply": "2023-04-29T08:16:09.785474Z"
    },
    "papermill": {
     "duration": 0.039253,
     "end_time": "2023-04-29T08:16:09.789118",
     "exception": false,
     "start_time": "2023-04-29T08:16:09.749865",
     "status": "completed"
    },
    "tags": []
   },
   "outputs": [],
   "source": [
    "def rms_prop(X , y , learning_rate = 0.01 , rho = 0.9 , momentum = 0):\n",
    "    \n",
    "    weights = abs(np.random.randn(X.shape[1]))\n",
    "    biases = abs(np.random.randn(1))\n",
    "\n",
    "    m_weights = 0\n",
    "    m_biases = 0\n",
    "\n",
    "    u_weights = 0\n",
    "    u_biases = 0\n",
    "\n",
    "    predic = []\n",
    "\n",
    "    for epochs in range(100):\n",
    "\n",
    "        pred = np.sum((weights * X).T) + biases\n",
    "        \n",
    "        loss = np.sum(pred - y)\n",
    "        losses.append(loss)\n",
    "\n",
    "        u_weights = rho * l_weights + (1 - rho) * (-2 * loss)\n",
    "        u_biases = rho * l_biases + (1 - rho) * (-2 * loss)\n",
    "\n",
    "        m_weights = momentum * m_weights + (1 - momentum) * loss\n",
    "        m_biases = momentum * m_biases + (1 - momentum) * loss\n",
    "        \n",
    "        weights -= (1/np.sqrt(u_weights + 1e-6) * 1 / np.sqrt(m_weights + 1e-6)) * learning_rate\n",
    "        biases -= (1/np.sqrt(u_biases + 1e-6) * 1 / np.sqrt(m_boases + 1e-6)) * learning_rate\n",
    "\n",
    "    return weights , biases , losses"
   ]
  },
  {
   "cell_type": "markdown",
   "id": "38a475cd",
   "metadata": {
    "papermill": {
     "duration": 0.023948,
     "end_time": "2023-04-29T08:16:09.837986",
     "exception": false,
     "start_time": "2023-04-29T08:16:09.814038",
     "status": "completed"
    },
    "tags": []
   },
   "source": [
    "# 3.1.4 | Epsilon\n",
    "\n",
    "In RMSprop, epsilon is a small constant used to prevent division by zero and improve numerical stability during the calculation of the adaptive learning rate. It is added to the denominator of the weight update equation to ensure that the divisor is always positive. Epsilon is typically set to a small value, such as 1e-8, and has a minimal impact on the optimization process."
   ]
  },
  {
   "cell_type": "code",
   "execution_count": 44,
   "id": "2c0ca8eb",
   "metadata": {
    "execution": {
     "iopub.execute_input": "2023-04-29T08:16:09.888057Z",
     "iopub.status.busy": "2023-04-29T08:16:09.887507Z",
     "iopub.status.idle": "2023-04-29T08:16:09.897835Z",
     "shell.execute_reply": "2023-04-29T08:16:09.896467Z"
    },
    "papermill": {
     "duration": 0.038019,
     "end_time": "2023-04-29T08:16:09.900161",
     "exception": false,
     "start_time": "2023-04-29T08:16:09.862142",
     "status": "completed"
    },
    "tags": []
   },
   "outputs": [],
   "source": [
    "def rms_prop(X , y , learning_rate = 0.01 , rho = 0.9 , momentum = 0 , epsilon = 1e-7):\n",
    "    \n",
    "    weights = abs(np.random.randn(X.shape[1]))\n",
    "    biases = abs(np.random.randn(1))\n",
    "\n",
    "    m_weights = 0\n",
    "    m_biases = 0\n",
    "\n",
    "    u_weights = 0\n",
    "    u_biases = 0\n",
    "\n",
    "    predic = []\n",
    "\n",
    "    for epochs in range(100):\n",
    "\n",
    "        pred = np.sum((weights * X).T) + biases\n",
    "        \n",
    "        loss = np.sum(pred - y)\n",
    "        losses.append(loss)\n",
    "\n",
    "        u_weights = rho * l_weights + (1 - rho) * (-2 * loss)\n",
    "        u_biases = rho * l_biases + (1 - rho) * (-2 * loss)\n",
    "\n",
    "        m_weights = momentum * m_weights + (1 - momentum) * loss\n",
    "        m_biases = momentum * m_biases + (1 - momentum) * loss\n",
    "        \n",
    "        weights -= (1/np.sqrt(u_weights + epsilon) * 1 / np.sqrt(m_weights + epsilon)) * learning_rate\n",
    "        biases -= (1/np.sqrt(u_biases + epsilon) * 1 / np.sqrt(m_boases + epsilon)) * learning_rate\n",
    "\n",
    "    return weights , biases , losses"
   ]
  },
  {
   "cell_type": "markdown",
   "id": "84c15a4a",
   "metadata": {
    "papermill": {
     "duration": 0.024228,
     "end_time": "2023-04-29T08:16:09.949004",
     "exception": false,
     "start_time": "2023-04-29T08:16:09.924776",
     "status": "completed"
    },
    "tags": []
   },
   "source": [
    "# 3.1.5 | Clipnorm\n",
    "The `clipnorm` parameter in `RMSprop` is used to prevent the gradient from becoming too large during training, which can cause instability or divergence. When clipnorm is set, the gradient is clipped to a maximum norm value, effectively scaling the gradient if its norm exceeds the specified value. This helps to ensure that the updates to the weights are not too large and that the optimization process remains stable."
   ]
  },
  {
   "cell_type": "code",
   "execution_count": 45,
   "id": "28a11179",
   "metadata": {
    "execution": {
     "iopub.execute_input": "2023-04-29T08:16:10.001022Z",
     "iopub.status.busy": "2023-04-29T08:16:10.000566Z",
     "iopub.status.idle": "2023-04-29T08:16:10.011448Z",
     "shell.execute_reply": "2023-04-29T08:16:10.010612Z"
    },
    "papermill": {
     "duration": 0.039338,
     "end_time": "2023-04-29T08:16:10.013663",
     "exception": false,
     "start_time": "2023-04-29T08:16:09.974325",
     "status": "completed"
    },
    "tags": []
   },
   "outputs": [],
   "source": [
    "def rms_prop(X , y , learning_rate = 0.01 , rho = 0.9 , momentum = 0 , epsilon = 1e-7 , clip_norm = None):\n",
    "    \n",
    "    weights = abs(np.random.randn(X.shape[1]))\n",
    "    biases = abs(np.random.randn(1))\n",
    "\n",
    "    m_weights = 0\n",
    "    m_biases = 0\n",
    "\n",
    "    u_weights = 0\n",
    "    u_biases = 0\n",
    "\n",
    "    predic = []\n",
    "\n",
    "    for epochs in range(100):\n",
    "\n",
    "        pred = np.sum((weights * X).T) + biases\n",
    "        \n",
    "        loss = np.sum(pred - y)\n",
    "        losses.append(loss)\n",
    "\n",
    "        u_weights = rho * l_weights + (1 - rho) * (-2 * loss)\n",
    "        u_biases = rho * l_biases + (1 - rho) * (-2 * loss)\n",
    "\n",
    "        m_weights = momentum * m_weights + (1 - momentum) * loss\n",
    "        m_biases = momentum * m_biases + (1 - momentum) * loss\n",
    "\n",
    "        if clip_norm != None:\n",
    "            \n",
    "            weights = np.clip(weights , weights , clip_norm)\n",
    "            biases = np.clip(biases , biases , clip_norm)\n",
    "            \n",
    "        weights -= (1/np.sqrt(u_weights + epsilon) * 1 / np.sqrt(m_weights + epsilon)) * learning_rate\n",
    "        biases -= (1/np.sqrt(u_biases + epsilon) * 1 / np.sqrt(m_boases + epsilon)) * learning_rate\n",
    "\n",
    "    return weights , biases , losses"
   ]
  },
  {
   "cell_type": "markdown",
   "id": "0986d5dc",
   "metadata": {
    "papermill": {
     "duration": 0.024193,
     "end_time": "2023-04-29T08:16:10.061812",
     "exception": false,
     "start_time": "2023-04-29T08:16:10.037619",
     "status": "completed"
    },
    "tags": []
   },
   "source": [
    "# 3.1.6 | Clip Value\n",
    "\n",
    "If the gradient is larger than the clipvalue threshold, it will be clipped to that value. If the gradient is smaller than the negative clipvalue threshold, it will be clipped to that negative value. This ensures that the gradient remains within a certain range, which can prevent numerical instability and improve convergence."
   ]
  },
  {
   "cell_type": "code",
   "execution_count": 46,
   "id": "ba7611fa",
   "metadata": {
    "execution": {
     "iopub.execute_input": "2023-04-29T08:16:10.112375Z",
     "iopub.status.busy": "2023-04-29T08:16:10.111956Z",
     "iopub.status.idle": "2023-04-29T08:16:10.123391Z",
     "shell.execute_reply": "2023-04-29T08:16:10.122541Z"
    },
    "papermill": {
     "duration": 0.039396,
     "end_time": "2023-04-29T08:16:10.125437",
     "exception": false,
     "start_time": "2023-04-29T08:16:10.086041",
     "status": "completed"
    },
    "tags": []
   },
   "outputs": [],
   "source": [
    "def rms_prop(X , y , learning_rate = 0.01 , rho = 0.9 , momentum = 0 , epsilon = 1e-7 , clip_norm = None , clip_value = None):\n",
    "    \n",
    "    weights = abs(np.random.randn(X.shape[1]))\n",
    "    biases = abs(np.random.randn(1))\n",
    "\n",
    "    m_weights = 0\n",
    "    m_biases = 0\n",
    "\n",
    "    u_weights = 0\n",
    "    u_biases = 0\n",
    "\n",
    "    predic = []\n",
    "\n",
    "    for epochs in range(100):\n",
    "\n",
    "        pred = np.sum((weights * X).T) + biases\n",
    "        \n",
    "        loss = np.sum(pred - y)\n",
    "        losses.append(loss)\n",
    "\n",
    "        u_weights = rho * l_weights + (1 - rho) * (-2 * loss)\n",
    "        u_biases = rho * l_biases + (1 - rho) * (-2 * loss)\n",
    "\n",
    "        m_weights = momentum * m_weights + (1 - momentum) * loss\n",
    "        m_biases = momentum * m_biases + (1 - momentum) * loss\n",
    "\n",
    "        if clip_norm != None:\n",
    "\n",
    "            weights = np.clip(weights , weights , clip_norm)\n",
    "            biases = np.clip(biases , biases , clip_norm)\n",
    "\n",
    "        if clip_value != None:\n",
    "            \n",
    "            weights = np.clip(m_weigts , m_weights , clip_value)\n",
    "            biases = np.clip(m_biases , m_biases , clip_value)\n",
    "            \n",
    "        weights -= (1/np.sqrt(u_weights + epsilon) * 1 / np.sqrt(m_weights + epsilon)) * learning_rate\n",
    "        biases -= (1/np.sqrt(u_biases + epsilon) * 1 / np.sqrt(m_boases + epsilon)) * learning_rate\n",
    "\n",
    "    return weights , biases , losses"
   ]
  },
  {
   "cell_type": "markdown",
   "id": "c254360a",
   "metadata": {
    "papermill": {
     "duration": 0.024424,
     "end_time": "2023-04-29T08:16:10.174099",
     "exception": false,
     "start_time": "2023-04-29T08:16:10.149675",
     "status": "completed"
    },
    "tags": []
   },
   "source": [
    "# 3.1.7 EMA\n",
    "\n",
    "Wether to use the estimated momentum average or not. The major use of this function is when `ema_momentum` is given "
   ]
  },
  {
   "cell_type": "code",
   "execution_count": 47,
   "id": "e49b8bac",
   "metadata": {
    "execution": {
     "iopub.execute_input": "2023-04-29T08:16:10.224455Z",
     "iopub.status.busy": "2023-04-29T08:16:10.224050Z",
     "iopub.status.idle": "2023-04-29T08:16:10.235904Z",
     "shell.execute_reply": "2023-04-29T08:16:10.234701Z"
    },
    "papermill": {
     "duration": 0.039729,
     "end_time": "2023-04-29T08:16:10.238260",
     "exception": false,
     "start_time": "2023-04-29T08:16:10.198531",
     "status": "completed"
    },
    "tags": []
   },
   "outputs": [],
   "source": [
    "def rms_prop(X , y , learning_rate = 0.01 , rho = 0.9 , momentum = 0 , epsilon = 1e-7 , clip_norm = None , clip_value = None , ema = False):\n",
    "    \n",
    "    weights = abs(np.random.randn(X.shape[1]))\n",
    "    biases = abs(np.random.randn(1))\n",
    "\n",
    "    m_weights = 0\n",
    "    m_biases = 0\n",
    "\n",
    "    u_weights = 0\n",
    "    u_biases = 0\n",
    "\n",
    "    predic = []\n",
    "\n",
    "    for epochs in range(100):\n",
    "\n",
    "        pred = np.sum((weights * X).T) + biases\n",
    "        \n",
    "        loss = np.sum(pred - y)\n",
    "        losses.append(loss)\n",
    "\n",
    "        u_weights = rho * l_weights + (1 - rho) * (-2 * loss)\n",
    "        u_biases = rho * l_biases + (1 - rho) * (-2 * loss)\n",
    "\n",
    "        m_weights = momentum * m_weights + (1 - momentum) * loss\n",
    "        m_biases = momentum * m_biases + (1 - momentum) * loss\n",
    "        \n",
    "        if ema:pass\n",
    "\n",
    "        if clip_norm != None:\n",
    "\n",
    "            weights = np.clip(weights , weights , clip_norm)\n",
    "            biases = np.clip(biases , biases , clip_norm)\n",
    "\n",
    "        if clip_value != None:\n",
    "            \n",
    "            weights = np.clip(m_weigts , m_weights , clip_value)\n",
    "            biases = np.clip(m_biases , m_biases , clip_value)\n",
    "            \n",
    "        weights -= (1/np.sqrt(u_weights + epsilon) * 1 / np.sqrt(m_weights + epsilon)) * learning_rate\n",
    "        biases -= (1/np.sqrt(u_biases + epsilon) * 1 / np.sqrt(m_boases + epsilon)) * learning_rate\n",
    "\n",
    "    return weights , biases , losses"
   ]
  },
  {
   "cell_type": "markdown",
   "id": "e0c97b18",
   "metadata": {
    "papermill": {
     "duration": 0.024017,
     "end_time": "2023-04-29T08:16:10.286825",
     "exception": false,
     "start_time": "2023-04-29T08:16:10.262808",
     "status": "completed"
    },
    "tags": []
   },
   "source": [
    "# 3.1.8 | EMA Momentum\n",
    "\n",
    "In RMSprop, the exponential moving average (EMA) of the gradient with momentum is used to improve convergence and prevent oscillations during training. The EMA of the gradient with momentum is updated at each iteration and incorporates information about the previous gradients and the current gradient to produce a more stable and consistent update direction. This helps to smooth out the noise in the gradient estimates and helps the optimizer to move more directly towards the minimum of the loss function."
   ]
  },
  {
   "cell_type": "code",
   "execution_count": 48,
   "id": "41d6ecd9",
   "metadata": {
    "execution": {
     "iopub.execute_input": "2023-04-29T08:16:10.337138Z",
     "iopub.status.busy": "2023-04-29T08:16:10.336700Z",
     "iopub.status.idle": "2023-04-29T08:16:10.348978Z",
     "shell.execute_reply": "2023-04-29T08:16:10.347913Z"
    },
    "papermill": {
     "duration": 0.040369,
     "end_time": "2023-04-29T08:16:10.351329",
     "exception": false,
     "start_time": "2023-04-29T08:16:10.310960",
     "status": "completed"
    },
    "tags": []
   },
   "outputs": [],
   "source": [
    "def rms_prop(X , y , learning_rate = 0.01 , rho = 0.9 , momentum = 0 , epsilon = 1e-7 , clip_norm = None , clip_value = None , ema = False , ema_momentum = 0):\n",
    "    \n",
    "    weights = abs(np.random.randn(X.shape[1]))\n",
    "    biases = abs(np.random.randn(1))\n",
    "\n",
    "    m_weights = 0\n",
    "    m_biases = 0\n",
    "\n",
    "    u_weights = 0\n",
    "    u_biases = 0\n",
    "\n",
    "    predic = []\n",
    "\n",
    "    for epochs in range(100):\n",
    "\n",
    "        pred = np.sum((weights * X).T) + biases\n",
    "        \n",
    "        loss = np.sum(pred - y)\n",
    "        losses.append(loss)\n",
    "\n",
    "        u_weights = rho * l_weights + (1 - rho) * (-2 * loss)\n",
    "        u_biases = rho * l_biases + (1 - rho) * (-2 * loss)\n",
    "\n",
    "        m_weights = momentum * m_weights + (1 - momentum) * loss\n",
    "        m_biases = momentum * m_biases + (1 - momentum) * loss\n",
    "        \n",
    "        if ema:\n",
    "            \n",
    "            m_weights = ema_momentum * m_weights + (1 - ema_momentum) * -2 * loss\n",
    "            m_biases = ema_momentum * m_biases + (1 - ema_momentum) * -2 * loss\n",
    "\n",
    "        if clip_norm != None:\n",
    "\n",
    "            weights = np.clip(weights , weights , clip_norm)\n",
    "            biases = np.clip(biases , biases , clip_norm)\n",
    "\n",
    "        if clip_value != None:\n",
    "            \n",
    "            weights = np.clip(m_weigts , m_weights , clip_value)\n",
    "            biases = np.clip(m_biases , m_biases , clip_value)\n",
    "            \n",
    "        weights -= (1/np.sqrt(u_weights + epsilon) * 1 / np.sqrt(m_weights + epsilon)) * learning_rate\n",
    "        biases -= (1/np.sqrt(u_biases + epsilon) * 1 / np.sqrt(m_boases + epsilon)) * learning_rate\n",
    "\n",
    "    return weights , biases , losses"
   ]
  },
  {
   "cell_type": "markdown",
   "id": "5d70c5ae",
   "metadata": {
    "papermill": {
     "duration": 0.024036,
     "end_time": "2023-04-29T08:16:10.400165",
     "exception": false,
     "start_time": "2023-04-29T08:16:10.376129",
     "status": "completed"
    },
    "tags": []
   },
   "source": [
    "# 3.2 | Methods\n",
    "\n",
    "Now to add more functionalities, we will add different methods to our alogirthm, You can acces the list of methods we are going to use from the same link before we used for `Functionalities`. \n",
    "* ✅`build` - Initialize optimizer variables. SGD optimizer has one variable momentums, only set if self.momentum is not 0.\n",
    "* * ✅`weights` - Weights of the Optimizer\n",
    "* * ✅`biases` - biases of the Optimizer\n",
    "* ✅`compute_gradients` - Compute gradients of loss on trainable variables.\n",
    "* ✅`minimize` - Minimize loss by updating `var_list`.\n",
    "* ✅`update_step` - Update step given gradient and the associated model variable.\n",
    "\n",
    "**Note** - we will stop the function from being usable at some places\n",
    "\n",
    "# 3.2.1 | Build\n",
    "This method initializes all the values in the `rms_prop`, you can understand this as a constructor, but not perfectly as the one. \n",
    "\n",
    "We will give the user a functionality, that they can intialize there own variables. At the starting the `weights` and `baises` are `None`. If the user passes their own, the function first checks that they are or correct shape and if True assigns the values, else initialize random values "
   ]
  },
  {
   "cell_type": "code",
   "execution_count": 49,
   "id": "f089a417",
   "metadata": {
    "execution": {
     "iopub.execute_input": "2023-04-29T08:16:10.451551Z",
     "iopub.status.busy": "2023-04-29T08:16:10.450787Z",
     "iopub.status.idle": "2023-04-29T08:16:10.462698Z",
     "shell.execute_reply": "2023-04-29T08:16:10.461878Z"
    },
    "papermill": {
     "duration": 0.040071,
     "end_time": "2023-04-29T08:16:10.464774",
     "exception": false,
     "start_time": "2023-04-29T08:16:10.424703",
     "status": "completed"
    },
    "tags": []
   },
   "outputs": [],
   "source": [
    "class rms_prop:\n",
    "    def __init__(X , y , \n",
    "                 learning_rate = 0.01 , rho = 0.9 , \n",
    "                 momentum = 0 , epsilon = 1e-7 , \n",
    "                 clip_norm = None , clip_value = None , \n",
    "                 ema = False , ema_momentum = 0):\n",
    "        \n",
    "        self.X = X\n",
    "        self.y = y\n",
    "        self.learning_rate = learning_rate\n",
    "        self.rho = rho\n",
    "        self.momentum = momentum\n",
    "        self.epsilon = epsilon\n",
    "        self.clip_norm = clip-norm\n",
    "        self.ema = ema\n",
    "        self.ema_momentum = ema_momentum\n",
    "\n",
    "    def build(self , weights = None , biases = None):\n",
    "        \n",
    "        if weights == None:\n",
    "            \n",
    "            self.weights = abs(np.random.randn(self.X.shape[1]))\n",
    "        \n",
    "        else :\n",
    "            \n",
    "            if weights.shape[1] == self.X.shape[1]:\n",
    "                \n",
    "                self.weights = weights\n",
    "            \n",
    "            else :\n",
    "                \n",
    "                raise UserWarning(\"Shapes do not match. Using random variables\")\n",
    "                self.weights = abs(np.random.randn(self.X.shape[1]))\n",
    "\n",
    "        if biases == None:\n",
    "            \n",
    "            self.biases = abs(np.random.randn(1))\n",
    "        \n",
    "        else :\n",
    "            \n",
    "            if baises.shape[1] == 1:\n",
    "                \n",
    "                self.weights = weights\n",
    "            \n",
    "            else :\n",
    "                \n",
    "                raise UserWarning(\"Shapes do not match. Using random variables\")\n",
    "                self.weights = abs(np.random.randn(self.X.shape[1]))\n",
    "\n",
    "        self.m_weights = 0\n",
    "        self.m_biases = 0\n",
    "\n",
    "        self.u_weights = 0\n",
    "        self.u_biases = 0\n",
    "\n",
    "        self.predic = []\n",
    "\n",
    "    # for epochs in range(100):\n",
    "\n",
    "    #     pred = np.sum((weights * X).T) + biases\n",
    "        \n",
    "    #     loss = np.sum(pred - y)\n",
    "    #     losses.append(loss)\n",
    "\n",
    "    #     u_weights = rho * l_weights + (1 - rho) * (-2 * loss)\n",
    "    #     u_biases = rho * l_biases + (1 - rho) * (-2 * loss)\n",
    "\n",
    "    #     m_weights = momentum * m_weights + (1 - momentum) * loss\n",
    "    #     m_biases = momentum * m_biases + (1 - momentum) * loss\n",
    "        \n",
    "    #     if ema:\n",
    "            \n",
    "    #         m_weights = ema_momentum * m_weights + (1 - ema_momentum) * -2 * loss\n",
    "    #         m_biases = ema_momentum * m_biases + (1 - ema_momentum) * -2 * loss\n",
    "\n",
    "    #     if clip_norm != None:\n",
    "\n",
    "    #         weights = np.clip(weights , weights , clip_norm)\n",
    "    #         biases = np.clip(biases , biases , clip_norm)\n",
    "\n",
    "    #     if clip_value != None:\n",
    "            \n",
    "    #         weights = np.clip(m_weigts , m_weights , clip_value)\n",
    "    #         biases = np.clip(m_biases , m_biases , clip_value)\n",
    "            \n",
    "    #     weights -= (1/np.sqrt(u_weights + epsilon) * 1 / np.sqrt(m_weights + epsilon)) * learning_rate\n",
    "    #     biases -= (1/np.sqrt(u_biases + epsilon) * 1 / np.sqrt(m_boases + epsilon)) * learning_rate\n",
    "\n",
    "    # return weights , biases , losses"
   ]
  },
  {
   "cell_type": "markdown",
   "id": "f61d4632",
   "metadata": {
    "papermill": {
     "duration": 0.023781,
     "end_time": "2023-04-29T08:16:10.513563",
     "exception": false,
     "start_time": "2023-04-29T08:16:10.489782",
     "status": "completed"
    },
    "tags": []
   },
   "source": [
    "# 3.2.2 | Compute Gradients\n",
    "\n",
    "Compuute the loss function and gradients for the losses "
   ]
  },
  {
   "cell_type": "code",
   "execution_count": 50,
   "id": "227d0145",
   "metadata": {
    "execution": {
     "iopub.execute_input": "2023-04-29T08:16:10.563858Z",
     "iopub.status.busy": "2023-04-29T08:16:10.563123Z",
     "iopub.status.idle": "2023-04-29T08:16:10.575800Z",
     "shell.execute_reply": "2023-04-29T08:16:10.574949Z"
    },
    "papermill": {
     "duration": 0.040432,
     "end_time": "2023-04-29T08:16:10.578002",
     "exception": false,
     "start_time": "2023-04-29T08:16:10.537570",
     "status": "completed"
    },
    "tags": []
   },
   "outputs": [],
   "source": [
    "class rms_prop:\n",
    "    def __init__(X , y , \n",
    "                 learning_rate = 0.01 , rho = 0.9 , \n",
    "                 momentum = 0 , epsilon = 1e-7 , \n",
    "                 clip_norm = None , clip_value = None , \n",
    "                 ema = False , ema_momentum = 0):\n",
    "        \n",
    "        self.X = X\n",
    "        self.y = y\n",
    "        self.learning_rate = learning_rate\n",
    "        self.rho = rho\n",
    "        self.momentum = momentum\n",
    "        self.epsilon = epsilon\n",
    "        self.clip_norm = clip-norm\n",
    "        self.ema = ema\n",
    "        self.ema_momentum = ema_momentum\n",
    "\n",
    "    def build(self , weights = None , biases = None):\n",
    "        \n",
    "        if weights == None:\n",
    "            \n",
    "            self.weights = abs(np.random.randn(self.X.shape[1]))\n",
    "        \n",
    "        else :\n",
    "            \n",
    "            if weights.shape[1] == self.X.shape[1]:\n",
    "                \n",
    "                self.weights = weights\n",
    "            \n",
    "            else :\n",
    "                \n",
    "                raise UserWarning(\"Shapes do not match. Using random variables\")\n",
    "                self.weights = abs(np.random.randn(self.X.shape[1]))\n",
    "\n",
    "        if biases == None:\n",
    "            \n",
    "            self.biases = abs(np.random.randn(1))\n",
    "        \n",
    "        else :\n",
    "            \n",
    "            if baises.shape[1] == 1:\n",
    "                \n",
    "                self.weights = weights\n",
    "            \n",
    "            else :\n",
    "                \n",
    "                raise UserWarning(\"Shapes do not match. Using random variables\")\n",
    "                self.weights = abs(np.random.randn(self.X.shape[1]))\n",
    "\n",
    "        self.m_weights = 0\n",
    "        self.m_biases = 0\n",
    "\n",
    "        self.u_weights = 0\n",
    "        self.u_biases = 0\n",
    "\n",
    "        self.predic = []\n",
    "\n",
    "    def compute_gradients(self , weights , biases):\n",
    "\n",
    "        pred = np.sum((weights * X).T) + biases\n",
    "        \n",
    "        loss = np.sum(pred - y)\n",
    "        \n",
    "        yield loss\n",
    "        \n",
    "        losses.append(loss)\n",
    "\n",
    "    #     u_weights = rho * l_weights + (1 - rho) * (-2 * loss)\n",
    "    #     u_biases = rho * l_biases + (1 - rho) * (-2 * loss)\n",
    "\n",
    "    #     m_weights = momentum * m_weights + (1 - momentum) * loss\n",
    "    #     m_biases = momentum * m_biases + (1 - momentum) * loss\n",
    "        \n",
    "    #     if ema:\n",
    "            \n",
    "    #         m_weights = ema_momentum * m_weights + (1 - ema_momentum) * -2 * loss\n",
    "    #         m_biases = ema_momentum * m_biases + (1 - ema_momentum) * -2 * loss\n",
    "\n",
    "    #     if clip_norm != None:\n",
    "\n",
    "    #         weights = np.clip(weights , weights , clip_norm)\n",
    "    #         biases = np.clip(biases , biases , clip_norm)\n",
    "\n",
    "    #     if clip_value != None:\n",
    "            \n",
    "    #         weights = np.clip(m_weigts , m_weights , clip_value)\n",
    "    #         biases = np.clip(m_biases , m_biases , clip_value)\n",
    "            \n",
    "    #     weights -= (1/np.sqrt(u_weights + epsilon) * 1 / np.sqrt(m_weights + epsilon)) * learning_rate\n",
    "    #     biases -= (1/np.sqrt(u_biases + epsilon) * 1 / np.sqrt(m_boases + epsilon)) * learning_rate\n",
    "\n",
    "    # return weights , biases , losses"
   ]
  },
  {
   "cell_type": "markdown",
   "id": "3efd875d",
   "metadata": {
    "papermill": {
     "duration": 0.023904,
     "end_time": "2023-04-29T08:16:10.626059",
     "exception": false,
     "start_time": "2023-04-29T08:16:10.602155",
     "status": "completed"
    },
    "tags": []
   },
   "source": [
    "# 3.2.3 | Minimize\n",
    "Minimze the loss values"
   ]
  },
  {
   "cell_type": "code",
   "execution_count": 51,
   "id": "87921e10",
   "metadata": {
    "execution": {
     "iopub.execute_input": "2023-04-29T08:16:10.677016Z",
     "iopub.status.busy": "2023-04-29T08:16:10.676295Z",
     "iopub.status.idle": "2023-04-29T08:16:10.692575Z",
     "shell.execute_reply": "2023-04-29T08:16:10.691681Z"
    },
    "papermill": {
     "duration": 0.044974,
     "end_time": "2023-04-29T08:16:10.695187",
     "exception": false,
     "start_time": "2023-04-29T08:16:10.650213",
     "status": "completed"
    },
    "tags": []
   },
   "outputs": [],
   "source": [
    "class rms_prop:\n",
    "    def __init__(X , y , \n",
    "                 learning_rate = 0.01 , rho = 0.9 , \n",
    "                 momentum = 0 , epsilon = 1e-7 , \n",
    "                 clip_norm = None , clip_value = None , \n",
    "                 ema = False , ema_momentum = 0):\n",
    "        \n",
    "        self.X = X\n",
    "        self.y = y\n",
    "        self.learning_rate = learning_rate\n",
    "        self.rho = rho\n",
    "        self.momentum = momentum\n",
    "        self.epsilon = epsilon\n",
    "        self.clip_norm = clip-norm\n",
    "        self.ema = ema\n",
    "        self.ema_momentum = ema_momentum\n",
    "\n",
    "    def build(self , weights = None , biases = None):\n",
    "        \n",
    "        if weights == None:\n",
    "            \n",
    "            self.weights = abs(np.random.randn(self.X.shape[1]))\n",
    "        \n",
    "        else :\n",
    "            \n",
    "            if weights.shape[1] == self.X.shape[1]:\n",
    "                \n",
    "                self.weights = weights\n",
    "            \n",
    "            else :\n",
    "                \n",
    "                raise UserWarning(\"Shapes do not match. Using random variables\")\n",
    "                self.weights = abs(np.random.randn(self.X.shape[1]))\n",
    "\n",
    "        if biases == None:\n",
    "            \n",
    "            self.biases = abs(np.random.randn(1))\n",
    "        \n",
    "        else :\n",
    "            \n",
    "            if baises.shape[1] == 1:\n",
    "                \n",
    "                self.weights = weights\n",
    "            \n",
    "            else :\n",
    "                \n",
    "                raise UserWarning(\"Shapes do not match. Using random variables\")\n",
    "                self.weights = abs(np.random.randn(self.X.shape[1]))\n",
    "\n",
    "        self.m_weights = 0\n",
    "        self.m_biases = 0\n",
    "\n",
    "        self.u_weights = 0\n",
    "        self.u_biases = 0\n",
    "\n",
    "        self.predic = []\n",
    "\n",
    "    def compute_gradients(self , weights , biases):\n",
    "\n",
    "        pred = np.sum((weights * X).T) + biases\n",
    "        \n",
    "        loss = np.sum(pred - y)\n",
    "        \n",
    "        yield loss\n",
    "        \n",
    "        losses.append(loss)\n",
    "\n",
    "    #     u_weights = rho * l_weights + (1 - rho) * (-2 * loss)\n",
    "    #     u_biases = rho * l_biases + (1 - rho) * (-2 * loss)\n",
    "\n",
    "    #     m_weights = momentum * m_weights + (1 - momentum) * loss\n",
    "    #     m_biases = momentum * m_biases + (1 - momentum) * loss\n",
    "        \n",
    "    #     if ema:\n",
    "            \n",
    "    #         m_weights = ema_momentum * m_weights + (1 - ema_momentum) * -2 * loss\n",
    "    #         m_biases = ema_momentum * m_biases + (1 - ema_momentum) * -2 * loss\n",
    "    def minimize(self):\n",
    "        \n",
    "        if self.clip_norm != None:\n",
    "\n",
    "            self.weights = np.clip(self.weights , self.weights , self.clip_norm)\n",
    "            self.biases = np.clip(self.biases , self.biases , self.clip_norm)\n",
    "\n",
    "        if self.clip_value != None:\n",
    "            \n",
    "            self.weights = np.clip(self.m_weights , self.m_weights , self.clip_value)\n",
    "            self.biases = np.clip(self.m_biases , self.m_biases , self.clip_value)\n",
    "            \n",
    "        self.weights -= (1/np.sqrt(self.u_weights + self.epsilon) * 1 / np.sqrt(self.m_weights + self.epsilon)) * learning_rate\n",
    "        self.biases -= (1/np.sqrt(self.u_biases + self.epsilon) * 1 / np.sqrt(self.m_biases + self.epsilon)) * learning_rate\n",
    "\n",
    "        return self.weights , self.biases , losses"
   ]
  },
  {
   "cell_type": "markdown",
   "id": "820e3dd2",
   "metadata": {
    "papermill": {
     "duration": 0.024355,
     "end_time": "2023-04-29T08:16:10.743823",
     "exception": false,
     "start_time": "2023-04-29T08:16:10.719468",
     "status": "completed"
    },
    "tags": []
   },
   "source": [
    "# 3.2.4 | Update_Step\n",
    "Update the values accordingly"
   ]
  },
  {
   "cell_type": "code",
   "execution_count": 52,
   "id": "fcf41cef",
   "metadata": {
    "execution": {
     "iopub.execute_input": "2023-04-29T08:16:10.794793Z",
     "iopub.status.busy": "2023-04-29T08:16:10.794019Z",
     "iopub.status.idle": "2023-04-29T08:16:10.813511Z",
     "shell.execute_reply": "2023-04-29T08:16:10.812184Z"
    },
    "papermill": {
     "duration": 0.048555,
     "end_time": "2023-04-29T08:16:10.816621",
     "exception": false,
     "start_time": "2023-04-29T08:16:10.768066",
     "status": "completed"
    },
    "tags": []
   },
   "outputs": [],
   "source": [
    "class rms_prop:\n",
    "    def __init__(X , y , \n",
    "                 learning_rate = 0.01 , rho = 0.9 , \n",
    "                 momentum = 0 , epsilon = 1e-7 , \n",
    "                 clip_norm = None , clip_value = None , \n",
    "                 ema = False , ema_momentum = 0):\n",
    "        \n",
    "        self.X = X\n",
    "        self.y = y\n",
    "        self.learning_rate = learning_rate\n",
    "        self.rho = rho\n",
    "        self.momentum = momentum\n",
    "        self.epsilon = epsilon\n",
    "        self.clip_norm = clip-norm\n",
    "        self.ema = ema\n",
    "        self.ema_momentum = ema_momentum\n",
    "\n",
    "    def build(self , weights = None , biases = None):\n",
    "        \n",
    "        if weights == None:\n",
    "            \n",
    "            self.weights = abs(np.random.randn(self.X.shape[1]))\n",
    "        \n",
    "        else :\n",
    "            \n",
    "            if weights.shape[1] == self.X.shape[1]:\n",
    "                \n",
    "                self.weights = weights\n",
    "            \n",
    "            else :\n",
    "                \n",
    "                raise UserWarning(\"Shapes do not match. Using random variables\")\n",
    "                self.weights = abs(np.random.randn(self.X.shape[1]))\n",
    "\n",
    "        if biases == None:\n",
    "            \n",
    "            self.biases = abs(np.random.randn(1))\n",
    "        \n",
    "        else :\n",
    "            \n",
    "            if baises.shape[1] == 1:\n",
    "                \n",
    "                self.weights = weights\n",
    "            \n",
    "            else :\n",
    "                \n",
    "                raise UserWarning(\"Shapes do not match. Using random variables\")\n",
    "                self.weights = abs(np.random.randn(self.X.shape[1]))\n",
    "\n",
    "        self.m_weights = 0\n",
    "        self.m_biases = 0\n",
    "\n",
    "        self.u_weights = 0\n",
    "        self.u_biases = 0\n",
    "\n",
    "        self.predic = []\n",
    "\n",
    "    def compute_gradients(self , weights , biases):\n",
    "\n",
    "        pred = np.sum((weights * X).T) + biases\n",
    "        \n",
    "        loss = np.sum(pred - y)\n",
    "        \n",
    "        yield loss\n",
    "        \n",
    "        losses.append(loss)\n",
    "    def update_step(self , loss):\n",
    "        \n",
    "        self.u_weights = self.rho * self.u_weights + (1 - self.rho) * (-2 * loss)\n",
    "        self.u_biases = self.rho * self.u_biases + (1 - self.rho) * (-2 * loss)\n",
    "\n",
    "        self.m_weights = self.momentum * self.m_weights + (1 - self.momentum) * loss\n",
    "        self.m_biases = self.momentum * self.m_biases + (1 - self.momentum) * loss\n",
    "        \n",
    "        if self.ema:\n",
    "            \n",
    "            self.m_weights = self.ema_momentum * self.m_weights + (1 - self.ema_momentum) * -2 * loss\n",
    "            self.m_biases = self.ema_momentum * self.m_biases + (1 - self.ema_momentum) * -2 * loss\n",
    "    \n",
    "    def minimize(self):\n",
    "        \n",
    "        if self.clip_norm != None:\n",
    "\n",
    "            self.weights = np.clip(self.weights , self.weights , self.clip_norm)\n",
    "            self.biases = np.clip(self.biases , self.biases , self.clip_norm)\n",
    "\n",
    "        if self.clip_value != None:\n",
    "            \n",
    "            self.weights = np.clip(m_weigts , self.m_weights , self.clip_value)\n",
    "            self.biases = np.clip(self.m_biases , self.m_biases , self.clip_value)\n",
    "            \n",
    "        self.weights -= (1/np.sqrt(self.u_weights + self.epsilon) * 1 / np.sqrt(self.m_weights + self.epsilon)) * self.learning_rate\n",
    "        self.biases -= (1/np.sqrt(self.u_biases + self.epsilon) * 1 / np.sqrt(self.m_biases + self.epsilon)) * self.learning_rate\n",
    "\n",
    "        return self.weights , self.biases , losses"
   ]
  },
  {
   "cell_type": "markdown",
   "id": "6b2cb715",
   "metadata": {
    "papermill": {
     "duration": 0.025639,
     "end_time": "2023-04-29T08:16:10.867179",
     "exception": false,
     "start_time": "2023-04-29T08:16:10.841540",
     "status": "completed"
    },
    "tags": []
   },
   "source": [
    "# 3.2 | RMSProp Final Source Code"
   ]
  },
  {
   "cell_type": "code",
   "execution_count": 53,
   "id": "b75a568e",
   "metadata": {
    "execution": {
     "iopub.execute_input": "2023-04-29T08:16:10.919784Z",
     "iopub.status.busy": "2023-04-29T08:16:10.918969Z",
     "iopub.status.idle": "2023-04-29T08:16:10.938605Z",
     "shell.execute_reply": "2023-04-29T08:16:10.937213Z"
    },
    "papermill": {
     "duration": 0.048954,
     "end_time": "2023-04-29T08:16:10.941406",
     "exception": false,
     "start_time": "2023-04-29T08:16:10.892452",
     "status": "completed"
    },
    "tags": []
   },
   "outputs": [],
   "source": [
    "class rms_prop:\n",
    "    def __init__(X , y , \n",
    "                 learning_rate = 0.01 , rho = 0.9 , \n",
    "                 momentum = 0 , epsilon = 1e-7 , \n",
    "                 clip_norm = None , clip_value = None , \n",
    "                 ema = False , ema_momentum = 0):\n",
    "        \n",
    "        self.X = X\n",
    "        self.y = y\n",
    "        self.learning_rate = learning_rate\n",
    "        self.rho = rho\n",
    "        self.momentum = momentum\n",
    "        self.epsilon = epsilon\n",
    "        self.clip_norm = clip-norm\n",
    "        self.ema = ema\n",
    "        self.ema_momentum = ema_momentum\n",
    "\n",
    "    def build(self , weights = None , biases = None):\n",
    "        \n",
    "        if weights == None:\n",
    "            \n",
    "            self.weights = abs(np.random.randn(self.X.shape[1]))\n",
    "        \n",
    "        else :\n",
    "            \n",
    "            if weights.shape[1] == self.X.shape[1]:\n",
    "                \n",
    "                self.weights = weights\n",
    "            \n",
    "            else :\n",
    "                \n",
    "                raise UserWarning(\"Shapes do not match. Using random variables\")\n",
    "                self.weights = abs(np.random.randn(self.X.shape[1]))\n",
    "\n",
    "        if biases == None:\n",
    "            \n",
    "            self.biases = abs(np.random.randn(1))\n",
    "        \n",
    "        else :\n",
    "            \n",
    "            if baises.shape[1] == 1:\n",
    "                \n",
    "                self.weights = weights\n",
    "            \n",
    "            else :\n",
    "                \n",
    "                raise UserWarning(\"Shapes do not match. Using random variables\")\n",
    "                self.weights = abs(np.random.randn(self.X.shape[1]))\n",
    "\n",
    "        self.m_weights = 0\n",
    "        self.m_biases = 0\n",
    "\n",
    "        self.u_weights = 0\n",
    "        self.u_biases = 0\n",
    "\n",
    "        self.predic = []\n",
    "\n",
    "    def compute_gradients(self , weights , biases):\n",
    "\n",
    "        pred = np.sum((weights * X).T) + biases\n",
    "        \n",
    "        loss = np.sum(pred - y)\n",
    "        \n",
    "        yield loss\n",
    "        \n",
    "        losses.append(loss)\n",
    "    def update_step(self , loss):\n",
    "        \n",
    "        self.u_weights = self.rho * self.u_weights + (1 - self.rho) * (-2 * loss)\n",
    "        self.u_biases = self.rho * self.u_biases + (1 - self.rho) * (-2 * loss)\n",
    "\n",
    "        self.m_weights = self.momentum * self.m_weights + (1 - self.momentum) * loss\n",
    "        self.m_biases = self.momentum * self.m_biases + (1 - self.momentum) * loss\n",
    "        \n",
    "        if self.ema:\n",
    "            \n",
    "            self.m_weights = self.ema_momentum * self.m_weights + (1 - self.ema_momentum) * -2 * loss\n",
    "            self.m_biases = self.ema_momentum * self.m_biases + (1 - self.ema_momentum) * -2 * loss\n",
    "    \n",
    "    def minimize(self):\n",
    "        \n",
    "        if self.clip_norm != None:\n",
    "\n",
    "            self.weights = np.clip(self.weights , self.weights , self.clip_norm)\n",
    "            self.biases = np.clip(self.biases , self.biases , self.clip_norm)\n",
    "\n",
    "        if self.clip_value != None:\n",
    "            \n",
    "            self.weights = np.clip(m_weigts , self.m_weights , self.clip_value)\n",
    "            self.biases = np.clip(self.m_biases , self.m_biases , self.clip_value)\n",
    "            \n",
    "        self.weights -= (1/np.sqrt(self.u_weights + self.epsilon) * 1 / np.sqrt(self.m_weights + self.epsilon)) * self.learning_rate\n",
    "        self.biases -= (1/np.sqrt(self.u_biases + self.epsilon) * 1 / np.sqrt(self.m_biases + self.epsilon)) * self.learning_rate\n",
    "\n",
    "        return self.weights , self.biases , losses"
   ]
  },
  {
   "cell_type": "markdown",
   "id": "77783297",
   "metadata": {
    "papermill": {
     "duration": 0.024143,
     "end_time": "2023-04-29T08:16:10.990350",
     "exception": false,
     "start_time": "2023-04-29T08:16:10.966207",
     "status": "completed"
    },
    "tags": []
   },
   "source": [
    "**THIS IS NOT THE FULL IMPLEMENTATION, IT STILL LACKS MANY FUNCTIONALITIES AND IS VULENRABLE TO MANY EDGE CASES, WE WILL IMPROVE THIS IN THE UPCOMING VERSIONS**\n",
    "\n",
    "**PLEASE COMMENT DOWN IF I DID ANY MISTAKES, OR IF CAN MAKE THIS MORE CONNECTED TO THE GROUND, OR SUGGESTIONS. YOUR ASSISTS ARE HIGHLY APPRECIABLE**\n",
    "\n",
    "**THATS IT FOR TODAY GUYS**\n",
    "\n",
    "**HOPE YOU UNDERSTOOD AND LIKED MY WORK**\n",
    "\n",
    "**DONT FORGET TO MAKE AN UPVOTE :)**\n",
    "\n",
    "**PEACE OUT !!!**"
   ]
  }
 ],
 "metadata": {
  "kernelspec": {
   "display_name": "Python 3",
   "language": "python",
   "name": "python3"
  },
  "language_info": {
   "codemirror_mode": {
    "name": "ipython",
    "version": 3
   },
   "file_extension": ".py",
   "mimetype": "text/x-python",
   "name": "python",
   "nbconvert_exporter": "python",
   "pygments_lexer": "ipython3",
   "version": "3.7.12"
  },
  "papermill": {
   "default_parameters": {},
   "duration": 18.330603,
   "end_time": "2023-04-29T08:16:11.737464",
   "environment_variables": {},
   "exception": null,
   "input_path": "__notebook__.ipynb",
   "output_path": "__notebook__.ipynb",
   "parameters": {},
   "start_time": "2023-04-29T08:15:53.406861",
   "version": "2.4.0"
  }
 },
 "nbformat": 4,
 "nbformat_minor": 5
}
