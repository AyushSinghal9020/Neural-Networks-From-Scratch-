{
 "cells": [
  {
   "cell_type": "markdown",
   "id": "2a90f4d9",
   "metadata": {
    "papermill": {
     "duration": 0.028457,
     "end_time": "2023-04-29T11:08:40.681387",
     "exception": false,
     "start_time": "2023-04-29T11:08:40.652930",
     "status": "completed"
    },
    "tags": []
   },
   "source": [
    "# Optimizers \n",
    "\n",
    "So what are `Optimizers`\n",
    "\n",
    "**What** - Optimizer is a technique to set the `weights` and `biases` of a particular model such that they produce minimum `Loss` Possible.\n",
    "\n",
    "The bestest way (in my opinion) to get started is to fist understand what the hell is this `Regression`\n",
    "\n",
    "**What** - `Regression` is just like the lost brother of `classification`. In `classification` we have `discrete` or `particular values`, that we want to `classify`, In `regression` we have `continuous values`, that we want to `predict`\n",
    "\n",
    "| Classification |Regression |\n",
    "| --- | --- |\n",
    "|  We have discrete values| We have continuous values |\n",
    "|Usually we know these values in depth | We usually don't know these values in depth|\n",
    "|These are comparatively less in number| These are comparatively more in number |\n",
    "\n",
    "# 1 | What other things we will learn here\n",
    "* Slope of Function\n",
    "* Baisc Diffrentiation\n",
    "* Intercept "
   ]
  },
  {
   "cell_type": "code",
   "execution_count": 1,
   "id": "caf80023",
   "metadata": {
    "execution": {
     "iopub.execute_input": "2023-04-29T11:08:40.738964Z",
     "iopub.status.busy": "2023-04-29T11:08:40.737981Z",
     "iopub.status.idle": "2023-04-29T11:08:40.751495Z",
     "shell.execute_reply": "2023-04-29T11:08:40.750197Z"
    },
    "papermill": {
     "duration": 0.044489,
     "end_time": "2023-04-29T11:08:40.754238",
     "exception": false,
     "start_time": "2023-04-29T11:08:40.709749",
     "status": "completed"
    },
    "tags": []
   },
   "outputs": [],
   "source": [
    "import numpy as np"
   ]
  },
  {
   "cell_type": "code",
   "execution_count": 2,
   "id": "5ba61132",
   "metadata": {
    "execution": {
     "iopub.execute_input": "2023-04-29T11:08:40.810393Z",
     "iopub.status.busy": "2023-04-29T11:08:40.809435Z",
     "iopub.status.idle": "2023-04-29T11:08:42.065493Z",
     "shell.execute_reply": "2023-04-29T11:08:42.064391Z"
    },
    "papermill": {
     "duration": 1.287179,
     "end_time": "2023-04-29T11:08:42.068509",
     "exception": false,
     "start_time": "2023-04-29T11:08:40.781330",
     "status": "completed"
    },
    "tags": []
   },
   "outputs": [],
   "source": [
    "import matplotlib.pyplot as plt \n",
    "import seaborn as sns "
   ]
  },
  {
   "cell_type": "code",
   "execution_count": 3,
   "id": "db55f913",
   "metadata": {
    "execution": {
     "iopub.execute_input": "2023-04-29T11:08:42.122898Z",
     "iopub.status.busy": "2023-04-29T11:08:42.122455Z",
     "iopub.status.idle": "2023-04-29T11:08:42.127334Z",
     "shell.execute_reply": "2023-04-29T11:08:42.126130Z"
    },
    "papermill": {
     "duration": 0.035151,
     "end_time": "2023-04-29T11:08:42.129878",
     "exception": false,
     "start_time": "2023-04-29T11:08:42.094727",
     "status": "completed"
    },
    "tags": []
   },
   "outputs": [],
   "source": [
    "from IPython.display import IFrame"
   ]
  },
  {
   "cell_type": "markdown",
   "id": "9763ac0e",
   "metadata": {
    "papermill": {
     "duration": 0.026921,
     "end_time": "2023-04-29T11:08:42.182986",
     "exception": false,
     "start_time": "2023-04-29T11:08:42.156065",
     "status": "completed"
    },
    "tags": []
   },
   "source": [
    "Lets assume we have data like this"
   ]
  },
  {
   "cell_type": "code",
   "execution_count": 4,
   "id": "38bd7b33",
   "metadata": {
    "execution": {
     "iopub.execute_input": "2023-04-29T11:08:42.239319Z",
     "iopub.status.busy": "2023-04-29T11:08:42.238881Z",
     "iopub.status.idle": "2023-04-29T11:08:42.248927Z",
     "shell.execute_reply": "2023-04-29T11:08:42.248021Z"
    },
    "papermill": {
     "duration": 0.041282,
     "end_time": "2023-04-29T11:08:42.251596",
     "exception": false,
     "start_time": "2023-04-29T11:08:42.210314",
     "status": "completed"
    },
    "tags": []
   },
   "outputs": [
    {
     "data": {
      "text/plain": [
       "array([  0,   1,   2,   3,   4,   5,   6,   7,   8,   9,  10,  11,  12,\n",
       "        13,  14,  15,  16,  17,  18,  19,  20,  21,  22,  23,  24,  25,\n",
       "        26,  27,  28,  29,  30,  31,  32,  33,  34,  35,  36,  37,  38,\n",
       "        39,  40,  41,  42,  43,  44,  45,  46,  47,  48,  49,  50,  51,\n",
       "        52,  53,  54,  55,  56,  57,  58,  59,  60,  61,  62,  63,  64,\n",
       "        65,  66,  67,  68,  69,  70,  71,  72,  73,  74,  75,  76,  77,\n",
       "        78,  79,  80,  81,  82,  83,  84,  85,  86,  87,  88,  89,  90,\n",
       "        91,  92,  93,  94,  95,  96,  97,  98,  99, 100, 101, 102, 103,\n",
       "       104, 105, 106, 107, 108, 109, 110, 111, 112, 113, 114, 115, 116,\n",
       "       117, 118, 119, 120, 121, 122, 123, 124, 125, 126, 127, 128, 129,\n",
       "       130, 131, 132, 133, 134, 135, 136, 137, 138, 139, 140, 141, 142,\n",
       "       143, 144, 145, 146, 147, 148, 149, 150, 151, 152, 153, 154, 155,\n",
       "       156, 157, 158, 159, 160, 161, 162, 163, 164, 165, 166, 167, 168,\n",
       "       169, 170, 171, 172, 173, 174, 175, 176, 177, 178, 179, 180, 181,\n",
       "       182, 183, 184, 185, 186, 187, 188, 189, 190, 191, 192, 193, 194,\n",
       "       195, 196, 197, 198, 199])"
      ]
     },
     "execution_count": 4,
     "metadata": {},
     "output_type": "execute_result"
    }
   ],
   "source": [
    "features = np.array([x for x in range(0 , 200 , 1)])\n",
    "features"
   ]
  },
  {
   "cell_type": "code",
   "execution_count": 5,
   "id": "927a2c34",
   "metadata": {
    "execution": {
     "iopub.execute_input": "2023-04-29T11:08:42.306898Z",
     "iopub.status.busy": "2023-04-29T11:08:42.306427Z",
     "iopub.status.idle": "2023-04-29T11:08:42.315437Z",
     "shell.execute_reply": "2023-04-29T11:08:42.313759Z"
    },
    "papermill": {
     "duration": 0.04011,
     "end_time": "2023-04-29T11:08:42.318542",
     "exception": false,
     "start_time": "2023-04-29T11:08:42.278432",
     "status": "completed"
    },
    "tags": []
   },
   "outputs": [
    {
     "data": {
      "text/plain": [
       "array([  0,   2,   4,   6,   8,  10,  12,  14,  16,  18,  20,  22,  24,\n",
       "        26,  28,  30,  32,  34,  36,  38,  40,  42,  44,  46,  48,  50,\n",
       "        52,  54,  56,  58,  60,  62,  64,  66,  68,  70,  72,  74,  76,\n",
       "        78,  80,  82,  84,  86,  88,  90,  92,  94,  96,  98, 100, 102,\n",
       "       104, 106, 108, 110, 112, 114, 116, 118, 120, 122, 124, 126, 128,\n",
       "       130, 132, 134, 136, 138, 140, 142, 144, 146, 148, 150, 152, 154,\n",
       "       156, 158, 160, 162, 164, 166, 168, 170, 172, 174, 176, 178, 180,\n",
       "       182, 184, 186, 188, 190, 192, 194, 196, 198, 200, 202, 204, 206,\n",
       "       208, 210, 212, 214, 216, 218, 220, 222, 224, 226, 228, 230, 232,\n",
       "       234, 236, 238, 240, 242, 244, 246, 248, 250, 252, 254, 256, 258,\n",
       "       260, 262, 264, 266, 268, 270, 272, 274, 276, 278, 280, 282, 284,\n",
       "       286, 288, 290, 292, 294, 296, 298, 300, 302, 304, 306, 308, 310,\n",
       "       312, 314, 316, 318, 320, 322, 324, 326, 328, 330, 332, 334, 336,\n",
       "       338, 340, 342, 344, 346, 348, 350, 352, 354, 356, 358, 360, 362,\n",
       "       364, 366, 368, 370, 372, 374, 376, 378, 380, 382, 384, 386, 388,\n",
       "       390, 392, 394, 396, 398])"
      ]
     },
     "execution_count": 5,
     "metadata": {},
     "output_type": "execute_result"
    }
   ],
   "source": [
    "target = np.array([x for x in range(0 , 400 , 2)])\n",
    "target"
   ]
  },
  {
   "cell_type": "markdown",
   "id": "f75ed231",
   "metadata": {
    "papermill": {
     "duration": 0.026534,
     "end_time": "2023-04-29T11:08:42.373020",
     "exception": false,
     "start_time": "2023-04-29T11:08:42.346486",
     "status": "completed"
    },
    "tags": []
   },
   "source": [
    "Lets assume there is a connection between the `target` , and `features`. By human instacne we know that every element in `target` is just a double of the corresponding element in `features`, or $target  = 2XFeatures$. \n",
    "\n",
    "Lets assume we change the target a little bit..."
   ]
  },
  {
   "cell_type": "code",
   "execution_count": 6,
   "id": "e8e5ce05",
   "metadata": {
    "execution": {
     "iopub.execute_input": "2023-04-29T11:08:42.429653Z",
     "iopub.status.busy": "2023-04-29T11:08:42.429121Z",
     "iopub.status.idle": "2023-04-29T11:08:42.439453Z",
     "shell.execute_reply": "2023-04-29T11:08:42.438093Z"
    },
    "papermill": {
     "duration": 0.042333,
     "end_time": "2023-04-29T11:08:42.442203",
     "exception": false,
     "start_time": "2023-04-29T11:08:42.399870",
     "status": "completed"
    },
    "tags": []
   },
   "outputs": [
    {
     "data": {
      "text/plain": [
       "array([  1,   3,   5,   7,   9,  11,  13,  15,  17,  19,  21,  23,  25,\n",
       "        27,  29,  31,  33,  35,  37,  39,  41,  43,  45,  47,  49,  51,\n",
       "        53,  55,  57,  59,  61,  63,  65,  67,  69,  71,  73,  75,  77,\n",
       "        79,  81,  83,  85,  87,  89,  91,  93,  95,  97,  99, 101, 103,\n",
       "       105, 107, 109, 111, 113, 115, 117, 119, 121, 123, 125, 127, 129,\n",
       "       131, 133, 135, 137, 139, 141, 143, 145, 147, 149, 151, 153, 155,\n",
       "       157, 159, 161, 163, 165, 167, 169, 171, 173, 175, 177, 179, 181,\n",
       "       183, 185, 187, 189, 191, 193, 195, 197, 199, 201, 203, 205, 207,\n",
       "       209, 211, 213, 215, 217, 219, 221, 223, 225, 227, 229, 231, 233,\n",
       "       235, 237, 239, 241, 243, 245, 247, 249, 251, 253, 255, 257, 259,\n",
       "       261, 263, 265, 267, 269, 271, 273, 275, 277, 279, 281, 283, 285,\n",
       "       287, 289, 291, 293, 295, 297, 299, 301, 303, 305, 307, 309, 311,\n",
       "       313, 315, 317, 319, 321, 323, 325, 327, 329, 331, 333, 335, 337,\n",
       "       339, 341, 343, 345, 347, 349, 351, 353, 355, 357, 359, 361, 363,\n",
       "       365, 367, 369, 371, 373, 375, 377, 379, 381, 383, 385, 387, 389,\n",
       "       391, 393, 395, 397, 399])"
      ]
     },
     "execution_count": 6,
     "metadata": {},
     "output_type": "execute_result"
    }
   ],
   "source": [
    "target = np.array([x + 1 for x in range(0 , 400 , 2)])\n",
    "target"
   ]
  },
  {
   "cell_type": "markdown",
   "id": "4a2c4af1",
   "metadata": {
    "papermill": {
     "duration": 0.026503,
     "end_time": "2023-04-29T11:08:42.495792",
     "exception": false,
     "start_time": "2023-04-29T11:08:42.469289",
     "status": "completed"
    },
    "tags": []
   },
   "source": [
    "Now what could be the trend here..., We can see the code above and with the help of that we can say. That `target` value is just the `double + 1` of the corresponding element in `features`. or $target = 2Xfeatures + 1$\n",
    "\n",
    "Till now the problem was really easy to solve, and thats why we used the brain only, But these are just examples. As we move closer to the real world. The examples/problems get difficulat and we find it harder to find proper trends in the two `arrays`. Thats we try to teach machine, how to find trend in the data. The formula we had before $target = 2Xfeature + 1$ is subjective to only one problem or a similar problem. But this formula can be generlized by the equation of `straight line`, which is $y = mx + b$\n",
    "\n",
    "So what does this line means ???\n",
    "\n",
    "Lets first try to plot the data we had on a scatter plot "
   ]
  },
  {
   "cell_type": "code",
   "execution_count": 7,
   "id": "279a237f",
   "metadata": {
    "execution": {
     "iopub.execute_input": "2023-04-29T11:08:42.552703Z",
     "iopub.status.busy": "2023-04-29T11:08:42.552251Z",
     "iopub.status.idle": "2023-04-29T11:08:42.856096Z",
     "shell.execute_reply": "2023-04-29T11:08:42.854641Z"
    },
    "papermill": {
     "duration": 0.335608,
     "end_time": "2023-04-29T11:08:42.858896",
     "exception": false,
     "start_time": "2023-04-29T11:08:42.523288",
     "status": "completed"
    },
    "tags": []
   },
   "outputs": [
    {
     "data": {
      "text/plain": [
       "<matplotlib.collections.PathCollection at 0x72e3b141ff10>"
      ]
     },
     "execution_count": 7,
     "metadata": {},
     "output_type": "execute_result"
    },
    {
     "data": {
      "image/png": "[encoded data removed]",
      "text/plain": [
       "<Figure size 640x480 with 1 Axes>"
      ]
     },
     "metadata": {},
     "output_type": "display_data"
    }
   ],
   "source": [
    "plt.scatter(features , target)"
   ]
  },
  {
   "cell_type": "markdown",
   "id": "2f955735",
   "metadata": {
    "papermill": {
     "duration": 0.02805,
     "end_time": "2023-04-29T11:08:42.916285",
     "exception": false,
     "start_time": "2023-04-29T11:08:42.888235",
     "status": "completed"
    },
    "tags": []
   },
   "source": [
    "You can see we got a sequence of dots that resembles kind of straight line. \n",
    "\n",
    "Lets assume we have a line that tries to capture most of the points on this, like this"
   ]
  },
  {
   "cell_type": "code",
   "execution_count": 8,
   "id": "bf45755e",
   "metadata": {
    "execution": {
     "iopub.execute_input": "2023-04-29T11:08:42.975002Z",
     "iopub.status.busy": "2023-04-29T11:08:42.973753Z",
     "iopub.status.idle": "2023-04-29T11:08:43.239359Z",
     "shell.execute_reply": "2023-04-29T11:08:43.238150Z"
    },
    "papermill": {
     "duration": 0.297483,
     "end_time": "2023-04-29T11:08:43.242010",
     "exception": false,
     "start_time": "2023-04-29T11:08:42.944527",
     "status": "completed"
    },
    "tags": []
   },
   "outputs": [
    {
     "data": {
      "text/plain": [
       "[<matplotlib.lines.Line2D at 0x72e3b1178210>]"
      ]
     },
     "execution_count": 8,
     "metadata": {},
     "output_type": "execute_result"
    },
    {
     "data": {
      "image/png": "[encoded data removed]",
      "text/plain": [
       "<Figure size 640x480 with 1 Axes>"
      ]
     },
     "metadata": {},
     "output_type": "display_data"
    }
   ],
   "source": [
    "plt.scatter(features , target)\n",
    "plt.plot([0 , 200] , [0 , 400] , \"yellow\")"
   ]
  },
  {
   "cell_type": "markdown",
   "id": "30d0cdfe",
   "metadata": {
    "papermill": {
     "duration": 0.02764,
     "end_time": "2023-04-29T11:08:43.298255",
     "exception": false,
     "start_time": "2023-04-29T11:08:43.270615",
     "status": "completed"
    },
    "tags": []
   },
   "source": [
    "Again by human intution we found the `best fit line`. But what if we want to generalize the things and kind of do not find the best fit line...?\n",
    "\n",
    "First of all lets get a little bit more deep into equation $y = mx + b$\n",
    "\n",
    "So what does these terms resembles in this eqution. \n",
    "* `m` is the slope of the line\n",
    "\n",
    "# 1.1 | Slope of A function\n",
    "\n",
    "Slope of a function shows how steep a function is, or the direction of a function at a given point on the curve.\n",
    "\n",
    "Lets assume we have this curve $y = 4x^2$ the slope of this curve will be $y = 8x$"
   ]
  },
  {
   "cell_type": "code",
   "execution_count": 9,
   "id": "28779534",
   "metadata": {
    "execution": {
     "iopub.execute_input": "2023-04-29T11:08:43.357845Z",
     "iopub.status.busy": "2023-04-29T11:08:43.357346Z",
     "iopub.status.idle": "2023-04-29T11:08:43.365117Z",
     "shell.execute_reply": "2023-04-29T11:08:43.363800Z"
    },
    "papermill": {
     "duration": 0.041491,
     "end_time": "2023-04-29T11:08:43.367626",
     "exception": false,
     "start_time": "2023-04-29T11:08:43.326135",
     "status": "completed"
    },
    "tags": []
   },
   "outputs": [
    {
     "data": {
      "text/html": [
       "\n",
       "        <iframe\n",
       "            width=\"400\"\n",
       "            height=\"400\"\n",
       "            src=\"https://www.desmos.com/calculator/zluqu5vyuh\"\n",
       "            frameborder=\"0\"\n",
       "            allowfullscreen\n",
       "            \n",
       "        ></iframe>\n",
       "        "
      ],
      "text/plain": [
       "<IPython.lib.display.IFrame at 0x72e3b118ddd0>"
      ]
     },
     "execution_count": 9,
     "metadata": {},
     "output_type": "execute_result"
    }
   ],
   "source": [
    "IFrame(\"https://www.desmos.com/calculator/zluqu5vyuh\" , 400 , 400)"
   ]
  },
  {
   "cell_type": "markdown",
   "id": "57a3569b",
   "metadata": {
    "papermill": {
     "duration": 0.027897,
     "end_time": "2023-04-29T11:08:43.423489",
     "exception": false,
     "start_time": "2023-04-29T11:08:43.395592",
     "status": "completed"
    },
    "tags": []
   },
   "source": [
    "So how do we calculate the `slope` of a line???\n",
    "\n",
    "Lets assume we have a function $y = f(x)$,. To find the slope of a function, we simply diffrenctiate the function, thus, the slope of this line will be $y^` = f^`(x)$\n",
    "\n",
    "# 1.2 | Diffrentiation\n",
    "\n",
    "Diffrentaition can be explained as getting a small value of a function.\n",
    "\n",
    "lets assume we have a function `y = sin(x)`\n",
    "\n",
    "A small strip at that function will demonstrate taking a derivative of that function `sin(x)`\n",
    "\n",
    "Taking about the function we had taken before that is $y = 4x^2$\n",
    "\n",
    "Taking its derivative we will get $$y = 8x$$ ($x{n^`} = nx^{n-1}$)\n",
    "\n",
    "So the slope of $y = 4x^2$ can be represnted as "
   ]
  },
  {
   "cell_type": "code",
   "execution_count": 10,
   "id": "5768148b",
   "metadata": {
    "execution": {
     "iopub.execute_input": "2023-04-29T11:08:43.482683Z",
     "iopub.status.busy": "2023-04-29T11:08:43.482251Z",
     "iopub.status.idle": "2023-04-29T11:08:43.489719Z",
     "shell.execute_reply": "2023-04-29T11:08:43.488480Z"
    },
    "papermill": {
     "duration": 0.040118,
     "end_time": "2023-04-29T11:08:43.492586",
     "exception": false,
     "start_time": "2023-04-29T11:08:43.452468",
     "status": "completed"
    },
    "tags": []
   },
   "outputs": [
    {
     "data": {
      "text/html": [
       "\n",
       "        <iframe\n",
       "            width=\"400\"\n",
       "            height=\"400\"\n",
       "            src=\"https://www.desmos.com/calculator/hrguwktg9q\"\n",
       "            frameborder=\"0\"\n",
       "            allowfullscreen\n",
       "            \n",
       "        ></iframe>\n",
       "        "
      ],
      "text/plain": [
       "<IPython.lib.display.IFrame at 0x72e3b1146d90>"
      ]
     },
     "execution_count": 10,
     "metadata": {},
     "output_type": "execute_result"
    }
   ],
   "source": [
    "IFrame(\"https://www.desmos.com/calculator/hrguwktg9q\" , 400 , 400)"
   ]
  },
  {
   "cell_type": "markdown",
   "id": "bdfffa66",
   "metadata": {
    "papermill": {
     "duration": 0.028391,
     "end_time": "2023-04-29T11:08:43.549038",
     "exception": false,
     "start_time": "2023-04-29T11:08:43.520647",
     "status": "completed"
    },
    "tags": []
   },
   "source": [
    "**If you want to know more aboud diffrentiation, here is [3Blue1Brown](https://www.youtube.com/@3blue1brown/featured) => [Essence Of Calculas](https://www.youtube.com/playlist?list=PLZHQObOWTQDMsr9K-rj53DwVRMYO3t5Yr)**\n",
    "\n",
    "So now you have a basic idea of `slope`\n",
    "\n",
    "# 1.3 | Intercept\n",
    "\n",
    "Now what `b` represents in the data. Usually it is called the `intercept`. Consider this graph of the equation $y = x$ or $y = 1x + b$ "
   ]
  },
  {
   "cell_type": "code",
   "execution_count": 11,
   "id": "727c3452",
   "metadata": {
    "execution": {
     "iopub.execute_input": "2023-04-29T11:08:43.607101Z",
     "iopub.status.busy": "2023-04-29T11:08:43.606655Z",
     "iopub.status.idle": "2023-04-29T11:08:43.613630Z",
     "shell.execute_reply": "2023-04-29T11:08:43.612717Z"
    },
    "papermill": {
     "duration": 0.038466,
     "end_time": "2023-04-29T11:08:43.615792",
     "exception": false,
     "start_time": "2023-04-29T11:08:43.577326",
     "status": "completed"
    },
    "tags": []
   },
   "outputs": [
    {
     "data": {
      "text/html": [
       "\n",
       "        <iframe\n",
       "            width=\"400\"\n",
       "            height=\"400\"\n",
       "            src=\"https://www.desmos.com/calculator/gai0veg5fh\"\n",
       "            frameborder=\"0\"\n",
       "            allowfullscreen\n",
       "            \n",
       "        ></iframe>\n",
       "        "
      ],
      "text/plain": [
       "<IPython.lib.display.IFrame at 0x72e3b113df90>"
      ]
     },
     "execution_count": 11,
     "metadata": {},
     "output_type": "execute_result"
    }
   ],
   "source": [
    "IFrame(\"https://www.desmos.com/calculator/gai0veg5fh\" , 400 , 400)"
   ]
  },
  {
   "cell_type": "markdown",
   "id": "f0e7f0f6",
   "metadata": {
    "papermill": {
     "duration": 0.028223,
     "end_time": "2023-04-29T11:08:43.672115",
     "exception": false,
     "start_time": "2023-04-29T11:08:43.643892",
     "status": "completed"
    },
    "tags": []
   },
   "source": [
    "This line passes the axis at $(0 , 0)$. These coordinates are called as the `intercepts` of this line. If we make `b` or `intercept` as $1$. The line will then pass from $(1 , -1)$. Basically the `intercept` moves a line in a plane. With that being said, Lets also undertand how the `slope` changes the line. If we make `m` as $2$. The line will rotate anti-clockwise. So as we increase the value of `m` or `slope`. The line moves anti-clockwise, And so the vice-versa, If we decrease the value of `m`, The slope will move in the clockwise direction. \n",
    "\n",
    "In short tweeking the values of `m` and `b` or `slope` and `intercept`. We can move the line in any direction and in any way we want `as long as it resembles a straight line`. We still cannot bend the line \n",
    "\n",
    "So now we have any data, we just need to difine the values of `slope` and `intercpet`. And we can get the best fit line. But still the question arises how do we generalize the values of these tuning parametes. \n",
    "\n",
    "In simple word we can say, How can we find a relation between the data we have and these tuning parameters. So that we only need to define that relationship and then we can easily predict the values.\n",
    "\n",
    "Lets think that the value assigned to the line is this "
   ]
  },
  {
   "cell_type": "code",
   "execution_count": 12,
   "id": "e3add097",
   "metadata": {
    "execution": {
     "iopub.execute_input": "2023-04-29T11:08:43.732541Z",
     "iopub.status.busy": "2023-04-29T11:08:43.732120Z",
     "iopub.status.idle": "2023-04-29T11:08:43.989731Z",
     "shell.execute_reply": "2023-04-29T11:08:43.988543Z"
    },
    "papermill": {
     "duration": 0.291613,
     "end_time": "2023-04-29T11:08:43.992553",
     "exception": false,
     "start_time": "2023-04-29T11:08:43.700940",
     "status": "completed"
    },
    "tags": []
   },
   "outputs": [
    {
     "data": {
      "text/plain": [
       "[<matplotlib.lines.Line2D at 0x72e3b1109f50>]"
      ]
     },
     "execution_count": 12,
     "metadata": {},
     "output_type": "execute_result"
    },
    {
     "data": {
      "image/png": "[encoded data removed]",
      "text/plain": [
       "<Figure size 640x480 with 1 Axes>"
      ]
     },
     "metadata": {},
     "output_type": "display_data"
    }
   ],
   "source": [
    "plt.scatter(features , target)\n",
    "plt.plot([0 , 300] , [0 , 400] , \"yellow\")"
   ]
  },
  {
   "cell_type": "markdown",
   "id": "3416e163",
   "metadata": {
    "papermill": {
     "duration": 0.029205,
     "end_time": "2023-04-29T11:08:44.054186",
     "exception": false,
     "start_time": "2023-04-29T11:08:44.024981",
     "status": "completed"
    },
    "tags": []
   },
   "source": [
    "If we test this line on the training data only, we will find that this line is not correct. It is predicting points incorrect, We know that the best fit line we drew first, will predict points wiht lowest incorrect ones. For example the line we just defined if asked the corresponding value of $200$, it will say $250$. But rather it was $400$. There was some `error`, some `loss`, or some `cost` with the `actual` and `predicted` values.\n",
    "\n",
    "For measuring this loss, what we can do is find the difference between the `actual value` and the `predicted value`. A best fit line will give the lowest value of this difference.\n",
    "\n",
    "The word difference here is very difficult to say, so we can give this term a new fancy name, which is `The Loss`.\n",
    "\n",
    "One can deifne loss as $$Loss = actual - predicted$$.\n",
    "\n",
    "We only took the example of one value. but there are a large group of values. that can show the same trait, For that we can change the formula to \n",
    "\n",
    "Lets denote $actual$ as $a$ and $predicted$ as $p$\n",
    "\n",
    "$$Loss = (a_1 - p_1) + (a_2 - p_2) + (a_3 - p_3) + ... + (a_n - p_n)$$\n",
    "\n",
    "or $$Loss = \\sum\\limits_{i = 1}^{n}a_i - p_i$$ or $$Loss = \\sum\\limits_{i = 1}^{n}(y_i - \\hat y_i)$$\n",
    "\n",
    "Whenever you see $\\hat y$, think of it as the `predicted value`\n",
    "\n",
    "Now lets assume we have data like this and a random line is drawn like this \n",
    "\n",
    "<img src = \"https://cdn-media-1.freecodecamp.org/images/MNskFmGPKuQfMLdmpkT-X7-8w2cJXulP3683\">\n",
    "\n",
    "If you look closely, a lot of error terms will tend to cancel out each other. We can also get into a state where the line is `not the best fit`, but still gives $0$ error. With the `Loss` we defined before, we are not chossing a `best fit line`. Rather we are chossing a line that is in the `middle` of those points. One way to counter this is to add a `modulus` function like this $$Loss = \\sum\\limits_{i = 1}^{n}|y - \\hat y|$$\n",
    "\n",
    "But what is a modulus function. The function is nothing but converts, any negative numbers to postive. For example \n",
    "$|-1| = 1$"
   ]
  },
  {
   "cell_type": "code",
   "execution_count": 13,
   "id": "90e967d5",
   "metadata": {
    "execution": {
     "iopub.execute_input": "2023-04-29T11:08:44.115669Z",
     "iopub.status.busy": "2023-04-29T11:08:44.115236Z",
     "iopub.status.idle": "2023-04-29T11:08:44.122891Z",
     "shell.execute_reply": "2023-04-29T11:08:44.121704Z"
    },
    "papermill": {
     "duration": 0.041726,
     "end_time": "2023-04-29T11:08:44.125864",
     "exception": false,
     "start_time": "2023-04-29T11:08:44.084138",
     "status": "completed"
    },
    "tags": []
   },
   "outputs": [
    {
     "data": {
      "text/html": [
       "\n",
       "        <iframe\n",
       "            width=\"400\"\n",
       "            height=\"400\"\n",
       "            src=\"https://www.desmos.com/calculator/kamxotjra2\"\n",
       "            frameborder=\"0\"\n",
       "            allowfullscreen\n",
       "            \n",
       "        ></iframe>\n",
       "        "
      ],
      "text/plain": [
       "<IPython.lib.display.IFrame at 0x72e3b10ac210>"
      ]
     },
     "execution_count": 13,
     "metadata": {},
     "output_type": "execute_result"
    }
   ],
   "source": [
    "IFrame(\"https://www.desmos.com/calculator/kamxotjra2\" , 400 , 400)"
   ]
  },
  {
   "cell_type": "markdown",
   "id": "fe8b9146",
   "metadata": {
    "papermill": {
     "duration": 0.029074,
     "end_time": "2023-04-29T11:08:44.185973",
     "exception": false,
     "start_time": "2023-04-29T11:08:44.156899",
     "status": "completed"
    },
    "tags": []
   },
   "source": [
    "But there is a problem with this function. A `modulus` is not diffrentiable. You might be thinking that why are we even seeing that part, like we we care for that. Why would you even diffrentiate a loss function. \n",
    "\n",
    "We actually diffrentiate loss function in further steps, thats why we will not use the modulus function. \n",
    "\n",
    "Another way of doing so is to, square the loss function like this $Loss = (y - \\hat y)^2$\n",
    "\n",
    "Its cool, its good and we can even diffrentiate this...\n",
    "\n",
    "Now we have a basic idea that we need to compute `m` and `b` for the lowest loss values. Now we should come to know how we can do this \n",
    "\n",
    "What if we somehow interelate the `losses` and `m and b`. \n",
    "\n",
    "Lets assume we intialize the parameters randomly, like this \n",
    "\n",
    "# 2 | SGD"
   ]
  },
  {
   "cell_type": "code",
   "execution_count": 14,
   "id": "7d49876d",
   "metadata": {
    "execution": {
     "iopub.execute_input": "2023-04-29T11:08:44.271782Z",
     "iopub.status.busy": "2023-04-29T11:08:44.271301Z",
     "iopub.status.idle": "2023-04-29T11:08:44.279302Z",
     "shell.execute_reply": "2023-04-29T11:08:44.278241Z"
    },
    "papermill": {
     "duration": 0.060308,
     "end_time": "2023-04-29T11:08:44.282732",
     "exception": false,
     "start_time": "2023-04-29T11:08:44.222424",
     "status": "completed"
    },
    "tags": []
   },
   "outputs": [
    {
     "data": {
      "text/plain": [
       "array([0.51161234])"
      ]
     },
     "execution_count": 14,
     "metadata": {},
     "output_type": "execute_result"
    }
   ],
   "source": [
    "weights = np.random.randn(1)\n",
    "weights"
   ]
  },
  {
   "cell_type": "code",
   "execution_count": 15,
   "id": "7e98791b",
   "metadata": {
    "execution": {
     "iopub.execute_input": "2023-04-29T11:08:44.366355Z",
     "iopub.status.busy": "2023-04-29T11:08:44.364961Z",
     "iopub.status.idle": "2023-04-29T11:08:44.374423Z",
     "shell.execute_reply": "2023-04-29T11:08:44.373072Z"
    },
    "papermill": {
     "duration": 0.056582,
     "end_time": "2023-04-29T11:08:44.376998",
     "exception": false,
     "start_time": "2023-04-29T11:08:44.320416",
     "status": "completed"
    },
    "tags": []
   },
   "outputs": [
    {
     "data": {
      "text/plain": [
       "array([-0.38966991])"
      ]
     },
     "execution_count": 15,
     "metadata": {},
     "output_type": "execute_result"
    }
   ],
   "source": [
    "biases = np.random.randn(1)\n",
    "biases"
   ]
  },
  {
   "cell_type": "markdown",
   "id": "3d29b4a2",
   "metadata": {
    "papermill": {
     "duration": 0.030657,
     "end_time": "2023-04-29T11:08:44.438060",
     "exception": false,
     "start_time": "2023-04-29T11:08:44.407403",
     "status": "completed"
    },
    "tags": []
   },
   "source": [
    "So the predicitions will be "
   ]
  },
  {
   "cell_type": "code",
   "execution_count": 16,
   "id": "39118fd9",
   "metadata": {
    "execution": {
     "iopub.execute_input": "2023-04-29T11:08:44.506184Z",
     "iopub.status.busy": "2023-04-29T11:08:44.505167Z",
     "iopub.status.idle": "2023-04-29T11:08:44.514257Z",
     "shell.execute_reply": "2023-04-29T11:08:44.513063Z"
    },
    "papermill": {
     "duration": 0.043575,
     "end_time": "2023-04-29T11:08:44.516881",
     "exception": false,
     "start_time": "2023-04-29T11:08:44.473306",
     "status": "completed"
    },
    "tags": []
   },
   "outputs": [
    {
     "data": {
      "text/plain": [
       "array([14.9587002])"
      ]
     },
     "execution_count": 16,
     "metadata": {},
     "output_type": "execute_result"
    }
   ],
   "source": [
    "pred = weights * 30 + biases\n",
    "pred"
   ]
  },
  {
   "cell_type": "markdown",
   "id": "43f45ae7",
   "metadata": {
    "papermill": {
     "duration": 0.030979,
     "end_time": "2023-04-29T11:08:44.579390",
     "exception": false,
     "start_time": "2023-04-29T11:08:44.548411",
     "status": "completed"
    },
    "tags": []
   },
   "source": [
    "And its way far than what we had expected. "
   ]
  },
  {
   "cell_type": "code",
   "execution_count": 17,
   "id": "c6512936",
   "metadata": {
    "execution": {
     "iopub.execute_input": "2023-04-29T11:08:44.655197Z",
     "iopub.status.busy": "2023-04-29T11:08:44.654411Z",
     "iopub.status.idle": "2023-04-29T11:08:44.662410Z",
     "shell.execute_reply": "2023-04-29T11:08:44.660827Z"
    },
    "papermill": {
     "duration": 0.046803,
     "end_time": "2023-04-29T11:08:44.665776",
     "exception": false,
     "start_time": "2023-04-29T11:08:44.618973",
     "status": "completed"
    },
    "tags": []
   },
   "outputs": [
    {
     "data": {
      "text/plain": [
       "array([-45.0412998])"
      ]
     },
     "execution_count": 17,
     "metadata": {},
     "output_type": "execute_result"
    }
   ],
   "source": [
    "loss = (pred - 60)\n",
    "loss"
   ]
  },
  {
   "cell_type": "markdown",
   "id": "6f0a9850",
   "metadata": {
    "papermill": {
     "duration": 0.030623,
     "end_time": "2023-04-29T11:08:44.726532",
     "exception": false,
     "start_time": "2023-04-29T11:08:44.695909",
     "status": "completed"
    },
    "tags": []
   },
   "source": [
    "Our main motive is to reduce this loss as much as possible,. \n",
    "\n",
    "What if we subtract a small subset of the derivative of this loss from the parameters like this. The derivative of the loss will show us the steepness of the curve, and thus doing so might get us to the valeus of minimum loss. So how do we find the derivative of this function $Loss = (y - \\hat y)^2$. What we know is $\\hat y = mx + b$. COmputing this value in we get $$Loss = (y - mx - b)^2$$, Now we can diffrentiate the function\n",
    "\n",
    "## Diffrentiating wrt `b`\n",
    "$$\\frac {dLoss}{db}= \\frac {d}{db}(y - mx - b)^2$$\n",
    "$$= 2(y - mx - b)(-1)$$\n",
    "\n",
    "## Diffrentiating wrt `m`\n",
    "$$\\frac {dLoss}{dm} = \\frac {d}{dm}(y - mx - b)^2$$\n",
    "$$= 2(y - mx - b)(-x)$$"
   ]
  },
  {
   "cell_type": "code",
   "execution_count": 18,
   "id": "4c9987f5",
   "metadata": {
    "execution": {
     "iopub.execute_input": "2023-04-29T11:08:44.789981Z",
     "iopub.status.busy": "2023-04-29T11:08:44.787396Z",
     "iopub.status.idle": "2023-04-29T11:08:44.795462Z",
     "shell.execute_reply": "2023-04-29T11:08:44.794516Z"
    },
    "papermill": {
     "duration": 0.042123,
     "end_time": "2023-04-29T11:08:44.798218",
     "exception": false,
     "start_time": "2023-04-29T11:08:44.756095",
     "status": "completed"
    },
    "tags": []
   },
   "outputs": [],
   "source": [
    "weights -= (-2* (60 - weights*30 - biases)) * 0.001\n",
    "biases -= (2 * 30 * (60 - weights * 30 - biases)) * 0.01"
   ]
  },
  {
   "cell_type": "markdown",
   "id": "7ec3e171",
   "metadata": {
    "papermill": {
     "duration": 0.030912,
     "end_time": "2023-04-29T11:08:44.863291",
     "exception": false,
     "start_time": "2023-04-29T11:08:44.832379",
     "status": "completed"
    },
    "tags": []
   },
   "source": [
    "And if we then try to predict the values "
   ]
  },
  {
   "cell_type": "code",
   "execution_count": 19,
   "id": "ccf47e24",
   "metadata": {
    "execution": {
     "iopub.execute_input": "2023-04-29T11:08:44.929060Z",
     "iopub.status.busy": "2023-04-29T11:08:44.927661Z",
     "iopub.status.idle": "2023-04-29T11:08:44.938835Z",
     "shell.execute_reply": "2023-04-29T11:08:44.937553Z"
    },
    "papermill": {
     "duration": 0.047153,
     "end_time": "2023-04-29T11:08:44.941216",
     "exception": false,
     "start_time": "2023-04-29T11:08:44.894063",
     "status": "completed"
    },
    "tags": []
   },
   "outputs": [
    {
     "name": "stdout",
     "output_type": "stream",
     "text": [
      "[0.60169494]\n",
      "[-25.792963]\n"
     ]
    },
    {
     "data": {
      "text/plain": [
       "array([67.7421149])"
      ]
     },
     "execution_count": 19,
     "metadata": {},
     "output_type": "execute_result"
    }
   ],
   "source": [
    "print(weights)\n",
    "print(biases)\n",
    "loss = (60 - (weights * 30 + biases))\n",
    "loss"
   ]
  },
  {
   "cell_type": "markdown",
   "id": "0e696849",
   "metadata": {
    "papermill": {
     "duration": 0.029564,
     "end_time": "2023-04-29T11:08:45.000845",
     "exception": false,
     "start_time": "2023-04-29T11:08:44.971281",
     "status": "completed"
    },
    "tags": []
   },
   "source": [
    "Our losses have been decreased, so lets do it again "
   ]
  },
  {
   "cell_type": "code",
   "execution_count": 20,
   "id": "1b491694",
   "metadata": {
    "execution": {
     "iopub.execute_input": "2023-04-29T11:08:45.065116Z",
     "iopub.status.busy": "2023-04-29T11:08:45.064180Z",
     "iopub.status.idle": "2023-04-29T11:08:45.076926Z",
     "shell.execute_reply": "2023-04-29T11:08:45.075890Z"
    },
    "papermill": {
     "duration": 0.047959,
     "end_time": "2023-04-29T11:08:45.079821",
     "exception": false,
     "start_time": "2023-04-29T11:08:45.031862",
     "status": "completed"
    },
    "tags": []
   },
   "outputs": [
    {
     "name": "stdout",
     "output_type": "stream",
     "text": [
      "[1.95653723]\n",
      "[-24.4381207]\n"
     ]
    },
    {
     "data": {
      "text/plain": [
       "array([25.74200366])"
      ]
     },
     "execution_count": 20,
     "metadata": {},
     "output_type": "execute_result"
    }
   ],
   "source": [
    "weights -= -2 * loss * 0.01\n",
    "biases -= -2 * loss * 0.01\n",
    "print(weights)\n",
    "print(biases)\n",
    "loss = (60 - (weights * 30 + biases))\n",
    "loss"
   ]
  },
  {
   "cell_type": "markdown",
   "id": "845433cd",
   "metadata": {
    "papermill": {
     "duration": 0.030813,
     "end_time": "2023-04-29T11:08:45.140990",
     "exception": false,
     "start_time": "2023-04-29T11:08:45.110177",
     "status": "completed"
    },
    "tags": []
   },
   "source": [
    "So now we know if we do this iteratively, we will minimise the loss, and iteratively we will reach the optimal values of `weights` or `m` and `biases` or `m`\n",
    "\n",
    "Lets say we have runn this again and again for around 100 times "
   ]
  },
  {
   "cell_type": "code",
   "execution_count": 21,
   "id": "554b8c09",
   "metadata": {
    "execution": {
     "iopub.execute_input": "2023-04-29T11:08:45.212162Z",
     "iopub.status.busy": "2023-04-29T11:08:45.210492Z",
     "iopub.status.idle": "2023-04-29T11:08:45.218790Z",
     "shell.execute_reply": "2023-04-29T11:08:45.217804Z"
    },
    "papermill": {
     "duration": 0.047111,
     "end_time": "2023-04-29T11:08:45.221657",
     "exception": false,
     "start_time": "2023-04-29T11:08:45.174546",
     "status": "completed"
    },
    "tags": []
   },
   "outputs": [],
   "source": [
    "for _ in range(100):\n",
    "    weights -= -2 * loss * 0.01\n",
    "    biases -= -2 * loss * 0.01\n",
    "    loss = (60 - (weights * 30 + biases))"
   ]
  },
  {
   "cell_type": "markdown",
   "id": "4df960fa",
   "metadata": {
    "papermill": {
     "duration": 0.030209,
     "end_time": "2023-04-29T11:08:45.283164",
     "exception": false,
     "start_time": "2023-04-29T11:08:45.252955",
     "status": "completed"
    },
    "tags": []
   },
   "source": [
    "Lets now see the weights and biases "
   ]
  },
  {
   "cell_type": "code",
   "execution_count": 22,
   "id": "1fe10688",
   "metadata": {
    "execution": {
     "iopub.execute_input": "2023-04-29T11:08:45.348325Z",
     "iopub.status.busy": "2023-04-29T11:08:45.347635Z",
     "iopub.status.idle": "2023-04-29T11:08:45.355604Z",
     "shell.execute_reply": "2023-04-29T11:08:45.354428Z"
    },
    "papermill": {
     "duration": 0.043518,
     "end_time": "2023-04-29T11:08:45.357976",
     "exception": false,
     "start_time": "2023-04-29T11:08:45.314458",
     "status": "completed"
    },
    "tags": []
   },
   "outputs": [
    {
     "data": {
      "text/plain": [
       "(array([2.78692445]), array([-23.60773348]))"
      ]
     },
     "execution_count": 22,
     "metadata": {},
     "output_type": "execute_result"
    }
   ],
   "source": [
    "weights , biases"
   ]
  },
  {
   "cell_type": "markdown",
   "id": "419b40f4",
   "metadata": {
    "papermill": {
     "duration": 0.029378,
     "end_time": "2023-04-29T11:08:45.417138",
     "exception": false,
     "start_time": "2023-04-29T11:08:45.387760",
     "status": "completed"
    },
    "tags": []
   },
   "source": [
    "Though we have biases as high, but we have almost achived value of `weights`\n",
    "\n",
    "Lets do this all again, and now we will also try to plot a graph"
   ]
  },
  {
   "cell_type": "code",
   "execution_count": 23,
   "id": "3bde6d17",
   "metadata": {
    "execution": {
     "iopub.execute_input": "2023-04-29T11:08:45.478565Z",
     "iopub.status.busy": "2023-04-29T11:08:45.477910Z",
     "iopub.status.idle": "2023-04-29T11:08:45.485642Z",
     "shell.execute_reply": "2023-04-29T11:08:45.484749Z"
    },
    "papermill": {
     "duration": 0.041375,
     "end_time": "2023-04-29T11:08:45.488137",
     "exception": false,
     "start_time": "2023-04-29T11:08:45.446762",
     "status": "completed"
    },
    "tags": []
   },
   "outputs": [],
   "source": [
    "weights = abs(np.random.randn(1))\n",
    "biases = abs(np.random.randn(1))\n",
    "losses = []\n",
    "for _ in range(100):\n",
    "    weights -= -2 * loss * 0.01\n",
    "    biases -= -2 * loss * 0.01\n",
    "    loss = (60 - (weights * 30 + biases))\n",
    "    losses.append(loss)"
   ]
  },
  {
   "cell_type": "code",
   "execution_count": 24,
   "id": "1f9e39f9",
   "metadata": {
    "execution": {
     "iopub.execute_input": "2023-04-29T11:08:45.550191Z",
     "iopub.status.busy": "2023-04-29T11:08:45.549802Z",
     "iopub.status.idle": "2023-04-29T11:08:45.837070Z",
     "shell.execute_reply": "2023-04-29T11:08:45.835643Z"
    },
    "papermill": {
     "duration": 0.32219,
     "end_time": "2023-04-29T11:08:45.839778",
     "exception": false,
     "start_time": "2023-04-29T11:08:45.517588",
     "status": "completed"
    },
    "tags": []
   },
   "outputs": [
    {
     "data": {
      "text/plain": [
       "<AxesSubplot:>"
      ]
     },
     "execution_count": 24,
     "metadata": {},
     "output_type": "execute_result"
    },
    {
     "data": {
      "image/png": "[encoded data removed]",
      "text/plain": [
       "<Figure size 640x480 with 1 Axes>"
      ]
     },
     "metadata": {},
     "output_type": "display_data"
    }
   ],
   "source": [
    "sns.lineplot(np.array(losses))"
   ]
  },
  {
   "cell_type": "markdown",
   "id": "c498aebd",
   "metadata": {
    "papermill": {
     "duration": 0.034937,
     "end_time": "2023-04-29T11:08:45.905048",
     "exception": false,
     "start_time": "2023-04-29T11:08:45.870111",
     "status": "completed"
    },
    "tags": []
   },
   "source": [
    "As we can see we have greatly decreased our losses "
   ]
  },
  {
   "cell_type": "markdown",
   "id": "2a62986e",
   "metadata": {
    "papermill": {
     "duration": 0.02965,
     "end_time": "2023-04-29T11:08:45.965322",
     "exception": false,
     "start_time": "2023-04-29T11:08:45.935672",
     "status": "completed"
    },
    "tags": []
   },
   "source": [
    "# 2.1 | Functionalities\n",
    "We have made out our **SGD**, now we need to add some functionalities to it. We can get funcitonalites form **[Tensorflow](https://www.tensorflow.org/)=>[Keras](https://keras.io/about/)=>[Optimizers](https://keras.io/api/optimizers/)=>[Experimental](https://www.tensorflow.org/api_docs/python/tf/keras/optimizers/experimental)=>[SGD](https://www.tensorflow.org/api_docs/python/tf/keras/optimizers/experimental/SGD)**. The type of optimization tensorflow uses is a little bit different. It initializes and keeps the computation in the optimizer function and do the `fit` and `predict` on another function that uses this function. This is done so as to make a generalized optimizer for both `Linear` and `Sequential` models. But we will try to use the vanilla gradient descent and combine the initialization and the `fit` methods.\n",
    "\n",
    "* ✅List Of columns\n",
    "* ✅`learning_rate` - A Tensor, floating point value, or a schedule that is a **[tf.keras.optimizers.schedules.LearningRateSchedule](https://www.tensorflow.org/api_docs/python/tf/keras/optimizers/schedules/LearningRateSchedule)**, or a callable that takes no arguments and returns the actual value to use. The learning rate. Defaults to $0.001$.\n",
    "* ✅`momentum` - float hyperparameter >= 0 that accelerates gradient descent in the relevant direction and dampens oscillations. Defaults to 0, $i.e.$, vanilla gradient descent.\n",
    "* ✅`weight_decay : Float, defaults to None` - If set, weight decay is applied.\n",
    "* ✅`nesterov : boolean` - Whether to apply Nesterov momentum. Defaults to False.\n",
    "* ✅`weight_decay : Float, defaults to None` - If set, weight decay is applied.\n",
    "* ✅`clipnorm : Float` - If set, the gradient of each weight is individually clipped so that its norm is no higher than this value.\n",
    "* ✅`clipvalue : Float` - If set, the gradient of each weight is clipped to be no higher than this value.\n",
    "* ✅`use_ema : Boolean, defaults to False` - If True, exponential moving average (EMA) is applied. EMA consists of computing an exponential moving average of the weights of the model (as the weight values change after each training batch), and periodically overwriting the weights with their moving average.\n",
    "* ✅`ema_momentum : Float, defaults to 0.99` - Only used if use_ema=True. This is the momentum to use when computing the EMA of the model's weights: `new_average = ema_momentum * old_average + (1 - ema_momentum) * current_variable_value`.\n",
    "\n",
    "# 2.1.1 | List Of Columns \n",
    "\n",
    "This function will only work if there are only $2$ columns, one `feature` and the other one `target`. What if the user gives out a list of columns. For this we nee dto take two different arguemnts form the user and work on them differently"
   ]
  },
  {
   "cell_type": "code",
   "execution_count": 25,
   "id": "c8031374",
   "metadata": {
    "execution": {
     "iopub.execute_input": "2023-04-29T11:08:46.029340Z",
     "iopub.status.busy": "2023-04-29T11:08:46.028949Z",
     "iopub.status.idle": "2023-04-29T11:08:46.036915Z",
     "shell.execute_reply": "2023-04-29T11:08:46.035430Z"
    },
    "papermill": {
     "duration": 0.04388,
     "end_time": "2023-04-29T11:08:46.039360",
     "exception": false,
     "start_time": "2023-04-29T11:08:45.995480",
     "status": "completed"
    },
    "tags": []
   },
   "outputs": [],
   "source": [
    "def SGD(X , y):\n",
    "    \n",
    "    weights = abs(np.random.randn(X.shape[1]))\n",
    "    biases = abs(np.random.randn(1))\n",
    "\n",
    "    losses = []\n",
    "\n",
    "    for _ in range(100):\n",
    "\n",
    "        pred = np.sum((weights * X).T) + biases\n",
    "        \n",
    "        loss = np.sum((pred - y) ** 2)\n",
    "        losses.append(loss)\n",
    "        \n",
    "        weights -= -2 * loss * 0.01\n",
    "        biases -= -2 * loss * 0.01\n",
    "\n",
    "    return weights , biases , losses"
   ]
  },
  {
   "cell_type": "markdown",
   "id": "e4b6424e",
   "metadata": {
    "papermill": {
     "duration": 0.031295,
     "end_time": "2023-04-29T11:08:46.101442",
     "exception": false,
     "start_time": "2023-04-29T11:08:46.070147",
     "status": "completed"
    },
    "tags": []
   },
   "source": [
    "# 2.1.2 | Learning Rate\n",
    "\n",
    "You remeber we were taking a small part of the loss, not the whole loss. The parameter that defines how much loss we are taking is called the **Learning Rate** \n",
    "\n",
    "You might be thinking that it is not that important, but it is really important concept, a higher learning rate has a high chance that you will never converge to the model, a low very low learning rate means that you will take a very long time to converge for the model \n",
    "\n",
    "Here is a very good image that explains the importance of the learning rate \n",
    "\n",
    "<img src = \"https://www.researchgate.net/profile/Hajar-Feizi/publication/341609757/figure/fig2/AS:894745802977280@1590335431623/Changes-in-the-loss-function-vs-the-epoch-by-the-learning-rate-40.png\">\n",
    "\n",
    "It will be really easy for us to apply this functinality, we just need to change some varaibales"
   ]
  },
  {
   "cell_type": "code",
   "execution_count": 26,
   "id": "2f1c3f36",
   "metadata": {
    "execution": {
     "iopub.execute_input": "2023-04-29T11:08:46.165962Z",
     "iopub.status.busy": "2023-04-29T11:08:46.164501Z",
     "iopub.status.idle": "2023-04-29T11:08:46.173302Z",
     "shell.execute_reply": "2023-04-29T11:08:46.172235Z"
    },
    "papermill": {
     "duration": 0.043634,
     "end_time": "2023-04-29T11:08:46.176075",
     "exception": false,
     "start_time": "2023-04-29T11:08:46.132441",
     "status": "completed"
    },
    "tags": []
   },
   "outputs": [],
   "source": [
    "def SGD(X , y , learning_rate = 0.01):\n",
    "    \n",
    "    weights = abs(np.random.randn(X.shape[1]))\n",
    "    biases = abs(np.random.randn(1))\n",
    "\n",
    "    losses = []\n",
    "\n",
    "    for _ in range(100):\n",
    "\n",
    "        pred = np.sum((weights * X).T) + biases\n",
    "        \n",
    "        loss = np.sum((pred - y) ** 2)\n",
    "        losses.append(loss)\n",
    "        \n",
    "        weights -= -2 * loss * learning_rate\n",
    "        biases -= -2 * loss * learning_rate\n",
    "\n",
    "    return weights , biases , losses"
   ]
  },
  {
   "cell_type": "markdown",
   "id": "6d047413",
   "metadata": {
    "papermill": {
     "duration": 0.031052,
     "end_time": "2023-04-29T11:08:46.238728",
     "exception": false,
     "start_time": "2023-04-29T11:08:46.207676",
     "status": "completed"
    },
    "tags": []
   },
   "source": [
    "# 2.1.3 | Momentum \n",
    "\n",
    "The probelem with gradient descent is this \n",
    "\n",
    "<img src = \"https://winder.ai/blog/2017/img/gradient_descent.svg\">\n",
    "\n",
    "Notice that before we were taking larger steps and as we reached the minimum value, are step size shortened. It is kind of a blessing as well as sometimes a curse for us. The problem is while getting very near to the minimum value, the step size gets so small. that it merely becomes $0$. not $0$ (that means we have reahed the minimum value). To cunter this we introduce momentum to the formula \n",
    "\n",
    "Lets assume you are going to a place that you dont know. Like you dont know where it exists. So what you do is you ask people in the way that where is the place, and they show you the directions. Lets assume the directions are only right $(->)$ and left $(<-)$. So you ask $1^{st}$ person and he says to go to the right $(->)$, then you ask the $2^{nd}$ person and he also asks you to go right $(->)$, so you gain a confidence that you are going right. so you increase your speed. you might skip the $3^{rd}$ person and directly ask the $4^{th}$. \n",
    "\n",
    "Lets assume the same situation from start. So you ask the $1^{st}$ person and he says to go to the right $(->)$ and then you ask the $2^{nd}$ person and he says to go left. But your inner instinct says that you are in the correct direction, but due to the influence of the $2^{nd}$ person, you will go slowly.\n",
    "\n",
    "So you increase and decrease you speed on the basis of the previously gained knowledge. This is the same concept `momentum`, tries to implement. \n",
    "\n",
    "One way of doing so is to add the commulative sum of all the gradients we achived previously like this \n",
    "\n",
    "$$w_{n+1} = w_n - \\frac {dLoss}{dw} \\alpha + (\\sum\\limits_{i = 1}^{n}w_i)$$\n",
    "\n",
    "$$b_{n+1} = b_n - \\frac {dLoss}{db} \\alpha + (\\sum\\limits_{i = 1}^{n}b_i)$$\n",
    "\n",
    "But there are majorly $2$ probelems with this formula $:-$\n",
    "* Rather than fastening the gradients a little bit, it will fasten them exponentially.\n",
    "* This formula values every gradient equal, \n",
    "\n",
    "To rectify this probelm we take the weighted average sum of all the gradients. or we actually multiply the sum with some constant. we change the formula a little bit \n",
    "\n",
    "$$w_{n+1} = w_n - (\\beta w_m + \\alpha(1 - \\beta) \\frac {dLoss}{dw})$$\n",
    "\n",
    "$$b_{n+1} = b_n - (\\beta b_m + \\alpha(1 - \\beta) \\frac {dLoss}{db})$$\n"
   ]
  },
  {
   "cell_type": "code",
   "execution_count": 27,
   "id": "148a78b7",
   "metadata": {
    "execution": {
     "iopub.execute_input": "2023-04-29T11:08:46.302425Z",
     "iopub.status.busy": "2023-04-29T11:08:46.301264Z",
     "iopub.status.idle": "2023-04-29T11:08:46.310645Z",
     "shell.execute_reply": "2023-04-29T11:08:46.309406Z"
    },
    "papermill": {
     "duration": 0.044293,
     "end_time": "2023-04-29T11:08:46.313188",
     "exception": false,
     "start_time": "2023-04-29T11:08:46.268895",
     "status": "completed"
    },
    "tags": []
   },
   "outputs": [],
   "source": [
    "def SGD(X , y , learning_rate = 0.01 , momentum = 0):\n",
    "    \n",
    "    weights = abs(np.random.randn(X.shape[1]))\n",
    "    biases = abs(np.random.randn(1))\n",
    "\n",
    "    m_weights = 0\n",
    "    m_biases = 0\n",
    "\n",
    "    losses = []\n",
    "\n",
    "    for _ in range(100):\n",
    "\n",
    "        pred = np.sum((weights * X).T) + biases\n",
    "        \n",
    "        loss = np.sum(pred - y)\n",
    "        losses.append(loss)\n",
    "\n",
    "        m_weights = momentum * m_weights + (1 - momentum) * (-2 * loss)\n",
    "        m_biases = momentum * m_biases + (1 - momentum) * (-2 * loss)\n",
    "        \n",
    "        weights -= m_weights[epochs + 1] * 0.01\n",
    "        biases -= m_biases[epochs + 1] * 0.01\n",
    "\n",
    "    return weights , biases , losses"
   ]
  },
  {
   "cell_type": "markdown",
   "id": "b65fa849",
   "metadata": {
    "papermill": {
     "duration": 0.032048,
     "end_time": "2023-04-29T11:08:46.375495",
     "exception": false,
     "start_time": "2023-04-29T11:08:46.343447",
     "status": "completed"
    },
    "tags": []
   },
   "source": [
    "# 2.1.4 | Nestrov\n",
    "While SGD with momentum can be effective at overcoming oscillations in the cost function, NAG has been shown to converge faster and more reliably in many cases, and thats why we will give the functionality of this function to \n",
    "$$w^n = w^{n-1} - \\beta w_v^{n-1} + (1-\\beta)(w^{n-1} - \\beta w_v^{n-1})$$\n",
    "$$b^n = b^{n-1} - \\beta b_v^{n-1} + (1-\\beta)(b^{n-1} - \\beta b_v^{n-1})$$"
   ]
  },
  {
   "cell_type": "code",
   "execution_count": 28,
   "id": "31ec51db",
   "metadata": {
    "execution": {
     "iopub.execute_input": "2023-04-29T11:08:46.440986Z",
     "iopub.status.busy": "2023-04-29T11:08:46.440261Z",
     "iopub.status.idle": "2023-04-29T11:08:46.449413Z",
     "shell.execute_reply": "2023-04-29T11:08:46.448422Z"
    },
    "papermill": {
     "duration": 0.045393,
     "end_time": "2023-04-29T11:08:46.452047",
     "exception": false,
     "start_time": "2023-04-29T11:08:46.406654",
     "status": "completed"
    },
    "tags": []
   },
   "outputs": [],
   "source": [
    "def SGD(X , y , learning_rate = 0.01 , momentum = 0 , nestrov = False):\n",
    "    \n",
    "    weights = abs(np.random.randn(X.shape[1]))\n",
    "    biases = abs(np.random.randn(1))\n",
    "    \n",
    "    m_weights = 0\n",
    "    m_biases = 0\n",
    "    \n",
    "    losses = []\n",
    "    \n",
    "    for _ in range(100):\n",
    "    \n",
    "        pred = np.sum((weights * X).T) + biases\n",
    "        \n",
    "        loss = np.sum((pred - y) ** 2)\n",
    "        losses.append(loss)\n",
    "        \n",
    "        if nestrov :\n",
    "\n",
    "            m_weights = (momentum * m_weights + ((1 - momentum) * (weights - momentum * m_weights))) * -2 * loss \n",
    "            m_biases = (momentum * m_biases + ((1 - momentum) * (weights - momentum * m_biases))) * -2 * loss\n",
    "\n",
    "        else :\n",
    "\n",
    "            m_weights = momentum * m_weights + (1 - momentum) * -2 * loss\n",
    "            m_biases = momentum * m_biases + (1 - momentum) * -2 * loss\n",
    "\n",
    "        weights -= m_weights * learning_rate\n",
    "        biases -= m_biases * learning_rate\n",
    "\n",
    "    return weights , biases , losses"
   ]
  },
  {
   "cell_type": "markdown",
   "id": "e790d657",
   "metadata": {
    "papermill": {
     "duration": 0.029755,
     "end_time": "2023-04-29T11:08:46.511977",
     "exception": false,
     "start_time": "2023-04-29T11:08:46.482222",
     "status": "completed"
    },
    "tags": []
   },
   "source": [
    "# 2.1.5 | Weight Decay \n",
    "Weight decay is a powerful regularization technique that can help to prevent overfitting and improve the generalization performance of machine learning models trained with SGD optimization.\n",
    "$$u = u + \\gamma u$$"
   ]
  },
  {
   "cell_type": "code",
   "execution_count": 29,
   "id": "e4ddc96b",
   "metadata": {
    "execution": {
     "iopub.execute_input": "2023-04-29T11:08:46.575801Z",
     "iopub.status.busy": "2023-04-29T11:08:46.575348Z",
     "iopub.status.idle": "2023-04-29T11:08:46.585444Z",
     "shell.execute_reply": "2023-04-29T11:08:46.584332Z"
    },
    "papermill": {
     "duration": 0.045915,
     "end_time": "2023-04-29T11:08:46.587950",
     "exception": false,
     "start_time": "2023-04-29T11:08:46.542035",
     "status": "completed"
    },
    "tags": []
   },
   "outputs": [],
   "source": [
    "def SGD(X , y , learning_rate = 0.01 , momentum = 0 , nestrov = False , weight_decay = None):\n",
    "    \n",
    "    weights = abs(np.random.randn(X.shape[1]))\n",
    "    biases = abs(np.random.randn(1))\n",
    "    \n",
    "    m_weights = 0\n",
    "    m_biases = 0\n",
    "    \n",
    "    losses = []\n",
    "    \n",
    "    for _ in range(100):\n",
    "    \n",
    "        pred = np.sum((weights * X).T) + biases\n",
    "        \n",
    "        loss = np.sum((pred - y) ** 2)\n",
    "        losses.append(loss)\n",
    "        \n",
    "        if nestrov :\n",
    "\n",
    "            m_weights = (momentum * m_weights + (1 - momentum) * (weights - momentum * m_weights)) * -2 * loss \n",
    "            m_biases = (momentum * m_biases + (1 - momentum) * (weights - momentum * m_biases)) * -2 * loss\n",
    "\n",
    "        else :\n",
    "\n",
    "            m_weights = momentum * m_weights + (1 - momentum) * -2 * loss\n",
    "            m_biases = momentum * m_biases + (1 - momentum) * -2 * loss\n",
    "\n",
    "        weights -= (m_weights + weight_decay * m_weights) * learning_rate\n",
    "        biases -= (m_biases + weight_decay * m_biases) * learning_rate\n",
    "\n",
    "    return weights , biases , losses"
   ]
  },
  {
   "cell_type": "markdown",
   "id": "4a94f772",
   "metadata": {
    "papermill": {
     "duration": 0.033594,
     "end_time": "2023-04-29T11:08:46.657462",
     "exception": false,
     "start_time": "2023-04-29T11:08:46.623868",
     "status": "completed"
    },
    "tags": []
   },
   "source": [
    "# 2.1.6 | Clip Norm\n",
    "\n",
    "Sometimes there is a chance that the weights go skyrocketting, which is generally considered a bad idea, parameters in the range of $(-1, 1)$ are considered to be good. Thats why sometimes we use clip-norm , that generates a upper baseline for the parameters. "
   ]
  },
  {
   "cell_type": "code",
   "execution_count": 30,
   "id": "dadd9f0a",
   "metadata": {
    "execution": {
     "iopub.execute_input": "2023-04-29T11:08:46.722360Z",
     "iopub.status.busy": "2023-04-29T11:08:46.721184Z",
     "iopub.status.idle": "2023-04-29T11:08:46.731825Z",
     "shell.execute_reply": "2023-04-29T11:08:46.730881Z"
    },
    "papermill": {
     "duration": 0.046364,
     "end_time": "2023-04-29T11:08:46.734421",
     "exception": false,
     "start_time": "2023-04-29T11:08:46.688057",
     "status": "completed"
    },
    "tags": []
   },
   "outputs": [],
   "source": [
    "def SGD(X , y , learning_rate = 0.01 , momentum = 0 , nestrov = False , weight_decay = None , clip_norm = None):\n",
    "    \n",
    "    weights = abs(np.random.randn(X.shape[1]))\n",
    "    biases = abs(np.random.randn(1))\n",
    "    \n",
    "    m_weights = 0\n",
    "    m_biases = 0\n",
    "    \n",
    "    losses = []\n",
    "    \n",
    "    for _ in range(100):\n",
    "    \n",
    "        pred = np.sum((weights * X).T) + biases\n",
    "        \n",
    "        loss = np.sum((pred - y) ** 2)\n",
    "        losses.append(loss)\n",
    "        \n",
    "        if nestrov :\n",
    "\n",
    "            m_weights = (momentum * m_weights + (1 - momentum) * (weights - momentum * m_weights)) * -2 * loss \n",
    "            m_biases = (momentum * m_biases + (1 - momentum) * (weights - momentum * m_biases)) * -2 * loss\n",
    "\n",
    "        else :\n",
    "\n",
    "            m_weights = momentum * m_weights + (1 - momentum) * -2 * loss\n",
    "            m_biases = momentum * m_biases + (1 - momentum) * -2 * loss\n",
    "\n",
    "        if clip_norm != None:\n",
    "            \n",
    "            weights = np.clip(weights , weights , clip_norm)\n",
    "            biases = np.clip(biases , biases , clip_norm)\n",
    "\n",
    "        weights -= (m_weights + weight_decay * m_weights) * learning_rate\n",
    "        biases -= (m_biases + weight_decay * m_biases) * learning_rate\n",
    "\n",
    "    return weights , biases , losses"
   ]
  },
  {
   "cell_type": "markdown",
   "id": "84a31883",
   "metadata": {
    "papermill": {
     "duration": 0.029881,
     "end_time": "2023-04-29T11:08:46.794848",
     "exception": false,
     "start_time": "2023-04-29T11:08:46.764967",
     "status": "completed"
    },
    "tags": []
   },
   "source": [
    "# 2.1.7 | Clip Values\n",
    "\n",
    "Sometimes the same can go with the `gradients` and thus we also clip them. Higher gradients means that learning rate is very high and need to be lowered. This gives us $2$ tuners to control the gradient "
   ]
  },
  {
   "cell_type": "code",
   "execution_count": 31,
   "id": "5e53e714",
   "metadata": {
    "execution": {
     "iopub.execute_input": "2023-04-29T11:08:46.858762Z",
     "iopub.status.busy": "2023-04-29T11:08:46.858039Z",
     "iopub.status.idle": "2023-04-29T11:08:46.869289Z",
     "shell.execute_reply": "2023-04-29T11:08:46.868100Z"
    },
    "papermill": {
     "duration": 0.045996,
     "end_time": "2023-04-29T11:08:46.872056",
     "exception": false,
     "start_time": "2023-04-29T11:08:46.826060",
     "status": "completed"
    },
    "tags": []
   },
   "outputs": [],
   "source": [
    "def SGD(X , y , learning_rate = 0.01 , momentum = 0 , nestrov = False , weight_decay = None , clip_norm = None):\n",
    "    \n",
    "    weights = abs(np.random.randn(X.shape[1]))\n",
    "    biases = abs(np.random.randn(1))\n",
    "    \n",
    "    m_weights = 0\n",
    "    m_biases = 0\n",
    "    \n",
    "    losses = []\n",
    "    \n",
    "    for _ in range(100):\n",
    "    \n",
    "        pred = np.sum((weights * X).T) + biases\n",
    "        \n",
    "        loss = np.sum((pred - y) ** 2)\n",
    "        losses.append(loss)\n",
    "        \n",
    "        if nestrov :\n",
    "\n",
    "            m_weights = (momentum * m_weights + (1 - momentum) * (weights - momentum * m_weights)) * -2 * loss \n",
    "            m_biases = (momentum * m_biases + (1 - momentum) * (weights - momentum * m_biases)) * -2 * loss\n",
    "\n",
    "        else :\n",
    "\n",
    "            m_weights = momentum * m_weights + (1 - momentum) * -2 * loss\n",
    "            m_biases = momentum * m_biases + (1 - momentum) * -2 * loss\n",
    "\n",
    "        if clip_norm != None:\n",
    "            \n",
    "            weights = np.clip(weights , weights , clip_norm)\n",
    "            biases = np.clip(biases , biases , clip_norm)\n",
    "\n",
    "        if clip_value != None:\n",
    "            \n",
    "            m_weights = np.clip(m_weights , m_weights , clip_value)\n",
    "            m_biases = np.clip(m_biases , m_biases , clip_value)\n",
    "\n",
    "        weights -= (m_weights + weight_decay * m_weights) * learning_rate\n",
    "        biases -= (m_biases + weight_decay * m_biases) * learning_rate\n",
    "\n",
    "    return weights , biases , losses"
   ]
  },
  {
   "cell_type": "markdown",
   "id": "89803612",
   "metadata": {
    "papermill": {
     "duration": 0.029902,
     "end_time": "2023-04-29T11:08:46.932345",
     "exception": false,
     "start_time": "2023-04-29T11:08:46.902443",
     "status": "completed"
    },
    "tags": []
   },
   "source": [
    "# 2.1.8 | Use EMA\n",
    "\n",
    "Wether to use the estimated momentum average or not. The major use of this function is when `ema_momentum` is given "
   ]
  },
  {
   "cell_type": "code",
   "execution_count": 32,
   "id": "18251674",
   "metadata": {
    "execution": {
     "iopub.execute_input": "2023-04-29T11:08:46.994724Z",
     "iopub.status.busy": "2023-04-29T11:08:46.993929Z",
     "iopub.status.idle": "2023-04-29T11:08:47.005164Z",
     "shell.execute_reply": "2023-04-29T11:08:47.004102Z"
    },
    "papermill": {
     "duration": 0.045763,
     "end_time": "2023-04-29T11:08:47.008265",
     "exception": false,
     "start_time": "2023-04-29T11:08:46.962502",
     "status": "completed"
    },
    "tags": []
   },
   "outputs": [],
   "source": [
    "def SGD(X , y , learning_rate = 0.01 , momentum = 0 , nestrov = False , weight_decay = None , clip_norm = None , ema = False):\n",
    "    \n",
    "    weights = abs(np.random.randn(X.shape[1]))\n",
    "    biases = abs(np.random.randn(1))\n",
    "    \n",
    "    m_weights = 0\n",
    "    m_biases = 0\n",
    "    \n",
    "    losses = []\n",
    "    \n",
    "    for _ in range(100):\n",
    "    \n",
    "        pred = np.sum((weights * X).T) + biases\n",
    "        \n",
    "        loss = np.sum((pred - y) ** 2)\n",
    "        losses.append(loss)\n",
    "        \n",
    "        if nestrov :\n",
    "\n",
    "            m_weights = (momentum * m_weights + (1 - momentum) * (weights - momentum * m_weights)) * -2 * loss \n",
    "            m_biases = (momentum * m_biases + (1 - momentum) * (weights - momentum * m_biases)) * -2 * loss\n",
    "\n",
    "        else :\n",
    "\n",
    "            m_weights = momentum * m_weights + (1 - momentum) * -2 * loss\n",
    "            m_biases = momentum * m_biases + (1 - momentum) * -2 * loss\n",
    "\n",
    "        if ema:pass\n",
    "\n",
    "        if clip_norm != None:\n",
    "            \n",
    "            weights = np.clip(weights , weights , clip_norm)\n",
    "            biases = np.clip(biases , biases , clip_norm)\n",
    "\n",
    "        if clip_value != None:\n",
    "            \n",
    "            m_weights = np.clip(m_weights , m_weights , clip_value)\n",
    "            m_biases = np.clip(m_biases , m_biases , clip_value)\n",
    "\n",
    "        weights -= (m_weights + weight_decay * m_weights) * learning_rate\n",
    "        biases -= (m_biases + weight_decay * m_biases) * learning_rate\n",
    "\n",
    "    return weights , biases , losses"
   ]
  },
  {
   "cell_type": "markdown",
   "id": "867b3567",
   "metadata": {
    "papermill": {
     "duration": 0.029706,
     "end_time": "2023-04-29T11:08:47.070592",
     "exception": false,
     "start_time": "2023-04-29T11:08:47.040886",
     "status": "completed"
    },
    "tags": []
   },
   "source": [
    "# 2.1.9 | EMA Momentum \n",
    "\n",
    "In RMSprop, the exponential moving average (EMA) of the gradient with momentum is used to improve convergence and prevent oscillations during training. The EMA of the gradient with momentum is updated at each iteration and incorporates information about the previous gradients and the current gradient to produce a more stable and consistent update direction. This helps to smooth out the noise in the gradient estimates and helps the optimizer to move more directly towards the minimum of the loss function."
   ]
  },
  {
   "cell_type": "code",
   "execution_count": 33,
   "id": "cf051bfb",
   "metadata": {
    "execution": {
     "iopub.execute_input": "2023-04-29T11:08:47.133934Z",
     "iopub.status.busy": "2023-04-29T11:08:47.133293Z",
     "iopub.status.idle": "2023-04-29T11:08:47.145359Z",
     "shell.execute_reply": "2023-04-29T11:08:47.144152Z"
    },
    "papermill": {
     "duration": 0.046778,
     "end_time": "2023-04-29T11:08:47.148265",
     "exception": false,
     "start_time": "2023-04-29T11:08:47.101487",
     "status": "completed"
    },
    "tags": []
   },
   "outputs": [],
   "source": [
    "def SGD(X , y , learning_rate = 0.01 , momentum = 0 , nestrov = False , weight_decay = None , clip_norm = None , ema = False , ema_momentum = 0.99):\n",
    "    \n",
    "    weights = abs(np.random.randn(X.shape[1]))\n",
    "    biases = abs(np.random.randn(1))\n",
    "    \n",
    "    m_weights = 0\n",
    "    m_biases = 0\n",
    "    \n",
    "    losses = []\n",
    "    \n",
    "    for _ in range(100):\n",
    "    \n",
    "        pred = np.sum((weights * X).T) + biases\n",
    "        \n",
    "        loss = np.sum((pred - y) ** 2)\n",
    "        losses.append(loss)\n",
    "        \n",
    "        if nestrov :\n",
    "\n",
    "            m_weights = (momentum * m_weights + (1 - momentum) * (weights - momentum * m_weights)) * -2 * loss \n",
    "            m_biases = (momentum * m_biases + (1 - momentum) * (weights - momentum * m_biases)) * -2 * loss\n",
    "\n",
    "        else :\n",
    "\n",
    "            m_weights = momentum * m_weights + (1 - momentum) * -2 * loss\n",
    "            m_biases = momentum * m_biases + (1 - momentum) * -2 * loss\n",
    "\n",
    "        if ema:\n",
    "            m_weights = ema_momentum * m_weights + (1 - ema_momentum) * -2 * loss\n",
    "            m_biases = ema_momentum * m_biases + (1 - ema_momentum) * -2 * loss\n",
    "\n",
    "        if clip_norm != None:\n",
    "            \n",
    "            weights = np.clip(weights , weights , clip_norm)\n",
    "            biases = np.clip(biases , biases , clip_norm)\n",
    "\n",
    "        if clip_value != None:\n",
    "            \n",
    "            m_weights = np.clip(m_weights , m_weights , clip_value)\n",
    "            m_biases = np.clip(m_biases , m_biases , clip_value)\n",
    "\n",
    "        weights -= (m_weights + weight_decay * m_weights) * learning_rate\n",
    "        biases -= (m_biases + weight_decay * m_biases) * learning_rate\n",
    "\n",
    "    return weights , biases , losses"
   ]
  },
  {
   "cell_type": "markdown",
   "id": "9f1bfcaf",
   "metadata": {
    "papermill": {
     "duration": 0.03085,
     "end_time": "2023-04-29T11:08:47.209356",
     "exception": false,
     "start_time": "2023-04-29T11:08:47.178506",
     "status": "completed"
    },
    "tags": []
   },
   "source": [
    "# 2.2 | Methods\n",
    "\n",
    "Now to add more functionalities, we will add different methods to our alogirthm, You can acces the list of methods we are going to use from the same link before we used for `Functionalities`. \n",
    "* ✅`build` - Initialize optimizer variables. SGD optimizer has one variable momentums, only set if self.momentum is not 0.\n",
    "* * ✅`weights` - Weights of the Optimizer\n",
    "* * ✅`biases` - biases of the Optimizer\n",
    "* ✅`compute_gradients` - Compute gradients of loss on trainable variables.\n",
    "* ✅`minimize` - Minimize loss by updating `var_list`.\n",
    "* ✅`update_step` - Update step given gradient and the associated model variable.\n",
    "\n",
    "**Note** - we will stop the function from being usable at some places\n",
    "\n",
    "# 2.2.1 | Build\n",
    "This method initializes all the values in the `SGD`, you can understand this as a constructor, but not perfectly as the one. \n",
    "\n",
    "We will give the user a functionality, that they can intialize there own variables. At the starting the `weights` and `baises` are `None`. If the user passes their own, the function first checks that they are or correct shape and if True assigns the values, else initialize random values "
   ]
  },
  {
   "cell_type": "code",
   "execution_count": 34,
   "id": "bbea50b8",
   "metadata": {
    "execution": {
     "iopub.execute_input": "2023-04-29T11:08:47.272486Z",
     "iopub.status.busy": "2023-04-29T11:08:47.271741Z",
     "iopub.status.idle": "2023-04-29T11:08:47.294434Z",
     "shell.execute_reply": "2023-04-29T11:08:47.293454Z"
    },
    "papermill": {
     "duration": 0.057312,
     "end_time": "2023-04-29T11:08:47.297051",
     "exception": false,
     "start_time": "2023-04-29T11:08:47.239739",
     "status": "completed"
    },
    "tags": []
   },
   "outputs": [],
   "source": [
    "class SGD:\n",
    "    \n",
    "    def __init__(self , \n",
    "                 X , y , \n",
    "                 learning_rate = 0.01 , momentum = 0 , \n",
    "                 nestrov = False , weight_decay = 0 , \n",
    "                 clip_norm = None , clip_value = None , \n",
    "                 use_ema = False , ema_momentum = 0):\n",
    "        \n",
    "        self.X = X\n",
    "        self.y = y\n",
    "        self.learning_rate = learning_rate\n",
    "        self.momentum = momentum\n",
    "        self.nestrov = nestrov\n",
    "        self.weight_decay = weight_decay\n",
    "        self.clip_norm = clip_norm\n",
    "        self.clip_value = clip_value\n",
    "        self.use_ema = use_ema\n",
    "        self.ema_momentum = ema_momentum\n",
    "    \n",
    "    def build(self , weights = None , biases = None):\n",
    "        \n",
    "        if weights == None:\n",
    "            \n",
    "            self.weights = abs(np.random.randn(self.X.shape[0]))\n",
    "        \n",
    "        else :\n",
    "            \n",
    "            if weights.shape[0] == self.X.shape[1]:\n",
    "                \n",
    "                self.weights = weights\n",
    "            \n",
    "            else :\n",
    "                \n",
    "                self.weights = abs(np.random.randn(self.X.shape[1]))\n",
    "                \n",
    "                raise UserWarning(\"Values do not match with the `X` , intializing random Values\")\n",
    "                \n",
    "        \n",
    "        if biases == None:\n",
    "            \n",
    "            self.biases = abs(np.random.randn(1))\n",
    "        \n",
    "        else :\n",
    "            \n",
    "            if biases.shape[0] == 1:\n",
    "                \n",
    "                self.biases = biases\n",
    "            \n",
    "            else :\n",
    "                \n",
    "                self.biases = abs(np.random.randn(1))\n",
    "                \n",
    "                raise UserWarning(\"Values do not match with the `X` , intializing random Values\")\n",
    "    \n",
    "        self.m_weights = 0\n",
    "        self.m_biases = 0\n",
    "    \n",
    "        self.losses = []\n",
    "    \n",
    "        for _ in range(100):\n",
    "        \n",
    "            pred = np.sum((weights * self.X).T) + biases\n",
    "            \n",
    "            loss = np.sum((pred - self.y) ** 2)\n",
    "            self.losses.append(loss)\n",
    "            \n",
    "            if self.nestrov :\n",
    "\n",
    "                self.m_weights = (self.momentum * self.m_weights + (1 - self.momentum) * (self.weights - self.momentum * self.m_weights)) * -2 * loss \n",
    "                self.m_biases = (self.momentum * self.m_biases + (1 - self.momentum) * (self.biases - self.momentum * self.m_biases)) * -2 * loss\n",
    "\n",
    "            else :\n",
    "\n",
    "                self.m_weights = self.momentum * self.m_weights + (1 - self.momentum) * -2 * loss\n",
    "                self.m_biases = self.momentum * self.m_biases + (1 - self.momentum) * -2 * loss\n",
    "            \n",
    "            if self.use_ema:\n",
    "                \n",
    "                self.m_weights = self.ema_momentum * self.m_weights + (1 - self.ema_momentum) * -2 * loss\n",
    "                self.m_biases = self.ema_momentum * self.m_biases + (1 - self.ema_momentum) * -2 * loss\n",
    "                \n",
    "            if self.clip_norm != None:\n",
    "                \n",
    "                weights = np.clip(weights , weights , self.clip_norm)\n",
    "                biases = np.clip(biases , biases , self.clip_norm)\n",
    "            \n",
    "            if self.clip_value != None:\n",
    "                \n",
    "                self.m_weights = np.clip(self.m_weights , self.m_weights , self.clip_value)\n",
    "                self.m_biases = np.clip(self.m_biases , self.m_biases , self.clip_value)\n",
    "            \n",
    "            weights -= (self.m_weights + self.weight_decay * self.m_weights) * self.learning_rate\n",
    "            biases -= (self.m_biases + self.weight_decay * self.m_biases) * self.learning_rate\n",
    "\n",
    "        return weights , biases , losses"
   ]
  },
  {
   "cell_type": "markdown",
   "id": "ea92b712",
   "metadata": {
    "papermill": {
     "duration": 0.035141,
     "end_time": "2023-04-29T11:08:47.363373",
     "exception": false,
     "start_time": "2023-04-29T11:08:47.328232",
     "status": "completed"
    },
    "tags": []
   },
   "source": [
    "# 2.2.2 | Compute Gradients\n",
    "\n",
    "Compuute the loss function and gradients for the losses "
   ]
  },
  {
   "cell_type": "code",
   "execution_count": 35,
   "id": "bae91edb",
   "metadata": {
    "execution": {
     "iopub.execute_input": "2023-04-29T11:08:47.426837Z",
     "iopub.status.busy": "2023-04-29T11:08:47.426051Z",
     "iopub.status.idle": "2023-04-29T11:08:47.439820Z",
     "shell.execute_reply": "2023-04-29T11:08:47.438789Z"
    },
    "papermill": {
     "duration": 0.048166,
     "end_time": "2023-04-29T11:08:47.442385",
     "exception": false,
     "start_time": "2023-04-29T11:08:47.394219",
     "status": "completed"
    },
    "tags": []
   },
   "outputs": [],
   "source": [
    "class SGD:\n",
    "    \n",
    "    def __init__(self , \n",
    "                 X , y , \n",
    "                 learning_rate = 0.01 , momentum = 0 , \n",
    "                 nestrov = False , weight_decay = 0 , \n",
    "                 clip_norm = None , clip_value = None , \n",
    "                 use_ema = False , ema_momentum = 0):\n",
    "        \n",
    "        self.X = X\n",
    "        self.y = y\n",
    "        self.learning_rate = learning_rate\n",
    "        self.momentum = momentum\n",
    "        self.nestrov = nestrov\n",
    "        self.weight_decay = weight_decay\n",
    "        self.clip_norm = clip_norm\n",
    "        self.clip_value = clip_value\n",
    "        self.use_ema = use_ema\n",
    "        self.ema_momentum = ema_momentum\n",
    "    \n",
    "    def build(self , weights = None , biases = None):\n",
    "        \n",
    "        if weights == None:\n",
    "            \n",
    "            self.weights = abs(np.random.randn(self.X.shape[0]))\n",
    "        \n",
    "        else :\n",
    "            \n",
    "            if weights.shape[0] == self.X.shape[1]:\n",
    "                \n",
    "                self.weights = weights\n",
    "            \n",
    "            else :\n",
    "                \n",
    "                self.weights = abs(np.random.randn(self.X.shape[1]))\n",
    "                \n",
    "                raise UserWarning(\"Values do not match with the `X` , intializing random Values\")\n",
    "                \n",
    "        \n",
    "        if biases == None:\n",
    "            \n",
    "            self.biases = abs(np.random.randn(1))\n",
    "        \n",
    "        else :\n",
    "            \n",
    "            if biases.shape[0] == 1:\n",
    "                \n",
    "                self.biases = biases\n",
    "            \n",
    "            else :\n",
    "                \n",
    "                self.biases = abs(np.random.randn(1))\n",
    "                \n",
    "                raise UserWarning(\"Values do not match with the `X` , intializing random Values\")\n",
    "    \n",
    "        self.m_weights = 0\n",
    "        self.m_biases = 0\n",
    "    \n",
    "        self.losses = []\n",
    "\n",
    "    def comput_gradients(self , weights , biases):\n",
    "        \n",
    "            pred = np.sum((weights * self.X).T) + biases\n",
    "            \n",
    "            loss = np.sum((pred - self.y) ** 2)\n",
    "            \n",
    "            yield loss\n",
    "            \n",
    "            self.losses.append(loss)\n",
    "            \n",
    "        #     if self.nestrov :\n",
    "\n",
    "        #         self.m_weights = (self.momentum * self.m_weights + (1 - self.momentum) * (self.weights - self.momentum * self.m_weights)) * -2 * loss \n",
    "        #         self.m_biases = (self.momentum * self.m_biases + (1 - self.momentum) * (self.biases - self.momentum * self.m_biases)) * -2 * loss\n",
    "\n",
    "        #     else :\n",
    "\n",
    "        #         self.m_weights = self.momentum * self.m_weights + (1 - self.momentum) * -2 * loss\n",
    "        #         self.m_biases = self.momentum * self.m_biases + (1 - self.momentum) * -2 * loss\n",
    "            \n",
    "        #     if self.use_ema:\n",
    "                \n",
    "        #         self.m_weights = self.ema_momentum * self.momentum + (1 - self.ema_momentum) * -2 * loss\n",
    "        #         self.m_biases = self.ema_momentum * self.momentum + (1 - self.ema_momentum) * -2 * loss\n",
    "                \n",
    "        #     if self.clip_norm != None:\n",
    "                \n",
    "        #         weights = np.clip(weights , weights , self.clip_norm)\n",
    "        #         biases = np.clip(biases , biases , self.clip_norm)\n",
    "            \n",
    "        #     if self.clip_value != None:\n",
    "                \n",
    "        #         self.m_weights = np.clip(self.m_weights , self.m_weights , self.clip_value)\n",
    "        #         self.m_biases = np.clip(self.m_biases , self.m_biases , self.clip_value)\n",
    "            \n",
    "        #     weights -= (self.m_weights + self.weight_decay * self.m_weights) * self.learning_rate\n",
    "        #     biases -= (self.m_biases + self.weight_decay * self.m_biases) * self.learning_rate\n",
    "\n",
    "        # return weights , biases , losses"
   ]
  },
  {
   "cell_type": "markdown",
   "id": "9276b8ec",
   "metadata": {
    "papermill": {
     "duration": 0.030414,
     "end_time": "2023-04-29T11:08:47.503924",
     "exception": false,
     "start_time": "2023-04-29T11:08:47.473510",
     "status": "completed"
    },
    "tags": []
   },
   "source": [
    "# 2.2.3 | Minimize \n",
    "Minimze the loss values"
   ]
  },
  {
   "cell_type": "code",
   "execution_count": 36,
   "id": "914930d3",
   "metadata": {
    "execution": {
     "iopub.execute_input": "2023-04-29T11:08:47.568853Z",
     "iopub.status.busy": "2023-04-29T11:08:47.568030Z",
     "iopub.status.idle": "2023-04-29T11:08:47.584855Z",
     "shell.execute_reply": "2023-04-29T11:08:47.583868Z"
    },
    "papermill": {
     "duration": 0.052911,
     "end_time": "2023-04-29T11:08:47.587569",
     "exception": false,
     "start_time": "2023-04-29T11:08:47.534658",
     "status": "completed"
    },
    "tags": []
   },
   "outputs": [],
   "source": [
    "class SGD:\n",
    "    \n",
    "    def __init__(self , \n",
    "                 X , y , \n",
    "                 learning_rate = 0.01 , momentum = 0 , \n",
    "                 nestrov = False , weight_decay = 0 , \n",
    "                 clip_norm = None , clip_value = None , \n",
    "                 use_ema = False , ema_momentum = 0):\n",
    "        \n",
    "        self.X = X\n",
    "        self.y = y\n",
    "        self.learning_rate = learning_rate\n",
    "        self.momentum = momentum\n",
    "        self.nestrov = nestrov\n",
    "        self.weight_decay = weight_decay\n",
    "        self.clip_norm = clip_norm\n",
    "        self.clip_value = clip_value\n",
    "        self.use_ema = use_ema\n",
    "        self.ema_momentum = ema_momentum\n",
    "    \n",
    "    def build(self , weights = None , biases = None):\n",
    "        \n",
    "        if weights == None:\n",
    "            \n",
    "            self.weights = abs(np.random.randn(self.X.shape[0]))\n",
    "        \n",
    "        else :\n",
    "            \n",
    "            if weights.shape[0] == self.X.shape[1]:\n",
    "                \n",
    "                self.weights = weights\n",
    "            \n",
    "            else :\n",
    "                \n",
    "                self.weights = abs(np.random.randn(self.X.shape[1]))\n",
    "                \n",
    "                raise UserWarning(\"Values do not match with the `X` , intializing random Values\")\n",
    "                \n",
    "        \n",
    "        if biases == None:\n",
    "            \n",
    "            self.biases = abs(np.random.randn(1))\n",
    "        \n",
    "        else :\n",
    "            \n",
    "            if biases.shape[0] == 1:\n",
    "                \n",
    "                self.biases = biases\n",
    "            \n",
    "            else :\n",
    "                \n",
    "                self.biases = abs(np.random.randn(1))\n",
    "                \n",
    "                raise UserWarning(\"Values do not match with the `X` , intializing random Values\")\n",
    "    \n",
    "        self.m_weights = 0\n",
    "        self.m_biases = 0\n",
    "    \n",
    "        self.losses = []\n",
    "\n",
    "    def comput_gradients(self , weights , biases):\n",
    "        \n",
    "            pred = np.sum((weights * self.X).T) + biases\n",
    "            \n",
    "            loss = np.sum((pred - self.y) ** 2)\n",
    "            \n",
    "            yield loss\n",
    "            \n",
    "            self.losses.append(loss)\n",
    "            \n",
    "        #     if self.nestrov :\n",
    "\n",
    "        #         self.m_weights = (self.momentum * self.m_weights + (1 - self.momentum) * (self.weights - self.momentum * self.m_weights)) * -2 * loss \n",
    "        #         self.m_biases = (self.momentum * self.m_biases + (1 - self.momentum) * (self.biases - self.momentum * self.m_biases)) * -2 * loss\n",
    "\n",
    "        #     else :\n",
    "\n",
    "        #         self.m_weights = self.momentum * self.m_weights + (1 - self.momentum) * -2 * loss\n",
    "        #         self.m_biases = self.momentum * self.m_biases + (1 - self.momentum) * -2 * loss\n",
    "            \n",
    "        #     if self.use_ema:\n",
    "                \n",
    "        #         self.m_weights = self.ema_momentum * self.momentum + (1 - self.ema_momentum) * -2 * loss\n",
    "        #         self.m_biases = self.ema_momentum * self.momentum + (1 - self.ema_momentum) * -2 * loss\n",
    "    def minimize(self):                \n",
    "        if self.clip_norm != None:\n",
    "            \n",
    "            weights = np.clip(weights , weights , self.clip_norm)\n",
    "            biases = np.clip(biases , biases , self.clip_norm)\n",
    "        \n",
    "        if self.clip_value != None:\n",
    "            \n",
    "            self.m_weights = np.clip(self.m_weights , self.m_weights , self.clip_value)\n",
    "            self.m_biases = np.clip(self.m_biases , self.m_biases , self.clip_value)\n",
    "        \n",
    "        weights -= (self.m_weights + self.weight_decay * self.m_weights) * self.learning_rate\n",
    "        biases -= (self.m_biases + self.weight_decay * self.m_biases) * self.learning_rate\n",
    "\n",
    "        # return weights , biases , losses"
   ]
  },
  {
   "cell_type": "markdown",
   "id": "aaf41281",
   "metadata": {
    "papermill": {
     "duration": 0.029714,
     "end_time": "2023-04-29T11:08:47.647273",
     "exception": false,
     "start_time": "2023-04-29T11:08:47.617559",
     "status": "completed"
    },
    "tags": []
   },
   "source": [
    "# 2.2.4 | Update_Step"
   ]
  },
  {
   "cell_type": "code",
   "execution_count": 37,
   "id": "e6a261c6",
   "metadata": {
    "execution": {
     "iopub.execute_input": "2023-04-29T11:08:47.712801Z",
     "iopub.status.busy": "2023-04-29T11:08:47.711963Z",
     "iopub.status.idle": "2023-04-29T11:08:47.732805Z",
     "shell.execute_reply": "2023-04-29T11:08:47.731581Z"
    },
    "papermill": {
     "duration": 0.057782,
     "end_time": "2023-04-29T11:08:47.735980",
     "exception": false,
     "start_time": "2023-04-29T11:08:47.678198",
     "status": "completed"
    },
    "tags": []
   },
   "outputs": [],
   "source": [
    "class SGD:\n",
    "    \n",
    "    def __init__(self , \n",
    "                 X , y , \n",
    "                 learning_rate = 0.01 , momentum = 0 , \n",
    "                 nestrov = False , weight_decay = 0 , \n",
    "                 clip_norm = None , clip_value = None , \n",
    "                 use_ema = False , ema_momentum = 0):\n",
    "        \n",
    "        self.X = X\n",
    "        self.y = y\n",
    "        self.learning_rate = learning_rate\n",
    "        self.momentum = momentum\n",
    "        self.nestrov = nestrov\n",
    "        self.weight_decay = weight_decay\n",
    "        self.clip_norm = clip_norm\n",
    "        self.clip_value = clip_value\n",
    "        self.use_ema = use_ema\n",
    "        self.ema_momentum = ema_momentum\n",
    "    \n",
    "    def build(self , weights = None , biases = None):\n",
    "        \n",
    "        if weights == None:\n",
    "            \n",
    "            self.weights = abs(np.random.randn(self.X.shape[0]))\n",
    "        \n",
    "        else :\n",
    "            \n",
    "            if weights.shape[0] == self.X.shape[1]:\n",
    "                \n",
    "                self.weights = weights\n",
    "            \n",
    "            else :\n",
    "                \n",
    "                self.weights = abs(np.random.randn(self.X.shape[1]))\n",
    "                \n",
    "                raise UserWarning(\"Values do not match with the `X` , intializing random Values\")\n",
    "                \n",
    "        \n",
    "        if biases == None:\n",
    "            \n",
    "            self.biases = abs(np.random.randn(1))\n",
    "        \n",
    "        else :\n",
    "            \n",
    "            if biases.shape[0] == 1:\n",
    "                \n",
    "                self.biases = biases\n",
    "            \n",
    "            else :\n",
    "                \n",
    "                self.biases = abs(np.random.randn(1))\n",
    "                \n",
    "                raise UserWarning(\"Values do not match with the `X` , intializing random Values\")\n",
    "    \n",
    "        self.m_weights = 0\n",
    "        self.m_biases = 0\n",
    "    \n",
    "        self.losses = []\n",
    "\n",
    "    def comput_gradients(self , weights , biases):\n",
    "        \n",
    "            pred = np.sum((weights * self.X).T) + biases\n",
    "            \n",
    "            loss = np.sum((pred - self.y) ** 2)\n",
    "            \n",
    "            yield loss\n",
    "            \n",
    "            self.losses.append(loss)\n",
    "            \n",
    "    def update_step(self , loss):\n",
    "\n",
    "        if self.nestrov :\n",
    "\n",
    "            self.m_weights = (self.momentum * self.m_weights + (1 - self.momentum) * (self.weights - self.momentum * self.m_weights)) * -2 * loss \n",
    "            self.m_biases = (self.momentum * self.m_biases + (1 - self.momentum) * (self.biases - self.momentum * self.m_biases)) * -2 * loss\n",
    "\n",
    "        else :\n",
    "\n",
    "            self.m_weights = self.momentum * self.m_weights + (1 - self.momentum) * -2 * loss\n",
    "            self.m_biases = self.momentum * self.m_biases + (1 - self.momentum) * -2 * loss\n",
    "\n",
    "        if self.use_ema:\n",
    "\n",
    "            self.m_weights = self.ema_momentum * self.m_weights + (1 - self.ema_momentum) * -2 * loss\n",
    "            self.m_biases = self.ema_momentum * self.m_biases + (1 - self.ema_momentum) * -2 * loss\n",
    "    def minimize(self):                \n",
    "        if self.clip_norm != None:\n",
    "            \n",
    "            weights = np.clip(weights , weights , self.clip_norm)\n",
    "            biases = np.clip(biases , biases , self.clip_norm)\n",
    "        \n",
    "        if self.clip_value != None:\n",
    "            \n",
    "            self.m_weights = np.clip(self.m_weights , self.m_weights , self.clip_value)\n",
    "            self.m_biases = np.clip(self.m_biases , self.m_biases , self.clip_value)\n",
    "        \n",
    "        weights -= (self.m_weights + self.weight_decay * self.m_weights) * self.learning_rate\n",
    "        biases -= (self.m_biases + self.weight_decay * self.m_biases) * self.learning_rate\n",
    "\n",
    "        # return weights , biases , losses"
   ]
  },
  {
   "cell_type": "markdown",
   "id": "f915ebd3",
   "metadata": {
    "papermill": {
     "duration": 0.032717,
     "end_time": "2023-04-29T11:08:47.801078",
     "exception": false,
     "start_time": "2023-04-29T11:08:47.768361",
     "status": "completed"
    },
    "tags": []
   },
   "source": [
    "# 2.2 | SGD Final Source Code"
   ]
  },
  {
   "cell_type": "code",
   "execution_count": 38,
   "id": "c0f7fd9b",
   "metadata": {
    "execution": {
     "iopub.execute_input": "2023-04-29T11:08:47.865914Z",
     "iopub.status.busy": "2023-04-29T11:08:47.864883Z",
     "iopub.status.idle": "2023-04-29T11:08:47.884320Z",
     "shell.execute_reply": "2023-04-29T11:08:47.882996Z"
    },
    "papermill": {
     "duration": 0.054637,
     "end_time": "2023-04-29T11:08:47.887004",
     "exception": false,
     "start_time": "2023-04-29T11:08:47.832367",
     "status": "completed"
    },
    "tags": []
   },
   "outputs": [],
   "source": [
    "class SGD:\n",
    "    \n",
    "    def __init__(self , \n",
    "                 X , y , \n",
    "                 learning_rate = 0.01 , momentum = 0 , \n",
    "                 nestrov = False , weight_decay = 0 , \n",
    "                 clip_norm = None , clip_value = None , \n",
    "                 use_ema = False , ema_momentum = 0):\n",
    "        \n",
    "        self.X = X\n",
    "        self.y = y\n",
    "        self.learning_rate = learning_rate\n",
    "        self.momentum = momentum\n",
    "        self.nestrov = nestrov\n",
    "        self.weight_decay = weight_decay\n",
    "        self.clip_norm = clip_norm\n",
    "        self.clip_value = clip_value\n",
    "        self.use_ema = use_ema\n",
    "        self.ema_momentum = ema_momentum\n",
    "    \n",
    "    def build(self , weights = None , biases = None):\n",
    "        \n",
    "        if weights == None:\n",
    "            \n",
    "            self.weights = abs(np.random.randn(self.X.shape[0]))\n",
    "        \n",
    "        else :\n",
    "            \n",
    "            if weights.shape[0] == self.X.shape[1]:\n",
    "                \n",
    "                self.weights = weights\n",
    "            \n",
    "            else :\n",
    "                \n",
    "                self.weights = abs(np.random.randn(self.X.shape[1]))\n",
    "                \n",
    "                raise UserWarning(\"Values do not match with the `X` , intializing random Values\")\n",
    "                \n",
    "        \n",
    "        if biases == None:\n",
    "            \n",
    "            self.biases = abs(np.random.randn(1))\n",
    "        \n",
    "        else :\n",
    "            \n",
    "            if biases.shape[0] == 1:\n",
    "                \n",
    "                self.biases = biases\n",
    "            \n",
    "            else :\n",
    "                \n",
    "                self.biases = abs(np.random.randn(1))\n",
    "                \n",
    "                raise UserWarning(\"Values do not match with the `X` , intializing random Values\")\n",
    "    \n",
    "        self.m_weights = 0\n",
    "        self.m_biases = 0\n",
    "    \n",
    "        self.losses = []\n",
    "\n",
    "    def comput_gradients(self , weights , biases):\n",
    "        \n",
    "            pred = np.sum((weights * self.X).T) + biases\n",
    "            \n",
    "            loss = np.sum((pred - self.y) ** 2)\n",
    "            \n",
    "            yield loss\n",
    "            \n",
    "            self.losses.append(loss)\n",
    "    def update_step(self , loss):    \n",
    "        \n",
    "        if self.nestrov :\n",
    "\n",
    "            self.m_weights = (self.momentum * self.m_weights + (1 - self.momentum) * (self.weights - self.momentum * self.m_weights)) * -2 * loss \n",
    "            self.m_biases = (self.momentum * self.m_biases + (1 - self.momentum) * (self.biases - self.momentum * self.m_biases)) * -2 * loss\n",
    "\n",
    "        else :\n",
    "\n",
    "            self.m_weights = self.momentum * self.m_weights + (1 - self.momentum) * -2 * loss\n",
    "            self.m_biases = self.momentum * self.m_biases + (1 - self.momentum) * -2 * loss\n",
    "        \n",
    "        if self.use_ema:\n",
    "            \n",
    "            self.m_weights = self.ema_momentum * self.m_weights + (1 - self.ema_momentum) * -2 * loss\n",
    "            self.m_biases = self.ema_momentum * self.m_weights + (1 - self.ema_momentum) * -2 * loss\n",
    "    \n",
    "    def minimize(self):                \n",
    "        if self.clip_norm != None:\n",
    "            \n",
    "            weights = np.clip(weights , weights , self.clip_norm)\n",
    "            biases = np.clip(biases , biases , self.clip_norm)\n",
    "        \n",
    "        if self.clip_value != None:\n",
    "            \n",
    "            self.m_weights = np.clip(self.m_weights , self.m_weights , self.clip_value)\n",
    "            self.m_biases = np.clip(self.m_biases , self.m_biases , self.clip_value)\n",
    "        \n",
    "        weights -= (self.m_weights + self.weight_decay * self.m_weights) * self.learning_rate\n",
    "        biases -= (self.m_biases + self.weight_decay * self.m_biases) * self.learning_rate\n",
    "\n",
    "        return weights , biases , losses"
   ]
  },
  {
   "cell_type": "markdown",
   "id": "1d26494a",
   "metadata": {
    "papermill": {
     "duration": 0.030236,
     "end_time": "2023-04-29T11:08:47.948157",
     "exception": false,
     "start_time": "2023-04-29T11:08:47.917921",
     "status": "completed"
    },
    "tags": []
   },
   "source": [
    "# 3 | RMS Prop\n",
    "So what is this `RMSProp` and why the hell do we need this thing \n",
    "\n",
    "So actually there were some problems with `SGD`. I just searched on ChatGPT and found that \n",
    "* SGD was applying a fixed learning rate in every situation, and RMSProp adapts the learning rate for the situation\n",
    "* SGD is not really good with sparse inputs, and RMSProp works good with sparse inputs too\n",
    "We know a little bit about `SGD` before the basic vanilla formula for SGD is \n",
    "$$p_{n} = p_{n-1} - \\frac {dLoss}{dp}\\alpha$$\n",
    "The formula for `RMSProp` is simple as hell\n",
    "****\n",
    "$$v_t = \\beta v_{t-1} + (1 - \\beta)\\frac{dLoss}{dp}$$\n",
    "$$u = \\frac {n}{\\sqrt{v_t + e}}\\frac{dLoss}{dp}$$\n",
    "$$p_n = p_{n-1} - u$$\n",
    "****\n",
    "We know everything in this fomrula except of this one guy $e$, what is this $e$ doing here. Lets assume at some point the weight of one feature has became purely $0$. One way to think about this is as that feature doesnt contribute litrally anything to target values, then as we are dividing by `weight`  which is $0$, we will get error, as division by $0$ is not possible, thats why we add a terms $e$ in the weights. the $e$ is so small that when the weights have some value, it doesnt really make any sense, and if the values are $0$. it prevents from $0$ division\n",
    "Remeber this code...?\n",
    "\n",
    "We can modify this a little bit and we can find the code for `RMSProp`"
   ]
  },
  {
   "cell_type": "code",
   "execution_count": 39,
   "id": "c044e757",
   "metadata": {
    "_kg_hide-input": true,
    "execution": {
     "iopub.execute_input": "2023-04-29T11:08:48.011246Z",
     "iopub.status.busy": "2023-04-29T11:08:48.010453Z",
     "iopub.status.idle": "2023-04-29T11:08:48.020388Z",
     "shell.execute_reply": "2023-04-29T11:08:48.019495Z"
    },
    "papermill": {
     "duration": 0.044442,
     "end_time": "2023-04-29T11:08:48.022836",
     "exception": false,
     "start_time": "2023-04-29T11:08:47.978394",
     "status": "completed"
    },
    "tags": []
   },
   "outputs": [],
   "source": [
    "def SGD(X , y , learning_rate = 0.01 , momentum = 0):\n",
    "    \n",
    "    weights = abs(np.random.randn(X.shape[1]))\n",
    "    biases = abs(np.random.randn(1))\n",
    "\n",
    "    m_weights = [0] * (100 + 1)\n",
    "    m_biases = [0] * (100 + 1)\n",
    "\n",
    "    predic = []\n",
    "    losses = []\n",
    "\n",
    "    for epochs in range(100):\n",
    "\n",
    "        pred = np.sum((weights * X).T) + biases\n",
    "        \n",
    "        loss = np.sum(pred - y)\n",
    "        losses.append(loss)\n",
    "\n",
    "        m_weights[epochs + 1] = momentum * m_weights[epochs] + (1 - momentum) * (-2 * loss)\n",
    "        m_biases[epochs + 1] = momentum * m_biases[epochs] + (1 - momentum) * (-2 * loss)\n",
    "        \n",
    "        weights -= m_weights[epochs + 1] * 0.01\n",
    "        biases -= m_biases[epochs + 1] * 0.01\n",
    "\n",
    "    return weights , biases , losses"
   ]
  },
  {
   "cell_type": "code",
   "execution_count": 40,
   "id": "925eb6c7",
   "metadata": {
    "execution": {
     "iopub.execute_input": "2023-04-29T11:08:48.088219Z",
     "iopub.status.busy": "2023-04-29T11:08:48.087090Z",
     "iopub.status.idle": "2023-04-29T11:08:48.096055Z",
     "shell.execute_reply": "2023-04-29T11:08:48.095010Z"
    },
    "papermill": {
     "duration": 0.04553,
     "end_time": "2023-04-29T11:08:48.098563",
     "exception": false,
     "start_time": "2023-04-29T11:08:48.053033",
     "status": "completed"
    },
    "tags": []
   },
   "outputs": [],
   "source": [
    "def rms_prop(X , y):\n",
    "    \n",
    "    weights = abs(np.random.randn(X.shape[1]))\n",
    "    biases = abs(np.random.randn(1))\n",
    "\n",
    "    m_weights = 0\n",
    "    m_biases = 0\n",
    "\n",
    "    losses = []\n",
    "\n",
    "    for epochs in range(100):\n",
    "\n",
    "        pred = np.sum((weights * X).T) + biases\n",
    "        \n",
    "        loss = np.sum(pred - y)\n",
    "        losses.append(loss)\n",
    "\n",
    "        l_weights = 0 * l_weights + (1 - 0) * (-2 * loss)\n",
    "        l_biases = 0 * l_biases + (1 - 0) * (-2 * loss)\n",
    "        \n",
    "        weights -= 1/np.sqrt(l_weights + 1e-6) * 0.01\n",
    "        biases -= 1/np.sqrt(l_biases + 1e-6) * 0.01\n",
    "\n",
    "    return weights , biases , losses"
   ]
  },
  {
   "cell_type": "markdown",
   "id": "13b4f81c",
   "metadata": {
    "papermill": {
     "duration": 0.030973,
     "end_time": "2023-04-29T11:08:48.161407",
     "exception": false,
     "start_time": "2023-04-29T11:08:48.130434",
     "status": "completed"
    },
    "tags": []
   },
   "source": [
    "And now we have our code for the `RMSProp` "
   ]
  },
  {
   "cell_type": "markdown",
   "id": "e00d9db7",
   "metadata": {
    "papermill": {
     "duration": 0.030317,
     "end_time": "2023-04-29T11:08:48.224347",
     "exception": false,
     "start_time": "2023-04-29T11:08:48.194030",
     "status": "completed"
    },
    "tags": []
   },
   "source": [
    "# 3.1 | Functionalities\n",
    "Now lets add some functionalieties to our code as we did before to make it more usable\n",
    "* ✅`learning_rate` - Initial value for the learning rate: either a floating point value, or a **[tf](https://www.tensorflow.org/)=>[keras](https://keras.io/)=>[optimizers](https://www.tensorflow.org/api_docs/python/tf/keras/optimizers)=>[schedules](https://www.tensorflow.org/api_docs/python/tf/keras/optimizers/schedules)=>[LearningRateSchedule](https://www.tensorflow.org/api_docs/python/tf/keras/optimizers/schedules/LearningRateSchedule)** instance. Defaults to $0.001$.\n",
    "* ✅`rho` - float, defaults to $0.9$. Discounting factor for the old gradients.\n",
    "* ✅`momentum` - float, defaults to $0.0$. If not $0.0$., the optimizer tracks the momentum value, with a decay rate equals to $1$ - momentum.\n",
    "* ✅`weight_decay` - Float, defaults to None. If set, weight decay is applied.\n",
    "* ✅`epsilon` - A small constant for numerical stability. This epsilon is \"epsilon hat\" in the Kingma and Ba paper (in the formula just before Section 2.1), not the epsilon in Algorithm 1 of the paper. Defaults to $1e-7$.\n",
    "* ✅`clipnorm` - Float. If set, the gradient of each weight is individually clipped so that its norm is no higher than this value.\n",
    "* ✅`clipvalue` - Float. If set, the gradient of each weight is clipped to be no higher than this value.\n",
    "* ✅`use_ema` - \tBoolean, defaults to False. If True, exponential moving average (EMA) is applied. EMA consists of computing an exponential moving average of the weights of the model (as the weight values change after each training batch), and periodically overwriting the weights with their moving average.\n",
    "* ✅`ema_overwrite_frequency` - Int or None, defaults to None. Only used if use_ema=True. Every ema_overwrite_frequency steps of iterations, we overwrite the model variable by its moving average. If None, the optimizer does not overwrite model variables in the middle of training, and you need to explicitly overwrite the variables at the end of training by calling optimizer.finalize_variable_values() (which updates the model variables in-place). When using the built-in fit() training loop, this happens automatically after the last epoch, and you don't need to do anything.\n",
    "\n",
    "# 3.1.1 | Learning Rate\n",
    "\n",
    "It is the learning rate with how the model learns, we had a discussion about this when we were creating the `SGD`. Just scroll a little up and you will find that "
   ]
  },
  {
   "cell_type": "code",
   "execution_count": 41,
   "id": "9527ec38",
   "metadata": {
    "execution": {
     "iopub.execute_input": "2023-04-29T11:08:48.289345Z",
     "iopub.status.busy": "2023-04-29T11:08:48.288679Z",
     "iopub.status.idle": "2023-04-29T11:08:48.296323Z",
     "shell.execute_reply": "2023-04-29T11:08:48.295336Z"
    },
    "papermill": {
     "duration": 0.044395,
     "end_time": "2023-04-29T11:08:48.299054",
     "exception": false,
     "start_time": "2023-04-29T11:08:48.254659",
     "status": "completed"
    },
    "tags": []
   },
   "outputs": [],
   "source": [
    "def rms_prop(X , y , learning_rate = 0.01):\n",
    "    \n",
    "    weights = abs(np.random.randn(X.shape[1]))\n",
    "    biases = abs(np.random.randn(1))\n",
    "\n",
    "    m_weights = 0\n",
    "    m_biases = 0\n",
    "    predic = []\n",
    "\n",
    "    for epochs in range(100):\n",
    "\n",
    "        pred = np.sum((weights * X).T) + biases\n",
    "        \n",
    "        loss = np.sum(pred - y)\n",
    "        losses.append(loss)\n",
    "\n",
    "        l_weights = 0 * l_weights + (1 - 0) * (-2 * loss)\n",
    "        l_biases = 0 * l_biases + (1 - 0) * (-2 * loss)\n",
    "        \n",
    "        weights -= 1/np.sqrt(l_weights + 1e-6) * learning_rate\n",
    "        biases -= 1/np.sqrt(l_biases + 1e-6) * learning_rate\n",
    "\n",
    "    return weights , biases , losses"
   ]
  },
  {
   "cell_type": "markdown",
   "id": "08b902b8",
   "metadata": {
    "papermill": {
     "duration": 0.030153,
     "end_time": "2023-04-29T11:08:48.359579",
     "exception": false,
     "start_time": "2023-04-29T11:08:48.329426",
     "status": "completed"
    },
    "tags": []
   },
   "source": [
    "# 3.1.2 | Rho\n",
    "This is the $\\beta$ we saw in the formula, we had made our algortihtm such that the $\\beta$ was $0$, now we will replace that $0$ with a vraible, that the user can change"
   ]
  },
  {
   "cell_type": "code",
   "execution_count": 42,
   "id": "d8dff17d",
   "metadata": {
    "execution": {
     "iopub.execute_input": "2023-04-29T11:08:48.422569Z",
     "iopub.status.busy": "2023-04-29T11:08:48.422081Z",
     "iopub.status.idle": "2023-04-29T11:08:48.431113Z",
     "shell.execute_reply": "2023-04-29T11:08:48.429866Z"
    },
    "papermill": {
     "duration": 0.04306,
     "end_time": "2023-04-29T11:08:48.433658",
     "exception": false,
     "start_time": "2023-04-29T11:08:48.390598",
     "status": "completed"
    },
    "tags": []
   },
   "outputs": [],
   "source": [
    "def rms_prop(X , y , learning_rate = 0.01 , rho = 0.9):\n",
    "    \n",
    "    weights = abs(np.random.randn(X.shape[1]))\n",
    "    biases = abs(np.random.randn(1))\n",
    "\n",
    "    m_weights = 0\n",
    "    m_biases = 0\n",
    "\n",
    "    predic = []\n",
    "\n",
    "    for epochs in range(100):\n",
    "\n",
    "        pred = np.sum((weights * X).T) + biases\n",
    "        \n",
    "        loss = np.sum(pred - y)\n",
    "        losses.append(loss)\n",
    "\n",
    "        l_weights = rho * l_weights + (1 - rho) * (-2 * loss)\n",
    "        l_biases = rho * l_biases + (1 - rho) * (-2 * loss)\n",
    "        \n",
    "        weights -= 1/np.sqrt(l_weights + 1e-6) * learning_rate\n",
    "        biases -= 1/np.sqrt(l_biases + 1e-6) * learning_rate\n",
    "\n",
    "    return weights , biases , losses"
   ]
  },
  {
   "cell_type": "markdown",
   "id": "26b3c3da",
   "metadata": {
    "papermill": {
     "duration": 0.029903,
     "end_time": "2023-04-29T11:08:48.494199",
     "exception": false,
     "start_time": "2023-04-29T11:08:48.464296",
     "status": "completed"
    },
    "tags": []
   },
   "source": [
    "# 3.1.3 | Momentum\n",
    "\n",
    "Momentum allows the optimizer to build up velocity in directions with consistent gradients, leading to faster convergence. It can also help to reduce oscillations in the optimization process by smoothing out variations in the gradient updates. The combination of RMSprop and momentum can lead to more efficient and effective training of deep neural networks.\n",
    "\n",
    "$$m = \\gamma m + (1 - \\gamma)\\frac {dLoss}{dp}$$"
   ]
  },
  {
   "cell_type": "code",
   "execution_count": 43,
   "id": "f1712f0f",
   "metadata": {
    "execution": {
     "iopub.execute_input": "2023-04-29T11:08:48.556234Z",
     "iopub.status.busy": "2023-04-29T11:08:48.555807Z",
     "iopub.status.idle": "2023-04-29T11:08:48.565706Z",
     "shell.execute_reply": "2023-04-29T11:08:48.564221Z"
    },
    "papermill": {
     "duration": 0.043932,
     "end_time": "2023-04-29T11:08:48.568224",
     "exception": false,
     "start_time": "2023-04-29T11:08:48.524292",
     "status": "completed"
    },
    "tags": []
   },
   "outputs": [],
   "source": [
    "def rms_prop(X , y , learning_rate = 0.01 , rho = 0.9 , momentum = 0):\n",
    "    \n",
    "    weights = abs(np.random.randn(X.shape[1]))\n",
    "    biases = abs(np.random.randn(1))\n",
    "\n",
    "    m_weights = 0\n",
    "    m_biases = 0\n",
    "\n",
    "    u_weights = 0\n",
    "    u_biases = 0\n",
    "\n",
    "    predic = []\n",
    "\n",
    "    for epochs in range(100):\n",
    "\n",
    "        pred = np.sum((weights * X).T) + biases\n",
    "        \n",
    "        loss = np.sum(pred - y)\n",
    "        losses.append(loss)\n",
    "\n",
    "        u_weights = rho * l_weights + (1 - rho) * (-2 * loss)\n",
    "        u_biases = rho * l_biases + (1 - rho) * (-2 * loss)\n",
    "\n",
    "        m_weights = momentum * m_weights + (1 - momentum) * loss\n",
    "        m_biases = momentum * m_biases + (1 - momentum) * loss\n",
    "        \n",
    "        weights -= (1/np.sqrt(u_weights + 1e-6) * 1 / np.sqrt(m_weights + 1e-6)) * learning_rate\n",
    "        biases -= (1/np.sqrt(u_biases + 1e-6) * 1 / np.sqrt(m_boases + 1e-6)) * learning_rate\n",
    "\n",
    "    return weights , biases , losses"
   ]
  },
  {
   "cell_type": "markdown",
   "id": "61ebf304",
   "metadata": {
    "papermill": {
     "duration": 0.029672,
     "end_time": "2023-04-29T11:08:48.628020",
     "exception": false,
     "start_time": "2023-04-29T11:08:48.598348",
     "status": "completed"
    },
    "tags": []
   },
   "source": [
    "# 3.1.4 | Epsilon\n",
    "\n",
    "In RMSprop, epsilon is a small constant used to prevent division by zero and improve numerical stability during the calculation of the adaptive learning rate. It is added to the denominator of the weight update equation to ensure that the divisor is always positive. Epsilon is typically set to a small value, such as 1e-8, and has a minimal impact on the optimization process."
   ]
  },
  {
   "cell_type": "code",
   "execution_count": 44,
   "id": "b090a9af",
   "metadata": {
    "execution": {
     "iopub.execute_input": "2023-04-29T11:08:48.689374Z",
     "iopub.status.busy": "2023-04-29T11:08:48.688947Z",
     "iopub.status.idle": "2023-04-29T11:08:48.699663Z",
     "shell.execute_reply": "2023-04-29T11:08:48.698421Z"
    },
    "papermill": {
     "duration": 0.044398,
     "end_time": "2023-04-29T11:08:48.702163",
     "exception": false,
     "start_time": "2023-04-29T11:08:48.657765",
     "status": "completed"
    },
    "tags": []
   },
   "outputs": [],
   "source": [
    "def rms_prop(X , y , learning_rate = 0.01 , rho = 0.9 , momentum = 0 , epsilon = 1e-7):\n",
    "    \n",
    "    weights = abs(np.random.randn(X.shape[1]))\n",
    "    biases = abs(np.random.randn(1))\n",
    "\n",
    "    m_weights = 0\n",
    "    m_biases = 0\n",
    "\n",
    "    u_weights = 0\n",
    "    u_biases = 0\n",
    "\n",
    "    predic = []\n",
    "\n",
    "    for epochs in range(100):\n",
    "\n",
    "        pred = np.sum((weights * X).T) + biases\n",
    "        \n",
    "        loss = np.sum(pred - y)\n",
    "        losses.append(loss)\n",
    "\n",
    "        u_weights = rho * l_weights + (1 - rho) * (-2 * loss)\n",
    "        u_biases = rho * l_biases + (1 - rho) * (-2 * loss)\n",
    "\n",
    "        m_weights = momentum * m_weights + (1 - momentum) * loss\n",
    "        m_biases = momentum * m_biases + (1 - momentum) * loss\n",
    "        \n",
    "        weights -= (1/np.sqrt(u_weights + epsilon) * 1 / np.sqrt(m_weights + epsilon)) * learning_rate\n",
    "        biases -= (1/np.sqrt(u_biases + epsilon) * 1 / np.sqrt(m_boases + epsilon)) * learning_rate\n",
    "\n",
    "    return weights , biases , losses"
   ]
  },
  {
   "cell_type": "markdown",
   "id": "c22fbf50",
   "metadata": {
    "papermill": {
     "duration": 0.030401,
     "end_time": "2023-04-29T11:08:48.762532",
     "exception": false,
     "start_time": "2023-04-29T11:08:48.732131",
     "status": "completed"
    },
    "tags": []
   },
   "source": [
    "# 3.1.5 | Clipnorm\n",
    "The `clipnorm` parameter in `RMSprop` is used to prevent the gradient from becoming too large during training, which can cause instability or divergence. When clipnorm is set, the gradient is clipped to a maximum norm value, effectively scaling the gradient if its norm exceeds the specified value. This helps to ensure that the updates to the weights are not too large and that the optimization process remains stable."
   ]
  },
  {
   "cell_type": "code",
   "execution_count": 45,
   "id": "0b484091",
   "metadata": {
    "execution": {
     "iopub.execute_input": "2023-04-29T11:08:48.825903Z",
     "iopub.status.busy": "2023-04-29T11:08:48.825454Z",
     "iopub.status.idle": "2023-04-29T11:08:48.836437Z",
     "shell.execute_reply": "2023-04-29T11:08:48.835237Z"
    },
    "papermill": {
     "duration": 0.046386,
     "end_time": "2023-04-29T11:08:48.838929",
     "exception": false,
     "start_time": "2023-04-29T11:08:48.792543",
     "status": "completed"
    },
    "tags": []
   },
   "outputs": [],
   "source": [
    "def rms_prop(X , y , learning_rate = 0.01 , rho = 0.9 , momentum = 0 , epsilon = 1e-7 , clip_norm = None):\n",
    "    \n",
    "    weights = abs(np.random.randn(X.shape[1]))\n",
    "    biases = abs(np.random.randn(1))\n",
    "\n",
    "    m_weights = 0\n",
    "    m_biases = 0\n",
    "\n",
    "    u_weights = 0\n",
    "    u_biases = 0\n",
    "\n",
    "    predic = []\n",
    "\n",
    "    for epochs in range(100):\n",
    "\n",
    "        pred = np.sum((weights * X).T) + biases\n",
    "        \n",
    "        loss = np.sum(pred - y)\n",
    "        losses.append(loss)\n",
    "\n",
    "        u_weights = rho * l_weights + (1 - rho) * (-2 * loss)\n",
    "        u_biases = rho * l_biases + (1 - rho) * (-2 * loss)\n",
    "\n",
    "        m_weights = momentum * m_weights + (1 - momentum) * loss\n",
    "        m_biases = momentum * m_biases + (1 - momentum) * loss\n",
    "\n",
    "        if clip_norm != None:\n",
    "            \n",
    "            weights = np.clip(weights , weights , clip_norm)\n",
    "            biases = np.clip(biases , biases , clip_norm)\n",
    "            \n",
    "        weights -= (1/np.sqrt(u_weights + epsilon) * 1 / np.sqrt(m_weights + epsilon)) * learning_rate\n",
    "        biases -= (1/np.sqrt(u_biases + epsilon) * 1 / np.sqrt(m_boases + epsilon)) * learning_rate\n",
    "\n",
    "    return weights , biases , losses"
   ]
  },
  {
   "cell_type": "markdown",
   "id": "d0b28d90",
   "metadata": {
    "papermill": {
     "duration": 0.029814,
     "end_time": "2023-04-29T11:08:48.899400",
     "exception": false,
     "start_time": "2023-04-29T11:08:48.869586",
     "status": "completed"
    },
    "tags": []
   },
   "source": [
    "# 3.1.6 | Clip Value\n",
    "\n",
    "If the gradient is larger than the clipvalue threshold, it will be clipped to that value. If the gradient is smaller than the negative clipvalue threshold, it will be clipped to that negative value. This ensures that the gradient remains within a certain range, which can prevent numerical instability and improve convergence."
   ]
  },
  {
   "cell_type": "code",
   "execution_count": 46,
   "id": "95952300",
   "metadata": {
    "execution": {
     "iopub.execute_input": "2023-04-29T11:08:48.963187Z",
     "iopub.status.busy": "2023-04-29T11:08:48.962778Z",
     "iopub.status.idle": "2023-04-29T11:08:48.974451Z",
     "shell.execute_reply": "2023-04-29T11:08:48.973189Z"
    },
    "papermill": {
     "duration": 0.046522,
     "end_time": "2023-04-29T11:08:48.977101",
     "exception": false,
     "start_time": "2023-04-29T11:08:48.930579",
     "status": "completed"
    },
    "tags": []
   },
   "outputs": [],
   "source": [
    "def rms_prop(X , y , learning_rate = 0.01 , rho = 0.9 , momentum = 0 , epsilon = 1e-7 , clip_norm = None , clip_value = None):\n",
    "    \n",
    "    weights = abs(np.random.randn(X.shape[1]))\n",
    "    biases = abs(np.random.randn(1))\n",
    "\n",
    "    m_weights = 0\n",
    "    m_biases = 0\n",
    "\n",
    "    u_weights = 0\n",
    "    u_biases = 0\n",
    "\n",
    "    predic = []\n",
    "\n",
    "    for epochs in range(100):\n",
    "\n",
    "        pred = np.sum((weights * X).T) + biases\n",
    "        \n",
    "        loss = np.sum(pred - y)\n",
    "        losses.append(loss)\n",
    "\n",
    "        u_weights = rho * l_weights + (1 - rho) * (-2 * loss)\n",
    "        u_biases = rho * l_biases + (1 - rho) * (-2 * loss)\n",
    "\n",
    "        m_weights = momentum * m_weights + (1 - momentum) * loss\n",
    "        m_biases = momentum * m_biases + (1 - momentum) * loss\n",
    "\n",
    "        if clip_norm != None:\n",
    "\n",
    "            weights = np.clip(weights , weights , clip_norm)\n",
    "            biases = np.clip(biases , biases , clip_norm)\n",
    "\n",
    "        if clip_value != None:\n",
    "            \n",
    "            weights = np.clip(m_weigts , m_weights , clip_value)\n",
    "            biases = np.clip(m_biases , m_biases , clip_value)\n",
    "            \n",
    "        weights -= (1/np.sqrt(u_weights + epsilon) * 1 / np.sqrt(m_weights + epsilon)) * learning_rate\n",
    "        biases -= (1/np.sqrt(u_biases + epsilon) * 1 / np.sqrt(m_boases + epsilon)) * learning_rate\n",
    "\n",
    "    return weights , biases , losses"
   ]
  },
  {
   "cell_type": "markdown",
   "id": "af89109b",
   "metadata": {
    "papermill": {
     "duration": 0.029992,
     "end_time": "2023-04-29T11:08:49.037818",
     "exception": false,
     "start_time": "2023-04-29T11:08:49.007826",
     "status": "completed"
    },
    "tags": []
   },
   "source": [
    "# 3.1.7 EMA\n",
    "\n",
    "Wether to use the estimated momentum average or not. The major use of this function is when `ema_momentum` is given "
   ]
  },
  {
   "cell_type": "code",
   "execution_count": 47,
   "id": "6dfe4bdd",
   "metadata": {
    "execution": {
     "iopub.execute_input": "2023-04-29T11:08:49.100737Z",
     "iopub.status.busy": "2023-04-29T11:08:49.100288Z",
     "iopub.status.idle": "2023-04-29T11:08:49.111496Z",
     "shell.execute_reply": "2023-04-29T11:08:49.110547Z"
    },
    "papermill": {
     "duration": 0.045911,
     "end_time": "2023-04-29T11:08:49.113853",
     "exception": false,
     "start_time": "2023-04-29T11:08:49.067942",
     "status": "completed"
    },
    "tags": []
   },
   "outputs": [],
   "source": [
    "def rms_prop(X , y , learning_rate = 0.01 , rho = 0.9 , momentum = 0 , epsilon = 1e-7 , clip_norm = None , clip_value = None , ema = False):\n",
    "    \n",
    "    weights = abs(np.random.randn(X.shape[1]))\n",
    "    biases = abs(np.random.randn(1))\n",
    "\n",
    "    m_weights = 0\n",
    "    m_biases = 0\n",
    "\n",
    "    u_weights = 0\n",
    "    u_biases = 0\n",
    "\n",
    "    predic = []\n",
    "\n",
    "    for epochs in range(100):\n",
    "\n",
    "        pred = np.sum((weights * X).T) + biases\n",
    "        \n",
    "        loss = np.sum(pred - y)\n",
    "        losses.append(loss)\n",
    "\n",
    "        u_weights = rho * l_weights + (1 - rho) * (-2 * loss)\n",
    "        u_biases = rho * l_biases + (1 - rho) * (-2 * loss)\n",
    "\n",
    "        m_weights = momentum * m_weights + (1 - momentum) * loss\n",
    "        m_biases = momentum * m_biases + (1 - momentum) * loss\n",
    "        \n",
    "        if ema:pass\n",
    "\n",
    "        if clip_norm != None:\n",
    "\n",
    "            weights = np.clip(weights , weights , clip_norm)\n",
    "            biases = np.clip(biases , biases , clip_norm)\n",
    "\n",
    "        if clip_value != None:\n",
    "            \n",
    "            weights = np.clip(m_weigts , m_weights , clip_value)\n",
    "            biases = np.clip(m_biases , m_biases , clip_value)\n",
    "            \n",
    "        weights -= (1/np.sqrt(u_weights + epsilon) * 1 / np.sqrt(m_weights + epsilon)) * learning_rate\n",
    "        biases -= (1/np.sqrt(u_biases + epsilon) * 1 / np.sqrt(m_boases + epsilon)) * learning_rate\n",
    "\n",
    "    return weights , biases , losses"
   ]
  },
  {
   "cell_type": "markdown",
   "id": "fb6ae83f",
   "metadata": {
    "papermill": {
     "duration": 0.029676,
     "end_time": "2023-04-29T11:08:49.173441",
     "exception": false,
     "start_time": "2023-04-29T11:08:49.143765",
     "status": "completed"
    },
    "tags": []
   },
   "source": [
    "# 3.1.8 | EMA Momentum\n",
    "\n",
    "In RMSprop, the exponential moving average (EMA) of the gradient with momentum is used to improve convergence and prevent oscillations during training. The EMA of the gradient with momentum is updated at each iteration and incorporates information about the previous gradients and the current gradient to produce a more stable and consistent update direction. This helps to smooth out the noise in the gradient estimates and helps the optimizer to move more directly towards the minimum of the loss function."
   ]
  },
  {
   "cell_type": "code",
   "execution_count": 48,
   "id": "f6933b48",
   "metadata": {
    "execution": {
     "iopub.execute_input": "2023-04-29T11:08:49.236633Z",
     "iopub.status.busy": "2023-04-29T11:08:49.236195Z",
     "iopub.status.idle": "2023-04-29T11:08:49.248574Z",
     "shell.execute_reply": "2023-04-29T11:08:49.247668Z"
    },
    "papermill": {
     "duration": 0.047116,
     "end_time": "2023-04-29T11:08:49.250912",
     "exception": false,
     "start_time": "2023-04-29T11:08:49.203796",
     "status": "completed"
    },
    "tags": []
   },
   "outputs": [],
   "source": [
    "def rms_prop(X , y , learning_rate = 0.01 , rho = 0.9 , momentum = 0 , epsilon = 1e-7 , clip_norm = None , clip_value = None , ema = False , ema_momentum = 0):\n",
    "    \n",
    "    weights = abs(np.random.randn(X.shape[1]))\n",
    "    biases = abs(np.random.randn(1))\n",
    "\n",
    "    m_weights = 0\n",
    "    m_biases = 0\n",
    "\n",
    "    u_weights = 0\n",
    "    u_biases = 0\n",
    "\n",
    "    predic = []\n",
    "\n",
    "    for epochs in range(100):\n",
    "\n",
    "        pred = np.sum((weights * X).T) + biases\n",
    "        \n",
    "        loss = np.sum(pred - y)\n",
    "        losses.append(loss)\n",
    "\n",
    "        u_weights = rho * l_weights + (1 - rho) * (-2 * loss)\n",
    "        u_biases = rho * l_biases + (1 - rho) * (-2 * loss)\n",
    "\n",
    "        m_weights = momentum * m_weights + (1 - momentum) * loss\n",
    "        m_biases = momentum * m_biases + (1 - momentum) * loss\n",
    "        \n",
    "        if ema:\n",
    "            \n",
    "            m_weights = ema_momentum * m_weights + (1 - ema_momentum) * -2 * loss\n",
    "            m_biases = ema_momentum * m_biases + (1 - ema_momentum) * -2 * loss\n",
    "\n",
    "        if clip_norm != None:\n",
    "\n",
    "            weights = np.clip(weights , weights , clip_norm)\n",
    "            biases = np.clip(biases , biases , clip_norm)\n",
    "\n",
    "        if clip_value != None:\n",
    "            \n",
    "            weights = np.clip(m_weigts , m_weights , clip_value)\n",
    "            biases = np.clip(m_biases , m_biases , clip_value)\n",
    "            \n",
    "        weights -= (1/np.sqrt(u_weights + epsilon) * 1 / np.sqrt(m_weights + epsilon)) * learning_rate\n",
    "        biases -= (1/np.sqrt(u_biases + epsilon) * 1 / np.sqrt(m_boases + epsilon)) * learning_rate\n",
    "\n",
    "    return weights , biases , losses"
   ]
  },
  {
   "cell_type": "markdown",
   "id": "55378584",
   "metadata": {
    "papermill": {
     "duration": 0.030248,
     "end_time": "2023-04-29T11:08:49.312036",
     "exception": false,
     "start_time": "2023-04-29T11:08:49.281788",
     "status": "completed"
    },
    "tags": []
   },
   "source": [
    "# 3.2 | Methods\n",
    "\n",
    "Now to add more functionalities, we will add different methods to our alogirthm, You can acces the list of methods we are going to use from the same link before we used for `Functionalities`. \n",
    "* ✅`build` - Initialize optimizer variables. SGD optimizer has one variable momentums, only set if self.momentum is not 0.\n",
    "* * ✅`weights` - Weights of the Optimizer\n",
    "* * ✅`biases` - biases of the Optimizer\n",
    "* ✅`compute_gradients` - Compute gradients of loss on trainable variables.\n",
    "* ✅`minimize` - Minimize loss by updating `var_list`.\n",
    "* ✅`update_step` - Update step given gradient and the associated model variable.\n",
    "\n",
    "**Note** - we will stop the function from being usable at some places\n",
    "\n",
    "# 3.2.1 | Build\n",
    "This method initializes all the values in the `rms_prop`, you can understand this as a constructor, but not perfectly as the one. \n",
    "\n",
    "We will give the user a functionality, that they can intialize there own variables. At the starting the `weights` and `baises` are `None`. If the user passes their own, the function first checks that they are or correct shape and if True assigns the values, else initialize random values "
   ]
  },
  {
   "cell_type": "code",
   "execution_count": 49,
   "id": "59af8c50",
   "metadata": {
    "execution": {
     "iopub.execute_input": "2023-04-29T11:08:49.377768Z",
     "iopub.status.busy": "2023-04-29T11:08:49.376537Z",
     "iopub.status.idle": "2023-04-29T11:08:49.389357Z",
     "shell.execute_reply": "2023-04-29T11:08:49.388440Z"
    },
    "papermill": {
     "duration": 0.048873,
     "end_time": "2023-04-29T11:08:49.391822",
     "exception": false,
     "start_time": "2023-04-29T11:08:49.342949",
     "status": "completed"
    },
    "tags": []
   },
   "outputs": [],
   "source": [
    "class rms_prop:\n",
    "    def __init__(X , y , \n",
    "                 learning_rate = 0.01 , rho = 0.9 , \n",
    "                 momentum = 0 , epsilon = 1e-7 , \n",
    "                 clip_norm = None , clip_value = None , \n",
    "                 ema = False , ema_momentum = 0):\n",
    "        \n",
    "        self.X = X\n",
    "        self.y = y\n",
    "        self.learning_rate = learning_rate\n",
    "        self.rho = rho\n",
    "        self.momentum = momentum\n",
    "        self.epsilon = epsilon\n",
    "        self.clip_norm = clip-norm\n",
    "        self.ema = ema\n",
    "        self.ema_momentum = ema_momentum\n",
    "\n",
    "    def build(self , weights = None , biases = None):\n",
    "        \n",
    "        if weights == None:\n",
    "            \n",
    "            self.weights = abs(np.random.randn(self.X.shape[1]))\n",
    "        \n",
    "        else :\n",
    "            \n",
    "            if weights.shape[1] == self.X.shape[1]:\n",
    "                \n",
    "                self.weights = weights\n",
    "            \n",
    "            else :\n",
    "                \n",
    "                raise UserWarning(\"Shapes do not match. Using random variables\")\n",
    "                self.weights = abs(np.random.randn(self.X.shape[1]))\n",
    "\n",
    "        if biases == None:\n",
    "            \n",
    "            self.biases = abs(np.random.randn(1))\n",
    "        \n",
    "        else :\n",
    "            \n",
    "            if baises.shape[1] == 1:\n",
    "                \n",
    "                self.weights = weights\n",
    "            \n",
    "            else :\n",
    "                \n",
    "                raise UserWarning(\"Shapes do not match. Using random variables\")\n",
    "                self.weights = abs(np.random.randn(self.X.shape[1]))\n",
    "\n",
    "        self.m_weights = 0\n",
    "        self.m_biases = 0\n",
    "\n",
    "        self.u_weights = 0\n",
    "        self.u_biases = 0\n",
    "\n",
    "        self.predic = []\n",
    "\n",
    "    # for epochs in range(100):\n",
    "\n",
    "    #     pred = np.sum((weights * X).T) + biases\n",
    "        \n",
    "    #     loss = np.sum(pred - y)\n",
    "    #     losses.append(loss)\n",
    "\n",
    "    #     u_weights = rho * l_weights + (1 - rho) * (-2 * loss)\n",
    "    #     u_biases = rho * l_biases + (1 - rho) * (-2 * loss)\n",
    "\n",
    "    #     m_weights = momentum * m_weights + (1 - momentum) * loss\n",
    "    #     m_biases = momentum * m_biases + (1 - momentum) * loss\n",
    "        \n",
    "    #     if ema:\n",
    "            \n",
    "    #         m_weights = ema_momentum * m_weights + (1 - ema_momentum) * -2 * loss\n",
    "    #         m_biases = ema_momentum * m_biases + (1 - ema_momentum) * -2 * loss\n",
    "\n",
    "    #     if clip_norm != None:\n",
    "\n",
    "    #         weights = np.clip(weights , weights , clip_norm)\n",
    "    #         biases = np.clip(biases , biases , clip_norm)\n",
    "\n",
    "    #     if clip_value != None:\n",
    "            \n",
    "    #         weights = np.clip(m_weigts , m_weights , clip_value)\n",
    "    #         biases = np.clip(m_biases , m_biases , clip_value)\n",
    "            \n",
    "    #     weights -= (1/np.sqrt(u_weights + epsilon) * 1 / np.sqrt(m_weights + epsilon)) * learning_rate\n",
    "    #     biases -= (1/np.sqrt(u_biases + epsilon) * 1 / np.sqrt(m_boases + epsilon)) * learning_rate\n",
    "\n",
    "    # return weights , biases , losses"
   ]
  },
  {
   "cell_type": "markdown",
   "id": "f4985ce7",
   "metadata": {
    "papermill": {
     "duration": 0.029789,
     "end_time": "2023-04-29T11:08:49.451467",
     "exception": false,
     "start_time": "2023-04-29T11:08:49.421678",
     "status": "completed"
    },
    "tags": []
   },
   "source": [
    "# 3.2.2 | Compute Gradients\n",
    "\n",
    "Compuute the loss function and gradients for the losses "
   ]
  },
  {
   "cell_type": "code",
   "execution_count": 50,
   "id": "3320da81",
   "metadata": {
    "execution": {
     "iopub.execute_input": "2023-04-29T11:08:49.513550Z",
     "iopub.status.busy": "2023-04-29T11:08:49.512734Z",
     "iopub.status.idle": "2023-04-29T11:08:49.526610Z",
     "shell.execute_reply": "2023-04-29T11:08:49.525240Z"
    },
    "papermill": {
     "duration": 0.048201,
     "end_time": "2023-04-29T11:08:49.529450",
     "exception": false,
     "start_time": "2023-04-29T11:08:49.481249",
     "status": "completed"
    },
    "tags": []
   },
   "outputs": [],
   "source": [
    "class rms_prop:\n",
    "    def __init__(X , y , \n",
    "                 learning_rate = 0.01 , rho = 0.9 , \n",
    "                 momentum = 0 , epsilon = 1e-7 , \n",
    "                 clip_norm = None , clip_value = None , \n",
    "                 ema = False , ema_momentum = 0):\n",
    "        \n",
    "        self.X = X\n",
    "        self.y = y\n",
    "        self.learning_rate = learning_rate\n",
    "        self.rho = rho\n",
    "        self.momentum = momentum\n",
    "        self.epsilon = epsilon\n",
    "        self.clip_norm = clip-norm\n",
    "        self.ema = ema\n",
    "        self.ema_momentum = ema_momentum\n",
    "\n",
    "    def build(self , weights = None , biases = None):\n",
    "        \n",
    "        if weights == None:\n",
    "            \n",
    "            self.weights = abs(np.random.randn(self.X.shape[1]))\n",
    "        \n",
    "        else :\n",
    "            \n",
    "            if weights.shape[1] == self.X.shape[1]:\n",
    "                \n",
    "                self.weights = weights\n",
    "            \n",
    "            else :\n",
    "                \n",
    "                raise UserWarning(\"Shapes do not match. Using random variables\")\n",
    "                self.weights = abs(np.random.randn(self.X.shape[1]))\n",
    "\n",
    "        if biases == None:\n",
    "            \n",
    "            self.biases = abs(np.random.randn(1))\n",
    "        \n",
    "        else :\n",
    "            \n",
    "            if baises.shape[1] == 1:\n",
    "                \n",
    "                self.weights = weights\n",
    "            \n",
    "            else :\n",
    "                \n",
    "                raise UserWarning(\"Shapes do not match. Using random variables\")\n",
    "                self.weights = abs(np.random.randn(self.X.shape[1]))\n",
    "\n",
    "        self.m_weights = 0\n",
    "        self.m_biases = 0\n",
    "\n",
    "        self.u_weights = 0\n",
    "        self.u_biases = 0\n",
    "\n",
    "        self.predic = []\n",
    "\n",
    "    def compute_gradients(self , weights , biases):\n",
    "\n",
    "        pred = np.sum((weights * X).T) + biases\n",
    "        \n",
    "        loss = np.sum(pred - y)\n",
    "        \n",
    "        yield loss\n",
    "        \n",
    "        losses.append(loss)\n",
    "\n",
    "    #     u_weights = rho * l_weights + (1 - rho) * (-2 * loss)\n",
    "    #     u_biases = rho * l_biases + (1 - rho) * (-2 * loss)\n",
    "\n",
    "    #     m_weights = momentum * m_weights + (1 - momentum) * loss\n",
    "    #     m_biases = momentum * m_biases + (1 - momentum) * loss\n",
    "        \n",
    "    #     if ema:\n",
    "            \n",
    "    #         m_weights = ema_momentum * m_weights + (1 - ema_momentum) * -2 * loss\n",
    "    #         m_biases = ema_momentum * m_biases + (1 - ema_momentum) * -2 * loss\n",
    "\n",
    "    #     if clip_norm != None:\n",
    "\n",
    "    #         weights = np.clip(weights , weights , clip_norm)\n",
    "    #         biases = np.clip(biases , biases , clip_norm)\n",
    "\n",
    "    #     if clip_value != None:\n",
    "            \n",
    "    #         weights = np.clip(m_weigts , m_weights , clip_value)\n",
    "    #         biases = np.clip(m_biases , m_biases , clip_value)\n",
    "            \n",
    "    #     weights -= (1/np.sqrt(u_weights + epsilon) * 1 / np.sqrt(m_weights + epsilon)) * learning_rate\n",
    "    #     biases -= (1/np.sqrt(u_biases + epsilon) * 1 / np.sqrt(m_boases + epsilon)) * learning_rate\n",
    "\n",
    "    # return weights , biases , losses"
   ]
  },
  {
   "cell_type": "markdown",
   "id": "d6c4f19c",
   "metadata": {
    "papermill": {
     "duration": 0.03025,
     "end_time": "2023-04-29T11:08:49.590179",
     "exception": false,
     "start_time": "2023-04-29T11:08:49.559929",
     "status": "completed"
    },
    "tags": []
   },
   "source": [
    "# 3.2.3 | Minimize\n",
    "Minimze the loss values"
   ]
  },
  {
   "cell_type": "code",
   "execution_count": 51,
   "id": "26d3f09e",
   "metadata": {
    "execution": {
     "iopub.execute_input": "2023-04-29T11:08:49.653944Z",
     "iopub.status.busy": "2023-04-29T11:08:49.653210Z",
     "iopub.status.idle": "2023-04-29T11:08:49.670121Z",
     "shell.execute_reply": "2023-04-29T11:08:49.669064Z"
    },
    "papermill": {
     "duration": 0.052156,
     "end_time": "2023-04-29T11:08:49.672632",
     "exception": false,
     "start_time": "2023-04-29T11:08:49.620476",
     "status": "completed"
    },
    "tags": []
   },
   "outputs": [],
   "source": [
    "class rms_prop:\n",
    "    def __init__(X , y , \n",
    "                 learning_rate = 0.01 , rho = 0.9 , \n",
    "                 momentum = 0 , epsilon = 1e-7 , \n",
    "                 clip_norm = None , clip_value = None , \n",
    "                 ema = False , ema_momentum = 0):\n",
    "        \n",
    "        self.X = X\n",
    "        self.y = y\n",
    "        self.learning_rate = learning_rate\n",
    "        self.rho = rho\n",
    "        self.momentum = momentum\n",
    "        self.epsilon = epsilon\n",
    "        self.clip_norm = clip-norm\n",
    "        self.ema = ema\n",
    "        self.ema_momentum = ema_momentum\n",
    "\n",
    "    def build(self , weights = None , biases = None):\n",
    "        \n",
    "        if weights == None:\n",
    "            \n",
    "            self.weights = abs(np.random.randn(self.X.shape[1]))\n",
    "        \n",
    "        else :\n",
    "            \n",
    "            if weights.shape[1] == self.X.shape[1]:\n",
    "                \n",
    "                self.weights = weights\n",
    "            \n",
    "            else :\n",
    "                \n",
    "                raise UserWarning(\"Shapes do not match. Using random variables\")\n",
    "                self.weights = abs(np.random.randn(self.X.shape[1]))\n",
    "\n",
    "        if biases == None:\n",
    "            \n",
    "            self.biases = abs(np.random.randn(1))\n",
    "        \n",
    "        else :\n",
    "            \n",
    "            if baises.shape[1] == 1:\n",
    "                \n",
    "                self.weights = weights\n",
    "            \n",
    "            else :\n",
    "                \n",
    "                raise UserWarning(\"Shapes do not match. Using random variables\")\n",
    "                self.weights = abs(np.random.randn(self.X.shape[1]))\n",
    "\n",
    "        self.m_weights = 0\n",
    "        self.m_biases = 0\n",
    "\n",
    "        self.u_weights = 0\n",
    "        self.u_biases = 0\n",
    "\n",
    "        self.predic = []\n",
    "\n",
    "    def compute_gradients(self , weights , biases):\n",
    "\n",
    "        pred = np.sum((weights * X).T) + biases\n",
    "        \n",
    "        loss = np.sum(pred - y)\n",
    "        \n",
    "        yield loss\n",
    "        \n",
    "        losses.append(loss)\n",
    "\n",
    "    #     u_weights = rho * l_weights + (1 - rho) * (-2 * loss)\n",
    "    #     u_biases = rho * l_biases + (1 - rho) * (-2 * loss)\n",
    "\n",
    "    #     m_weights = momentum * m_weights + (1 - momentum) * loss\n",
    "    #     m_biases = momentum * m_biases + (1 - momentum) * loss\n",
    "        \n",
    "    #     if ema:\n",
    "            \n",
    "    #         m_weights = ema_momentum * m_weights + (1 - ema_momentum) * -2 * loss\n",
    "    #         m_biases = ema_momentum * m_biases + (1 - ema_momentum) * -2 * loss\n",
    "    def minimize(self):\n",
    "        \n",
    "        if self.clip_norm != None:\n",
    "\n",
    "            self.weights = np.clip(self.weights , self.weights , self.clip_norm)\n",
    "            self.biases = np.clip(self.biases , self.biases , self.clip_norm)\n",
    "\n",
    "        if self.clip_value != None:\n",
    "            \n",
    "            self.weights = np.clip(self.m_weights , self.m_weights , self.clip_value)\n",
    "            self.biases = np.clip(self.m_biases , self.m_biases , self.clip_value)\n",
    "            \n",
    "        self.weights -= (1/np.sqrt(self.u_weights + self.epsilon) * 1 / np.sqrt(self.m_weights + self.epsilon)) * learning_rate\n",
    "        self.biases -= (1/np.sqrt(self.u_biases + self.epsilon) * 1 / np.sqrt(self.m_biases + self.epsilon)) * learning_rate\n",
    "\n",
    "        return self.weights , self.biases , losses"
   ]
  },
  {
   "cell_type": "markdown",
   "id": "df315dad",
   "metadata": {
    "papermill": {
     "duration": 0.029595,
     "end_time": "2023-04-29T11:08:49.732161",
     "exception": false,
     "start_time": "2023-04-29T11:08:49.702566",
     "status": "completed"
    },
    "tags": []
   },
   "source": [
    "# 3.2.4 | Update_Step\n",
    "Update the values accordingly"
   ]
  },
  {
   "cell_type": "code",
   "execution_count": 52,
   "id": "f95500fb",
   "metadata": {
    "execution": {
     "iopub.execute_input": "2023-04-29T11:08:49.794391Z",
     "iopub.status.busy": "2023-04-29T11:08:49.793606Z",
     "iopub.status.idle": "2023-04-29T11:08:49.813452Z",
     "shell.execute_reply": "2023-04-29T11:08:49.812201Z"
    },
    "papermill": {
     "duration": 0.05414,
     "end_time": "2023-04-29T11:08:49.816437",
     "exception": false,
     "start_time": "2023-04-29T11:08:49.762297",
     "status": "completed"
    },
    "tags": []
   },
   "outputs": [],
   "source": [
    "class rms_prop:\n",
    "    def __init__(X , y , \n",
    "                 learning_rate = 0.01 , rho = 0.9 , \n",
    "                 momentum = 0 , epsilon = 1e-7 , \n",
    "                 clip_norm = None , clip_value = None , \n",
    "                 ema = False , ema_momentum = 0):\n",
    "        \n",
    "        self.X = X\n",
    "        self.y = y\n",
    "        self.learning_rate = learning_rate\n",
    "        self.rho = rho\n",
    "        self.momentum = momentum\n",
    "        self.epsilon = epsilon\n",
    "        self.clip_norm = clip-norm\n",
    "        self.ema = ema\n",
    "        self.ema_momentum = ema_momentum\n",
    "\n",
    "    def build(self , weights = None , biases = None):\n",
    "        \n",
    "        if weights == None:\n",
    "            \n",
    "            self.weights = abs(np.random.randn(self.X.shape[1]))\n",
    "        \n",
    "        else :\n",
    "            \n",
    "            if weights.shape[1] == self.X.shape[1]:\n",
    "                \n",
    "                self.weights = weights\n",
    "            \n",
    "            else :\n",
    "                \n",
    "                raise UserWarning(\"Shapes do not match. Using random variables\")\n",
    "                self.weights = abs(np.random.randn(self.X.shape[1]))\n",
    "\n",
    "        if biases == None:\n",
    "            \n",
    "            self.biases = abs(np.random.randn(1))\n",
    "        \n",
    "        else :\n",
    "            \n",
    "            if baises.shape[1] == 1:\n",
    "                \n",
    "                self.weights = weights\n",
    "            \n",
    "            else :\n",
    "                \n",
    "                raise UserWarning(\"Shapes do not match. Using random variables\")\n",
    "                self.weights = abs(np.random.randn(self.X.shape[1]))\n",
    "\n",
    "        self.m_weights = 0\n",
    "        self.m_biases = 0\n",
    "\n",
    "        self.u_weights = 0\n",
    "        self.u_biases = 0\n",
    "\n",
    "        self.predic = []\n",
    "\n",
    "    def compute_gradients(self , weights , biases):\n",
    "\n",
    "        pred = np.sum((weights * X).T) + biases\n",
    "        \n",
    "        loss = np.sum(pred - y)\n",
    "        \n",
    "        yield loss\n",
    "        \n",
    "        losses.append(loss)\n",
    "    def update_step(self , loss):\n",
    "        \n",
    "        self.u_weights = self.rho * self.u_weights + (1 - self.rho) * (-2 * loss)\n",
    "        self.u_biases = self.rho * self.u_biases + (1 - self.rho) * (-2 * loss)\n",
    "\n",
    "        self.m_weights = self.momentum * self.m_weights + (1 - self.momentum) * loss\n",
    "        self.m_biases = self.momentum * self.m_biases + (1 - self.momentum) * loss\n",
    "        \n",
    "        if self.ema:\n",
    "            \n",
    "            self.m_weights = self.ema_momentum * self.m_weights + (1 - self.ema_momentum) * -2 * loss\n",
    "            self.m_biases = self.ema_momentum * self.m_biases + (1 - self.ema_momentum) * -2 * loss\n",
    "    \n",
    "    def minimize(self):\n",
    "        \n",
    "        if self.clip_norm != None:\n",
    "\n",
    "            self.weights = np.clip(self.weights , self.weights , self.clip_norm)\n",
    "            self.biases = np.clip(self.biases , self.biases , self.clip_norm)\n",
    "\n",
    "        if self.clip_value != None:\n",
    "            \n",
    "            self.weights = np.clip(m_weigts , self.m_weights , self.clip_value)\n",
    "            self.biases = np.clip(self.m_biases , self.m_biases , self.clip_value)\n",
    "            \n",
    "        self.weights -= (1/np.sqrt(self.u_weights + self.epsilon) * 1 / np.sqrt(self.m_weights + self.epsilon)) * self.learning_rate\n",
    "        self.biases -= (1/np.sqrt(self.u_biases + self.epsilon) * 1 / np.sqrt(self.m_biases + self.epsilon)) * self.learning_rate\n",
    "\n",
    "        return self.weights , self.biases , losses"
   ]
  },
  {
   "cell_type": "markdown",
   "id": "ca7bf33d",
   "metadata": {
    "papermill": {
     "duration": 0.029649,
     "end_time": "2023-04-29T11:08:49.876281",
     "exception": false,
     "start_time": "2023-04-29T11:08:49.846632",
     "status": "completed"
    },
    "tags": []
   },
   "source": [
    "# 3.2 | RMSProp Final Source Code"
   ]
  },
  {
   "cell_type": "code",
   "execution_count": 53,
   "id": "ff09d6d8",
   "metadata": {
    "execution": {
     "iopub.execute_input": "2023-04-29T11:08:49.938499Z",
     "iopub.status.busy": "2023-04-29T11:08:49.938079Z",
     "iopub.status.idle": "2023-04-29T11:08:49.958214Z",
     "shell.execute_reply": "2023-04-29T11:08:49.957006Z"
    },
    "papermill": {
     "duration": 0.054493,
     "end_time": "2023-04-29T11:08:49.961155",
     "exception": false,
     "start_time": "2023-04-29T11:08:49.906662",
     "status": "completed"
    },
    "tags": []
   },
   "outputs": [],
   "source": [
    "class rms_prop:\n",
    "    def __init__(X , y , \n",
    "                 learning_rate = 0.01 , rho = 0.9 , \n",
    "                 momentum = 0 , epsilon = 1e-7 , \n",
    "                 clip_norm = None , clip_value = None , \n",
    "                 ema = False , ema_momentum = 0):\n",
    "        \n",
    "        self.X = X\n",
    "        self.y = y\n",
    "        self.learning_rate = learning_rate\n",
    "        self.rho = rho\n",
    "        self.momentum = momentum\n",
    "        self.epsilon = epsilon\n",
    "        self.clip_norm = clip-norm\n",
    "        self.ema = ema\n",
    "        self.ema_momentum = ema_momentum\n",
    "\n",
    "    def build(self , weights = None , biases = None):\n",
    "        \n",
    "        if weights == None:\n",
    "            \n",
    "            self.weights = abs(np.random.randn(self.X.shape[1]))\n",
    "        \n",
    "        else :\n",
    "            \n",
    "            if weights.shape[1] == self.X.shape[1]:\n",
    "                \n",
    "                self.weights = weights\n",
    "            \n",
    "            else :\n",
    "                \n",
    "                raise UserWarning(\"Shapes do not match. Using random variables\")\n",
    "                self.weights = abs(np.random.randn(self.X.shape[1]))\n",
    "\n",
    "        if biases == None:\n",
    "            \n",
    "            self.biases = abs(np.random.randn(1))\n",
    "        \n",
    "        else :\n",
    "            \n",
    "            if baises.shape[1] == 1:\n",
    "                \n",
    "                self.weights = weights\n",
    "            \n",
    "            else :\n",
    "                \n",
    "                raise UserWarning(\"Shapes do not match. Using random variables\")\n",
    "                self.weights = abs(np.random.randn(self.X.shape[1]))\n",
    "\n",
    "        self.m_weights = 0\n",
    "        self.m_biases = 0\n",
    "\n",
    "        self.u_weights = 0\n",
    "        self.u_biases = 0\n",
    "\n",
    "        self.predic = []\n",
    "\n",
    "    def compute_gradients(self , weights , biases):\n",
    "\n",
    "        pred = np.sum((weights * X).T) + biases\n",
    "        \n",
    "        loss = np.sum(pred - y)\n",
    "        \n",
    "        yield loss\n",
    "        \n",
    "        losses.append(loss)\n",
    "    def update_step(self , loss):\n",
    "        \n",
    "        self.u_weights = self.rho * self.u_weights + (1 - self.rho) * (-2 * loss)\n",
    "        self.u_biases = self.rho * self.u_biases + (1 - self.rho) * (-2 * loss)\n",
    "\n",
    "        self.m_weights = self.momentum * self.m_weights + (1 - self.momentum) * loss\n",
    "        self.m_biases = self.momentum * self.m_biases + (1 - self.momentum) * loss\n",
    "        \n",
    "        if self.ema:\n",
    "            \n",
    "            self.m_weights = self.ema_momentum * self.m_weights + (1 - self.ema_momentum) * -2 * loss\n",
    "            self.m_biases = self.ema_momentum * self.m_biases + (1 - self.ema_momentum) * -2 * loss\n",
    "    \n",
    "    def minimize(self):\n",
    "        \n",
    "        if self.clip_norm != None:\n",
    "\n",
    "            self.weights = np.clip(self.weights , self.weights , self.clip_norm)\n",
    "            self.biases = np.clip(self.biases , self.biases , self.clip_norm)\n",
    "\n",
    "        if self.clip_value != None:\n",
    "            \n",
    "            self.weights = np.clip(m_weigts , self.m_weights , self.clip_value)\n",
    "            self.biases = np.clip(self.m_biases , self.m_biases , self.clip_value)\n",
    "            \n",
    "        self.weights -= (1/np.sqrt(self.u_weights + self.epsilon) * 1 / np.sqrt(self.m_weights + self.epsilon)) * self.learning_rate\n",
    "        self.biases -= (1/np.sqrt(self.u_biases + self.epsilon) * 1 / np.sqrt(self.m_biases + self.epsilon)) * self.learning_rate\n",
    "\n",
    "        return self.weights , self.biases , losses"
   ]
  },
  {
   "cell_type": "markdown",
   "id": "2ad95c75",
   "metadata": {
    "papermill": {
     "duration": 0.032197,
     "end_time": "2023-04-29T11:08:50.023330",
     "exception": false,
     "start_time": "2023-04-29T11:08:49.991133",
     "status": "completed"
    },
    "tags": []
   },
   "source": [
    "# 4 | AdaGrad\n",
    "\n",
    "So what the hell is this `adagrad` and why do we even use it. Frankly speaking I dont know a good explanation but what is have learnt is `RMS_Prop` uses the average of shorter list of gradients that were previously used, whereas `adagrad` uses all the list of previous gradients. \n",
    "\n",
    "Though it has a similar formula....\n",
    "****\n",
    "$$w = \\frac {\\alpha g_{n-1}}{\\sqrt{g_n + e}}$$\n",
    "****\n",
    "\n",
    "Remember the code we had for the first time we created `SGD`...?\n",
    "\n",
    "We can somewhat tweek that a little bit to make it working for `AdaGrad`"
   ]
  },
  {
   "cell_type": "code",
   "execution_count": 54,
   "id": "5187f28e",
   "metadata": {
    "execution": {
     "iopub.execute_input": "2023-04-29T11:08:50.085273Z",
     "iopub.status.busy": "2023-04-29T11:08:50.084813Z",
     "iopub.status.idle": "2023-04-29T11:08:50.092747Z",
     "shell.execute_reply": "2023-04-29T11:08:50.091577Z"
    },
    "papermill": {
     "duration": 0.04144,
     "end_time": "2023-04-29T11:08:50.095035",
     "exception": false,
     "start_time": "2023-04-29T11:08:50.053595",
     "status": "completed"
    },
    "tags": []
   },
   "outputs": [],
   "source": [
    "def adagrad(X , y):\n",
    "    \n",
    "    weights = abs(np.random.randn(X.shape[1]))\n",
    "    biases = abs(np.random.randn(1))\n",
    "\n",
    "    losses = []\n",
    "\n",
    "    for _ in range(100):\n",
    "\n",
    "        pred = np.sum((weights * X).T) + biases\n",
    "        \n",
    "        loss = np.sum((pred - y) ** 2)\n",
    "        losses.append(loss)\n",
    "        \n",
    "        weights -= -2 * loss * 0.01\n",
    "        biases -= -2 * loss * 0.01\n",
    "\n",
    "    return weights , biases , losses"
   ]
  },
  {
   "cell_type": "markdown",
   "id": "47810e27",
   "metadata": {
    "papermill": {
     "duration": 0.029894,
     "end_time": "2023-04-29T11:08:50.155546",
     "exception": false,
     "start_time": "2023-04-29T11:08:50.125652",
     "status": "completed"
    },
    "tags": []
   },
   "source": [
    "Till now we were using the previously used `m_weights` or any other variable to update itself. We can use this approach here too, but there we only needed the updated part not the previous part, but according to the formula, we need both the parts. One was of doing this is to create a list that stores the value of all the `gradients`. But we can make this soluiton more effective. Even in the list we need to look up at the two consecutive values only. not the whole list. Lets assume we need to update the value parameters of the index `n`. for that we need only the gradients at index `n` and `n-1`. we do not need othet indexes like `n+1` or `n-2`. We can assume that we are iterating over a list where the window size is only of $2$ indexes. To make this more simple, what we can do is to make a list of $2$ indexes only. At first both are $0$. When we update the grdient of index $1$, and use the gradients of index $0$ and $1$ in the parameter update process, then we can replace the gradient at $0$ with $1$ and then compute for, say $2$ and then repeat the same process. This looks more simpler when you look at the code"
   ]
  },
  {
   "cell_type": "code",
   "execution_count": 55,
   "id": "b6ee0b98",
   "metadata": {
    "execution": {
     "iopub.execute_input": "2023-04-29T11:08:50.217147Z",
     "iopub.status.busy": "2023-04-29T11:08:50.216746Z",
     "iopub.status.idle": "2023-04-29T11:08:50.225414Z",
     "shell.execute_reply": "2023-04-29T11:08:50.224167Z"
    },
    "papermill": {
     "duration": 0.04249,
     "end_time": "2023-04-29T11:08:50.227920",
     "exception": false,
     "start_time": "2023-04-29T11:08:50.185430",
     "status": "completed"
    },
    "tags": []
   },
   "outputs": [],
   "source": [
    "def adagrad(X , y):\n",
    "    \n",
    "    weights = abs(np.random.randn(X.shape[1]))\n",
    "    biases = abs(np.random.randn(1))\n",
    "\n",
    "    losses = []\n",
    "    grad = [0] * 2 # Intialize of only 2 elements\n",
    "\n",
    "    for _ in range(100):\n",
    "\n",
    "        pred = np.sum((weights * X).T) + biases\n",
    "        \n",
    "        loss = np.sum((pred - y) ** 2)\n",
    "        losses.append(loss)\n",
    "        \n",
    "        grad[1] = -2 * loss # calculate the gradient for 1 epoch\n",
    "        \n",
    "        weights -= np.sqrt(-1 / (grad[1] + 1e-7)) * grad[0] * 0.01#|Update the weights using gradient \n",
    "        biases -= np.sqrt(-1 / (grad[1] + 1e-7)) * grad[0] * 0.01#-|\n",
    "\n",
    "        grad[1] = grad[0] # Replace the 1 gradient with 0 and move on \n",
    "\n",
    "    return weights , biases , losses"
   ]
  },
  {
   "cell_type": "markdown",
   "id": "f1b5038c",
   "metadata": {
    "papermill": {
     "duration": 0.029585,
     "end_time": "2023-04-29T11:08:50.288593",
     "exception": false,
     "start_time": "2023-04-29T11:08:50.259008",
     "status": "completed"
    },
    "tags": []
   },
   "source": [
    "# 4.1 | Functionalities\n",
    "Now lets add some functionalieties to our code as we did before to make it more usable\n",
    "* ✅`learning_rate` - Initial value for the learning rate: either a floating point value, or a **[tf](https://www.tensorflow.org/)=>[keras](https://keras.io/)=>[optimizers](https://www.tensorflow.org/api_docs/python/tf/keras/optimizers)=>[schedules](https://www.tensorflow.org/api_docs/python/tf/keras/optimizers/schedules)=>[LearningRateSchedule](https://www.tensorflow.org/api_docs/python/tf/keras/optimizers/schedules/LearningRateSchedule)** instance. Defaults to $0.001$.\n",
    "* ✅`epsilon` - A small constant for numerical stability. This epsilon is \"epsilon hat\" in the Kingma and Ba paper (in the formula just before Section 2.1), not the epsilon in Algorithm 1 of the paper. Defaults to $1e-7$.\n",
    "* ✅`weight_decay` - Float, defaults to None. If set, weight decay is applied.\n",
    "* ✅`clipnorm` - Float. If set, the gradient of each weight is individually clipped so that its norm is no higher than this value.\n",
    "* ✅`clipvalue` - Float. If set, the gradient of each weight is clipped to be no higher than this value.\n",
    "* ✅`use_ema` - \tBoolean, defaults to False. If True, exponential moving average (EMA) is applied. EMA consists of computing an exponential moving average of the weights of the model (as the weight values change after each training batch), and periodically overwriting the weights with their moving average.\n",
    "* ✅`ema_overwrite_frequency` - Int or None, defaults to None. Only used if use_ema=True. Every ema_overwrite_frequency steps of iterations, we overwrite the model variable by its moving average. If None, the optimizer does not overwrite model variables in the middle of training, and you need to explicitly overwrite the variables at the end of training by calling optimizer.finalize_variable_values() (which updates the model variables in-place). When using the built-in fit() training loop, this happens automatically after the last epoch, and you don't need to do anything.\n",
    "\n",
    "# 4.1.1 | Learning Rate\n",
    "\n",
    "It is the learning rate with how the model learns, we had a discussion about this when we were creating the `SGD`. Just scroll a little up and you will find that "
   ]
  },
  {
   "cell_type": "code",
   "execution_count": 56,
   "id": "8edcba09",
   "metadata": {
    "execution": {
     "iopub.execute_input": "2023-04-29T11:08:50.352779Z",
     "iopub.status.busy": "2023-04-29T11:08:50.351241Z",
     "iopub.status.idle": "2023-04-29T11:08:50.365924Z",
     "shell.execute_reply": "2023-04-29T11:08:50.361913Z"
    },
    "papermill": {
     "duration": 0.052155,
     "end_time": "2023-04-29T11:08:50.371304",
     "exception": false,
     "start_time": "2023-04-29T11:08:50.319149",
     "status": "completed"
    },
    "tags": []
   },
   "outputs": [],
   "source": [
    "def adagrad(X , y , learning_rate = 0.01):\n",
    "    \n",
    "    weights = abs(np.random.randn(X.shape[1]))\n",
    "    biases = abs(np.random.randn(1))\n",
    "\n",
    "    losses = []\n",
    "    grad = [0] * 2\n",
    "\n",
    "    for _ in range(100):\n",
    "\n",
    "        pred = np.sum((weights * X).T) + biases\n",
    "        \n",
    "        loss = np.sum((pred - y) ** 2)\n",
    "        losses.append(loss)\n",
    "        \n",
    "        grad[1] = -2 * loss\n",
    "        \n",
    "        weights -= np.sqrt(-1 / (grad[1] + 1e-7)) * grad[0] * learning_rate \n",
    "        biases -= np.sqrt(-1 / (grad[1] + 1e-7)) * grad[0] * learning_rate\n",
    "\n",
    "        grad[1] = grad[0]\n",
    "\n",
    "    return weights , biases , losses"
   ]
  },
  {
   "cell_type": "markdown",
   "id": "39472334",
   "metadata": {
    "papermill": {
     "duration": 0.044639,
     "end_time": "2023-04-29T11:08:50.452492",
     "exception": false,
     "start_time": "2023-04-29T11:08:50.407853",
     "status": "completed"
    },
    "tags": []
   },
   "source": [
    "# 4.1.4 | Epsilon\n",
    "\n",
    "In RMSprop, epsilon is a small constant used to prevent division by zero and improve numerical stability during the calculation of the adaptive learning rate. It is added to the denominator of the weight update equation to ensure that the divisor is always positive. Epsilon is typically set to a small value, such as 1e-8, and has a minimal impact on the optimization process."
   ]
  },
  {
   "cell_type": "code",
   "execution_count": 57,
   "id": "4ac44360",
   "metadata": {
    "execution": {
     "iopub.execute_input": "2023-04-29T11:08:50.517060Z",
     "iopub.status.busy": "2023-04-29T11:08:50.516553Z",
     "iopub.status.idle": "2023-04-29T11:08:50.525268Z",
     "shell.execute_reply": "2023-04-29T11:08:50.523900Z"
    },
    "papermill": {
     "duration": 0.043416,
     "end_time": "2023-04-29T11:08:50.527802",
     "exception": false,
     "start_time": "2023-04-29T11:08:50.484386",
     "status": "completed"
    },
    "tags": []
   },
   "outputs": [],
   "source": [
    "def adagrad(X , y , learning_rate = 0.01 , epsilon = 1e-7):\n",
    "    \n",
    "    weights = abs(np.random.randn(X.shape[1]))\n",
    "    biases = abs(np.random.randn(1))\n",
    "\n",
    "    losses = []\n",
    "    grad = [0] * 2\n",
    "\n",
    "    for _ in range(100):\n",
    "\n",
    "        pred = np.sum((weights * X).T) + biases\n",
    "        \n",
    "        loss = np.sum((pred - y) ** 2)\n",
    "        losses.append(loss)\n",
    "        \n",
    "        grad[1] = -2 * loss\n",
    "        \n",
    "        weights -= np.sqrt(-1 / (grad[1] + epsilon)) * grad[0] * learning_rate \n",
    "        biases -= np.sqrt(-1 / (grad[1] + epsilon)) * grad[0] * learning_rate\n",
    "\n",
    "        grad[1] = grad[0]\n",
    "\n",
    "    return weights , biases , losses"
   ]
  },
  {
   "cell_type": "markdown",
   "id": "dc30b2ed",
   "metadata": {
    "papermill": {
     "duration": 0.03101,
     "end_time": "2023-04-29T11:08:50.589376",
     "exception": false,
     "start_time": "2023-04-29T11:08:50.558366",
     "status": "completed"
    },
    "tags": []
   },
   "source": [
    "# 4.1.5 | Clipnorm\n",
    "The `clipnorm` parameter in `RMSprop` is used to prevent the gradient from becoming too large during training, which can cause instability or divergence. When clipnorm is set, the gradient is clipped to a maximum norm value, effectively scaling the gradient if its norm exceeds the specified value. This helps to ensure that the updates to the weights are not too large and that the optimization process remains stable."
   ]
  },
  {
   "cell_type": "code",
   "execution_count": 58,
   "id": "8f9f5e9d",
   "metadata": {
    "execution": {
     "iopub.execute_input": "2023-04-29T11:08:50.652167Z",
     "iopub.status.busy": "2023-04-29T11:08:50.651484Z",
     "iopub.status.idle": "2023-04-29T11:08:50.661512Z",
     "shell.execute_reply": "2023-04-29T11:08:50.660211Z"
    },
    "papermill": {
     "duration": 0.044405,
     "end_time": "2023-04-29T11:08:50.664015",
     "exception": false,
     "start_time": "2023-04-29T11:08:50.619610",
     "status": "completed"
    },
    "tags": []
   },
   "outputs": [],
   "source": [
    "def adagrad(X , y , learning_rate = 0.01 , epsilon = 1e-7 , clip_norm = None):\n",
    "    \n",
    "    weights = abs(np.random.randn(X.shape[1]))\n",
    "    biases = abs(np.random.randn(1))\n",
    "\n",
    "    losses = []\n",
    "    grad = [0] * 2\n",
    "\n",
    "    for _ in range(100):\n",
    "\n",
    "        pred = np.sum((weights * X).T) + biases\n",
    "        \n",
    "        loss = np.sum((pred - y) ** 2)\n",
    "        losses.append(loss)\n",
    "        \n",
    "        grad[1] = -2 * loss\n",
    "\n",
    "        if clip_norm != None:\n",
    "            \n",
    "            weights = np.clip(weights , weights , clip_norm)\n",
    "            biases = np.clip(biases , biases , clip_norm)\n",
    "        \n",
    "        weights -= np.sqrt(-1 / (grad[1] + epsilon)) * grad[0] * learning_rate \n",
    "        biases -= np.sqrt(-1 / (grad[1] + epsilon)) * grad[0] * learning_rate\n",
    "\n",
    "        grad[1] = grad[0]\n",
    "\n",
    "    return weights , biases , losses"
   ]
  },
  {
   "cell_type": "markdown",
   "id": "5570c683",
   "metadata": {
    "papermill": {
     "duration": 0.031781,
     "end_time": "2023-04-29T11:08:50.726413",
     "exception": false,
     "start_time": "2023-04-29T11:08:50.694632",
     "status": "completed"
    },
    "tags": []
   },
   "source": [
    "# 4.1.6 | Clip Value\n",
    "\n",
    "If the gradient is larger than the clipvalue threshold, it will be clipped to that value. If the gradient is smaller than the negative clipvalue threshold, it will be clipped to that negative value. This ensures that the gradient remains within a certain range, which can prevent numerical instability and improve convergence."
   ]
  },
  {
   "cell_type": "code",
   "execution_count": 59,
   "id": "a050c309",
   "metadata": {
    "execution": {
     "iopub.execute_input": "2023-04-29T11:08:50.790214Z",
     "iopub.status.busy": "2023-04-29T11:08:50.789787Z",
     "iopub.status.idle": "2023-04-29T11:08:50.799833Z",
     "shell.execute_reply": "2023-04-29T11:08:50.798625Z"
    },
    "papermill": {
     "duration": 0.045204,
     "end_time": "2023-04-29T11:08:50.802204",
     "exception": false,
     "start_time": "2023-04-29T11:08:50.757000",
     "status": "completed"
    },
    "tags": []
   },
   "outputs": [],
   "source": [
    "def adagrad(X , y , learning_rate = 0.01 , epsilon = 1e-7 , clip_norm = None , clip_value = None):\n",
    "    \n",
    "    weights = abs(np.random.randn(X.shape[1]))\n",
    "    biases = abs(np.random.randn(1))\n",
    "\n",
    "    losses = []\n",
    "    grad = np.zeros(2)\n",
    "\n",
    "    for _ in range(100):\n",
    "\n",
    "        pred = np.sum((weights * X).T) + biases\n",
    "        \n",
    "        loss = np.sum((pred - y) ** 2)\n",
    "        losses.append(loss)\n",
    "        \n",
    "        grad[1] = -2 * loss\n",
    "\n",
    "        if clip_norm != None:\n",
    "            \n",
    "            weights = np.clip(weights , weights , clip_norm)\n",
    "            biases = np.clip(biases , biases , clip_norm)\n",
    "\n",
    "        if clip_value != None:\n",
    "\n",
    "            grad = np.clip(grad , grad , clip_value)\n",
    "        \n",
    "        weights -= np.sqrt(-1 / (grad[1] + epsilon)) * grad[0] * learning_rate \n",
    "        biases -= np.sqrt(-1 / (grad[1] + epsilon)) * grad[0] * learning_rate\n",
    "\n",
    "        grad[1] = grad[0]\n",
    "\n",
    "    return weights , biases , losses"
   ]
  },
  {
   "cell_type": "markdown",
   "id": "2d751553",
   "metadata": {
    "papermill": {
     "duration": 0.031304,
     "end_time": "2023-04-29T11:08:50.863781",
     "exception": false,
     "start_time": "2023-04-29T11:08:50.832477",
     "status": "completed"
    },
    "tags": []
   },
   "source": [
    "# 4.1.7 EMA\n",
    "\n",
    "Wether to use the estimated momentum average or not. The major use of this function is when `ema_momentum` is given "
   ]
  },
  {
   "cell_type": "code",
   "execution_count": 60,
   "id": "c0f47be1",
   "metadata": {
    "execution": {
     "iopub.execute_input": "2023-04-29T11:08:50.934458Z",
     "iopub.status.busy": "2023-04-29T11:08:50.934089Z",
     "iopub.status.idle": "2023-04-29T11:08:50.943593Z",
     "shell.execute_reply": "2023-04-29T11:08:50.942682Z"
    },
    "papermill": {
     "duration": 0.051091,
     "end_time": "2023-04-29T11:08:50.946240",
     "exception": false,
     "start_time": "2023-04-29T11:08:50.895149",
     "status": "completed"
    },
    "tags": []
   },
   "outputs": [],
   "source": [
    "def adagrad(X , y , learning_rate = 0.01 , epsilon = 1e-7 , clip_norm = None , clip_value = None , ema = False):\n",
    "    \n",
    "    weights = abs(np.random.randn(X.shape[1]))\n",
    "    biases = abs(np.random.randn(1))\n",
    "\n",
    "    losses = []\n",
    "    grad = np.zeros(2)\n",
    "\n",
    "    for _ in range(100):\n",
    "\n",
    "        pred = np.sum((weights * X).T) + biases\n",
    "        \n",
    "        loss = np.sum((pred - y) ** 2)\n",
    "        losses.append(loss)\n",
    "        \n",
    "        grad[1] = -2 * loss\n",
    "\n",
    "        if ema: pass\n",
    "\n",
    "        if clip_norm != None:\n",
    "            \n",
    "            weights = np.clip(weights , weights , clip_norm)\n",
    "            biases = np.clip(biases , biases , clip_norm)\n",
    "\n",
    "        if clip_value != None:\n",
    "\n",
    "            grad = np.clip(grad , grad , clip_value)\n",
    "        \n",
    "        weights -= np.sqrt(-1 / (grad[1] + epsilon)) * grad[0] * learning_rate \n",
    "        biases -= np.sqrt(-1 / (grad[1] + epsilon)) * grad[0] * learning_rate\n",
    "\n",
    "        grad[1] = grad[0]\n",
    "\n",
    "    return weights , biases , losses"
   ]
  },
  {
   "cell_type": "markdown",
   "id": "cf42b7df",
   "metadata": {
    "papermill": {
     "duration": 0.02989,
     "end_time": "2023-04-29T11:08:51.006423",
     "exception": false,
     "start_time": "2023-04-29T11:08:50.976533",
     "status": "completed"
    },
    "tags": []
   },
   "source": [
    "# 4.1.8 | EMA Momentum\n",
    "\n",
    "In RMSprop, the exponential moving average (EMA) of the gradient with momentum is used to improve convergence and prevent oscillations during training. The EMA of the gradient with momentum is updated at each iteration and incorporates information about the previous gradients and the current gradient to produce a more stable and consistent update direction. This helps to smooth out the noise in the gradient estimates and helps the optimizer to move more directly towards the minimum of the loss function."
   ]
  },
  {
   "cell_type": "code",
   "execution_count": 61,
   "id": "a95ebd58",
   "metadata": {
    "execution": {
     "iopub.execute_input": "2023-04-29T11:08:51.069842Z",
     "iopub.status.busy": "2023-04-29T11:08:51.068877Z",
     "iopub.status.idle": "2023-04-29T11:08:51.080356Z",
     "shell.execute_reply": "2023-04-29T11:08:51.079191Z"
    },
    "papermill": {
     "duration": 0.04602,
     "end_time": "2023-04-29T11:08:51.083079",
     "exception": false,
     "start_time": "2023-04-29T11:08:51.037059",
     "status": "completed"
    },
    "tags": []
   },
   "outputs": [],
   "source": [
    "def adagrad(X , y , learning_rate = 0.01 , epsilon = 1e-7 , clip_norm = None , clip_value = None , ema = False):\n",
    "    \n",
    "    weights = abs(np.random.randn(X.shape[1]))\n",
    "    biases = abs(np.random.randn(1))\n",
    "\n",
    "    losses = []\n",
    "    grad = np.zeros(2)\n",
    "\n",
    "    for _ in range(100):\n",
    "\n",
    "        pred = np.sum((weights * X).T) + biases\n",
    "        \n",
    "        loss = np.sum((pred - y) ** 2)\n",
    "        losses.append(loss)\n",
    "        \n",
    "        grad[1] = -2 * loss\n",
    "\n",
    "        if ema: \n",
    "\n",
    "            grad = ema_momentum * grad + (1 - ema_momentum) * grad\n",
    "\n",
    "        if clip_norm != None:\n",
    "            \n",
    "            weights = np.clip(weights , weights , clip_norm)\n",
    "            biases = np.clip(biases , biases , clip_norm)\n",
    "\n",
    "        if clip_value != None:\n",
    "\n",
    "            grad = np.clip(grad , grad , clip_value)\n",
    "        \n",
    "        weights -= np.sqrt(-1 / (grad[1] + epsilon)) * grad[0] * learning_rate \n",
    "        biases -= np.sqrt(-1 / (grad[1] + epsilon)) * grad[0] * learning_rate\n",
    "\n",
    "        grad[1] = grad[0]\n",
    "\n",
    "    return weights , biases , losses"
   ]
  },
  {
   "cell_type": "markdown",
   "id": "4b7637f1",
   "metadata": {
    "papermill": {
     "duration": 0.029855,
     "end_time": "2023-04-29T11:08:51.142934",
     "exception": false,
     "start_time": "2023-04-29T11:08:51.113079",
     "status": "completed"
    },
    "tags": []
   },
   "source": [
    "# 4.2 | Methods\n",
    "\n",
    "Now to add more functionalities, we will add different methods to our alogirthm, You can acces the list of methods we are going to use from the same link before we used for `Functionalities`. \n",
    "* ✅`build` - Initialize optimizer variables. SGD optimizer has one variable momentums, only set if self.momentum is not 0.\n",
    "* * ✅`weights` - Weights of the Optimizer\n",
    "* * ✅`biases` - biases of the Optimizer\n",
    "* ✅`compute_gradients` - Compute gradients of loss on trainable variables.\n",
    "* ✅`minimize` - Minimize loss by updating `var_list`.\n",
    "* ✅`update_step` - Update step given gradient and the associated model variable.\n",
    "\n",
    "**Note** - we will stop the function from being usable at some places\n",
    "\n",
    "# 4.2.1 | Build\n",
    "This method initializes all the values in the `rms_prop`, you can understand this as a constructor, but not perfectly as the one. \n",
    "\n",
    "We will give the user a functionality, that they can intialize there own variables. At the starting the `weights` and `baises` are `None`. If the user passes their own, the function first checks that they are or correct shape and if True assigns the values, else initialize random values "
   ]
  },
  {
   "cell_type": "code",
   "execution_count": 62,
   "id": "20b7cc50",
   "metadata": {
    "execution": {
     "iopub.execute_input": "2023-04-29T11:08:51.206334Z",
     "iopub.status.busy": "2023-04-29T11:08:51.205309Z",
     "iopub.status.idle": "2023-04-29T11:08:51.218188Z",
     "shell.execute_reply": "2023-04-29T11:08:51.217001Z"
    },
    "papermill": {
     "duration": 0.04826,
     "end_time": "2023-04-29T11:08:51.221137",
     "exception": false,
     "start_time": "2023-04-29T11:08:51.172877",
     "status": "completed"
    },
    "tags": []
   },
   "outputs": [],
   "source": [
    "class adagrad:\n",
    "    def __init__(X , y , \n",
    "                 learning_rate = 0.01 , epsilon = 1e-7 , \n",
    "                 clip_norm = None , clip_value = None , \n",
    "                 ema = False , ema_momentum = 0):\n",
    "    \n",
    "        self.X = X\n",
    "        self.y = y \n",
    "        self.learning_rate = learning_rate\n",
    "        self.epsilon = epsilon\n",
    "        self.clip_norm = clip_norm\n",
    "        self.clip_value = clip_value\n",
    "        self.ema = ema\n",
    "        self.ema_momentum = ema_momentum\n",
    "    \n",
    "    def build(self , weights = None , biases = None):\n",
    "    \n",
    "        if weights == None:\n",
    "            \n",
    "            self.weights = abs(np.random.randn(self.X.shape[1]))\n",
    "        \n",
    "        else :\n",
    "            \n",
    "            if weights.shape[0] == self.X.shape[1]:\n",
    "                \n",
    "                self.weights = weights\n",
    "            \n",
    "            else :\n",
    "                \n",
    "                raise UserWarning(\"Shapes do not match , initalizing random weights\")\n",
    "                    \n",
    "                self.weights = abs(np.random.randn(self.X.shape[1]))\n",
    "        \n",
    "        if biases == None:\n",
    "            \n",
    "            self.biases = abs(np.random.randn(1))\n",
    "        \n",
    "        else :\n",
    "            \n",
    "            if biases.shape[0] == 1:\n",
    "                \n",
    "                self.biases = biases\n",
    "            \n",
    "            else :\n",
    "                \n",
    "                raise UserWarning(\"Shapes do not match , initalizing random biases\")\n",
    "                    \n",
    "                self.biases = abs(np.random.randn(1))\n",
    "\n",
    "        self.losses = []\n",
    "        self.grad = np.zeros(2)\n",
    "\n",
    "    # for _ in range(100):\n",
    "\n",
    "    #     pred = np.sum((weights * X).T) + biases\n",
    "        \n",
    "    #     loss = np.sum((pred - y) ** 2)\n",
    "    #     losses.append(loss)\n",
    "        \n",
    "    #     grad[1] = -2 * loss\n",
    "\n",
    "    #     if ema: \n",
    "\n",
    "    #         grad = ema_momentum * grad + (1 - ema_momentum) * grad\n",
    "\n",
    "    #     if clip_norm != None:\n",
    "            \n",
    "    #         weights = np.clip(weights , weights , clip_norm)\n",
    "    #         biases = np.clip(biases , biases , clip_norm)\n",
    "\n",
    "    #     if clip_value != None:\n",
    "\n",
    "    #         grad = np.clip(grad , grad , clip_value)\n",
    "        \n",
    "    #     weights -= np.sqrt(-1 / (grad[1] + epsilon)) * grad[0] * learning_rate \n",
    "    #     biases -= np.sqrt(-1 / (grad[1] + epsilon)) * grad[0] * learning_rate\n",
    "\n",
    "    #     grad[1] = grad[0]\n",
    "\n",
    "    # return weights , biases , losses"
   ]
  },
  {
   "cell_type": "markdown",
   "id": "725d1733",
   "metadata": {
    "papermill": {
     "duration": 0.032151,
     "end_time": "2023-04-29T11:08:51.283863",
     "exception": false,
     "start_time": "2023-04-29T11:08:51.251712",
     "status": "completed"
    },
    "tags": []
   },
   "source": [
    "# 4.2.2 | Compute Gradients\n",
    "\n",
    "Compuute the loss function and gradients for the losses "
   ]
  },
  {
   "cell_type": "code",
   "execution_count": 63,
   "id": "f1587bf8",
   "metadata": {
    "execution": {
     "iopub.execute_input": "2023-04-29T11:08:51.348211Z",
     "iopub.status.busy": "2023-04-29T11:08:51.347822Z",
     "iopub.status.idle": "2023-04-29T11:08:51.362772Z",
     "shell.execute_reply": "2023-04-29T11:08:51.361843Z"
    },
    "papermill": {
     "duration": 0.050221,
     "end_time": "2023-04-29T11:08:51.365448",
     "exception": false,
     "start_time": "2023-04-29T11:08:51.315227",
     "status": "completed"
    },
    "tags": []
   },
   "outputs": [],
   "source": [
    "class adagrad:\n",
    "    def __init__(X , y , \n",
    "                 learning_rate = 0.01 , epsilon = 1e-7 , \n",
    "                 clip_norm = None , clip_value = None , \n",
    "                 ema = False , ema_momentum = 0):\n",
    "    \n",
    "        self.X = X\n",
    "        self.y = y \n",
    "        self.learning_rate = learning_rate\n",
    "        self.epsilon = epsilon\n",
    "        self.clip_norm = clip_norm\n",
    "        self.clip_value = clip_value\n",
    "        self.ema = ema\n",
    "        self.ema_momentum = ema_momentum\n",
    "    \n",
    "    def build(self , weights = None , biases = None):\n",
    "    \n",
    "        if weights == None:\n",
    "            \n",
    "            self.weights = abs(np.random.randn(self.X.shape[1]))\n",
    "        \n",
    "        else :\n",
    "            \n",
    "            if weights.shape[0] == self.X.shape[1]:\n",
    "                \n",
    "                self.weights = weights\n",
    "            \n",
    "            else :\n",
    "                \n",
    "                raise UserWarning(\"Shapes do not match , initalizing random weights\")\n",
    "                    \n",
    "                self.weights = abs(np.random.randn(self.X.shape[1]))\n",
    "        \n",
    "        if biases == None:\n",
    "            \n",
    "            self.biases = abs(np.random.randn(1))\n",
    "        \n",
    "        else :\n",
    "            \n",
    "            if biases.shape[0] == 1:\n",
    "                \n",
    "                self.biases = biases\n",
    "            \n",
    "            else :\n",
    "                \n",
    "                raise UserWarning(\"Shapes do not match , initalizing random biases\")\n",
    "                    \n",
    "                self.biases = abs(np.random.randn(1))\n",
    "\n",
    "        self.losses = []\n",
    "        self.grad = np.zeros(2)\n",
    "\n",
    "    def compute_gradient(self , weights , biases):\n",
    "\n",
    "        pred = np.sum((weights * X).T) + biases\n",
    "        \n",
    "        loss = np.sum((pred - y) ** 2)\n",
    "        \n",
    "        losses.append(loss)\n",
    "        \n",
    "        grad[1] = -2 * loss\n",
    "\n",
    "        yield grad\n",
    "\n",
    "#     if ema: \n",
    "\n",
    "#         grad = ema_momentum * grad + (1 - ema_momentum) * grad\n",
    "\n",
    "#     if clip_norm != None:\n",
    "        \n",
    "#         weights = np.clip(weights , weights , clip_norm)\n",
    "#         biases = np.clip(biases , biases , clip_norm)\n",
    "\n",
    "#     if clip_value != None:\n",
    "\n",
    "#         grad = np.clip(grad , grad , clip_value)\n",
    "    \n",
    "#     weights -= np.sqrt(-1 / (grad[1] + epsilon)) * grad[0] * learning_rate \n",
    "#     biases -= np.sqrt(-1 / (grad[1] + epsilon)) * grad[0] * learning_rate\n",
    "\n",
    "#     grad[1] = grad[0]\n",
    "\n",
    "# return weights , biases , losses"
   ]
  },
  {
   "cell_type": "markdown",
   "id": "de4dbc59",
   "metadata": {
    "papermill": {
     "duration": 0.034454,
     "end_time": "2023-04-29T11:08:51.434899",
     "exception": false,
     "start_time": "2023-04-29T11:08:51.400445",
     "status": "completed"
    },
    "tags": []
   },
   "source": [
    "# 4.2.3 | Minimize\n",
    "Minimze the loss values"
   ]
  },
  {
   "cell_type": "code",
   "execution_count": 64,
   "id": "a3da59d2",
   "metadata": {
    "execution": {
     "iopub.execute_input": "2023-04-29T11:08:51.500796Z",
     "iopub.status.busy": "2023-04-29T11:08:51.499775Z",
     "iopub.status.idle": "2023-04-29T11:08:51.516051Z",
     "shell.execute_reply": "2023-04-29T11:08:51.514590Z"
    },
    "papermill": {
     "duration": 0.053553,
     "end_time": "2023-04-29T11:08:51.518768",
     "exception": false,
     "start_time": "2023-04-29T11:08:51.465215",
     "status": "completed"
    },
    "tags": []
   },
   "outputs": [],
   "source": [
    "class adagrad:\n",
    "    def __init__(X , y , \n",
    "                 learning_rate = 0.01 , epsilon = 1e-7 , \n",
    "                 clip_norm = None , clip_value = None , \n",
    "                 ema = False , ema_momentum = 0):\n",
    "    \n",
    "        self.X = X\n",
    "        self.y = y \n",
    "        self.learning_rate = learning_rate\n",
    "        self.epsilon = epsilon\n",
    "        self.clip_norm = clip_norm\n",
    "        self.clip_value = clip_value\n",
    "        self.ema = ema\n",
    "        self.ema_momentum = ema_momentum\n",
    "    \n",
    "    def build(self , weights = None , biases = None):\n",
    "    \n",
    "        if weights == None:\n",
    "            \n",
    "            self.weights = abs(np.random.randn(self.X.shape[1]))\n",
    "        \n",
    "        else :\n",
    "            \n",
    "            if weights.shape[0] == self.X.shape[1]:\n",
    "                \n",
    "                self.weights = weights\n",
    "            \n",
    "            else :\n",
    "                \n",
    "                raise UserWarning(\"Shapes do not match , initalizing random weights\")\n",
    "                    \n",
    "                self.weights = abs(np.random.randn(self.X.shape[1]))\n",
    "        \n",
    "        if biases == None:\n",
    "            \n",
    "            self.biases = abs(np.random.randn(1))\n",
    "        \n",
    "        else :\n",
    "            \n",
    "            if biases.shape[0] == 1:\n",
    "                \n",
    "                self.biases = biases\n",
    "            \n",
    "            else :\n",
    "                \n",
    "                raise UserWarning(\"Shapes do not match , initalizing random biases\")\n",
    "                    \n",
    "                self.biases = abs(np.random.randn(1))\n",
    "\n",
    "        self.losses = []\n",
    "        self.grad = np.zeros(2)\n",
    "\n",
    "    def compute_gradient(self , weights , biases):\n",
    "\n",
    "        pred = np.sum((weights * X).T) + biases\n",
    "        \n",
    "        loss = np.sum((pred - y) ** 2)\n",
    "        \n",
    "        losses.append(loss)\n",
    "        \n",
    "        grad[1] = -2 * loss\n",
    "\n",
    "        yield grad\n",
    "\n",
    "#     if ema: \n",
    "\n",
    "#         grad = ema_momentum * grad + (1 - ema_momentum) * grad\n",
    "    def minimize(self):\n",
    "        \n",
    "        if clip_norm != None:\n",
    "            \n",
    "            weights = np.clip(weights , weights , clip_norm)\n",
    "            biases = np.clip(biases , biases , clip_norm)\n",
    "\n",
    "        if clip_value != None:\n",
    "\n",
    "            grad = np.clip(grad , grad , clip_value)\n",
    "        \n",
    "        weights -= np.sqrt(-1 / (grad[1] + epsilon)) * grad[0] * learning_rate \n",
    "        biases -= np.sqrt(-1 / (grad[1] + epsilon)) * grad[0] * learning_rate\n",
    "\n",
    "        grad[1] = grad[0]\n",
    "\n",
    "        return weights , biases , losses"
   ]
  },
  {
   "cell_type": "markdown",
   "id": "045e0b89",
   "metadata": {
    "papermill": {
     "duration": 0.030925,
     "end_time": "2023-04-29T11:08:51.580805",
     "exception": false,
     "start_time": "2023-04-29T11:08:51.549880",
     "status": "completed"
    },
    "tags": []
   },
   "source": [
    "# 3.2.4 | Update_Step\n",
    "Update the values accordingly"
   ]
  },
  {
   "cell_type": "code",
   "execution_count": 65,
   "id": "fe35fa9d",
   "metadata": {
    "execution": {
     "iopub.execute_input": "2023-04-29T11:08:51.645803Z",
     "iopub.status.busy": "2023-04-29T11:08:51.645163Z",
     "iopub.status.idle": "2023-04-29T11:08:51.660324Z",
     "shell.execute_reply": "2023-04-29T11:08:51.659160Z"
    },
    "papermill": {
     "duration": 0.050831,
     "end_time": "2023-04-29T11:08:51.662958",
     "exception": false,
     "start_time": "2023-04-29T11:08:51.612127",
     "status": "completed"
    },
    "tags": []
   },
   "outputs": [],
   "source": [
    "class adagrad:\n",
    "    def __init__(X , y , \n",
    "                 learning_rate = 0.01 , epsilon = 1e-7 , \n",
    "                 clip_norm = None , clip_value = None , \n",
    "                 ema = False , ema_momentum = 0):\n",
    "    \n",
    "        self.X = X\n",
    "        self.y = y \n",
    "        self.learning_rate = learning_rate\n",
    "        self.epsilon = epsilon\n",
    "        self.clip_norm = clip_norm\n",
    "        self.clip_value = clip_value\n",
    "        self.ema = ema\n",
    "        self.ema_momentum = ema_momentum\n",
    "    \n",
    "    def build(self , weights = None , biases = None):\n",
    "    \n",
    "        if weights == None:\n",
    "            \n",
    "            self.weights = abs(np.random.randn(self.X.shape[1]))\n",
    "        \n",
    "        else :\n",
    "            \n",
    "            if weights.shape[0] == self.X.shape[1]:\n",
    "                \n",
    "                self.weights = weights\n",
    "            \n",
    "            else :\n",
    "                \n",
    "                raise UserWarning(\"Shapes do not match , initalizing random weights\")\n",
    "                    \n",
    "                self.weights = abs(np.random.randn(self.X.shape[1]))\n",
    "        \n",
    "        if biases == None:\n",
    "            \n",
    "            self.biases = abs(np.random.randn(1))\n",
    "        \n",
    "        else :\n",
    "            \n",
    "            if biases.shape[0] == 1:\n",
    "                \n",
    "                self.biases = biases\n",
    "            \n",
    "            else :\n",
    "                \n",
    "                raise UserWarning(\"Shapes do not match , initalizing random biases\")\n",
    "                    \n",
    "                self.biases = abs(np.random.randn(1))\n",
    "\n",
    "        self.losses = []\n",
    "        self.grad = np.zeros(2)\n",
    "\n",
    "    def compute_gradient(self , weights , biases):\n",
    "\n",
    "        pred = np.sum((weights * X).T) + biases\n",
    "        \n",
    "        loss = np.sum((pred - y) ** 2)\n",
    "        \n",
    "        losses.append(loss)\n",
    "        \n",
    "        grad[1] = -2 * loss\n",
    "\n",
    "        yield grad\n",
    "    def update_step(self):\n",
    "\n",
    "        if ema: \n",
    "\n",
    "            grad = ema_momentum * grad + (1 - ema_momentum) * grad\n",
    "    \n",
    "    def minimize(self):\n",
    "        \n",
    "        if clip_norm != None:\n",
    "            \n",
    "            weights = np.clip(weights , weights , clip_norm)\n",
    "            biases = np.clip(biases , biases , clip_norm)\n",
    "\n",
    "        if clip_value != None:\n",
    "\n",
    "            grad = np.clip(grad , grad , clip_value)\n",
    "        \n",
    "        weights -= np.sqrt(-1 / (grad[1] + epsilon)) * grad[0] * learning_rate \n",
    "        biases -= np.sqrt(-1 / (grad[1] + epsilon)) * grad[0] * learning_rate\n",
    "\n",
    "        grad[1] = grad[0]\n",
    "\n",
    "        return weights , biases , losses"
   ]
  },
  {
   "cell_type": "markdown",
   "id": "515568b9",
   "metadata": {
    "papermill": {
     "duration": 0.030733,
     "end_time": "2023-04-29T11:08:51.723798",
     "exception": false,
     "start_time": "2023-04-29T11:08:51.693065",
     "status": "completed"
    },
    "tags": []
   },
   "source": [
    "# 4.2 | AdaGrad Final Source Code"
   ]
  },
  {
   "cell_type": "code",
   "execution_count": 66,
   "id": "82f8b8e5",
   "metadata": {
    "execution": {
     "iopub.execute_input": "2023-04-29T11:08:51.786655Z",
     "iopub.status.busy": "2023-04-29T11:08:51.786271Z",
     "iopub.status.idle": "2023-04-29T11:08:51.803911Z",
     "shell.execute_reply": "2023-04-29T11:08:51.802781Z"
    },
    "papermill": {
     "duration": 0.05169,
     "end_time": "2023-04-29T11:08:51.806259",
     "exception": false,
     "start_time": "2023-04-29T11:08:51.754569",
     "status": "completed"
    },
    "tags": []
   },
   "outputs": [],
   "source": [
    "class adagrad:\n",
    "    def __init__(X , y , \n",
    "                 learning_rate = 0.01 , epsilon = 1e-7 , \n",
    "                 clip_norm = None , clip_value = None , \n",
    "                 ema = False , ema_momentum = 0):\n",
    "    \n",
    "        self.X = X\n",
    "        self.y = y \n",
    "        self.learning_rate = learning_rate\n",
    "        self.epsilon = epsilon\n",
    "        self.clip_norm = clip_norm\n",
    "        self.clip_value = clip_value\n",
    "        self.ema = ema\n",
    "        self.ema_momentum = ema_momentum\n",
    "    \n",
    "    def build(self , weights = None , biases = None):\n",
    "    \n",
    "        if weights == None:\n",
    "            \n",
    "            self.weights = abs(np.random.randn(self.X.shape[1]))\n",
    "        \n",
    "        else :\n",
    "            \n",
    "            if weights.shape[0] == self.X.shape[1]:\n",
    "                \n",
    "                self.weights = weights\n",
    "            \n",
    "            else :\n",
    "                \n",
    "                raise UserWarning(\"Shapes do not match , initalizing random weights\")\n",
    "                    \n",
    "                self.weights = abs(np.random.randn(self.X.shape[1]))\n",
    "        \n",
    "        if biases == None:\n",
    "            \n",
    "            self.biases = abs(np.random.randn(1))\n",
    "        \n",
    "        else :\n",
    "            \n",
    "            if biases.shape[0] == 1:\n",
    "                \n",
    "                self.biases = biases\n",
    "            \n",
    "            else :\n",
    "                \n",
    "                raise UserWarning(\"Shapes do not match , initalizing random biases\")\n",
    "                    \n",
    "                self.biases = abs(np.random.randn(1))\n",
    "\n",
    "        self.losses = []\n",
    "        self.grad = np.zeros(2)\n",
    "\n",
    "    def compute_gradient(self , weights , biases):\n",
    "\n",
    "        pred = np.sum((weights * X).T) + biases\n",
    "        \n",
    "        loss = np.sum((pred - y) ** 2)\n",
    "        \n",
    "        losses.append(loss)\n",
    "        \n",
    "        grad[1] = -2 * loss\n",
    "\n",
    "        yield grad\n",
    "    def update_step(self):\n",
    "\n",
    "        if ema: \n",
    "\n",
    "            grad = ema_momentum * grad + (1 - ema_momentum) * grad\n",
    "    \n",
    "    def minimize(self):\n",
    "        \n",
    "        if clip_norm != None:\n",
    "            \n",
    "            weights = np.clip(weights , weights , clip_norm)\n",
    "            biases = np.clip(biases , biases , clip_norm)\n",
    "\n",
    "        if clip_value != None:\n",
    "\n",
    "            grad = np.clip(grad , grad , clip_value)\n",
    "        \n",
    "        weights -= np.sqrt(-1 / (grad[1] + epsilon)) * grad[0] * learning_rate \n",
    "        biases -= np.sqrt(-1 / (grad[1] + epsilon)) * grad[0] * learning_rate\n",
    "\n",
    "        grad[1] = grad[0]\n",
    "\n",
    "        return weights , biases , losses"
   ]
  },
  {
   "cell_type": "markdown",
   "id": "a4db53a2",
   "metadata": {
    "papermill": {
     "duration": 0.030994,
     "end_time": "2023-04-29T11:08:51.867979",
     "exception": false,
     "start_time": "2023-04-29T11:08:51.836985",
     "status": "completed"
    },
    "tags": []
   },
   "source": [
    "**THIS IS NOT THE FULL IMPLEMENTATION, IT STILL LACKS MANY FUNCTIONALITIES AND IS VULENRABLE TO MANY EDGE CASES, WE WILL IMPROVE THIS IN THE UPCOMING VERSIONS**\n",
    "\n",
    "**PLEASE COMMENT DOWN IF I DID ANY MISTAKES, OR IF CAN MAKE THIS MORE CONNECTED TO THE GROUND, OR SUGGESTIONS. YOUR ASSISTS ARE HIGHLY APPRECIABLE**\n",
    "\n",
    "**THATS IT FOR TODAY GUYS**\n",
    "\n",
    "**HOPE YOU UNDERSTOOD AND LIKED MY WORK**\n",
    "\n",
    "**DONT FORGET TO MAKE AN UPVOTE :)**\n",
    "\n",
    "**PEACE OUT !!!**"
   ]
  }
 ],
 "metadata": {
  "kernelspec": {
   "display_name": "Python 3",
   "language": "python",
   "name": "python3"
  },
  "language_info": {
   "codemirror_mode": {
    "name": "ipython",
    "version": 3
   },
   "file_extension": ".py",
   "mimetype": "text/x-python",
   "name": "python",
   "nbconvert_exporter": "python",
   "pygments_lexer": "ipython3",
   "version": "3.7.12"
  },
  "papermill": {
   "default_parameters": {},
   "duration": 23.003018,
   "end_time": "2023-04-29T11:08:52.723546",
   "environment_variables": {},
   "exception": null,
   "input_path": "__notebook__.ipynb",
   "output_path": "__notebook__.ipynb",
   "parameters": {},
   "start_time": "2023-04-29T11:08:29.720528",
   "version": "2.4.0"
  }
 },
 "nbformat": 4,
 "nbformat_minor": 5
}
