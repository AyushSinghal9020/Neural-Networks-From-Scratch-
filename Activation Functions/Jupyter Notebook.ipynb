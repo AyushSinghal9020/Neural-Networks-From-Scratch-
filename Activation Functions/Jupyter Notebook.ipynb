{
  "cells": [
    {
      "cell_type": "markdown",
      "metadata": {
        "id": "OwQgWyemyIlU"
      },
      "source": [
        "# Activation Functions\n",
        "\n",
        "Activation functions are mathematical functions used in neural networks to introduce non-linearity into the output of a neuron. A neuron without an activation function is essentially a linear regression model, which has limited capacity to learn complex patterns in data. Activation functions allow neural networks to model highly non-linear relationships in the input data, enabling them to learn and make predictions on more complex tasks.\n",
        "\n",
        "There are several types of activation functions, including sigmoid, hyperbolic tangent (tanh), rectified linear unit (ReLU), and softmax, among others. Each type of activation function has its own properties and use cases, and the choice of activation function can have a significant impact on the performance of a neural network.\n",
        "\n",
        "The sigmoid and tanh functions are commonly used in the hidden layers of a neural network, as they can output values between 0 and 1 or -1 and 1 respectively, and are useful for mapping the input data to a specific range. ReLU, on the other hand, is a popular choice for the output layer, as it can model non-linear relationships while also avoiding the vanishing gradient problem that can occur with sigmoid and tanh functions.\n",
        "\n",
        "Overall, activation functions are an essential component of neural networks, enabling them to learn and model complex relationships in the input data, and the choice of activation function should be carefully considered based on the specific requirements of the task at hand.\n",
        "\n",
        "There are majorly diffrent types of activation function \n",
        "* Relu(Rectified Linear Activation Function)\n",
        "* Sigmoid \n",
        "* Softmax\n",
        "* Softplus\n",
        "* Softsign\n",
        "* Selu\n",
        "* Elu\n",
        "* Exponential\n",
        "\n",
        "**Modules Used**\n",
        "* Numpy \n",
        "* Math\n",
        "* IPython\n",
        "* Seaborn"
      ]
    },
    {
      "cell_type": "markdown",
      "metadata": {
        "id": "4u07AiPEyYEc"
      },
      "source": [
        "# RELU(Rectified Linear Activation Function)\n",
        "\n",
        "The Rectified Linear Unit (ReLU) is a widely used activation function in deep learning models. It is a simple function that returns the maximum of zero and the input value. In mathematical terms, it can be expressed as `f(x) = max(0, x)`.\n",
        "\n",
        "ReLU activation function is preferred over other activation functions like sigmoid and tanh because it is computationally efficient and avoids the vanishing gradient problem. The vanishing gradient problem is a common issue faced in deep neural networks, where the gradients become very small during backpropagation, making it difficult to train the model.\n",
        "\n",
        "ReLU activation function is also beneficial because it introduces sparsity in the model, which means that a small number of neurons are activated for a given input, leading to faster and efficient computations. However, ReLU has its limitations as it may lead to the problem of dead neurons, where a neuron becomes permanently inactive and stops learning.\n",
        "\n",
        "In summary, ReLU activation function is a simple yet powerful tool that helps deep learning models to learn efficiently and avoid the vanishing gradient problem.\n",
        "\n",
        "\n",
        "\n",
        "Formula $$f(x) = \\Bigg [ \\frac {x}{0} \\frac {if}{if} \\frac {x > 0}{x < 0}$$\n",
        "```\n",
        "x = max(0 , x)\n",
        "```"
      ]
    },
    {
      "cell_type": "code",
      "execution_count": null,
      "metadata": {
        "colab": {
          "background_save": true
        },
        "id": "futFLlNdvAI_"
      },
      "outputs": [],
      "source": [
        "from IPython.display import IFrame"
      ]
    },
    {
      "cell_type": "code",
      "execution_count": null,
      "metadata": {
        "colab": {
          "base_uri": "https://localhost:8080/",
          "height": 421
        },
        "id": "SgwU6Rl0rL2N",
        "outputId": "f5423b41-9d62-47d0-a72a-e0fc9d39f45a"
      },
      "outputs": [
        {
          "data": {
            "text/html": [
              "\n",
              "        <iframe\n",
              "            width=\"400\"\n",
              "            height=\"400\"\n",
              "            src=\"https://www.desmos.com/calculator/imwobdklvi?embed\"\n",
              "            frameborder=\"0\"\n",
              "            allowfullscreen\n",
              "        ></iframe>\n",
              "        "
            ],
            "text/plain": [
              "<IPython.lib.display.IFrame at 0x7f71de716ee0>"
            ]
          },
          "execution_count": 6,
          "metadata": {},
          "output_type": "execute_result"
        }
      ],
      "source": [
        "IFrame(\"https://www.desmos.com/calculator/imwobdklvi?embed\" , 400, 400)"
      ]
    },
    {
      "cell_type": "markdown",
      "metadata": {
        "id": "-N75zN1CvNzm"
      },
      "source": [
        "What if we try to change the value of $x$ ?, IF we increase the value of $x$ $$f(x) = \\Bigg [ \\frac {x + 5}{0} \\frac {if}{if} \\frac {x > 0}{x < 0}$$"
      ]
    },
    {
      "cell_type": "code",
      "execution_count": null,
      "metadata": {
        "colab": {
          "base_uri": "https://localhost:8080/",
          "height": 421
        },
        "id": "nZ72Vnc2vYut",
        "outputId": "14aa4971-cb2e-4163-bee7-72cbc5dca6e0"
      },
      "outputs": [
        {
          "data": {
            "text/html": [
              "\n",
              "        <iframe\n",
              "            width=\"400\"\n",
              "            height=\"400\"\n",
              "            src=\"https://www.desmos.com/calculator/jir6u64vxi?embed\"\n",
              "            frameborder=\"0\"\n",
              "            allowfullscreen\n",
              "        ></iframe>\n",
              "        "
            ],
            "text/plain": [
              "<IPython.lib.display.IFrame at 0x7f71c6a2c370>"
            ]
          },
          "execution_count": 7,
          "metadata": {},
          "output_type": "execute_result"
        }
      ],
      "source": [
        "IFrame(\"https://www.desmos.com/calculator/jir6u64vxi?embed\" , 400 , 400)"
      ]
    },
    {
      "cell_type": "markdown",
      "metadata": {
        "id": "coD7C5KswHKX"
      },
      "source": [
        "And if we change the point of dicontiniuity $$f(x) = \\Bigg [ \\frac {x}{2} \\frac {if}{if} \\frac {x > 0}{x < 0}$$"
      ]
    },
    {
      "cell_type": "code",
      "execution_count": null,
      "metadata": {
        "colab": {
          "base_uri": "https://localhost:8080/",
          "height": 421
        },
        "id": "tJHfoNIuwYK2",
        "outputId": "066582f8-3395-4831-a434-3430a604aa60"
      },
      "outputs": [
        {
          "data": {
            "text/html": [
              "\n",
              "        <iframe\n",
              "            width=\"400\"\n",
              "            height=\"400\"\n",
              "            src=\"https://www.desmos.com/calculator/qcicdyw2mq?embed\"\n",
              "            frameborder=\"0\"\n",
              "            allowfullscreen\n",
              "        ></iframe>\n",
              "        "
            ],
            "text/plain": [
              "<IPython.lib.display.IFrame at 0x7f71c6a37f10>"
            ]
          },
          "execution_count": 8,
          "metadata": {},
          "output_type": "execute_result"
        }
      ],
      "source": [
        "IFrame(\"https://www.desmos.com/calculator/qcicdyw2mq?embed\"  , 400 , 400)"
      ]
    },
    {
      "cell_type": "markdown",
      "metadata": {
        "id": "ufSzzJXS5VyB"
      },
      "source": [
        "Now we know about the Relu function, now we will try to implement it "
      ]
    },
    {
      "cell_type": "code",
      "execution_count": null,
      "metadata": {
        "id": "BSNmYDLm6HD0"
      },
      "outputs": [],
      "source": [
        "import numpy as np \n",
        "import math as m \n",
        "import seaborn as sns "
      ]
    },
    {
      "cell_type": "markdown",
      "metadata": {
        "id": "1yomV_eMwjIU"
      },
      "source": [
        "Lets make an array of numbers for sample"
      ]
    },
    {
      "cell_type": "code",
      "execution_count": null,
      "metadata": {
        "id": "epF1iXT85eUH"
      },
      "outputs": [],
      "source": [
        "sample_array = np.array([x for x in range(-20 , 40)])"
      ]
    },
    {
      "cell_type": "code",
      "execution_count": null,
      "metadata": {
        "colab": {
          "base_uri": "https://localhost:8080/"
        },
        "id": "hvSY70AN6Mpd",
        "outputId": "a387f8e9-ad98-419d-ae7f-2f4dd40ac44c"
      },
      "outputs": [
        {
          "data": {
            "text/plain": [
              "array([-20, -19, -18, -17, -16, -15, -14, -13, -12, -11, -10,  -9,  -8,\n",
              "        -7,  -6,  -5,  -4,  -3,  -2,  -1,   0,   1,   2,   3,   4,   5,\n",
              "         6,   7,   8,   9,  10,  11,  12,  13,  14,  15,  16,  17,  18,\n",
              "        19,  20,  21,  22,  23,  24,  25,  26,  27,  28,  29,  30,  31,\n",
              "        32,  33,  34,  35,  36,  37,  38,  39])"
            ]
          },
          "execution_count": 18,
          "metadata": {},
          "output_type": "execute_result"
        }
      ],
      "source": [
        "sample_array"
      ]
    },
    {
      "cell_type": "markdown",
      "metadata": {
        "id": "7a07rEInxx4u"
      },
      "source": [
        "Our number looks like this "
      ]
    },
    {
      "cell_type": "code",
      "execution_count": null,
      "metadata": {
        "colab": {
          "base_uri": "https://localhost:8080/",
          "height": 282
        },
        "id": "pTa2btUY6MmS",
        "outputId": "336f5800-ce45-4709-e034-c1bbd99b3536"
      },
      "outputs": [
        {
          "data": {
            "text/plain": [
              "<AxesSubplot:ylabel='Density'>"
            ]
          },
          "execution_count": 19,
          "metadata": {},
          "output_type": "execute_result"
        },
        {
          "data": {
            "image/png": "[encoded data removed]",
            "text/plain": [
              "<Figure size 432x288 with 1 Axes>"
            ]
          },
          "metadata": {},
          "output_type": "display_data"
        }
      ],
      "source": [
        "sns.kdeplot(sample_array)"
      ]
    },
    {
      "cell_type": "markdown",
      "metadata": {
        "id": "qPYabGN5wv9_"
      },
      "source": [
        "Simple code for relu function will be "
      ]
    },
    {
      "cell_type": "code",
      "execution_count": null,
      "metadata": {
        "id": "rbjcGlv76MkT"
      },
      "outputs": [],
      "source": [
        "new_array = []\n",
        "for i in sample_array:\n",
        "    if i > 0: \n",
        "        new_array.append(i)\n",
        "    else : \n",
        "        new_array.append(0) "
      ]
    },
    {
      "cell_type": "code",
      "execution_count": null,
      "metadata": {
        "colab": {
          "base_uri": "https://localhost:8080/"
        },
        "id": "5HNWNVYJ6MhW",
        "outputId": "5ea0ae66-7e8b-494b-83e9-6f882ef88f36"
      },
      "outputs": [
        {
          "data": {
            "text/plain": [
              "array([ 0,  0,  0,  0,  0,  0,  0,  0,  0,  0,  0,  0,  0,  0,  0,  0,  0,\n",
              "        0,  0,  0,  0,  1,  2,  3,  4,  5,  6,  7,  8,  9, 10, 11, 12, 13,\n",
              "       14, 15, 16, 17, 18, 19, 20, 21, 22, 23, 24, 25, 26, 27, 28, 29, 30,\n",
              "       31, 32, 33, 34, 35, 36, 37, 38, 39])"
            ]
          },
          "execution_count": 21,
          "metadata": {},
          "output_type": "execute_result"
        }
      ],
      "source": [
        "np.array(new_array)"
      ]
    },
    {
      "cell_type": "markdown",
      "metadata": {
        "id": "T37Zy9DBw0Y1"
      },
      "source": [
        "And thats how the transformed value looks like"
      ]
    },
    {
      "cell_type": "code",
      "execution_count": null,
      "metadata": {
        "colab": {
          "base_uri": "https://localhost:8080/",
          "height": 282
        },
        "id": "_FeTntFJ6Mei",
        "outputId": "c0132a0b-2e08-4fa9-a7b7-fc1e3c2e39fd"
      },
      "outputs": [
        {
          "data": {
            "text/plain": [
              "<AxesSubplot:ylabel='Density'>"
            ]
          },
          "execution_count": 22,
          "metadata": {},
          "output_type": "execute_result"
        },
        {
          "data": {
            "image/png": "[encoded data removed]",
            "text/plain": [
              "<Figure size 432x288 with 1 Axes>"
            ]
          },
          "metadata": {},
          "output_type": "display_data"
        }
      ],
      "source": [
        "sns.kdeplot(np.array(new_array))"
      ]
    },
    {
      "cell_type": "markdown",
      "metadata": {
        "id": "faDq3qCfxEaW"
      },
      "source": [
        "Instead of writing that much we can just write "
      ]
    },
    {
      "cell_type": "code",
      "execution_count": null,
      "metadata": {
        "id": "Hj6MG6gV6MVj"
      },
      "outputs": [],
      "source": [
        "new_array = [max(0 , i) for i in sample_array ]"
      ]
    },
    {
      "cell_type": "markdown",
      "metadata": {
        "id": "EXUcpF1nxVFR"
      },
      "source": [
        "So our basic relu function will be like "
      ]
    },
    {
      "cell_type": "code",
      "execution_count": null,
      "metadata": {
        "id": "eiFO8uDO7QaX"
      },
      "outputs": [],
      "source": [
        "def relu(array):\n",
        "    output_array = np.empty(shape = array.shape)\n",
        "    for i in array:\n",
        "        output_array = np.hstack([output_array , max(0 , i)])\n",
        "        output_array = np.delete(output_array , 0 , 0)\n",
        "\n",
        "    return output_array"
      ]
    },
    {
      "cell_type": "code",
      "execution_count": null,
      "metadata": {
        "colab": {
          "base_uri": "https://localhost:8080/",
          "height": 282
        },
        "id": "v8jbRYX87QVL",
        "outputId": "7b0e5554-ea1c-4802-fea8-be4d03a6e2ee"
      },
      "outputs": [
        {
          "data": {
            "text/plain": [
              "<AxesSubplot:ylabel='Density'>"
            ]
          },
          "execution_count": 25,
          "metadata": {},
          "output_type": "execute_result"
        },
        {
          "data": {
            "image/png": "[encoded data removed]",
            "text/plain": [
              "<Figure size 432x288 with 1 Axes>"
            ]
          },
          "metadata": {},
          "output_type": "display_data"
        }
      ],
      "source": [
        "sns.kdeplot(relu(sample_array))"
      ]
    },
    {
      "cell_type": "markdown",
      "metadata": {
        "id": "Hdq_KmgSzj8i"
      },
      "source": [
        "# Sigmoid Activation Function \n",
        "\n",
        "The sigmoid activation function is a commonly used non-linear function in artificial neural networks. It maps any input value to a value between 0 and 1, making it useful for problems where the output is a probability, such as binary classification problems.\n",
        "\n",
        "The sigmoid function is differentiable, which makes it useful for backpropagation during neural network training. However, it has a few limitations, such as the vanishing gradient problem, which can occur when the input to the function is very large or very small.\n",
        "\n",
        "Overall, the sigmoid activation function is a popular choice in artificial neural networks, particularly for binary classification problems. However, it is important to consider its limitations and potential drawbacks when using it in a neural network architecture.\n",
        "\n",
        "Formula $$f(x) = \\frac {1}{1 + e^{-x}}$$\n",
        "\n",
        "```\n",
        "import math as m\n",
        "\n",
        "x = 1 / (1 + m.e ** (-x))\n",
        "```"
      ]
    },
    {
      "cell_type": "code",
      "execution_count": null,
      "metadata": {
        "colab": {
          "base_uri": "https://localhost:8080/",
          "height": 421
        },
        "id": "OWuUBKLzxqIn",
        "outputId": "46715524-31cc-4b46-9066-b39ea45f3bbc"
      },
      "outputs": [
        {
          "data": {
            "text/html": [
              "\n",
              "        <iframe\n",
              "            width=\"400\"\n",
              "            height=\"400\"\n",
              "            src=\"https://www.desmos.com/calculator/qczsaympcj?embed\"\n",
              "            frameborder=\"0\"\n",
              "            allowfullscreen\n",
              "        ></iframe>\n",
              "        "
            ],
            "text/plain": [
              "<IPython.lib.display.IFrame at 0x7f71a7cca160>"
            ]
          },
          "execution_count": 22,
          "metadata": {},
          "output_type": "execute_result"
        }
      ],
      "source": [
        "IFrame(\"https://www.desmos.com/calculator/qczsaympcj?embed\" , 400 , 400)"
      ]
    },
    {
      "cell_type": "markdown",
      "metadata": {
        "id": "w7_49G75yETf"
      },
      "source": [
        "Changing the numerator we can get $$f(x) = \\frac {5}{1 + e^{-x}}$$"
      ]
    },
    {
      "cell_type": "code",
      "execution_count": null,
      "metadata": {
        "colab": {
          "base_uri": "https://localhost:8080/",
          "height": 421
        },
        "id": "oISWsTSLyDu1",
        "outputId": "e3a0063f-0126-40c1-fcd4-154b1ac39261"
      },
      "outputs": [
        {
          "data": {
            "text/html": [
              "\n",
              "        <iframe\n",
              "            width=\"400\"\n",
              "            height=\"400\"\n",
              "            src=\"https://www.desmos.com/calculator/x2agxmnhxw?embed\"\n",
              "            frameborder=\"0\"\n",
              "            allowfullscreen\n",
              "        ></iframe>\n",
              "        "
            ],
            "text/plain": [
              "<IPython.lib.display.IFrame at 0x7f71a7ce7c10>"
            ]
          },
          "execution_count": 23,
          "metadata": {},
          "output_type": "execute_result"
        }
      ],
      "source": [
        "IFrame(\"https://www.desmos.com/calculator/x2agxmnhxw?embed\"  , 400 , 400)"
      ]
    },
    {
      "cell_type": "markdown",
      "metadata": {
        "id": "Q-HqokM8ycC8"
      },
      "source": [
        "What if we take $x$ as postive $$f(x) = \\frac {5}{1 + e^{x}}$$"
      ]
    },
    {
      "cell_type": "code",
      "execution_count": null,
      "metadata": {
        "colab": {
          "base_uri": "https://localhost:8080/",
          "height": 421
        },
        "id": "12ouNLYfybyc",
        "outputId": "d96196b5-df52-48c5-c49c-276723ca682a"
      },
      "outputs": [
        {
          "data": {
            "text/html": [
              "\n",
              "        <iframe\n",
              "            width=\"400\"\n",
              "            height=\"400\"\n",
              "            src=\"https://www.desmos.com/calculator/x62h310a9d?embed\"\n",
              "            frameborder=\"0\"\n",
              "            allowfullscreen\n",
              "        ></iframe>\n",
              "        "
            ],
            "text/plain": [
              "<IPython.lib.display.IFrame at 0x7f71a7ce7070>"
            ]
          },
          "execution_count": 24,
          "metadata": {},
          "output_type": "execute_result"
        }
      ],
      "source": [
        "IFrame(\"https://www.desmos.com/calculator/x62h310a9d?embed\" , 400 , 400)"
      ]
    },
    {
      "cell_type": "markdown",
      "metadata": {
        "id": "yhRRp87JyqxN"
      },
      "source": [
        "What if we change the value of $x$ $$f(x) = \\frac {5}{1 + e^{(-x + 10)}}$$"
      ]
    },
    {
      "cell_type": "code",
      "execution_count": null,
      "metadata": {
        "colab": {
          "base_uri": "https://localhost:8080/",
          "height": 421
        },
        "id": "1Io_0HTtywOl",
        "outputId": "5d4162e2-3f77-4af1-cbe8-39b50d34dbc5"
      },
      "outputs": [
        {
          "data": {
            "text/html": [
              "\n",
              "        <iframe\n",
              "            width=\"400\"\n",
              "            height=\"400\"\n",
              "            src=\"https://www.desmos.com/calculator/8rs7vvagb5?embed\"\n",
              "            frameborder=\"0\"\n",
              "            allowfullscreen\n",
              "        ></iframe>\n",
              "        "
            ],
            "text/plain": [
              "<IPython.lib.display.IFrame at 0x7f71ac791af0>"
            ]
          },
          "execution_count": 25,
          "metadata": {},
          "output_type": "execute_result"
        }
      ],
      "source": [
        "IFrame(\"https://www.desmos.com/calculator/8rs7vvagb5?embed\"  , 400 , 400)"
      ]
    },
    {
      "cell_type": "markdown",
      "metadata": {
        "id": "hm9KFZulzcXk"
      },
      "source": [
        "A visulaization how math can be perfect sometimes :) $x$ $$f(x) = \\frac {5}{5 + e^{(-x)}}$$"
      ]
    },
    {
      "cell_type": "code",
      "execution_count": null,
      "metadata": {
        "colab": {
          "base_uri": "https://localhost:8080/",
          "height": 421
        },
        "id": "5FY-9ryezbtl",
        "outputId": "85c14ad4-30e4-45db-f268-7a0b1ccd6aa7"
      },
      "outputs": [
        {
          "data": {
            "text/html": [
              "\n",
              "        <iframe\n",
              "            width=\"400\"\n",
              "            height=\"400\"\n",
              "            src=\"https://www.desmos.com/calculator/0epexudryx?embed\"\n",
              "            frameborder=\"0\"\n",
              "            allowfullscreen\n",
              "        ></iframe>\n",
              "        "
            ],
            "text/plain": [
              "<IPython.lib.display.IFrame at 0x7f71a7ced640>"
            ]
          },
          "execution_count": 26,
          "metadata": {},
          "output_type": "execute_result"
        }
      ],
      "source": [
        "IFrame(\"https://www.desmos.com/calculator/0epexudryx?embed\"  , 400 , 400)"
      ]
    },
    {
      "cell_type": "markdown",
      "metadata": {
        "id": "jHVuw4fazwKl"
      },
      "source": [
        "Now as we know much about the sigmoid function, lets implemet it "
      ]
    },
    {
      "cell_type": "code",
      "execution_count": null,
      "metadata": {
        "id": "z9CSh9_awM_A"
      },
      "outputs": [],
      "source": [
        "new_array = [(1 / (1 + np.exp(-i))) for i in sample_array]"
      ]
    },
    {
      "cell_type": "code",
      "execution_count": null,
      "metadata": {
        "colab": {
          "base_uri": "https://localhost:8080/",
          "height": 282
        },
        "id": "VvrP4TGEwXfA",
        "outputId": "43a5c1af-18c9-4018-f39e-a45debfeded4"
      },
      "outputs": [
        {
          "data": {
            "text/plain": [
              "<AxesSubplot:ylabel='Density'>"
            ]
          },
          "execution_count": 27,
          "metadata": {},
          "output_type": "execute_result"
        },
        {
          "data": {
            "image/png": "[encoded data removed]",
            "text/plain": [
              "<Figure size 432x288 with 1 Axes>"
            ]
          },
          "metadata": {},
          "output_type": "display_data"
        }
      ],
      "source": [
        "sns.kdeplot(np.array(new_array))"
      ]
    },
    {
      "cell_type": "code",
      "execution_count": null,
      "metadata": {
        "id": "853L-w_9ka_a"
      },
      "outputs": [],
      "source": [
        "def sigmoid(array):\n",
        "    \n",
        "    output_array = np.empty(shape = array.shape)\n",
        "    \n",
        "    for i in array:\n",
        "    \n",
        "        output_array = np.hstack([output_array , (1 / (1 + np.exp( - i)))])\n",
        "        output_array = np.delete(output_array , 0 , 0)\n",
        "\n",
        "    return output_array"
      ]
    },
    {
      "cell_type": "markdown",
      "metadata": {
        "id": "Z6H2mDR80ccR"
      },
      "source": [
        "## Softmax Activation Function\n",
        "\n",
        "Softmax activation function is a widely used activation function in machine learning for multi-class classification tasks. It is a type of exponential function that transforms the output of a neural network into a probability distribution over multiple classes.\n",
        "\n",
        "The softmax function takes a vector of arbitrary real-valued numbers and converts them into a probability distribution by normalizing the exponentiated values of each element in the vector. In other words, the softmax function squashes the output of a neural network into a set of probabilities that add up to 1, where each probability represents the likelihood of an input belonging to a particular class.\n",
        "\n",
        "The main advantage of the softmax function is that it provides a probabilistic interpretation of the output of a neural network, which is useful for classification tasks where we want to know the most likely class for a given input. It is also differentiable, which allows for gradient-based optimization methods such as stochastic gradient descent to be used to train the network.\n",
        "\n",
        "Overall, the softmax activation function is a powerful tool for multi-class classification tasks and is commonly used in neural network architectures such as feedforward neural networks, convolutional neural networks, and recurrent neural networks.\n",
        "\n",
        "Formula $$f(x) = \\frac {e^{x}} {\\sum \\limits ^{n} _{i = 1} e^{x}} $$\n",
        "\n",
        "```\n",
        "import numpy as np \n",
        "\n",
        "x = np.exp(x) / np.sum(np.exp(x))\n",
        "```"
      ]
    },
    {
      "cell_type": "code",
      "execution_count": null,
      "metadata": {
        "colab": {
          "base_uri": "https://localhost:8080/",
          "height": 421
        },
        "id": "JV_yWrRx2IzA",
        "outputId": "ded65629-f5a7-40f9-9a89-625a01cedf22"
      },
      "outputs": [
        {
          "data": {
            "text/html": [
              "\n",
              "        <iframe\n",
              "            width=\"400\"\n",
              "            height=\"400\"\n",
              "            src=\"https://www.desmos.com/calculator/rhcm7qvwfl?embed\"\n",
              "            frameborder=\"0\"\n",
              "            allowfullscreen\n",
              "        ></iframe>\n",
              "        "
            ],
            "text/plain": [
              "<IPython.lib.display.IFrame at 0x7f71a7ceda60>"
            ]
          },
          "execution_count": 29,
          "metadata": {},
          "output_type": "execute_result"
        }
      ],
      "source": [
        "IFrame(\"https://www.desmos.com/calculator/rhcm7qvwfl?embed\" , 400 , 400)"
      ]
    },
    {
      "cell_type": "markdown",
      "metadata": {
        "id": "75xL-V9S2QG6"
      },
      "source": [
        "Now we know about the softmax function lets apply it "
      ]
    },
    {
      "cell_type": "code",
      "execution_count": null,
      "metadata": {
        "id": "8e8Sou2ZvXwb"
      },
      "outputs": [],
      "source": [
        "den = 0\n",
        "for i in sample_array:\n",
        "    den += np.exp(i)\n",
        "new_array = [np.exp(i)/ den for i in sample_array]"
      ]
    },
    {
      "cell_type": "code",
      "execution_count": null,
      "metadata": {
        "colab": {
          "base_uri": "https://localhost:8080/",
          "height": 282
        },
        "id": "isPP5xSvv0k6",
        "outputId": "95b16136-5c7f-4b4d-fa7c-f2780bd4d43f"
      },
      "outputs": [
        {
          "data": {
            "text/plain": [
              "<AxesSubplot:ylabel='Density'>"
            ]
          },
          "execution_count": 30,
          "metadata": {},
          "output_type": "execute_result"
        },
        {
          "data": {
            "image/png": "[encoded data removed]",
            "text/plain": [
              "<Figure size 432x288 with 1 Axes>"
            ]
          },
          "metadata": {},
          "output_type": "display_data"
        }
      ],
      "source": [
        "sns.kdeplot(np.array(new_array))"
      ]
    },
    {
      "cell_type": "code",
      "execution_count": null,
      "metadata": {
        "id": "3XJfN0j5ksXL"
      },
      "outputs": [],
      "source": [
        "def softmax(array):\n",
        "    \n",
        "    den = 0\n",
        "    \n",
        "    for i in array:\n",
        "    \n",
        "        den += np.exp(i)\n",
        "    \n",
        "    output_array = np.empty(shape = array.shape)\n",
        "    \n",
        "    for i in array:\n",
        "    \n",
        "        output_array = np.hstack([output_array , np.exp(i)/ den])\n",
        "        output_array = np.delete(output_array , 0 , 0)\n",
        "\n",
        "    return output_array"
      ]
    },
    {
      "cell_type": "markdown",
      "metadata": {
        "id": "8rHB3_ZP1dA4"
      },
      "source": [
        "## Softplus Activation Function \n",
        "\n",
        "The Softplus activation function is a type of non-linear activation function used in neural networks. The softplus function has a similar shape to the ReLU activation function but with a smoothed out slope. It maps any input value to a positive output value, which makes it suitable for activations in the output layer for regression problems where the output should be a positive value.\n",
        "\n",
        "The Softplus function is also used in some neural network architectures to replace the sigmoid or tanh activation functions, as it can help prevent the vanishing gradient problem that can occur with these functions.\n",
        "\n",
        "Overall, the Softplus activation function has become increasingly popular in neural networks due to its smoothness and positive outputs, which make it particularly useful in some specific types of problems.\n",
        "\n",
        "Formula $$f(x) = log(1 + e^x)$$\n",
        "```\n",
        "import numpy as np \n",
        "\n",
        "x = np.log(1 + np.exp(x))\n",
        "```"
      ]
    },
    {
      "cell_type": "code",
      "execution_count": null,
      "metadata": {
        "colab": {
          "base_uri": "https://localhost:8080/",
          "height": 421
        },
        "id": "t79-uzqh2kOL",
        "outputId": "7b28f984-a1fd-41aa-c2b3-2f6c3b01f01b"
      },
      "outputs": [
        {
          "data": {
            "text/html": [
              "\n",
              "        <iframe\n",
              "            width=\"400\"\n",
              "            height=\"400\"\n",
              "            src=\"https://www.desmos.com/calculator/ckqo6wtaez?embed\"\n",
              "            frameborder=\"0\"\n",
              "            allowfullscreen\n",
              "        ></iframe>\n",
              "        "
            ],
            "text/plain": [
              "<IPython.lib.display.IFrame at 0x7f71a7ced850>"
            ]
          },
          "execution_count": 32,
          "metadata": {},
          "output_type": "execute_result"
        }
      ],
      "source": [
        "IFrame(\"https://www.desmos.com/calculator/ckqo6wtaez?embed\"  , 400 , 400)"
      ]
    },
    {
      "cell_type": "markdown",
      "metadata": {
        "id": "h4b32O032uld"
      },
      "source": [
        "Changing the value of $x$ $$f(x) = log(1 + e^{(x + 3)})$$"
      ]
    },
    {
      "cell_type": "code",
      "execution_count": null,
      "metadata": {
        "colab": {
          "base_uri": "https://localhost:8080/",
          "height": 421
        },
        "id": "CbbNBkxa28DE",
        "outputId": "616e0480-7cd2-4f5d-f2d6-090584c9452f"
      },
      "outputs": [
        {
          "data": {
            "text/html": [
              "\n",
              "        <iframe\n",
              "            width=\"400\"\n",
              "            height=\"400\"\n",
              "            src=\"https://www.desmos.com/calculator/8sg3ubaagb?embed\"\n",
              "            frameborder=\"0\"\n",
              "            allowfullscreen\n",
              "        ></iframe>\n",
              "        "
            ],
            "text/plain": [
              "<IPython.lib.display.IFrame at 0x7f71a7c46130>"
            ]
          },
          "execution_count": 33,
          "metadata": {},
          "output_type": "execute_result"
        }
      ],
      "source": [
        "IFrame(\"https://www.desmos.com/calculator/8sg3ubaagb?embed\" , 400 ,400)"
      ]
    },
    {
      "cell_type": "markdown",
      "metadata": {
        "id": "G7_csyae4bZE"
      },
      "source": [
        "Now we know how to implement the softplus function, lets try to implement it "
      ]
    },
    {
      "cell_type": "code",
      "execution_count": null,
      "metadata": {
        "id": "t11j5hWiI5nO"
      },
      "outputs": [],
      "source": [
        "new_array = [np.log1p(np.exp(i)) for i in sample_array]"
      ]
    },
    {
      "cell_type": "code",
      "execution_count": null,
      "metadata": {
        "colab": {
          "base_uri": "https://localhost:8080/",
          "height": 282
        },
        "id": "6FPMrgH2JETq",
        "outputId": "50d21073-112e-401d-a82e-1df2318cb651"
      },
      "outputs": [
        {
          "data": {
            "text/plain": [
              "<AxesSubplot:ylabel='Density'>"
            ]
          },
          "execution_count": 33,
          "metadata": {},
          "output_type": "execute_result"
        },
        {
          "data": {
            "image/png": "[encoded data removed]",
            "text/plain": [
              "<Figure size 432x288 with 1 Axes>"
            ]
          },
          "metadata": {},
          "output_type": "display_data"
        }
      ],
      "source": [
        "sns.kdeplot(np.array(new_array))"
      ]
    },
    {
      "cell_type": "code",
      "execution_count": null,
      "metadata": {
        "id": "XlSD_eswk_wy"
      },
      "outputs": [],
      "source": [
        "def softplus(array):\n",
        "    \n",
        "    output_array = np.empty(shape = array.shape)\n",
        "    \n",
        "    for i in array:\n",
        "    \n",
        "        output_array = np.hstack([output_array , np.log1p(np.exp(i))])\n",
        "        output_array = np.delete(output_array , 0 , 0)\n",
        "\n",
        "    return output_array"
      ]
    },
    {
      "cell_type": "markdown",
      "metadata": {
        "id": "M17JB5Cd2CNQ"
      },
      "source": [
        "## Softsign Activation Function \n",
        "\n",
        "The Softsign activation function is a continuous and differentiable activation function used in neural networks. It is similar to the sigmoid activation function, but it has a number of advantages over it. \n",
        "\n",
        "The Softsign activation function has several advantages over other activation functions such as the sigmoid function. One of the primary advantages is that it does not suffer from the vanishing gradient problem that can occur with the sigmoid function. This means that the Softsign function can be more effective in training deep neural networks.\n",
        "\n",
        "Another advantage of the Softsign function is that it has a more natural behavior near the extremes of the input range. As the input approaches infinity or negative infinity, the output approaches +1 or -1 respectively. This means that the Softsign function can be more effective in handling large input values.\n",
        "\n",
        "Overall, the Softsign activation function is a useful activation function to consider when designing neural networks, especially when dealing with large input values and deep networks.\n",
        "\n",
        "Formula $$f(x) = \\frac {x}{1 + |x|}$$\n",
        "\n",
        "```\n",
        "x = x / (1 + abs(x)) \n",
        "```"
      ]
    },
    {
      "cell_type": "code",
      "execution_count": null,
      "metadata": {
        "colab": {
          "base_uri": "https://localhost:8080/",
          "height": 421
        },
        "id": "GTEuthdv445X",
        "outputId": "a6255a31-4284-47ff-d87d-45c9b9683d04"
      },
      "outputs": [
        {
          "data": {
            "text/html": [
              "\n",
              "        <iframe\n",
              "            width=\"400\"\n",
              "            height=\"400\"\n",
              "            src=\"https://www.desmos.com/calculator/anijwwckiq?embed\"\n",
              "            frameborder=\"0\"\n",
              "            allowfullscreen\n",
              "        ></iframe>\n",
              "        "
            ],
            "text/plain": [
              "<IPython.lib.display.IFrame at 0x7f71a7999f40>"
            ]
          },
          "execution_count": 37,
          "metadata": {},
          "output_type": "execute_result"
        }
      ],
      "source": [
        "IFrame(\"https://www.desmos.com/calculator/anijwwckiq?embed\" , 400 , 400)"
      ]
    },
    {
      "cell_type": "markdown",
      "metadata": {
        "id": "3kOLOj335Emv"
      },
      "source": [
        "Changing the numerator by $1$ $$f(x) = \\frac {x+ 1}{1 + |x|}$$"
      ]
    },
    {
      "cell_type": "code",
      "execution_count": null,
      "metadata": {
        "colab": {
          "base_uri": "https://localhost:8080/",
          "height": 421
        },
        "id": "2Z5rgl4l5mtH",
        "outputId": "622ec0d5-d5bd-4e45-f8f7-3818e57be34d"
      },
      "outputs": [
        {
          "data": {
            "text/html": [
              "\n",
              "        <iframe\n",
              "            width=\"400\"\n",
              "            height=\"400\"\n",
              "            src=\"https://www.desmos.com/calculator/ghlzt0chns?embed\"\n",
              "            frameborder=\"0\"\n",
              "            allowfullscreen\n",
              "        ></iframe>\n",
              "        "
            ],
            "text/plain": [
              "<IPython.lib.display.IFrame at 0x7f71a7999d30>"
            ]
          },
          "execution_count": 38,
          "metadata": {},
          "output_type": "execute_result"
        }
      ],
      "source": [
        "IFrame(\"https://www.desmos.com/calculator/ghlzt0chns?embed\" , 400 , 400)"
      ]
    },
    {
      "cell_type": "markdown",
      "metadata": {
        "id": "cNHo0nzv50J_"
      },
      "source": [
        "Changing it by more $$f(x) = \\frac {x + 3}{1 + |x|}$$"
      ]
    },
    {
      "cell_type": "code",
      "execution_count": null,
      "metadata": {
        "colab": {
          "base_uri": "https://localhost:8080/",
          "height": 421
        },
        "id": "8nO1jJG95wQN",
        "outputId": "beca7143-adc3-4b7f-ae6e-39c3cca8d1ef"
      },
      "outputs": [
        {
          "data": {
            "text/html": [
              "\n",
              "        <iframe\n",
              "            width=\"400\"\n",
              "            height=\"400\"\n",
              "            src=\"https://www.desmos.com/calculator/baqxkq6ydv?embed\"\n",
              "            frameborder=\"0\"\n",
              "            allowfullscreen\n",
              "        ></iframe>\n",
              "        "
            ],
            "text/plain": [
              "<IPython.lib.display.IFrame at 0x7f71a795f7f0>"
            ]
          },
          "execution_count": 39,
          "metadata": {},
          "output_type": "execute_result"
        }
      ],
      "source": [
        "IFrame(\"https://www.desmos.com/calculator/baqxkq6ydv?embed\" , 400 , 400)"
      ]
    },
    {
      "cell_type": "markdown",
      "metadata": {
        "id": "qvGiwGtg6Wm-"
      },
      "source": [
        "Changing the value in den $$f(x) = \\frac {x + 3}{1 + |x|}$$"
      ]
    },
    {
      "cell_type": "code",
      "execution_count": null,
      "metadata": {
        "colab": {
          "base_uri": "https://localhost:8080/",
          "height": 421
        },
        "id": "JAhfvgBQ6QrX",
        "outputId": "71349e5a-5117-4207-e314-0d30e7b2863b"
      },
      "outputs": [
        {
          "data": {
            "text/html": [
              "\n",
              "        <iframe\n",
              "            width=\"400\"\n",
              "            height=\"400\"\n",
              "            src=\"https://www.desmos.com/calculator/zc1jk0untw?embed\"\n",
              "            frameborder=\"0\"\n",
              "            allowfullscreen\n",
              "        ></iframe>\n",
              "        "
            ],
            "text/plain": [
              "<IPython.lib.display.IFrame at 0x7f71a795fbe0>"
            ]
          },
          "execution_count": 40,
          "metadata": {},
          "output_type": "execute_result"
        }
      ],
      "source": [
        "IFrame(\"https://www.desmos.com/calculator/zc1jk0untw?embed\" , 400 , 400)"
      ]
    },
    {
      "cell_type": "markdown",
      "metadata": {
        "id": "C8a1193H6yi3"
      },
      "source": [
        "If we do not add any term in the denominator, it just becomes a step funtion  $$f(x) = \\frac {x}{|x|}$$"
      ]
    },
    {
      "cell_type": "code",
      "execution_count": null,
      "metadata": {
        "colab": {
          "base_uri": "https://localhost:8080/",
          "height": 421
        },
        "id": "LzaSbmGa6so-",
        "outputId": "0e0ed98c-289c-4281-c9e8-4a643e48b30c"
      },
      "outputs": [
        {
          "data": {
            "text/html": [
              "\n",
              "        <iframe\n",
              "            width=\"400\"\n",
              "            height=\"400\"\n",
              "            src=\"https://www.desmos.com/calculator/uocz8ghvam?embed\"\n",
              "            frameborder=\"0\"\n",
              "            allowfullscreen\n",
              "        ></iframe>\n",
              "        "
            ],
            "text/plain": [
              "<IPython.lib.display.IFrame at 0x7f71a79998e0>"
            ]
          },
          "execution_count": 41,
          "metadata": {},
          "output_type": "execute_result"
        }
      ],
      "source": [
        "IFrame(\"https://www.desmos.com/calculator/uocz8ghvam?embed\" , 400 , 400)"
      ]
    },
    {
      "cell_type": "markdown",
      "metadata": {
        "id": "9a3ws4Nz-P7U"
      },
      "source": [
        "Now we know much about the softpuls activation function, now lets try to implement it "
      ]
    },
    {
      "cell_type": "code",
      "execution_count": null,
      "metadata": {
        "id": "GocHvQd7wgr5"
      },
      "outputs": [],
      "source": [
        "new_array = [(i / (1 + abs(i))) for i in sample_array]"
      ]
    },
    {
      "cell_type": "code",
      "execution_count": null,
      "metadata": {
        "colab": {
          "base_uri": "https://localhost:8080/",
          "height": 284
        },
        "id": "T2RLCWO2wqkh",
        "outputId": "e0255000-d8c1-45f4-ba82-ccc9231cd593"
      },
      "outputs": [
        {
          "data": {
            "text/plain": [
              "<AxesSubplot:ylabel='Density'>"
            ]
          },
          "execution_count": 36,
          "metadata": {},
          "output_type": "execute_result"
        },
        {
          "data": {
            "image/png": "[encoded data removed]",
            "text/plain": [
              "<Figure size 432x288 with 1 Axes>"
            ]
          },
          "metadata": {},
          "output_type": "display_data"
        }
      ],
      "source": [
        "sns.kdeplot(np.array(new_array))"
      ]
    },
    {
      "cell_type": "code",
      "execution_count": null,
      "metadata": {
        "id": "xQLelUyQlQQL"
      },
      "outputs": [],
      "source": [
        "def softsign(array):\n",
        "    \n",
        "    output_array = np.empty(shape = array.shape)\n",
        "    \n",
        "    for i in array:\n",
        "    \n",
        "        output_array = np.hstack([output_array , i / 1 + abs(i)])\n",
        "        output_array = np.delete(output_array , 0 , 0)\n",
        "\n",
        "    return output_array"
      ]
    },
    {
      "cell_type": "markdown",
      "metadata": {
        "id": "VZwoOXre2xUf"
      },
      "source": [
        "# Tanh(Hyperbolic Tangent Activation Function )\n",
        "\n",
        "The hyperbolic tangent function, or tanh, is a popular activation function used in neural networks. It maps input values to a range between -1 and 1/\n",
        "\n",
        "Compared to the sigmoid function, another common activation function, the tanh function is zero-centered, meaning its outputs are centered around zero. This makes it useful in situations where the mean of the input data is important, such as in image processing tasks where the pixel values range from 0 to 255.\n",
        "\n",
        "Like the sigmoid function, the tanh function is also prone to the vanishing gradient problem, where gradients become very small as the input moves far away from zero, which can slow down or prevent learning in deep networks.\n",
        "\n",
        "Despite this drawback, the tanh function is still widely used in practice, particularly in recurrent neural networks (RNNs) and convolutional neural networks (CNNs).\n",
        "\n",
        "Formula $$f(x) = \\frac {e^x - e^{-x}}{e^x + e^{-x}}$$\n",
        "\n",
        "```\n",
        "import math as m \n",
        "\n",
        "x = ((m.e ** x) - (m.e ** (-x))) / ((m.e ** x) + (m.e ** (-x)))\n",
        "```"
      ]
    },
    {
      "cell_type": "code",
      "execution_count": null,
      "metadata": {
        "colab": {
          "base_uri": "https://localhost:8080/"
        },
        "id": "ZpAkyiVK-p2k",
        "outputId": "906d0374-c972-4f7a-cea7-67c7accd33a9"
      },
      "outputs": [
        {
          "data": {
            "text/html": [
              "\n",
              "        <iframe\n",
              "            width=\"400\"\n",
              "            height=\"400\"\n",
              "            src=\"https://www.desmos.com/calculator/mwfztioop2?embed\"\n",
              "            frameborder=\"0\"\n",
              "            allowfullscreen\n",
              "        ></iframe>\n",
              "        "
            ],
            "text/plain": [
              "<IPython.lib.display.IFrame at 0x7f71a79a7700>"
            ]
          },
          "execution_count": 42,
          "metadata": {},
          "output_type": "execute_result"
        }
      ],
      "source": [
        "IFrame(\"https://www.desmos.com/calculator/mwfztioop2?embed\"  , 400 ,400)"
      ]
    },
    {
      "cell_type": "markdown",
      "metadata": {
        "id": "-bkrKuKxl54q"
      },
      "source": [
        "Changing the formula like this $$f(x) = \\frac {e^{(x+2)} - e^{-x}}{e^x + e^{-x}}$$"
      ]
    },
    {
      "cell_type": "code",
      "execution_count": null,
      "metadata": {
        "colab": {
          "base_uri": "https://localhost:8080/",
          "height": 421
        },
        "id": "SP8Xx3vIl2a7",
        "outputId": "6cd1aedc-6f1d-4d5e-e3ca-6771c0a58eaa"
      },
      "outputs": [
        {
          "data": {
            "text/html": [
              "\n",
              "        <iframe\n",
              "            width=\"400\"\n",
              "            height=\"400\"\n",
              "            src=\"https://www.desmos.com/calculator/uz6ukrlxhy?embed\"\n",
              "            frameborder=\"0\"\n",
              "            allowfullscreen\n",
              "        ></iframe>\n",
              "        "
            ],
            "text/plain": [
              "<IPython.lib.display.IFrame at 0x7f05e2e50460>"
            ]
          },
          "execution_count": 7,
          "metadata": {},
          "output_type": "execute_result"
        }
      ],
      "source": [
        "IFrame(\"https://www.desmos.com/calculator/uz6ukrlxhy?embed\" , 400 , 400)"
      ]
    },
    {
      "cell_type": "markdown",
      "metadata": {
        "id": "kV36hlA8mVnL"
      },
      "source": [
        "Changing the formula like this $$f(x) = \\frac {e^{x} - e^{(-x + 2)}}{e^x + e^{-x}}$$"
      ]
    },
    {
      "cell_type": "code",
      "execution_count": null,
      "metadata": {
        "colab": {
          "base_uri": "https://localhost:8080/",
          "height": 421
        },
        "id": "hcVtMyfKmgmD",
        "outputId": "ed8dbaf5-6f7a-4c4c-bc7e-0224583c3364"
      },
      "outputs": [
        {
          "data": {
            "text/html": [
              "\n",
              "        <iframe\n",
              "            width=\"400\"\n",
              "            height=\"400\"\n",
              "            src=\"https://www.desmos.com/calculator/dafc6fun3j?embed\"\n",
              "            frameborder=\"0\"\n",
              "            allowfullscreen\n",
              "        ></iframe>\n",
              "        "
            ],
            "text/plain": [
              "<IPython.lib.display.IFrame at 0x7f0620e5c520>"
            ]
          },
          "execution_count": 8,
          "metadata": {},
          "output_type": "execute_result"
        }
      ],
      "source": [
        "IFrame(\"https://www.desmos.com/calculator/dafc6fun3j?embed\"  , 400 , 400)"
      ]
    },
    {
      "cell_type": "markdown",
      "metadata": {
        "id": "n1E24DchmVOL"
      },
      "source": [
        "Changing the formula like this $$f(x) = \\frac {e^{x} - e^{-x}}{e^{(x+ 1)} + e^{-x}}$$"
      ]
    },
    {
      "cell_type": "code",
      "execution_count": null,
      "metadata": {
        "colab": {
          "base_uri": "https://localhost:8080/",
          "height": 421
        },
        "id": "iVJHbh-Gm1Yq",
        "outputId": "c9e95037-81cf-4991-ec29-06e6c2a83a97"
      },
      "outputs": [
        {
          "data": {
            "text/html": [
              "\n",
              "        <iframe\n",
              "            width=\"400\"\n",
              "            height=\"400\"\n",
              "            src=\"https://www.desmos.com/calculator/tlrrvwruxz?embed\"\n",
              "            frameborder=\"0\"\n",
              "            allowfullscreen\n",
              "        ></iframe>\n",
              "        "
            ],
            "text/plain": [
              "<IPython.lib.display.IFrame at 0x7f05e2ea12e0>"
            ]
          },
          "execution_count": 9,
          "metadata": {},
          "output_type": "execute_result"
        }
      ],
      "source": [
        "IFrame(\"https://www.desmos.com/calculator/tlrrvwruxz?embed\" , 400 , 400)"
      ]
    },
    {
      "cell_type": "markdown",
      "metadata": {
        "id": "9jn5YDRgmUUS"
      },
      "source": [
        "Changing the formula like this $$f(x) = \\frac {e^x - e^{-x}}{e^x + e^{(-x + 1)}}$$"
      ]
    },
    {
      "cell_type": "code",
      "execution_count": null,
      "metadata": {
        "colab": {
          "base_uri": "https://localhost:8080/",
          "height": 421
        },
        "id": "ekDLBz2QnbPY",
        "outputId": "706d66c3-b3d5-4caa-f975-c8807992b2cf"
      },
      "outputs": [
        {
          "data": {
            "text/html": [
              "\n",
              "        <iframe\n",
              "            width=\"400\"\n",
              "            height=\"400\"\n",
              "            src=\"https://www.desmos.com/calculator/4f56lbp3ua?embed\"\n",
              "            frameborder=\"0\"\n",
              "            allowfullscreen\n",
              "        ></iframe>\n",
              "        "
            ],
            "text/plain": [
              "<IPython.lib.display.IFrame at 0x7f0600127f70>"
            ]
          },
          "execution_count": 10,
          "metadata": {},
          "output_type": "execute_result"
        }
      ],
      "source": [
        "IFrame(\"https://www.desmos.com/calculator/4f56lbp3ua?embed\" , 400 , 400)"
      ]
    },
    {
      "cell_type": "markdown",
      "metadata": {
        "id": "Z4aWnbH0ngbX"
      },
      "source": [
        "Now as we have understood the tanh, lets try to implement it "
      ]
    },
    {
      "cell_type": "code",
      "execution_count": null,
      "metadata": {
        "id": "PzlUOOS4FIsf"
      },
      "outputs": [],
      "source": [
        "output_array = np.empty(shape = sample_array.shape)\n",
        "for i in sample_array:\n",
        "    output_array = np.hstack([new_array , ((m.e ** i) - (m.e ** (-i))) / ((m.e ** i) + (m.e ** (-i)))])\n",
        "    output_array = np.delete(output_array , 0 , 0)"
      ]
    },
    {
      "cell_type": "code",
      "execution_count": null,
      "metadata": {
        "colab": {
          "base_uri": "https://localhost:8080/",
          "height": 282
        },
        "id": "vu0E3tNfFIp9",
        "outputId": "59aefbef-66aa-4acb-ab85-5164cf1a7c44"
      },
      "outputs": [
        {
          "data": {
            "text/plain": [
              "<AxesSubplot:ylabel='Density'>"
            ]
          },
          "execution_count": 41,
          "metadata": {},
          "output_type": "execute_result"
        },
        {
          "data": {
            "image/png": "[encoded data removed]",
            "text/plain": [
              "<Figure size 432x288 with 1 Axes>"
            ]
          },
          "metadata": {},
          "output_type": "display_data"
        }
      ],
      "source": [
        "sns.kdeplot(np.array(output_array))"
      ]
    },
    {
      "cell_type": "code",
      "execution_count": null,
      "metadata": {
        "id": "ssY2t63rFIl_"
      },
      "outputs": [],
      "source": [
        "def tanh(array):\n",
        "    output_array = np.empty(shape = array.shape)\n",
        "    \n",
        "    for i in array:\n",
        "        output_array = np.hstack([new_array , ((m.e ** i) - (m.e ** (-i))) / ((m.e ** i) + (m.e ** (-i)))])\n",
        "        output_array = np.delete(output_array , 0 , 0)\n",
        "\n",
        "    return output_array"
      ]
    },
    {
      "cell_type": "markdown",
      "metadata": {
        "id": "OETIcJCI33KN"
      },
      "source": [
        "## SELU (Scaled Exponential Linear Unit)\n",
        "\n",
        "The Scaled Exponential Linear Unit (SELU) is an activation function used in artificial neural networks that has gained popularity due to its ability to improve training stability and model performance.\n",
        "\n",
        "SELU is a type of activation function that is self-normalizing, meaning that it can help prevent the vanishing or exploding gradients problem commonly encountered during the training of deep neural networks. This is achieved by ensuring that the output values from each layer of the network have a mean of zero and a standard deviation of one.\n",
        "\n",
        "In addition to addressing the vanishing gradient problem, SELU has been found to outperform other popular activation functions, such as ReLU and its variants, on a wide range of tasks. This is due in part to the fact that SELU is a smooth function that is differentiable almost everywhere, allowing for more efficient gradient-based optimization during training.\n",
        "\n",
        "Overall, the SELU activation function has become a popular choice for researchers and practitioners working with deep neural networks, particularly for those seeking to improve the stability and performance of their models.\n",
        "\n",
        "Formula $$f(x) = \\lambda \\Bigg [ \\frac {x}{\\alpha e^x - \\alpha} \\frac {if}{if} \\frac {x>0}{x<=0}$$"
      ]
    },
    {
      "cell_type": "code",
      "execution_count": null,
      "metadata": {
        "colab": {
          "base_uri": "https://localhost:8080/",
          "height": 421
        },
        "id": "_uUFg2Yvr8Cl",
        "outputId": "7e119203-b421-4359-bb3d-e129516bc0ea"
      },
      "outputs": [
        {
          "data": {
            "text/html": [
              "\n",
              "        <iframe\n",
              "            width=\"400\"\n",
              "            height=\"400\"\n",
              "            src=\"https://www.desmos.com/calculator/luxmaikan5?embed\"\n",
              "            frameborder=\"0\"\n",
              "            allowfullscreen\n",
              "        ></iframe>\n",
              "        "
            ],
            "text/plain": [
              "<IPython.lib.display.IFrame at 0x7f05e2ea1970>"
            ]
          },
          "execution_count": 12,
          "metadata": {},
          "output_type": "execute_result"
        }
      ],
      "source": [
        "IFrame(\"https://www.desmos.com/calculator/luxmaikan5?embed\" , 400 , 400)"
      ]
    },
    {
      "cell_type": "markdown",
      "metadata": {
        "id": "I9Zi_v4SsIC9"
      },
      "source": [
        "Now we understand the function, lets try to implement it "
      ]
    },
    {
      "cell_type": "code",
      "execution_count": null,
      "metadata": {
        "id": "soWks-AhImAf"
      },
      "outputs": [],
      "source": [
        "new_array = []\n",
        "for i in sample_array : \n",
        "    if i > 0:\n",
        "        new_array.append((i) * 1.0507)\n",
        "    else:\n",
        "        new_array.append(((1.6732 * np.exp(i)) - 1.6732) * 1.0507)"
      ]
    },
    {
      "cell_type": "code",
      "execution_count": null,
      "metadata": {
        "colab": {
          "base_uri": "https://localhost:8080/",
          "height": 282
        },
        "id": "fbTWM-a0xheI",
        "outputId": "09b804de-1dbf-406e-cdb3-76a2d5b1cecd"
      },
      "outputs": [
        {
          "data": {
            "text/plain": [
              "<AxesSubplot:ylabel='Density'>"
            ]
          },
          "execution_count": 18,
          "metadata": {},
          "output_type": "execute_result"
        },
        {
          "data": {
            "image/png": "[encoded data removed]",
            "text/plain": [
              "<Figure size 432x288 with 1 Axes>"
            ]
          },
          "metadata": {},
          "output_type": "display_data"
        }
      ],
      "source": [
        "sns.kdeplot(np.array(new_array))"
      ]
    },
    {
      "cell_type": "code",
      "execution_count": null,
      "metadata": {
        "id": "gmjuAcNttqfm"
      },
      "outputs": [],
      "source": [
        "def selu(array):\n",
        "\n",
        "    def selu_output(value):\n",
        "        a = 1.0507\n",
        "        b = 1.6732\n",
        "\n",
        "        if value > 0 : \n",
        "            return a * value\n",
        "        else : \n",
        "            return (a * (b * (value - 1)))\n",
        "\n",
        "    output_array = np.empty(shape = array.shape)\n",
        "    \n",
        "    for i in array:\n",
        "        output_array = np.hstack([new_array , selu_output(i)])\n",
        "        output_array = np.delete(output_array , 0 , 0)\n",
        "\n",
        "    return output_array"
      ]
    },
    {
      "cell_type": "markdown",
      "metadata": {
        "id": "5yrkt0BH4ksQ"
      },
      "source": [
        "# ELU (Exponential Linear Unit Activation Function)\n",
        "\n",
        "The Exponential Linear Unit (ELU) is an activation function that is commonly used in deep learning neural networks. It was proposed as a solution to some of the drawbacks of the Rectified Linear Unit (ReLU) activation function.\n",
        "\n",
        "The main advantage of the ELU function over the ReLU function is that it is smoother and differentiable at x = 0, which means that it can handle negative values without resulting in dead neurons, a common problem with ReLU. ELU also tends to produce more robust learning in deep neural networks, and has been shown to outperform ReLU in several cases.\n",
        "\n",
        "One thing to keep in mind when using ELU is that it can be computationally more expensive than ReLU due to the use of exponential function. However, this cost is often worth the improved performance, especially in deep learning applications where high accuracy is crucial.\n",
        "\n",
        "Formula Formula $$f(x) = \\Bigg [ \\frac {x}{\\alpha (e^x - 1)} \\frac {if}{if} \\frac {x>0}{x<=0}$$"
      ]
    },
    {
      "cell_type": "code",
      "execution_count": null,
      "metadata": {
        "colab": {
          "base_uri": "https://localhost:8080/",
          "height": 421
        },
        "id": "ATp6lC0nsZO8",
        "outputId": "59295157-77e8-4536-ffa6-6ed4252555ed"
      },
      "outputs": [
        {
          "data": {
            "text/html": [
              "\n",
              "        <iframe\n",
              "            width=\"400\"\n",
              "            height=\"400\"\n",
              "            src=\"https://www.desmos.com/calculator/meresktik3?embed\"\n",
              "            frameborder=\"0\"\n",
              "            allowfullscreen\n",
              "        ></iframe>\n",
              "        "
            ],
            "text/plain": [
              "<IPython.lib.display.IFrame at 0x7f05e2e50730>"
            ]
          },
          "execution_count": 13,
          "metadata": {},
          "output_type": "execute_result"
        }
      ],
      "source": [
        "IFrame(\"https://www.desmos.com/calculator/meresktik3?embed\" , 400 , 400)"
      ]
    },
    {
      "cell_type": "markdown",
      "metadata": {
        "id": "UBEkL3C-sdxU"
      },
      "source": [
        "Now we understand the function, lets try to implement it "
      ]
    },
    {
      "cell_type": "code",
      "execution_count": null,
      "metadata": {
        "id": "kV-3KapdxpqX"
      },
      "outputs": [],
      "source": [
        "new_array = []\n",
        "for i in sample_array : \n",
        "    if i > 0:\n",
        "        new_array.append((i))\n",
        "    else:\n",
        "        new_array.append(((1.6732 * np.exp(i)) - 1.6732))"
      ]
    },
    {
      "cell_type": "code",
      "execution_count": null,
      "metadata": {
        "colab": {
          "base_uri": "https://localhost:8080/",
          "height": 282
        },
        "id": "MmALCP2Yxtq4",
        "outputId": "204314cb-78df-4f13-fa33-92c161c78cb0"
      },
      "outputs": [
        {
          "data": {
            "text/plain": [
              "<AxesSubplot:ylabel='Density'>"
            ]
          },
          "execution_count": 20,
          "metadata": {},
          "output_type": "execute_result"
        },
        {
          "data": {
            "image/png": "[encoded data removed]",
            "text/plain": [
              "<Figure size 432x288 with 1 Axes>"
            ]
          },
          "metadata": {},
          "output_type": "display_data"
        }
      ],
      "source": [
        "sns.kdeplot(np.array(new_array))"
      ]
    },
    {
      "cell_type": "code",
      "execution_count": null,
      "metadata": {
        "id": "LkNepeyTuVnT"
      },
      "outputs": [],
      "source": [
        "def elu(array):\n",
        "\n",
        "    def elu_output(value):\n",
        "\n",
        "        b = 1.6732\n",
        "\n",
        "        if value > 0 : \n",
        "            return value\n",
        "        else : \n",
        "            return (b * (value - 1))\n",
        "\n",
        "    output_array = np.empty(shape = array.shape)\n",
        "    \n",
        "    for i in array:\n",
        "        output_array = np.hstack([new_array , elu_output(i)])\n",
        "        output_array = np.delete(output_array , 0 , 0)\n",
        "\n",
        "    return output_array"
      ]
    },
    {
      "cell_type": "markdown",
      "metadata": {
        "id": "07k-QotR44Zs"
      },
      "source": [
        "## Exponential Activation Function \n",
        "\n",
        "The exponential activation function is a mathematical function commonly used in artificial neural networks as an activation function for the output layer of a network.\n",
        "\n",
        "Compared to other activation functions such as sigmoid or ReLU, the exponential function has the property of being always positive, and its output increases exponentially as its input increases. This can be useful in certain applications such as modeling growth rates or probabilities.\n",
        "\n",
        "However, the exponential function also has some drawbacks, such as its unbounded nature which can lead to numerical instability, and its vanishing gradient problem, which can make it difficult to train deep neural networks.\n",
        "\n",
        "Overall, the exponential activation function can be a useful tool in certain neural network applications, but it should be used with caution and in combination with other activation functions as part of a well-designed network architecture.\n",
        "\n",
        "Formula $$f(x) = e^x$$\n",
        "\n",
        "```\n",
        "import numpy as np\n",
        "\n",
        "x = np.exp(x)\n",
        "```"
      ]
    },
    {
      "cell_type": "code",
      "execution_count": null,
      "metadata": {
        "colab": {
          "base_uri": "https://localhost:8080/",
          "height": 421
        },
        "id": "FxTMSgV2sl7M",
        "outputId": "b9a98404-a963-4328-8c06-31025bc04404"
      },
      "outputs": [
        {
          "data": {
            "text/html": [
              "\n",
              "        <iframe\n",
              "            width=\"400\"\n",
              "            height=\"400\"\n",
              "            src=\"https://www.desmos.com/calculator/8teyoezq25?embed\"\n",
              "            frameborder=\"0\"\n",
              "            allowfullscreen\n",
              "        ></iframe>\n",
              "        "
            ],
            "text/plain": [
              "<IPython.lib.display.IFrame at 0x7f05e2e5bbb0>"
            ]
          },
          "execution_count": 14,
          "metadata": {},
          "output_type": "execute_result"
        }
      ],
      "source": [
        "IFrame(\"https://www.desmos.com/calculator/8teyoezq25?embed\" , 400 , 400)"
      ]
    },
    {
      "cell_type": "code",
      "execution_count": null,
      "metadata": {
        "id": "ls5IYGsyIqiH"
      },
      "outputs": [],
      "source": [
        "new_array = [np.exp(i) for i in sample_array]"
      ]
    },
    {
      "cell_type": "code",
      "execution_count": null,
      "metadata": {
        "colab": {
          "base_uri": "https://localhost:8080/",
          "height": 306
        },
        "id": "vuTDn9_IyFi9",
        "outputId": "9ad11fdb-2e27-4996-9eb2-9e3794a45409"
      },
      "outputs": [
        {
          "data": {
            "text/plain": [
              "<AxesSubplot:ylabel='Density'>"
            ]
          },
          "execution_count": 67,
          "metadata": {},
          "output_type": "execute_result"
        },
        {
          "data": {
            "image/png": "[encoded data removed]",
            "text/plain": [
              "<Figure size 432x288 with 1 Axes>"
            ]
          },
          "metadata": {},
          "output_type": "display_data"
        }
      ],
      "source": [
        "sns.kdeplot(np.array(new_array))"
      ]
    },
    {
      "cell_type": "code",
      "execution_count": null,
      "metadata": {
        "id": "Y2tOqhAjyFhF"
      },
      "outputs": [],
      "source": [
        "def exponential(array):\n",
        "    \n",
        "    output_array = np.empty(shape = array.shape)\n",
        "    \n",
        "    for i in array:\n",
        "    \n",
        "        output_array = np.hstack([output_array , np.exp(i)])\n",
        "        output_array = np.delete(output_array , 0 , 0)\n",
        "\n",
        "    return output_array"
      ]
    },
    {
      "cell_type": "markdown",
      "metadata": {
        "id": "0S62wf_w02_1"
      },
      "source": [
        "As all our functions are created, lets make a class and put all the functions in that class"
      ]
    },
    {
      "cell_type": "code",
      "execution_count": null,
      "metadata": {
        "id": "xkTSbxPkvXb_"
      },
      "outputs": [],
      "source": [
        "class activation_function:\n",
        "    def __init(self , input , func = None): \n",
        "        \n",
        "        self.func = func\n",
        "        self.input = input\n",
        "\n",
        "    def forward(self , self.input):\n",
        "    \n",
        "        if self.func == None : \n",
        "            \n",
        "            return input\n",
        "    \n",
        "        elif self.func == \"relu\" : \n",
        "            \n",
        "            return relu(self, self.input)\n",
        "    \n",
        "        elif self.func == \"sigmoid\" : \n",
        "            \n",
        "            return sigmoid(self, self.input)\n",
        "    \n",
        "        elif self.func == \"softmax\" : \n",
        "            \n",
        "            return softmax(self, self.input)\n",
        "    \n",
        "        elif self.func == \"softplus\" : \n",
        "            \n",
        "            return softplus(self, self.input)\n",
        "    \n",
        "        elif self.func == \"sogtsign\" : \n",
        "            \n",
        "            return softsign(self, self.input)\n",
        "    \n",
        "        elif self.func == \"tanh\" : \n",
        "            \n",
        "            return tanh(self, self.input)\n",
        "    \n",
        "        elif self.func == \"selu\" : \n",
        "            \n",
        "            return selu(self, self.input)\n",
        "    \n",
        "        elif self.func == \"elu\" : \n",
        "            \n",
        "            return elu(self, self.input)\n",
        "    \n",
        "        elif self.func == \"exponential\" : \n",
        "            \n",
        "            return exponential(self, self.input)\n",
        "        else : \n",
        "            \n",
        "            print(\"Please Enter a valid activation function\")\n",
        "            \n",
        "            return None\n",
        "    \n",
        "    def relu_output(value) :\n",
        "        \n",
        "        output = max(0 , value) \n",
        "        \n",
        "        return output\n",
        "    \n",
        "    def sigmoid_output(value) : \n",
        "    \n",
        "        output = 1 / (1 + np.exp(- value))\n",
        "    \n",
        "        return output\n",
        "    \n",
        "    def softmax_output(value , addi) :\n",
        "    \n",
        "        output = np.exp(i)/ addi\n",
        "    \n",
        "        return output\n",
        "    \n",
        "    def softplus_output(value) :\n",
        "    \n",
        "        output = np.log1p(value)\n",
        "    \n",
        "        return output \n",
        "    \n",
        "    def softsign_output(value) :\n",
        "    \n",
        "        output = value / (1 + abs(value))\n",
        "    \n",
        "        return output \n",
        "    \n",
        "    def tanh_output(value) :\n",
        "    \n",
        "        output = ((m.e ** value) - (m.e ** (-value))) / ((m.e ** value) + (m.e ** (-value))) \n",
        "    \n",
        "        return output\n",
        "    \n",
        "    def selu_output(value) : \n",
        "    \n",
        "        if value > 0 :\n",
        "    \n",
        "            output = 1.0507 * (value)\n",
        "    \n",
        "        else : \n",
        "    \n",
        "            output = 1.0507 * (1.6732 * (value - 1))\n",
        "    \n",
        "        return output\n",
        "    \n",
        "    def elu_output(value) : \n",
        "    \n",
        "        if value > 0:\n",
        "            \n",
        "            output = value\n",
        "        \n",
        "        else :\n",
        "        \n",
        "            output = 1.6732 * (value - 1)\n",
        "\n",
        "        return output\n",
        "\n",
        "    def exponential_output(value) :\n",
        "        \n",
        "        output = np.exp(value)\n",
        "\n",
        "        return output  \n",
        "\n",
        "    def relu(self , array) : \n",
        "\n",
        "        output_array = np.empty(shape = array.shape)\n",
        "        \n",
        "        for i in array:\n",
        "        \n",
        "            output_array = np.hstack([output_array , self.relu_output(i)])\n",
        "            output_array = np.delete(output_array , 0 , 0)\n",
        "\n",
        "        return output_array\n",
        "    \n",
        "    def sigmoid(self , array) : \n",
        "\n",
        "        output_array = np.empty(shape = array.shape)\n",
        "        \n",
        "        for i in array:\n",
        "        \n",
        "            output_array = np.hstack([output_array , self.sigmoid_output(i)])\n",
        "            output_array = np.delete(output_array , 0 , 0)\n",
        "\n",
        "        return output_array\n",
        "    \n",
        "    def softmax(self , array) :\n",
        "\n",
        "        output_array = np.empty(shape = array.shape)\n",
        "        \n",
        "        for i in array:\n",
        "        \n",
        "            output_array = np.hstack([output_array , self.softmax_output(i , )])\n",
        "            output_array = np.delete(output_array , 0 , 0)\n",
        "\n",
        "        return output_array\n",
        "     \n",
        "    def softplus(self , array) : \n",
        "        output_array = np.empty(shape = array.shape)\n",
        "        \n",
        "        for i in array:\n",
        "        \n",
        "            output_array = np.hstack([output_array , self.softplus_output(i , )])\n",
        "            output_array = np.delete(output_array , 0 , 0)\n",
        "\n",
        "        return output_array\n",
        "     \n",
        "    def softsign(self , array) : \n",
        "        output_array = np.empty(shape = array.shape)\n",
        "        \n",
        "        for i in array:\n",
        "        \n",
        "            output_array = np.hstack([output_array , self.softsign_output(i , )])\n",
        "            output_array = np.delete(output_array , 0 , 0)\n",
        "\n",
        "        return output_array\n",
        "     \n",
        "    def tanh(self , array) : \n",
        "        \n",
        "        output_array = np.empty(shape = array.shape)\n",
        "        \n",
        "        for i in array:\n",
        "        \n",
        "            output_array = np.hstack([output_array , self.tanh_output(i , )])\n",
        "            output_array = np.delete(output_array , 0 , 0)\n",
        "\n",
        "        return output_array\n",
        "     \n",
        "    def selu(self , array) : \n",
        "        \n",
        "        output_array = np.empty(shape = array.shape)\n",
        "        \n",
        "        for i in array:\n",
        "        \n",
        "            output_array = np.hstack([output_array , self.selu_output(i)])\n",
        "            output_array = np.delete(output_array , 0 , 0)\n",
        "\n",
        "        return output_array\n",
        "    \n",
        "    def elu(self , array) : \n",
        "        \n",
        "        output_array = np.empty(shape = array.shape)\n",
        "        \n",
        "        for i in array:\n",
        "        \n",
        "            output_array = np.hstack([output_array , self.elu_output(i)])\n",
        "            output_array = np.delete(output_array , 0 , 0)\n",
        "\n",
        "        return output_array\n",
        "    \n",
        "    def exponential(self , array) : \n",
        "        \n",
        "        output_array = np.empty(shape = array.shape)\n",
        "        \n",
        "        for i in array:\n",
        "        \n",
        "            output_array = np.hstack([output_array , self.exponential_output(i)])\n",
        "            output_array = np.delete(output_array , 0 , 0)\n",
        "\n",
        "        return output_array\n",
        "    \n"
      ]
    }
  ],
  "metadata": {
    "colab": {
      "provenance": []
    },
    "kernelspec": {
      "display_name": "Python 3",
      "name": "python3"
    },
    "language_info": {
      "name": "python"
    }
  },
  "nbformat": 4,
  "nbformat_minor": 0
}