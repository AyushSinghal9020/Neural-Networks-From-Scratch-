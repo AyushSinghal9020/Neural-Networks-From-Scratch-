{
  "nbformat": 4,
  "nbformat_minor": 0,
  "metadata": {
    "colab": {
      "provenance": []
    },
    "kernelspec": {
      "name": "python3",
      "display_name": "Python 3"
    },
    "language_info": {
      "name": "python"
    }
  },
  "cells": [
    {
      "cell_type": "markdown",
      "source": [
        "# Neural Networkds\n",
        "\n",
        "Neural networks, also known as artificial neural networks, are a type of machine learning algorithm that is inspired by the structure and function of the human brain. They are composed of multiple interconnected nodes or neurons, organized into layers that perform complex computations on input data.\n",
        "\n",
        "The basic idea behind neural networks is to learn from data by adjusting the weights and biases of the neurons through a process called backpropagation. This process involves iteratively comparing the output of the network to the desired output, and then updating the weights and biases to minimize the error.\n",
        "\n",
        "Neural networks can be used for a variety of tasks, such as classification, regression, and clustering, and they have been successfully applied to a wide range of domains, including image and speech recognition, natural language processing, and game playing.\n",
        "\n",
        "While neural networks have shown impressive performance in many applications, they can also be difficult to train and may suffer from overfitting, where the network performs well on the training data but fails to generalize to new data. As a result, a lot of research is still being done to improve the performance and usability of neural networks.\n",
        "\n",
        "Here we will try to make our own neural networks from scratch\n",
        "\n",
        "* This notebook is highly inspired from the book [nnfs](https://nnfs.io/), consider checking out the book :)"
      ],
      "metadata": {
        "id": "1q1poXtxgOq9"
      }
    },
    {
      "cell_type": "markdown",
      "source": [
        "Some points to rememeber\n",
        "* Formula for the output of a neural network $$output = weight * input + bias$$\n",
        "```\n",
        "output = (weight * input) + bias\n",
        "```\n",
        "You can think that \n",
        "* * len of `bias` shows the number of output neurons\n",
        "* * len of `input` shows the number of input neurons\n",
        "* * len of `weight` shows the relationship between these two  \n",
        "\n",
        "Lets say we have a two neurons, one gives the input, and one gives the output, there will be one weight, one input and one bias related, lets try to find out the output of that one neuron, like this\n",
        "\n",
        "<img src = \"https://i0.wp.com/thedeconvertedman.com/wp-content/uploads/2020/11/Connecting-the-Dots-Image-3.png?fit=300%2C300&ssl=1\">\n",
        "\n"
      ],
      "metadata": {
        "id": "k9d7RD1oc4FA"
      }
    },
    {
      "cell_type": "markdown",
      "source": [
        "Lets say we have a prededifined weight, input and bias"
      ],
      "metadata": {
        "id": "tnJ6Xk5kTHr5"
      }
    },
    {
      "cell_type": "code",
      "source": [
        "input = 1\n",
        "weight = 0.2\n",
        "bias = 2"
      ],
      "metadata": {
        "id": "T3f1asgahIoj"
      },
      "execution_count": 91,
      "outputs": []
    },
    {
      "cell_type": "markdown",
      "source": [
        "Applying the fromula we get "
      ],
      "metadata": {
        "id": "fsZCL_neTrb1"
      }
    },
    {
      "cell_type": "code",
      "source": [
        "(input * weight) + bias"
      ],
      "metadata": {
        "colab": {
          "base_uri": "https://localhost:8080/"
        },
        "id": "-LeZjAIMhOqI",
        "outputId": "8dbe9b7d-d581-489d-c147-dce86c4b5e09"
      },
      "execution_count": 92,
      "outputs": [
        {
          "output_type": "execute_result",
          "data": {
            "text/plain": [
              "2.2"
            ]
          },
          "metadata": {},
          "execution_count": 92
        }
      ]
    },
    {
      "cell_type": "markdown",
      "source": [
        "So now we have created our first pair of neurons, now we will try to make it complicated. What if we are total of $4$ neurons , where $1$ neuron is taking input from $3$ neurons. So there will be $3$ inputs, $3$ wieghts and one bais. Lets try to find the output of that one neuron, like this \n",
        "\n",
        "<img src = \"https://osghaffar.github.io/images/basicNN.png\" height = 400px>"
      ],
      "metadata": {
        "id": "0-MEVpTph5ZR"
      }
    },
    {
      "cell_type": "code",
      "source": [
        "inputs = [1 , 2 , 3]\n",
        "weights = [0.2 , 0.8 , -0.5]\n",
        "bais = 2"
      ],
      "metadata": {
        "id": "EYnKvpXYh3dX"
      },
      "execution_count": 94,
      "outputs": []
    },
    {
      "cell_type": "code",
      "source": [
        "(inputs[0] * weights[0]) + (inputs[1] * weights[1]) + (inputs[2] * weights[2]) + bias"
      ],
      "metadata": {
        "colab": {
          "base_uri": "https://localhost:8080/"
        },
        "id": "M7WYzShSikNh",
        "outputId": "faccfb1f-c67b-426c-cfd3-74de059fcec2"
      },
      "execution_count": 95,
      "outputs": [
        {
          "output_type": "execute_result",
          "data": {
            "text/plain": [
              "2.3"
            ]
          },
          "metadata": {},
          "execution_count": 95
        }
      ]
    },
    {
      "cell_type": "markdown",
      "source": [
        "Lets try for 4, like this \n",
        "\n",
        "<img src = \"https://encrypted-tbn0.gstatic.com/images?q=tbn:ANd9GcRqIcBfxcoo377sDczVbTHLTW7F7ZURld8CLA&usqp=CAU\" height = 400px >"
      ],
      "metadata": {
        "id": "dg4UNMJ6jWXZ"
      }
    },
    {
      "cell_type": "code",
      "source": [
        "inputs = [1 , 2 , 3 , 2.5]\n",
        "weights = [0.2 , 0.8 , -0.5 , 1]\n",
        "bais = 2"
      ],
      "metadata": {
        "id": "n5wcMfA8jD-t"
      },
      "execution_count": 97,
      "outputs": []
    },
    {
      "cell_type": "code",
      "source": [
        "(inputs[0] * weights[0]) + (inputs[1] * weights[1]) + (inputs[2] * weights[2]) + (inputs[3] * weights[3]) + bias"
      ],
      "metadata": {
        "colab": {
          "base_uri": "https://localhost:8080/"
        },
        "id": "9B05PJacjcUl",
        "outputId": "73fd076d-b8f9-4dc2-ccad-43e3808d4f83"
      },
      "execution_count": 98,
      "outputs": [
        {
          "output_type": "execute_result",
          "data": {
            "text/plain": [
              "4.8"
            ]
          },
          "metadata": {},
          "execution_count": 98
        }
      ]
    },
    {
      "cell_type": "markdown",
      "source": [
        "Lets try with a list of bias and a list of weights "
      ],
      "metadata": {
        "id": "m2fDc2FJqzrM"
      }
    },
    {
      "cell_type": "code",
      "source": [
        "inputs = [1 , 2 , 3 , 2.5]\n",
        "weights_1 = [0.2 , 0.8 , -0.5 , 1]\n",
        "weights_2 = [0.5 , -0.91 , 0.26 , -0.5]\n",
        "weights_3 = [-0.26 , -0.27 , 0.17 , 0.87]\n",
        "bias_1 = 2\n",
        "bias_2 = 3\n",
        "bias_3 = 0.5"
      ],
      "metadata": {
        "id": "FtE1I14FjkW7"
      },
      "execution_count": 99,
      "outputs": []
    },
    {
      "cell_type": "code",
      "source": [
        "output = [inputs[0] * weights_1[0] + inputs[1] * weights_1[1] + inputs[2] * weights_1[2] + inputs[3] * weights_1[3] + bias_1 , \n",
        "          inputs[0] * weights_2[0] + inputs[1] * weights_2[1] + inputs[2] * weights_2[2] + inputs[3] * weights_2[3] + bias_2 , \n",
        "          inputs[0] * weights_3[0] + inputs[1] * weights_3[1] + inputs[2] * weights_3[2] + inputs[3] * weights_3[3] + bias_3]"
      ],
      "metadata": {
        "id": "eW3YNCgPsauL"
      },
      "execution_count": 100,
      "outputs": []
    },
    {
      "cell_type": "code",
      "source": [
        "output"
      ],
      "metadata": {
        "colab": {
          "base_uri": "https://localhost:8080/"
        },
        "id": "k-q5sGJhtV5c",
        "outputId": "68d28136-b514-47b3-d86d-6f1920d4d297"
      },
      "execution_count": 101,
      "outputs": [
        {
          "output_type": "execute_result",
          "data": {
            "text/plain": [
              "[4.8, 1.21, 2.385]"
            ]
          },
          "metadata": {},
          "execution_count": 101
        }
      ]
    },
    {
      "cell_type": "markdown",
      "source": [
        "Instead of writing this much of hard coding, we can just iterate loops like this "
      ],
      "metadata": {
        "id": "Tao0fWfft9k6"
      }
    },
    {
      "cell_type": "code",
      "source": [
        "inputs = [1 , 2 , 3 , 2.5]\n",
        "weights = [[0.2 , 0.8 , -0.5 , 1] , \n",
        "             [0.5 , -0.91 , 0.26 , -0.5] , \n",
        "             [-0.26 , -0.27 , 0.17 , 0.87]]\n",
        "baises  = [2 , 3 , 0.5]"
      ],
      "metadata": {
        "id": "v35cSs2CtXyi"
      },
      "execution_count": 102,
      "outputs": []
    },
    {
      "cell_type": "code",
      "source": [
        "output = []\n",
        "\n",
        "for weight , bais in zip(weights , baises):\n",
        "\n",
        "    neuron_out = 0\n",
        "\n",
        "    for input , weigh in zip(inputs , weight):\n",
        "\n",
        "        neuron_out += input*weigh\n",
        "\n",
        "    neuron_out += bais\n",
        "    output.append(neuron_out)"
      ],
      "metadata": {
        "id": "e85mQVqGuQzY"
      },
      "execution_count": 103,
      "outputs": []
    },
    {
      "cell_type": "code",
      "source": [
        "output"
      ],
      "metadata": {
        "colab": {
          "base_uri": "https://localhost:8080/"
        },
        "id": "9WUd6L2DvG2I",
        "outputId": "35f5762f-5368-4320-95e5-aa33fb0d29db"
      },
      "execution_count": 104,
      "outputs": [
        {
          "output_type": "execute_result",
          "data": {
            "text/plain": [
              "[4.8, 1.21, 2.385]"
            ]
          },
          "metadata": {},
          "execution_count": 104
        }
      ]
    },
    {
      "cell_type": "markdown",
      "source": [
        "Notice we got the same answer"
      ],
      "metadata": {
        "id": "cczW3tbnYVCu"
      }
    },
    {
      "cell_type": "markdown",
      "source": [
        "Instead of iterating over the loop, we can just use the dot product of the two and add the bias then\n",
        "We will first try this on 1 neuron with 3 inputs"
      ],
      "metadata": {
        "id": "_YXMfRRWYcU-"
      }
    },
    {
      "cell_type": "code",
      "source": [
        "inputs = np.array([1 , 2 , 3 , 2.5])\n",
        "weights = np.array([0.2 , 0.8 , -0.5 , 1])\n",
        "bais = 2"
      ],
      "metadata": {
        "id": "lorxPAVsvIEu"
      },
      "execution_count": 105,
      "outputs": []
    },
    {
      "cell_type": "code",
      "source": [
        "import numpy as np"
      ],
      "metadata": {
        "id": "FkU8JmBAvk3w"
      },
      "execution_count": 106,
      "outputs": []
    },
    {
      "cell_type": "code",
      "source": [
        "output = np.dot(inputs , weights) + bais"
      ],
      "metadata": {
        "id": "QCKNXRETvnVC"
      },
      "execution_count": 107,
      "outputs": []
    },
    {
      "cell_type": "code",
      "source": [
        "output"
      ],
      "metadata": {
        "colab": {
          "base_uri": "https://localhost:8080/"
        },
        "id": "pf7MuB4lvtSZ",
        "outputId": "b41fff66-4d98-4f2a-d366-829d59018b70"
      },
      "execution_count": 108,
      "outputs": [
        {
          "output_type": "execute_result",
          "data": {
            "text/plain": [
              "4.799999952316284"
            ]
          },
          "metadata": {},
          "execution_count": 108
        }
      ]
    },
    {
      "cell_type": "markdown",
      "source": [
        "The output is different because of differnet data types used in core python and numpy"
      ],
      "metadata": {
        "id": "IMZ8QVGeYzMd"
      }
    },
    {
      "cell_type": "markdown",
      "source": [
        "Lets try the same with a bunch of neurons"
      ],
      "metadata": {
        "id": "uoKLsF_wY9mB"
      }
    },
    {
      "cell_type": "code",
      "source": [
        "inputs = np.array([1 , 2 , 3 , 2.5])\n",
        "\n",
        "weights = np.array([[0.2 , 0.8 , -0.5 , 1] , \n",
        "             [0.5 , -0.91 , 0.26 , -0.5] , \n",
        "             [-0.26 , -0.27 , 0.17 , 0.87]])\n",
        "\n",
        "baises  = np.array([2 , 3 , 0.5])\n"
      ],
      "metadata": {
        "id": "Gsy3RbRtv5BV"
      },
      "execution_count": 110,
      "outputs": []
    },
    {
      "cell_type": "code",
      "source": [
        "output = np.dot(inputs , weights) + baises"
      ],
      "metadata": {
        "colab": {
          "base_uri": "https://localhost:8080/",
          "height": 224
        },
        "id": "jr1DLZkPwDCP",
        "outputId": "146dc934-2d87-4739-d02f-c3965cc26924"
      },
      "execution_count": 111,
      "outputs": [
        {
          "output_type": "error",
          "ename": "ValueError",
          "evalue": "ignored",
          "traceback": [
            "\u001b[0;31m---------------------------------------------------------------------------\u001b[0m",
            "\u001b[0;31mValueError\u001b[0m                                Traceback (most recent call last)",
            "\u001b[0;32m<ipython-input-111-c94cd28a220d>\u001b[0m in \u001b[0;36m<module>\u001b[0;34m\u001b[0m\n\u001b[0;32m----> 1\u001b[0;31m \u001b[0moutput\u001b[0m \u001b[0;34m=\u001b[0m \u001b[0mnp\u001b[0m\u001b[0;34m.\u001b[0m\u001b[0mdot\u001b[0m\u001b[0;34m(\u001b[0m\u001b[0minputs\u001b[0m \u001b[0;34m,\u001b[0m \u001b[0mweights\u001b[0m\u001b[0;34m)\u001b[0m \u001b[0;34m+\u001b[0m \u001b[0mbaises\u001b[0m\u001b[0;34m\u001b[0m\u001b[0;34m\u001b[0m\u001b[0m\n\u001b[0m",
            "\u001b[0;32m/usr/local/lib/python3.8/dist-packages/nnfs/core.py\u001b[0m in \u001b[0;36mdot\u001b[0;34m(*args, **kwargs)\u001b[0m\n\u001b[1;32m     20\u001b[0m         \u001b[0morig_dot\u001b[0m \u001b[0;34m=\u001b[0m \u001b[0mnp\u001b[0m\u001b[0;34m.\u001b[0m\u001b[0mdot\u001b[0m\u001b[0;34m\u001b[0m\u001b[0;34m\u001b[0m\u001b[0m\n\u001b[1;32m     21\u001b[0m         \u001b[0;32mdef\u001b[0m \u001b[0mdot\u001b[0m\u001b[0;34m(\u001b[0m\u001b[0;34m*\u001b[0m\u001b[0margs\u001b[0m\u001b[0;34m,\u001b[0m \u001b[0;34m**\u001b[0m\u001b[0mkwargs\u001b[0m\u001b[0;34m)\u001b[0m\u001b[0;34m:\u001b[0m\u001b[0;34m\u001b[0m\u001b[0;34m\u001b[0m\u001b[0m\n\u001b[0;32m---> 22\u001b[0;31m             \u001b[0;32mreturn\u001b[0m \u001b[0morig_dot\u001b[0m\u001b[0;34m(\u001b[0m\u001b[0;34m*\u001b[0m\u001b[0;34m[\u001b[0m\u001b[0ma\u001b[0m\u001b[0;34m.\u001b[0m\u001b[0mastype\u001b[0m\u001b[0;34m(\u001b[0m\u001b[0;34m'float64'\u001b[0m\u001b[0;34m)\u001b[0m \u001b[0;32mfor\u001b[0m \u001b[0ma\u001b[0m \u001b[0;32min\u001b[0m \u001b[0margs\u001b[0m\u001b[0;34m]\u001b[0m\u001b[0;34m,\u001b[0m \u001b[0;34m**\u001b[0m\u001b[0mkwargs\u001b[0m\u001b[0;34m)\u001b[0m\u001b[0;34m.\u001b[0m\u001b[0mastype\u001b[0m\u001b[0;34m(\u001b[0m\u001b[0;34m'float32'\u001b[0m\u001b[0;34m)\u001b[0m\u001b[0;34m\u001b[0m\u001b[0;34m\u001b[0m\u001b[0m\n\u001b[0m\u001b[1;32m     23\u001b[0m         \u001b[0mnp\u001b[0m\u001b[0;34m.\u001b[0m\u001b[0mdot\u001b[0m \u001b[0;34m=\u001b[0m \u001b[0mdot\u001b[0m\u001b[0;34m\u001b[0m\u001b[0;34m\u001b[0m\u001b[0m\n\u001b[1;32m     24\u001b[0m     \u001b[0;32melse\u001b[0m\u001b[0;34m:\u001b[0m\u001b[0;34m\u001b[0m\u001b[0;34m\u001b[0m\u001b[0m\n",
            "\u001b[0;32m/usr/local/lib/python3.8/dist-packages/numpy/core/overrides.py\u001b[0m in \u001b[0;36mdot\u001b[0;34m(*args, **kwargs)\u001b[0m\n",
            "\u001b[0;31mValueError\u001b[0m: shapes (4,) and (3,4) not aligned: 4 (dim 0) != 3 (dim 0)"
          ]
        }
      ]
    },
    {
      "cell_type": "markdown",
      "source": [
        "We got a shape error, thats becayse we are trying to make a dot product of two matrix which are inconsistent , for this, we just need to transpose one of them\n",
        "\n"
      ],
      "metadata": {
        "id": "vCAEJ61pZJpH"
      }
    },
    {
      "cell_type": "code",
      "source": [
        "output = np.dot(inputs , weights.T) + baises"
      ],
      "metadata": {
        "id": "ysEQGMvRihHE"
      },
      "execution_count": 113,
      "outputs": []
    },
    {
      "cell_type": "code",
      "source": [
        "output"
      ],
      "metadata": {
        "colab": {
          "base_uri": "https://localhost:8080/"
        },
        "id": "QyKOm9RPwFwc",
        "outputId": "55ac4c4b-9cad-418f-bfda-278a3cb931b4"
      },
      "execution_count": 114,
      "outputs": [
        {
          "output_type": "execute_result",
          "data": {
            "text/plain": [
              "array([4.79999995, 1.21000004, 2.38499999])"
            ]
          },
          "metadata": {},
          "execution_count": 114
        }
      ]
    },
    {
      "cell_type": "markdown",
      "source": [
        "And we got almost the same answers"
      ],
      "metadata": {
        "id": "B-j-N0_PipSn"
      }
    },
    {
      "cell_type": "markdown",
      "source": [
        "Now lets try doing the same with a bunch of neurons"
      ],
      "metadata": {
        "id": "s64AFahNitLC"
      }
    },
    {
      "cell_type": "code",
      "source": [
        "inputs = np.array([[1 , 2 , 3 , 2.5] , \n",
        "                   [2 , 5 , -1 , 2] , \n",
        "                   [-1.5 , 2.7 , 3.3 , -0.8]])\n",
        "\n",
        "weights = np.array([[0.2 , 0.8 , -0.5 , 1] , \n",
        "             [0.5 , -0.91 , 0.26 , -0.5] , \n",
        "             [-0.26 , -0.27 , 0.17 , 0.87]])\n",
        "\n",
        "baises  = np.array([2 , 3 , 0.5])"
      ],
      "metadata": {
        "id": "upbv6KQEwTO7"
      },
      "execution_count": 115,
      "outputs": []
    },
    {
      "cell_type": "code",
      "source": [
        "output = np.dot(inputs , weights.T) + baises"
      ],
      "metadata": {
        "id": "y3sDiy4_EOBY"
      },
      "execution_count": 116,
      "outputs": []
    },
    {
      "cell_type": "code",
      "source": [
        "output"
      ],
      "metadata": {
        "colab": {
          "base_uri": "https://localhost:8080/"
        },
        "id": "tJJWNaT1EQKp",
        "outputId": "7033a6a3-4098-4e58-9679-0fc98b2bf527"
      },
      "execution_count": 117,
      "outputs": [
        {
          "output_type": "execute_result",
          "data": {
            "text/plain": [
              "array([[ 4.79999995,  1.21000004,  2.38499999],\n",
              "       [ 8.9000001 , -1.80999994,  0.19999999],\n",
              "       [ 1.41000003,  1.051     ,  0.02599999]])"
            ]
          },
          "metadata": {},
          "execution_count": 117
        }
      ]
    },
    {
      "cell_type": "markdown",
      "source": [
        "Now lets try to add a third layer, the inputs for the third layer will be the outputs from the second layer "
      ],
      "metadata": {
        "id": "kBF0hPvNi1_q"
      }
    },
    {
      "cell_type": "code",
      "source": [
        "inputs = np.array([[1 , 2 , 3 , 2.5] , \n",
        "                   [2 , 5 , -1 , 2] , \n",
        "                   [-1.5 , 2.7 , 3.3 , -0.8]])\n",
        "\n",
        "baises_1  = np.array([2 , 3 , 0.5])\n",
        "\n",
        "weights_1 = np.array([[0.2 , 0.8 , -0.5 , 1] , \n",
        "             [0.5 , -0.91 , 0.26 , -0.5] , \n",
        "             [-0.26 , -0.27 , 0.17 , 0.87]])\n",
        "\n",
        "# ***************************************************************\n",
        "\n",
        "weights_2 = np.array([[0.1 , -0.14 , 0.5] , \n",
        "                      [0.5 , 0.12 , -0.33] , \n",
        "                      [-0.44 , 0.73 , -0.13]])\n",
        "\n",
        "baises_2 = np.array([-1 , 2 , -0.5])\n"
      ],
      "metadata": {
        "id": "8BVKqPFoEUKI"
      },
      "execution_count": 118,
      "outputs": []
    },
    {
      "cell_type": "code",
      "source": [
        "output_1 = np.dot(inputs , weights_1.T) + baises_1"
      ],
      "metadata": {
        "id": "AMzL9MwlFky-"
      },
      "execution_count": 119,
      "outputs": []
    },
    {
      "cell_type": "code",
      "source": [
        "output_1"
      ],
      "metadata": {
        "colab": {
          "base_uri": "https://localhost:8080/"
        },
        "id": "slYdmJImjPEC",
        "outputId": "e0b51ef4-39e9-4cc6-8f05-d914b10502cd"
      },
      "execution_count": 121,
      "outputs": [
        {
          "output_type": "execute_result",
          "data": {
            "text/plain": [
              "array([[ 4.79999995,  1.21000004,  2.38499999],\n",
              "       [ 8.9000001 , -1.80999994,  0.19999999],\n",
              "       [ 1.41000003,  1.051     ,  0.02599999]])"
            ]
          },
          "metadata": {},
          "execution_count": 121
        }
      ]
    },
    {
      "cell_type": "markdown",
      "source": [
        "Ouput of this layer will be the inputs of the other layer "
      ],
      "metadata": {
        "id": "bJ_sx5xJjCGS"
      }
    },
    {
      "cell_type": "code",
      "source": [
        "output_2 = np.dot(output_1 , weights_2.T) + baises_2"
      ],
      "metadata": {
        "id": "ZgUVZUoVFtie"
      },
      "execution_count": 120,
      "outputs": []
    },
    {
      "cell_type": "code",
      "source": [
        "output_2"
      ],
      "metadata": {
        "colab": {
          "base_uri": "https://localhost:8080/"
        },
        "id": "6WMPM7pNF1Ag",
        "outputId": "e24d68b6-0ff6-47e6-8c98-3a5f6a216439"
      },
      "execution_count": 122,
      "outputs": [
        {
          "output_type": "execute_result",
          "data": {
            "text/plain": [
              "array([[ 0.50310004,  3.75814998, -2.03874993],\n",
              "       [ 0.24339998,  6.16680002, -5.76329994],\n",
              "       [-0.99314   ,  2.82254004, -0.35655001]])"
            ]
          },
          "metadata": {},
          "execution_count": 122
        }
      ]
    },
    {
      "cell_type": "markdown",
      "source": [
        "As we are moving futer we are increasing our scale, lets try to get help from this `nnfs` library for some simplicity in future"
      ],
      "metadata": {
        "id": "Ll0WxwvtjUKY"
      }
    },
    {
      "cell_type": "code",
      "source": [
        "! pip install nnfs\n",
        "import nnfs\n",
        "nnfs.init()"
      ],
      "metadata": {
        "colab": {
          "base_uri": "https://localhost:8080/"
        },
        "id": "aHBncbyyGlWs",
        "outputId": "1aa3b24e-ae9b-49b7-bfd2-9455eeb7f31a"
      },
      "execution_count": 123,
      "outputs": [
        {
          "output_type": "stream",
          "name": "stdout",
          "text": [
            "Looking in indexes: https://pypi.org/simple, https://us-python.pkg.dev/colab-wheels/public/simple/\n",
            "Requirement already satisfied: nnfs in /usr/local/lib/python3.8/dist-packages (0.5.1)\n",
            "Requirement already satisfied: numpy in /usr/local/lib/python3.8/dist-packages (from nnfs) (1.22.4)\n"
          ]
        }
      ]
    },
    {
      "cell_type": "markdown",
      "source": [
        "Now we dont need to asign inputs everytime manually, we will just get a sample dataset from this library for inputs"
      ],
      "metadata": {
        "id": "ZFOdvwwcjjxa"
      }
    },
    {
      "cell_type": "code",
      "source": [
        "from nnfs.datasets import spiral_data"
      ],
      "metadata": {
        "id": "7sDHdQOnGtsv"
      },
      "execution_count": 126,
      "outputs": []
    },
    {
      "cell_type": "code",
      "source": [
        "x , y = spiral_data(samples = 5 , classes = 3)"
      ],
      "metadata": {
        "id": "V9ZFUHBTj5yn"
      },
      "execution_count": 128,
      "outputs": []
    },
    {
      "cell_type": "code",
      "source": [
        "x"
      ],
      "metadata": {
        "colab": {
          "base_uri": "https://localhost:8080/"
        },
        "id": "mSCNa_7WkC7r",
        "outputId": "eb1e2967-01e1-4a4a-e9f9-d6804265a5fe"
      },
      "execution_count": 129,
      "outputs": [
        {
          "output_type": "execute_result",
          "data": {
            "text/plain": [
              "array([[ 0.        ,  0.        ],\n",
              "       [ 0.1068272 , -0.22602643],\n",
              "       [-0.3565171 ,  0.35056463],\n",
              "       [ 0.54027534, -0.52019477],\n",
              "       [-0.9980913 , -0.06175594],\n",
              "       [-0.        , -0.        ],\n",
              "       [ 0.09934813,  0.22941218],\n",
              "       [ 0.35293192, -0.35417378],\n",
              "       [-0.73923534,  0.12661397],\n",
              "       [ 0.97696507,  0.2133992 ],\n",
              "       [ 0.        ,  0.        ],\n",
              "       [-0.23611835, -0.082147  ],\n",
              "       [ 0.12262503,  0.48472992],\n",
              "       [ 0.49086097, -0.5670586 ],\n",
              "       [-0.9298463 ,  0.36794814]], dtype=float32)"
            ]
          },
          "metadata": {},
          "execution_count": 129
        }
      ]
    },
    {
      "cell_type": "code",
      "source": [
        "y"
      ],
      "metadata": {
        "colab": {
          "base_uri": "https://localhost:8080/"
        },
        "id": "f54PRviakElD",
        "outputId": "f50f560a-edd1-4528-c1dd-f4b838b73cff"
      },
      "execution_count": 130,
      "outputs": [
        {
          "output_type": "execute_result",
          "data": {
            "text/plain": [
              "array([0, 0, 0, 0, 0, 1, 1, 1, 1, 1, 2, 2, 2, 2, 2], dtype=uint8)"
            ]
          },
          "metadata": {},
          "execution_count": 130
        }
      ]
    },
    {
      "cell_type": "markdown",
      "source": [
        "Lets get some random weights of a specific size"
      ],
      "metadata": {
        "id": "NROfNd6kkU6I"
      }
    },
    {
      "cell_type": "code",
      "source": [
        "weights = np.random.randn(2 , 3)"
      ],
      "metadata": {
        "id": "1E5WTwYXkMeo"
      },
      "execution_count": 137,
      "outputs": []
    },
    {
      "cell_type": "code",
      "source": [
        "weights"
      ],
      "metadata": {
        "colab": {
          "base_uri": "https://localhost:8080/"
        },
        "id": "17qQU8HakSXy",
        "outputId": "8d15e403-2c26-499c-bfa6-8dd3b767c390"
      },
      "execution_count": 138,
      "outputs": [
        {
          "output_type": "execute_result",
          "data": {
            "text/plain": [
              "array([[-1.9807965 , -0.34791216,  0.15634897],\n",
              "       [ 1.2302907 ,  1.2023798 , -0.3873268 ]], dtype=float32)"
            ]
          },
          "metadata": {},
          "execution_count": 138
        }
      ]
    },
    {
      "cell_type": "markdown",
      "source": [
        "Here $2$ is the number of input and $3$ is the number of output neurons "
      ],
      "metadata": {
        "id": "5tSSgWC2lfgw"
      }
    },
    {
      "cell_type": "markdown",
      "source": [
        "These values do not lie in the range of $(-1 , 1)$, so we will just divide them "
      ],
      "metadata": {
        "id": "GRSRH3oJkhEb"
      }
    },
    {
      "cell_type": "code",
      "source": [
        "weights = 0.01 * np.random.randn(2 , 3)"
      ],
      "metadata": {
        "id": "Zy2GkNA6k80h"
      },
      "execution_count": 139,
      "outputs": []
    },
    {
      "cell_type": "code",
      "source": [
        "weights"
      ],
      "metadata": {
        "colab": {
          "base_uri": "https://localhost:8080/"
        },
        "id": "HNDf_gcgk-2Z",
        "outputId": "54b6063f-555c-4d97-cf3d-3b98ef24eb9a"
      },
      "execution_count": 140,
      "outputs": [
        {
          "output_type": "execute_result",
          "data": {
            "text/plain": [
              "array([[-0.00302303, -0.01048553, -0.01420018],\n",
              "       [-0.0170627 ,  0.01950775, -0.00509652]], dtype=float32)"
            ]
          },
          "metadata": {},
          "execution_count": 140
        }
      ]
    },
    {
      "cell_type": "markdown",
      "source": [
        "These are much better"
      ],
      "metadata": {
        "id": "BLC0Wmovk5Ux"
      }
    },
    {
      "cell_type": "markdown",
      "source": [
        "It is good to initialize biases as zeros as of now, so we will be using `np.zeros` function to get an array of zeros. Obviously we need $3$ baises, as we have defined that we have $3$ output neurons"
      ],
      "metadata": {
        "id": "U8W9fm-0kg9d"
      }
    },
    {
      "cell_type": "code",
      "source": [
        "biases = np.zeros((1 , 3))"
      ],
      "metadata": {
        "id": "rgrHh6KYlRUH"
      },
      "execution_count": 141,
      "outputs": []
    },
    {
      "cell_type": "markdown",
      "source": [
        "Now we have inputs `x`, weights and baises, so lets calculate output"
      ],
      "metadata": {
        "id": "g0-oMas9ly1Q"
      }
    },
    {
      "cell_type": "code",
      "source": [
        "output = np.dot(x , weights) + biases"
      ],
      "metadata": {
        "id": "KTQvPCpglyFl"
      },
      "execution_count": 142,
      "outputs": []
    },
    {
      "cell_type": "code",
      "source": [
        "output"
      ],
      "metadata": {
        "colab": {
          "base_uri": "https://localhost:8080/"
        },
        "id": "Q2hmb_ANmLKt",
        "outputId": "3466c932-9bd4-49f7-b3ae-804156557e6c"
      },
      "execution_count": 143,
      "outputs": [
        {
          "output_type": "execute_result",
          "data": {
            "text/plain": [
              "array([[ 0.0000000e+00,  0.0000000e+00,  0.0000000e+00],\n",
              "       [ 3.5336800e-03, -5.5294074e-03, -3.6501675e-04],\n",
              "       [-4.9038185e-03,  1.0576999e-02,  3.2759465e-03],\n",
              "       [ 7.2426610e-03, -1.5812904e-02, -5.0208224e-03],\n",
              "       [ 4.0709805e-03,  9.2607960e-03,  1.4487815e-02],\n",
              "       [ 0.0000000e+00,  0.0000000e+00,  0.0000000e+00],\n",
              "       [-4.2147236e-03,  3.4335984e-03, -2.5799654e-03],\n",
              "       [ 4.9762386e-03, -1.0609813e-02, -3.2066421e-03],\n",
              "       [ 7.4352298e-05,  1.0221228e-02,  9.8519828e-03],\n",
              "       [-6.5945592e-03, -6.0810577e-03, -1.4960673e-02],\n",
              "       [ 0.0000000e+00,  0.0000000e+00,  0.0000000e+00],\n",
              "       [ 2.1154420e-03,  8.7332260e-04,  3.7715868e-03],\n",
              "       [-8.6415010e-03,  8.1702033e-03, -4.2117340e-03],\n",
              "       [ 8.1916656e-03, -1.6208977e-02, -4.0802872e-03],\n",
              "       [-3.4672385e-03,  1.6927773e-02,  1.1328728e-02]], dtype=float32)"
            ]
          },
          "metadata": {},
          "execution_count": 143
        }
      ]
    },
    {
      "cell_type": "markdown",
      "source": [
        "And we have the output we have desired"
      ],
      "metadata": {
        "id": "8i0oHDxvmNn0"
      }
    },
    {
      "cell_type": "markdown",
      "source": [
        "Now lets try to implement this in a class so that we can make diffrent layers and add neurons"
      ],
      "metadata": {
        "id": "snCkqzStmT9i"
      }
    },
    {
      "cell_type": "code",
      "source": [
        "class Dense:\n",
        "\n",
        "    def __init__(self , inputs , neurons):\n",
        "        \n",
        "        self.weights = 0.01 * np.random.randn(inputs , neurons)\n",
        "        self.biases = np.zeros((1 , neurons))\n",
        "    \n",
        "    def forward(self , inputs):\n",
        "    \n",
        "        self.output = np.dot(inputs , self.weights) + self.biases"
      ],
      "metadata": {
        "id": "xe7KtMpMF1tI"
      },
      "execution_count": 162,
      "outputs": []
    }
  ]
}