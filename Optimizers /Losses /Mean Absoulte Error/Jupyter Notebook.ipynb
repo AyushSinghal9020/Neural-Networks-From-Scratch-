{
  "nbformat": 4,
  "nbformat_minor": 0,
  "metadata": {
    "colab": {
      "provenance": []
    },
    "kernelspec": {
      "name": "python3",
      "display_name": "Python 3"
    },
    "language_info": {
      "name": "python"
    }
  },
  "cells": [
    {
      "cell_type": "markdown",
      "source": [
        "# MAE \n",
        "\n",
        "<img src = \"https://jmlb.github.io/images/20180701/img_01.png\">\n",
        "\n",
        "Mean Absolute Error (MAE) is a commonly used metric in regression analysis to evaluate the accuracy of a model's predictions. It measures the average difference between the predicted and actual values of the target variable.\n",
        "\n",
        "The MAE is measured in the same units as the target variable, which makes it easy to interpret. A lower MAE value indicates better accuracy of the model's predictions, whereas a higher MAE value indicates poorer accuracy.\n",
        "\n",
        "MAE has some advantages over other metrics such as mean squared error (MSE) as it is less sensitive to outliers, since it does not involve squaring the differences between actual and predicted values. However, it may not penalize larger errors as strongly as MSE.\n",
        "\n",
        "$$MAE = \\frac {1}{n}\\sum\\limits _{i = 1}^{n}|actual - predicted|$$\n"
      ],
      "metadata": {
        "id": "ZZes0QJ5pEWp"
      }
    },
    {
      "cell_type": "code",
      "execution_count": 1,
      "metadata": {
        "id": "D7JX7aLRopz-"
      },
      "outputs": [],
      "source": [
        "import numpy as np "
      ]
    },
    {
      "cell_type": "markdown",
      "source": [
        "Lets assume we have these values"
      ],
      "metadata": {
        "id": "Fnqclib3qRdv"
      }
    },
    {
      "cell_type": "code",
      "source": [
        "predicted = 12\n",
        "actual = 14"
      ],
      "metadata": {
        "id": "RrFu_KVtqQFu"
      },
      "execution_count": 2,
      "outputs": []
    },
    {
      "cell_type": "markdown",
      "source": [
        "The error, also can be said as the difference between these values will be"
      ],
      "metadata": {
        "id": "DPMoFCPiqVdE"
      }
    },
    {
      "cell_type": "code",
      "source": [
        "predicted - actual"
      ],
      "metadata": {
        "colab": {
          "base_uri": "https://localhost:8080/"
        },
        "id": "csHkEwXNqT5D",
        "outputId": "dd5e1a25-6328-42d3-8c0c-fb7cbcd2dca8"
      },
      "execution_count": 3,
      "outputs": [
        {
          "output_type": "execute_result",
          "data": {
            "text/plain": [
              "-2"
            ]
          },
          "metadata": {},
          "execution_count": 3
        }
      ]
    },
    {
      "cell_type": "markdown",
      "source": [
        "As we know this is in naegative, but we need to have a positive error, for easier computation, so we will add the mod function here "
      ],
      "metadata": {
        "id": "QDusoAktqY07"
      }
    },
    {
      "cell_type": "code",
      "source": [
        "abs(predicted - actual)"
      ],
      "metadata": {
        "colab": {
          "base_uri": "https://localhost:8080/"
        },
        "id": "iAae4On9qXI-",
        "outputId": "838bc0f5-78d1-49a3-d90d-8e34975163ed"
      },
      "execution_count": 4,
      "outputs": [
        {
          "output_type": "execute_result",
          "data": {
            "text/plain": [
              "2"
            ]
          },
          "metadata": {},
          "execution_count": 4
        }
      ]
    },
    {
      "cell_type": "markdown",
      "source": [
        "Now lets assume we have a list of values"
      ],
      "metadata": {
        "id": "Q1nFDonZqoLc"
      }
    },
    {
      "cell_type": "code",
      "source": [
        "actual = np.array([x for x in range(10)])\n",
        "predicted = np.array([x for x in range(0 , 20 , 2)])"
      ],
      "metadata": {
        "id": "-tBk8BJxql7O"
      },
      "execution_count": 5,
      "outputs": []
    },
    {
      "cell_type": "code",
      "source": [
        "actual "
      ],
      "metadata": {
        "colab": {
          "base_uri": "https://localhost:8080/"
        },
        "id": "KmxNtuM0qv12",
        "outputId": "da89a031-21d9-474a-b19a-bece9d418ce8"
      },
      "execution_count": 7,
      "outputs": [
        {
          "output_type": "execute_result",
          "data": {
            "text/plain": [
              "array([0, 1, 2, 3, 4, 5, 6, 7, 8, 9])"
            ]
          },
          "metadata": {},
          "execution_count": 7
        }
      ]
    },
    {
      "cell_type": "code",
      "source": [
        "predicted"
      ],
      "metadata": {
        "colab": {
          "base_uri": "https://localhost:8080/"
        },
        "id": "PYr44wsIqvzq",
        "outputId": "e8d4f68f-a31f-4d82-d9b5-e7be6f1a4044"
      },
      "execution_count": 8,
      "outputs": [
        {
          "output_type": "execute_result",
          "data": {
            "text/plain": [
              "array([ 0,  2,  4,  6,  8, 10, 12, 14, 16, 18])"
            ]
          },
          "metadata": {},
          "execution_count": 8
        }
      ]
    },
    {
      "cell_type": "code",
      "source": [
        "abs(predicted - actual)"
      ],
      "metadata": {
        "colab": {
          "base_uri": "https://localhost:8080/"
        },
        "id": "GVptaGTNqswf",
        "outputId": "90e31266-ff00-4903-ca6c-0e648247257b"
      },
      "execution_count": 6,
      "outputs": [
        {
          "output_type": "execute_result",
          "data": {
            "text/plain": [
              "array([0, 1, 2, 3, 4, 5, 6, 7, 8, 9])"
            ]
          },
          "metadata": {},
          "execution_count": 6
        }
      ]
    },
    {
      "cell_type": "markdown",
      "source": [
        "If we calculate the mean of this error, it will be"
      ],
      "metadata": {
        "id": "jSFDSocuq1x4"
      }
    },
    {
      "cell_type": "code",
      "source": [
        "abs(predicted - actual).mean()"
      ],
      "metadata": {
        "colab": {
          "base_uri": "https://localhost:8080/"
        },
        "id": "zBsAwCVdquke",
        "outputId": "dd25006f-fd3b-4c8a-b719-7e9b76e1e5f9"
      },
      "execution_count": 9,
      "outputs": [
        {
          "output_type": "execute_result",
          "data": {
            "text/plain": [
              "4.5"
            ]
          },
          "metadata": {},
          "execution_count": 9
        }
      ]
    },
    {
      "cell_type": "markdown",
      "source": [
        "This can now be said as the `mean absolute error `"
      ],
      "metadata": {
        "id": "G7lY9RaLq8BD"
      }
    },
    {
      "cell_type": "markdown",
      "source": [
        "Lets now put all of this into a function for better usage "
      ],
      "metadata": {
        "id": "EsSNaGSGrBsi"
      }
    },
    {
      "cell_type": "code",
      "source": [
        "def MAE(predicted , actual):\n",
        "    \n",
        "    error = (abs(predicted - actual)).mean()\n",
        "\n",
        "    return error"
      ],
      "metadata": {
        "id": "XVsXJI0Eq4VN"
      },
      "execution_count": 10,
      "outputs": []
    }
  ]
}