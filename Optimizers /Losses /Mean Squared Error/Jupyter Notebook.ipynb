{
  "nbformat": 4,
  "nbformat_minor": 0,
  "metadata": {
    "colab": {
      "provenance": []
    },
    "kernelspec": {
      "name": "python3",
      "display_name": "Python 3"
    },
    "language_info": {
      "name": "python"
    }
  },
  "cells": [
    {
      "cell_type": "markdown",
      "source": [
        "# MSE (Mean Sqaured Error) \n",
        "\n",
        "<img src = \"https://ambrapaliaidata.blob.core.windows.net/ai-storage/articles/2.png\">\n",
        "\n",
        "Mean Squared Error (MSE) is a common metric used to measure the performance of regression models. It measures the average squared difference between the predicted and actual values of a given dataset.\n",
        "\n",
        "To calculate the MSE, you need to take the difference between the predicted and actual values for each data point in the dataset, square the difference, and then take the average of all these squared differences. This provides an overall measure of how well the model is performing in terms of predicting the target variable.\n",
        "\n",
        "MSE is a useful metric because it penalizes large errors more heavily than small errors, since the errors are squared. This means that a model with a high MSE is likely making larger errors on average than a model with a lower MSE.\n",
        "\n",
        "However, MSE is sensitive to outliers in the data, as they can have a large impact on the overall score. In cases where outliers are a concern, other metrics such as Mean Absolute Error (MAE) may be more appropriate.\n",
        "\n",
        "$$Error = \\frac {1}{n}\\sum\\limits_{i = 1}^{n}(actual - predicted)^2$$"
      ],
      "metadata": {
        "id": "xH5pfSAC_Yf2"
      }
    },
    {
      "cell_type": "code",
      "source": [
        "import numpy as np "
      ],
      "metadata": {
        "id": "5n1EJQyiAIo8"
      },
      "execution_count": 3,
      "outputs": []
    },
    {
      "cell_type": "markdown",
      "source": [
        "Lets assume we have these values"
      ],
      "metadata": {
        "id": "UUbA7MgU_u_t"
      }
    },
    {
      "cell_type": "code",
      "execution_count": 1,
      "metadata": {
        "id": "vA9Y-n_w_Sov"
      },
      "outputs": [],
      "source": [
        "predicted = 12\n",
        "actual = 10"
      ]
    },
    {
      "cell_type": "markdown",
      "source": [
        "The error, also can be said as the difference between these values will be "
      ],
      "metadata": {
        "id": "1Dmb9W99_2pk"
      }
    },
    {
      "cell_type": "code",
      "source": [
        "predicted - actual"
      ],
      "metadata": {
        "colab": {
          "base_uri": "https://localhost:8080/"
        },
        "id": "iVZhUTVN_1IH",
        "outputId": "b11fe4a0-d2de-4295-b178-aa9a5aa49982"
      },
      "execution_count": 2,
      "outputs": [
        {
          "output_type": "execute_result",
          "data": {
            "text/plain": [
              "2"
            ]
          },
          "metadata": {},
          "execution_count": 2
        }
      ]
    },
    {
      "cell_type": "markdown",
      "source": [
        "Now lets assume we have a list of values"
      ],
      "metadata": {
        "id": "YHpL_jmrAARL"
      }
    },
    {
      "cell_type": "code",
      "source": [
        "predicted = np.array([x for x in range(10)])\n",
        "actual = np.array([x for x in range(0 , 20 , 2)])"
      ],
      "metadata": {
        "id": "RcUj2hZm_-pz"
      },
      "execution_count": 4,
      "outputs": []
    },
    {
      "cell_type": "code",
      "source": [
        "predicted"
      ],
      "metadata": {
        "colab": {
          "base_uri": "https://localhost:8080/"
        },
        "id": "kYVk6GchAWeY",
        "outputId": "3dae7c12-9752-46f2-8204-39d23c5b0df5"
      },
      "execution_count": 5,
      "outputs": [
        {
          "output_type": "execute_result",
          "data": {
            "text/plain": [
              "array([0, 1, 2, 3, 4, 5, 6, 7, 8, 9])"
            ]
          },
          "metadata": {},
          "execution_count": 5
        }
      ]
    },
    {
      "cell_type": "code",
      "source": [
        "actual"
      ],
      "metadata": {
        "colab": {
          "base_uri": "https://localhost:8080/"
        },
        "id": "_VIoUJxtAXTr",
        "outputId": "9c8a6a4d-a41e-4546-d4ce-b6d19d58526c"
      },
      "execution_count": 6,
      "outputs": [
        {
          "output_type": "execute_result",
          "data": {
            "text/plain": [
              "array([ 0,  2,  4,  6,  8, 10, 12, 14, 16, 18])"
            ]
          },
          "metadata": {},
          "execution_count": 6
        }
      ]
    },
    {
      "cell_type": "markdown",
      "source": [
        "The error for this will be "
      ],
      "metadata": {
        "id": "UEK3zYULAZiL"
      }
    },
    {
      "cell_type": "code",
      "source": [
        "error = actual - predicted"
      ],
      "metadata": {
        "id": "SPVo20bgAXvC"
      },
      "execution_count": 8,
      "outputs": []
    },
    {
      "cell_type": "code",
      "source": [
        "error"
      ],
      "metadata": {
        "colab": {
          "base_uri": "https://localhost:8080/"
        },
        "id": "GC0jSjwBAdQV",
        "outputId": "a7eed0fa-53d7-4d75-c633-8e8eb5899e4b"
      },
      "execution_count": 9,
      "outputs": [
        {
          "output_type": "execute_result",
          "data": {
            "text/plain": [
              "array([0, 1, 2, 3, 4, 5, 6, 7, 8, 9])"
            ]
          },
          "metadata": {},
          "execution_count": 9
        }
      ]
    },
    {
      "cell_type": "markdown",
      "source": [
        "If we calculate the mean of this error, it will be "
      ],
      "metadata": {
        "id": "512YZJ92AqLu"
      }
    },
    {
      "cell_type": "code",
      "source": [
        "error.mean()"
      ],
      "metadata": {
        "colab": {
          "base_uri": "https://localhost:8080/"
        },
        "id": "Zj8S3YMwAgHB",
        "outputId": "0fe5fa4f-ad0d-44b6-bcf6-d3e298fd3ed8"
      },
      "execution_count": 11,
      "outputs": [
        {
          "output_type": "execute_result",
          "data": {
            "text/plain": [
              "4.5"
            ]
          },
          "metadata": {},
          "execution_count": 11
        }
      ]
    },
    {
      "cell_type": "markdown",
      "source": [
        "It can be then said as `mean error`"
      ],
      "metadata": {
        "id": "ddGvag6CAvKW"
      }
    },
    {
      "cell_type": "markdown",
      "source": [
        "But as we move to a real world dataset, it is quite possible that these values start to cancel out each other "
      ],
      "metadata": {
        "id": "-pNboCAjAym2"
      }
    },
    {
      "cell_type": "markdown",
      "source": [
        "Thats we introduce a `square` to all the terms, to make them posiitve and still get the results"
      ],
      "metadata": {
        "id": "sn-UPlllBAM8"
      }
    },
    {
      "cell_type": "code",
      "source": [
        "error = (actual - predicted) ** 2"
      ],
      "metadata": {
        "id": "THaInEkzAoie"
      },
      "execution_count": 12,
      "outputs": []
    },
    {
      "cell_type": "code",
      "source": [
        "error"
      ],
      "metadata": {
        "colab": {
          "base_uri": "https://localhost:8080/"
        },
        "id": "8omjNrJHBKxP",
        "outputId": "cccc35eb-3db2-4d51-db89-be470fb11d54"
      },
      "execution_count": 13,
      "outputs": [
        {
          "output_type": "execute_result",
          "data": {
            "text/plain": [
              "array([ 0,  1,  4,  9, 16, 25, 36, 49, 64, 81])"
            ]
          },
          "metadata": {},
          "execution_count": 13
        }
      ]
    },
    {
      "cell_type": "markdown",
      "source": [
        "And now the mean will be "
      ],
      "metadata": {
        "id": "lMKjR7G9BNsJ"
      }
    },
    {
      "cell_type": "code",
      "source": [
        "error.mean()"
      ],
      "metadata": {
        "colab": {
          "base_uri": "https://localhost:8080/"
        },
        "id": "ciWh_EU7BLh1",
        "outputId": "526dec30-02ba-4623-cd11-3aada52a5a84"
      },
      "execution_count": 14,
      "outputs": [
        {
          "output_type": "execute_result",
          "data": {
            "text/plain": [
              "28.5"
            ]
          },
          "metadata": {},
          "execution_count": 14
        }
      ]
    },
    {
      "cell_type": "markdown",
      "source": [
        "Though the mean is high, but it would be less vulnerable "
      ],
      "metadata": {
        "id": "5HrJNkHcBRVg"
      }
    },
    {
      "cell_type": "markdown",
      "source": [
        "Lets now just make a function for this and put all of this seperately "
      ],
      "metadata": {
        "id": "O4S730fNBc7S"
      }
    },
    {
      "cell_type": "code",
      "source": [
        "def MSE(predicted , actual):\n",
        "    \n",
        "    error = ((predicted - actual) ** 2).mean()\n",
        "\n",
        "    return error"
      ],
      "metadata": {
        "id": "n_haQYDuBQUe"
      },
      "execution_count": null,
      "outputs": []
    }
  ]
}