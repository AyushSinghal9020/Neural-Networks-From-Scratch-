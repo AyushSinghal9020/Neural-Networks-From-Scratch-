{
  "nbformat": 4,
  "nbformat_minor": 0,
  "metadata": {
    "colab": {
      "provenance": []
    },
    "kernelspec": {
      "name": "python3",
      "display_name": "Python 3"
    },
    "language_info": {
      "name": "python"
    }
  },
  "cells": [
    {
      "cell_type": "markdown",
      "source": [
        "# Gradient Descent \n",
        "\n",
        "Gradient Descent is an iterative optimization algorithm used to find the minimum of a function. It is widely used in machine learning and artificial intelligence to update the parameters of a model to minimize the loss function.\n",
        "\n",
        "The idea behind gradient descent is to take steps in the direction of the negative gradient of the function, which indicates the direction of steepest descent. The size of each step is determined by the learning rate, which controls the rate at which the algorithm converges.\n",
        "\n",
        "There are three variants of gradient descent: batch gradient descent, stochastic gradient descent, and mini-batch gradient descent. Batch gradient descent computes the gradient of the entire dataset, while stochastic gradient descent computes the gradient of a single example at a time. Mini-batch gradient descent computes the gradient of a small batch of examples.\n",
        "\n",
        "Gradient descent can be susceptible to getting stuck in local minima, so advanced techniques like momentum, AdaGrad, RMSProp, and Adam are often used to improve convergence and prevent overshooting.\n",
        "\n",
        "Overall, gradient descent is a powerful optimization algorithm that is essential for training machine learning models.\n",
        "\n",
        "**Modules Used**\n",
        "* Numpy \n",
        "* Pandas \n",
        "* Sklearn\n",
        "\n",
        "**Note**\n",
        "* Pandas was only used to import the dataset\n",
        "* Sklearn was only used to validate the build \n",
        "* This is the [dataset](https://github.com/VikParuchuri/zero_to_gpt/blob/master/data/clean_weather.csv) used "
      ],
      "metadata": {
        "id": "ihMA4-iWeYql"
      }
    },
    {
      "cell_type": "markdown",
      "source": [
        "Lets try to make our own Gradient Descent here "
      ],
      "metadata": {
        "id": "OUlnyXFdmaFf"
      }
    },
    {
      "cell_type": "code",
      "execution_count": 130,
      "metadata": {
        "id": "nyfEPK9T8qag"
      },
      "outputs": [],
      "source": [
        "import numpy as np \n",
        "import pandas as pd "
      ]
    },
    {
      "cell_type": "markdown",
      "source": [
        "Lets assume we dataset like this "
      ],
      "metadata": {
        "id": "kYyTq6MNeuFw"
      }
    },
    {
      "cell_type": "code",
      "source": [
        "data = pd.read_csv(\"/content/clean_weather.csv\")"
      ],
      "metadata": {
        "id": "vxxyPFGFkgvI"
      },
      "execution_count": 131,
      "outputs": []
    },
    {
      "cell_type": "code",
      "source": [
        "data"
      ],
      "metadata": {
        "colab": {
          "base_uri": "https://localhost:8080/",
          "height": 423
        },
        "id": "9XBAMw2xk30x",
        "outputId": "c4bbc240-7bd8-4390-cba9-3ce8c3232114"
      },
      "execution_count": 132,
      "outputs": [
        {
          "output_type": "execute_result",
          "data": {
            "text/plain": [
              "       Unnamed: 0  tmax  tmin  rain  tmax_tomorrow\n",
              "0      1970-01-01  60.0  35.0   0.0           52.0\n",
              "1      1970-01-02  52.0  39.0   0.0           52.0\n",
              "2      1970-01-03  52.0  35.0   0.0           53.0\n",
              "3      1970-01-04  53.0  36.0   0.0           52.0\n",
              "4      1970-01-05  52.0  35.0   0.0           50.0\n",
              "...           ...   ...   ...   ...            ...\n",
              "13504  2022-11-22  62.0  35.0   0.0           67.0\n",
              "13505  2022-11-23  67.0  38.0   0.0           66.0\n",
              "13506  2022-11-24  66.0  41.0   0.0           70.0\n",
              "13507  2022-11-25  70.0  39.0   0.0           62.0\n",
              "13508  2022-11-26  62.0  41.0   0.0           64.0\n",
              "\n",
              "[13509 rows x 5 columns]"
            ],
            "text/html": [
              "\n",
              "  <div id=\"df-b609edbb-b4b3-4ed3-b59c-fb10ef39001d\">\n",
              "    <div class=\"colab-df-container\">\n",
              "      <div>\n",
              "<style scoped>\n",
              "    .dataframe tbody tr th:only-of-type {\n",
              "        vertical-align: middle;\n",
              "    }\n",
              "\n",
              "    .dataframe tbody tr th {\n",
              "        vertical-align: top;\n",
              "    }\n",
              "\n",
              "    .dataframe thead th {\n",
              "        text-align: right;\n",
              "    }\n",
              "</style>\n",
              "<table border=\"1\" class=\"dataframe\">\n",
              "  <thead>\n",
              "    <tr style=\"text-align: right;\">\n",
              "      <th></th>\n",
              "      <th>Unnamed: 0</th>\n",
              "      <th>tmax</th>\n",
              "      <th>tmin</th>\n",
              "      <th>rain</th>\n",
              "      <th>tmax_tomorrow</th>\n",
              "    </tr>\n",
              "  </thead>\n",
              "  <tbody>\n",
              "    <tr>\n",
              "      <th>0</th>\n",
              "      <td>1970-01-01</td>\n",
              "      <td>60.0</td>\n",
              "      <td>35.0</td>\n",
              "      <td>0.0</td>\n",
              "      <td>52.0</td>\n",
              "    </tr>\n",
              "    <tr>\n",
              "      <th>1</th>\n",
              "      <td>1970-01-02</td>\n",
              "      <td>52.0</td>\n",
              "      <td>39.0</td>\n",
              "      <td>0.0</td>\n",
              "      <td>52.0</td>\n",
              "    </tr>\n",
              "    <tr>\n",
              "      <th>2</th>\n",
              "      <td>1970-01-03</td>\n",
              "      <td>52.0</td>\n",
              "      <td>35.0</td>\n",
              "      <td>0.0</td>\n",
              "      <td>53.0</td>\n",
              "    </tr>\n",
              "    <tr>\n",
              "      <th>3</th>\n",
              "      <td>1970-01-04</td>\n",
              "      <td>53.0</td>\n",
              "      <td>36.0</td>\n",
              "      <td>0.0</td>\n",
              "      <td>52.0</td>\n",
              "    </tr>\n",
              "    <tr>\n",
              "      <th>4</th>\n",
              "      <td>1970-01-05</td>\n",
              "      <td>52.0</td>\n",
              "      <td>35.0</td>\n",
              "      <td>0.0</td>\n",
              "      <td>50.0</td>\n",
              "    </tr>\n",
              "    <tr>\n",
              "      <th>...</th>\n",
              "      <td>...</td>\n",
              "      <td>...</td>\n",
              "      <td>...</td>\n",
              "      <td>...</td>\n",
              "      <td>...</td>\n",
              "    </tr>\n",
              "    <tr>\n",
              "      <th>13504</th>\n",
              "      <td>2022-11-22</td>\n",
              "      <td>62.0</td>\n",
              "      <td>35.0</td>\n",
              "      <td>0.0</td>\n",
              "      <td>67.0</td>\n",
              "    </tr>\n",
              "    <tr>\n",
              "      <th>13505</th>\n",
              "      <td>2022-11-23</td>\n",
              "      <td>67.0</td>\n",
              "      <td>38.0</td>\n",
              "      <td>0.0</td>\n",
              "      <td>66.0</td>\n",
              "    </tr>\n",
              "    <tr>\n",
              "      <th>13506</th>\n",
              "      <td>2022-11-24</td>\n",
              "      <td>66.0</td>\n",
              "      <td>41.0</td>\n",
              "      <td>0.0</td>\n",
              "      <td>70.0</td>\n",
              "    </tr>\n",
              "    <tr>\n",
              "      <th>13507</th>\n",
              "      <td>2022-11-25</td>\n",
              "      <td>70.0</td>\n",
              "      <td>39.0</td>\n",
              "      <td>0.0</td>\n",
              "      <td>62.0</td>\n",
              "    </tr>\n",
              "    <tr>\n",
              "      <th>13508</th>\n",
              "      <td>2022-11-26</td>\n",
              "      <td>62.0</td>\n",
              "      <td>41.0</td>\n",
              "      <td>0.0</td>\n",
              "      <td>64.0</td>\n",
              "    </tr>\n",
              "  </tbody>\n",
              "</table>\n",
              "<p>13509 rows × 5 columns</p>\n",
              "</div>\n",
              "      <button class=\"colab-df-convert\" onclick=\"convertToInteractive('df-b609edbb-b4b3-4ed3-b59c-fb10ef39001d')\"\n",
              "              title=\"Convert this dataframe to an interactive table.\"\n",
              "              style=\"display:none;\">\n",
              "        \n",
              "  <svg xmlns=\"http://www.w3.org/2000/svg\" height=\"24px\"viewBox=\"0 0 24 24\"\n",
              "       width=\"24px\">\n",
              "    <path d=\"M0 0h24v24H0V0z\" fill=\"none\"/>\n",
              "    <path d=\"M18.56 5.44l.94 2.06.94-2.06 2.06-.94-2.06-.94-.94-2.06-.94 2.06-2.06.94zm-11 1L8.5 8.5l.94-2.06 2.06-.94-2.06-.94L8.5 2.5l-.94 2.06-2.06.94zm10 10l.94 2.06.94-2.06 2.06-.94-2.06-.94-.94-2.06-.94 2.06-2.06.94z\"/><path d=\"M17.41 7.96l-1.37-1.37c-.4-.4-.92-.59-1.43-.59-.52 0-1.04.2-1.43.59L10.3 9.45l-7.72 7.72c-.78.78-.78 2.05 0 2.83L4 21.41c.39.39.9.59 1.41.59.51 0 1.02-.2 1.41-.59l7.78-7.78 2.81-2.81c.8-.78.8-2.07 0-2.86zM5.41 20L4 18.59l7.72-7.72 1.47 1.35L5.41 20z\"/>\n",
              "  </svg>\n",
              "      </button>\n",
              "      \n",
              "  <style>\n",
              "    .colab-df-container {\n",
              "      display:flex;\n",
              "      flex-wrap:wrap;\n",
              "      gap: 12px;\n",
              "    }\n",
              "\n",
              "    .colab-df-convert {\n",
              "      background-color: #E8F0FE;\n",
              "      border: none;\n",
              "      border-radius: 50%;\n",
              "      cursor: pointer;\n",
              "      display: none;\n",
              "      fill: #1967D2;\n",
              "      height: 32px;\n",
              "      padding: 0 0 0 0;\n",
              "      width: 32px;\n",
              "    }\n",
              "\n",
              "    .colab-df-convert:hover {\n",
              "      background-color: #E2EBFA;\n",
              "      box-shadow: 0px 1px 2px rgba(60, 64, 67, 0.3), 0px 1px 3px 1px rgba(60, 64, 67, 0.15);\n",
              "      fill: #174EA6;\n",
              "    }\n",
              "\n",
              "    [theme=dark] .colab-df-convert {\n",
              "      background-color: #3B4455;\n",
              "      fill: #D2E3FC;\n",
              "    }\n",
              "\n",
              "    [theme=dark] .colab-df-convert:hover {\n",
              "      background-color: #434B5C;\n",
              "      box-shadow: 0px 1px 3px 1px rgba(0, 0, 0, 0.15);\n",
              "      filter: drop-shadow(0px 1px 2px rgba(0, 0, 0, 0.3));\n",
              "      fill: #FFFFFF;\n",
              "    }\n",
              "  </style>\n",
              "\n",
              "      <script>\n",
              "        const buttonEl =\n",
              "          document.querySelector('#df-b609edbb-b4b3-4ed3-b59c-fb10ef39001d button.colab-df-convert');\n",
              "        buttonEl.style.display =\n",
              "          google.colab.kernel.accessAllowed ? 'block' : 'none';\n",
              "\n",
              "        async function convertToInteractive(key) {\n",
              "          const element = document.querySelector('#df-b609edbb-b4b3-4ed3-b59c-fb10ef39001d');\n",
              "          const dataTable =\n",
              "            await google.colab.kernel.invokeFunction('convertToInteractive',\n",
              "                                                     [key], {});\n",
              "          if (!dataTable) return;\n",
              "\n",
              "          const docLinkHtml = 'Like what you see? Visit the ' +\n",
              "            '<a target=\"_blank\" href=https://colab.research.google.com/notebooks/data_table.ipynb>data table notebook</a>'\n",
              "            + ' to learn more about interactive tables.';\n",
              "          element.innerHTML = '';\n",
              "          dataTable['output_type'] = 'display_data';\n",
              "          await google.colab.output.renderOutput(dataTable, element);\n",
              "          const docLink = document.createElement('div');\n",
              "          docLink.innerHTML = docLinkHtml;\n",
              "          element.appendChild(docLink);\n",
              "        }\n",
              "      </script>\n",
              "    </div>\n",
              "  </div>\n",
              "  "
            ]
          },
          "metadata": {},
          "execution_count": 132
        }
      ]
    },
    {
      "cell_type": "markdown",
      "source": [
        "Lets focus on the columns from the dataset `tmax` and `tmax_tomorrow`"
      ],
      "metadata": {
        "id": "TVEH-hp7n6Ck"
      }
    },
    {
      "cell_type": "code",
      "source": [
        "import matplotlib.pyplot as plt\n",
        "plt.scatter(data[\"tmax\"] , data[\"tmax_tomorrow\"])"
      ],
      "metadata": {
        "colab": {
          "base_uri": "https://localhost:8080/",
          "height": 282
        },
        "id": "4jgZcqyKje2L",
        "outputId": "99631b77-ea77-4aa3-b4fc-893e6c958947"
      },
      "execution_count": 133,
      "outputs": [
        {
          "output_type": "execute_result",
          "data": {
            "text/plain": [
              "<matplotlib.collections.PathCollection at 0x7f3259be99d0>"
            ]
          },
          "metadata": {},
          "execution_count": 133
        },
        {
          "output_type": "display_data",
          "data": {
            "text/plain": [
              "<Figure size 432x288 with 1 Axes>"
            ],
            "image/png": "[encoded data removed]"
          },
          "metadata": {
            "needs_background": "light"
          }
        }
      ]
    },
    {
      "cell_type": "markdown",
      "source": [
        "Lets fill null values, if there are any "
      ],
      "metadata": {
        "id": "NWX2JCtboKd4"
      }
    },
    {
      "cell_type": "code",
      "source": [
        "for i in data.columns:\n",
        "    if data[i].isnull().values.any():\n",
        "        data[i].fillna(value = data[i].mean() , axis = 0 , inplace = True)"
      ],
      "metadata": {
        "id": "b4dPFHOVBDKG"
      },
      "execution_count": 134,
      "outputs": []
    },
    {
      "cell_type": "markdown",
      "source": [
        "For testing lets fit on a `Linear Regression` model"
      ],
      "metadata": {
        "id": "GDNMq01hoNua"
      }
    },
    {
      "cell_type": "code",
      "source": [
        "from sklearn.linear_model import LinearRegression\n",
        "lr = LinearRegression()\n",
        "lr.fit(data[[\"tmax\"]] , data[[\"tmax_tomorrow\"]])\n",
        "data.plot.scatter(\"tmax\" , \"tmax_tomorrow\")\n",
        "plt.plot(data[\"tmax\"] , lr.predict(data[[\"tmax\"]]) , \"green\")"
      ],
      "metadata": {
        "colab": {
          "base_uri": "https://localhost:8080/",
          "height": 296
        },
        "id": "D68N1UfhAf9T",
        "outputId": "6ae6ce9b-ef84-411c-9e0c-dc0594565a08"
      },
      "execution_count": 135,
      "outputs": [
        {
          "output_type": "execute_result",
          "data": {
            "text/plain": [
              "[<matplotlib.lines.Line2D at 0x7f325a0506a0>]"
            ]
          },
          "metadata": {},
          "execution_count": 135
        },
        {
          "output_type": "display_data",
          "data": {
            "text/plain": [
              "<Figure size 432x288 with 1 Axes>"
            ],
            "image/png": "[encoded data removed]"
          },
          "metadata": {
            "needs_background": "light"
          }
        }
      ]
    },
    {
      "cell_type": "markdown",
      "source": [
        "Lets find the `coefficient` and the `intercept` of the line"
      ],
      "metadata": {
        "id": "fEtN2hsVrHJJ"
      }
    },
    {
      "cell_type": "code",
      "source": [
        "print(lr.coef_[0])\n",
        "print(lr.intercept_)"
      ],
      "metadata": {
        "colab": {
          "base_uri": "https://localhost:8080/"
        },
        "id": "YOu93eotBcaM",
        "outputId": "74a89d1b-171f-4f0e-ffaa-392fea6b2e72"
      },
      "execution_count": 136,
      "outputs": [
        {
          "output_type": "stream",
          "name": "stdout",
          "text": [
            "[0.81804211]\n",
            "[12.01902081]\n"
          ]
        }
      ]
    },
    {
      "cell_type": "markdown",
      "source": [
        "Lets calcualte some loss"
      ],
      "metadata": {
        "id": "sRodMmLHryCw"
      }
    },
    {
      "cell_type": "code",
      "source": [
        "loss = lambda w , y : ((w * 80 + 11.99) - y) ** 2"
      ],
      "metadata": {
        "id": "cZhuIq8RT-pg"
      },
      "execution_count": 137,
      "outputs": []
    },
    {
      "cell_type": "markdown",
      "source": [
        "Lets assume we have a list of weights "
      ],
      "metadata": {
        "id": "D06V8LLksFjg"
      }
    },
    {
      "cell_type": "code",
      "source": [
        "y = 81\n",
        "ws = np.arange(-1 , 3 , .1)"
      ],
      "metadata": {
        "id": "ast7auvWUUsW"
      },
      "execution_count": 138,
      "outputs": []
    },
    {
      "cell_type": "markdown",
      "source": [
        "Lets calculate loss on these weights"
      ],
      "metadata": {
        "id": "64ncyoRnsUhj"
      }
    },
    {
      "cell_type": "code",
      "source": [
        "losses = loss(ws , y)"
      ],
      "metadata": {
        "id": "jybE-doPUgix"
      },
      "execution_count": 139,
      "outputs": []
    },
    {
      "cell_type": "code",
      "source": [
        "losses"
      ],
      "metadata": {
        "colab": {
          "base_uri": "https://localhost:8080/"
        },
        "id": "OYMeXrW5mFDn",
        "outputId": "62c64b43-0a57-4651-f494-efd4a50d2944"
      },
      "execution_count": 140,
      "outputs": [
        {
          "output_type": "execute_result",
          "data": {
            "text/plain": [
              "array([2.22039801e+04, 1.98838201e+04, 1.76916601e+04, 1.56275001e+04,\n",
              "       1.36913401e+04, 1.18831801e+04, 1.02030201e+04, 8.65086010e+03,\n",
              "       7.22670010e+03, 5.93054010e+03, 4.76238010e+03, 3.72222010e+03,\n",
              "       2.81006010e+03, 2.02590010e+03, 1.36974010e+03, 8.41580100e+02,\n",
              "       4.41420100e+02, 1.69260100e+02, 2.51001000e+01, 8.94010000e+00,\n",
              "       1.20780100e+02, 3.60620100e+02, 7.28460100e+02, 1.22430010e+03,\n",
              "       1.84814010e+03, 2.59998010e+03, 3.47982010e+03, 4.48766010e+03,\n",
              "       5.62350010e+03, 6.88734010e+03, 8.27918010e+03, 9.79902010e+03,\n",
              "       1.14468601e+04, 1.32227001e+04, 1.51265401e+04, 1.71583801e+04,\n",
              "       1.93182201e+04, 2.16060601e+04, 2.40219001e+04, 2.65657401e+04])"
            ]
          },
          "metadata": {},
          "execution_count": 140
        }
      ]
    },
    {
      "cell_type": "markdown",
      "source": [
        "Lets plot this on a graph"
      ],
      "metadata": {
        "id": "5IEIefiDysPK"
      }
    },
    {
      "cell_type": "code",
      "source": [
        "import matplotlib.pyplot as plt\n",
        "plt.scatter(ws , losses)"
      ],
      "metadata": {
        "colab": {
          "base_uri": "https://localhost:8080/",
          "height": 282
        },
        "id": "WAZ9g2NVUqbk",
        "outputId": "422ec937-86fb-4168-ff5b-f854e4756855"
      },
      "execution_count": 141,
      "outputs": [
        {
          "output_type": "execute_result",
          "data": {
            "text/plain": [
              "<matplotlib.collections.PathCollection at 0x7f3259f58040>"
            ]
          },
          "metadata": {},
          "execution_count": 141
        },
        {
          "output_type": "display_data",
          "data": {
            "text/plain": [
              "<Figure size 432x288 with 1 Axes>"
            ],
            "image/png": "[encoded data removed]"
          },
          "metadata": {
            "needs_background": "light"
          }
        }
      ]
    },
    {
      "cell_type": "markdown",
      "source": [
        "Lets now create a gradient function that stores the slope of this curve at different points"
      ],
      "metadata": {
        "id": "Y5nALW1hyynp"
      }
    },
    {
      "cell_type": "code",
      "source": [
        "gradient = lambda w ,y : ((w * 80 + 11.99) - y) * 2"
      ],
      "metadata": {
        "id": "0jRJRe-TUtfS"
      },
      "execution_count": 142,
      "outputs": []
    },
    {
      "cell_type": "code",
      "source": [
        "grad = gradient(ws , y)"
      ],
      "metadata": {
        "id": "kmIpEYeeVvAU"
      },
      "execution_count": 143,
      "outputs": []
    },
    {
      "cell_type": "code",
      "source": [
        "grad"
      ],
      "metadata": {
        "colab": {
          "base_uri": "https://localhost:8080/"
        },
        "id": "8s2toOdEzGq7",
        "outputId": "b55762fb-e537-4993-d664-9d7706e3ee04"
      },
      "execution_count": 144,
      "outputs": [
        {
          "output_type": "execute_result",
          "data": {
            "text/plain": [
              "array([-298.02, -282.02, -266.02, -250.02, -234.02, -218.02, -202.02,\n",
              "       -186.02, -170.02, -154.02, -138.02, -122.02, -106.02,  -90.02,\n",
              "        -74.02,  -58.02,  -42.02,  -26.02,  -10.02,    5.98,   21.98,\n",
              "         37.98,   53.98,   69.98,   85.98,  101.98,  117.98,  133.98,\n",
              "        149.98,  165.98,  181.98,  197.98,  213.98,  229.98,  245.98,\n",
              "        261.98,  277.98,  293.98,  309.98,  325.98])"
            ]
          },
          "metadata": {},
          "execution_count": 144
        }
      ]
    },
    {
      "cell_type": "markdown",
      "source": [
        "Lets try to plot these values on a graph"
      ],
      "metadata": {
        "id": "3UoWj9R9zIKC"
      }
    },
    {
      "cell_type": "code",
      "source": [
        "plt.scatter(ws , grad)"
      ],
      "metadata": {
        "colab": {
          "base_uri": "https://localhost:8080/",
          "height": 282
        },
        "id": "DIMwMPfaVz_D",
        "outputId": "0e487766-a270-4e31-9b9b-26606f528b50"
      },
      "execution_count": 145,
      "outputs": [
        {
          "output_type": "execute_result",
          "data": {
            "text/plain": [
              "<matplotlib.collections.PathCollection at 0x7f3259e412b0>"
            ]
          },
          "metadata": {},
          "execution_count": 145
        },
        {
          "output_type": "display_data",
          "data": {
            "text/plain": [
              "<Figure size 432x288 with 1 Axes>"
            ],
            "image/png": "[encoded data removed]"
          },
          "metadata": {
            "needs_background": "light"
          }
        }
      ]
    },
    {
      "cell_type": "markdown",
      "source": [
        "Now lets apply this gradient on our function , but here we will be take a wide range of values"
      ],
      "metadata": {
        "id": "Rt6idbqYziLL"
      }
    },
    {
      "cell_type": "code",
      "source": [
        "ws = np.arange(-4000 , 100 , 100)\n",
        "losses = loss(ws , y)\n",
        "plt.scatter(ws , losses)\n",
        "new_weight = 1 - gradient(1 , y) * 80\n",
        "plt.plot(new_weight , loss(new_weight , y) , \"yellow\")"
      ],
      "metadata": {
        "colab": {
          "base_uri": "https://localhost:8080/",
          "height": 293
        },
        "id": "mpRmu_TEV34a",
        "outputId": "f0912bc0-29c0-4bb3-b68e-78d32a48a441"
      },
      "execution_count": 146,
      "outputs": [
        {
          "output_type": "execute_result",
          "data": {
            "text/plain": [
              "[<matplotlib.lines.Line2D at 0x7f3259dbe940>]"
            ]
          },
          "metadata": {},
          "execution_count": 146
        },
        {
          "output_type": "display_data",
          "data": {
            "text/plain": [
              "<Figure size 432x288 with 1 Axes>"
            ],
            "image/png": "[encoded data removed]"
          },
          "metadata": {
            "needs_background": "light"
          }
        }
      ]
    },
    {
      "cell_type": "markdown",
      "source": [
        "Here is a problem, the gradient is reaching very fast, and thus not able to converge with the graph, lets slow this down, and for slowing this down, we need to multiply this with a constant "
      ],
      "metadata": {
        "id": "z4my5uJI0nSY"
      }
    },
    {
      "cell_type": "code",
      "source": [
        "ws = np.arange(-5 , 1.5 , .1)\n",
        "losses = loss(ws , y)\n",
        "\n",
        "plt.scatter(ws , losses)\n",
        "\n",
        "lr = 5e-5\n",
        "new_weight = 1 - lr * gradient(1 , y) * 80"
      ],
      "metadata": {
        "colab": {
          "base_uri": "https://localhost:8080/",
          "height": 265
        },
        "id": "q-UoBcKwX-RQ",
        "outputId": "0f05e479-83c1-48a8-8105-63b39e24a713"
      },
      "execution_count": 147,
      "outputs": [
        {
          "output_type": "display_data",
          "data": {
            "text/plain": [
              "<Figure size 432x288 with 1 Axes>"
            ],
            "image/png": "[encoded data removed]"
          },
          "metadata": {
            "needs_background": "light"
          }
        }
      ]
    },
    {
      "cell_type": "code",
      "source": [
        "predictors = data.drop([\"tmax_tomorrow\" , \"Unnamed: 0\"] , axis = 1)"
      ],
      "metadata": {
        "id": "JY0_LsVY3DN-"
      },
      "execution_count": 148,
      "outputs": []
    },
    {
      "cell_type": "code",
      "source": [
        "np.random.seed(0)\n",
        "weights = np.random.rand(len(predictors) , 1)"
      ],
      "metadata": {
        "id": "P01593VB22On"
      },
      "execution_count": 149,
      "outputs": []
    },
    {
      "cell_type": "code",
      "source": [
        "weights"
      ],
      "metadata": {
        "colab": {
          "base_uri": "https://localhost:8080/"
        },
        "id": "vJibMFGB3ZNq",
        "outputId": "73ccf097-4b33-46de-9cad-46a4442da2de"
      },
      "execution_count": 150,
      "outputs": [
        {
          "output_type": "execute_result",
          "data": {
            "text/plain": [
              "array([[0.5488135 ],\n",
              "       [0.71518937],\n",
              "       [0.60276338],\n",
              "       ...,\n",
              "       [0.5414086 ],\n",
              "       [0.55774644],\n",
              "       [0.65907671]])"
            ]
          },
          "metadata": {},
          "execution_count": 150
        }
      ]
    },
    {
      "cell_type": "code",
      "source": [
        "baises = np.ones((1, 1))"
      ],
      "metadata": {
        "id": "FU262wv-3bwK"
      },
      "execution_count": 151,
      "outputs": []
    },
    {
      "cell_type": "code",
      "source": [
        "baises"
      ],
      "metadata": {
        "colab": {
          "base_uri": "https://localhost:8080/"
        },
        "id": "26EbczyA3ga4",
        "outputId": "e954a312-72ca-4ae0-9ff2-4d4cde490937"
      },
      "execution_count": 152,
      "outputs": [
        {
          "output_type": "execute_result",
          "data": {
            "text/plain": [
              "array([[1.]])"
            ]
          },
          "metadata": {},
          "execution_count": 152
        }
      ]
    },
    {
      "cell_type": "markdown",
      "source": [
        "There are some rules that we need to remeber while analysing random `weights` \n",
        "* We cannot initialize weights with larger difference in between => After research it is found that this practice leads to vanishing gradient \n",
        "* We cannot initialize weights with smaller differene in between => After research it is found that this practice leads to vanishing gradient\n",
        "* We cannot initialize values as $0$ as it will not channge the values\n",
        "\n",
        "So it would be good if we intialize weights as same for all the features"
      ],
      "metadata": {
        "id": "100_W9CW1fOJ"
      }
    },
    {
      "cell_type": "code",
      "source": [
        "import math\n",
        "\n",
        "k = math.sqrt(1 / len(predictors))\n",
        "\n",
        "weights = np.random.rand(len(predictors), 1) * 2 * k - k"
      ],
      "metadata": {
        "id": "N0xZrKOl3fbe"
      },
      "execution_count": 153,
      "outputs": []
    },
    {
      "cell_type": "code",
      "source": [
        "np.dot(np.array(weights).T , np.array(predictors)) + np.array(baises)"
      ],
      "metadata": {
        "colab": {
          "base_uri": "https://localhost:8080/"
        },
        "id": "nkZWq7ai5Phr",
        "outputId": "eea766d9-52fe-4a6a-94e0-a2438da11144"
      },
      "execution_count": 154,
      "outputs": [
        {
          "output_type": "execute_result",
          "data": {
            "text/plain": [
              "array([[-14.18942183, -14.1483536 ,   0.85778739]])"
            ]
          },
          "metadata": {},
          "execution_count": 154
        }
      ]
    },
    {
      "cell_type": "markdown",
      "source": [
        "Now we have our optimizer created, we just need to add some more functionality to it "
      ],
      "metadata": {
        "id": "C1zpaRQA7MS8"
      }
    },
    {
      "cell_type": "markdown",
      "source": [
        "Now lets just put it in a function "
      ],
      "metadata": {
        "id": "mHZZZ0mkEP99"
      }
    },
    {
      "cell_type": "code",
      "source": [
        "class gradient_descent:\n",
        "    \n",
        "    def __init__(self , X , y , lr = 1e-4 , epochs = 100) : \n",
        "    \n",
        "        self.X = X\n",
        "        self.y = y\n",
        "        self.lr = lr\n",
        "        self.epochs = epochs\n",
        "\n",
        "    def init_params(self , X , y) : \n",
        "        \n",
        "        np.random.seed(0)\n",
        "        k = math.sqrt\n",
        "    \n",
        "        weights = np.random.rand(self.X.shape[0] , \n",
        "                                 self.y.shape[0]) * 2 * k - k\n",
        "    \n",
        "        biases = np.ones((1 , \n",
        "                          self.y.shape[0])) * 2 * k - k\n",
        "    \n",
        "        return [weights , biases]\n",
        "        \n",
        "    def forward(self , params) : \n",
        "        \n",
        "        weights , biases = params\n",
        "        prediction = self.X * weights , biases\n",
        "    \n",
        "        return prediction\n",
        "\n",
        "    def backward(self , params , X , lr , grad) : \n",
        "    \n",
        "        weight_grad = (self.X.T / self.X.shape[0]) * grad\n",
        "        bias_grad = np.mean(grad , axis = 0)\n",
        "\n",
        "        params[0] -= weight_grad * lr\n",
        "        params[1] -= bias_grad * lr\n",
        "\n",
        "        return params \n",
        "    \n",
        "    mse = lambda actual , predictions : np.mean((predictions - actual) ** 2)\n",
        "    \n",
        "    mse_grad = lambda actual , predictions : (actual - predictions)\n",
        "    \n",
        "    def fit(self , epochs):\n",
        "    \n",
        "        params = self.init_params(self.X.shape[1] , y.shape[1])\n",
        "\n",
        "        for i in range(self.epochs) : \n",
        "    \n",
        "            predictions = self.forward(params , self.X)\n",
        "            grad = self.mse_grad(self.y , predictions)\n",
        "\n",
        "            params = self.backward(params , self.X , self.lr , grad)"
      ],
      "metadata": {
        "id": "qfaqSiwyESP3"
      },
      "execution_count": null,
      "outputs": []
    }
  ]
}